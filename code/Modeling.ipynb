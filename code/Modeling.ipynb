{
 "cells": [
  {
   "cell_type": "markdown",
   "metadata": {},
   "source": [
    "Modeling and testing grounds"
   ]
  },
  {
   "cell_type": "code",
   "execution_count": 1,
   "metadata": {},
   "outputs": [
    {
     "name": "stderr",
     "output_type": "stream",
     "text": [
      "Using TensorFlow backend.\n"
     ]
    }
   ],
   "source": [
    "import glob, pylab, pandas as pd\n",
    "import pydicom, numpy as np\n",
    "\n",
    "from sklearn.model_selection import train_test_split\n",
    "from sklearn.preprocessing import StandardScaler\n",
    "import matplotlib.pyplot as plt\n",
    "\n",
    "%matplotlib inline\n",
    "%config InlineBackend.figure_format = 'retina'\n",
    "\n",
    "from keras.models import Sequential\n",
    "from keras.layers import Dense, Dropout, Activation, Flatten, Conv2D, MaxPooling2D\n",
    "from keras.utils import to_categorical\n",
    "from keras.models import load_model\n",
    "\n",
    "from numpy.random import seed\n",
    "from tensorflow import set_random_seed\n",
    "\n",
    "from skimage.transform import resize\n",
    "\n",
    "import datetime\n",
    "from tqdm import tqdm_notebook\n",
    "import pickle"
   ]
  },
  {
   "cell_type": "code",
   "execution_count": 2,
   "metadata": {},
   "outputs": [],
   "source": [
    "seed(42)\n",
    "set_random_seed(42)"
   ]
  },
  {
   "cell_type": "code",
   "execution_count": null,
   "metadata": {},
   "outputs": [],
   "source": []
  },
  {
   "cell_type": "markdown",
   "metadata": {},
   "source": [
    "## Modeling and Evaluation Functions\n",
    "\n",
    "Writing multiple functions to facilitate creating different datasets, modeling over different datasets and/or different hyperparameters, and evaluating the different models using graphs\n",
    "\n",
    "\n"
   ]
  },
  {
   "cell_type": "code",
   "execution_count": 3,
   "metadata": {
    "code_folding": [
     0
    ]
   },
   "outputs": [],
   "source": [
    "class PnemoniaTargetMapIsWeird(AssertionError):\n",
    "    \"\"\"Raise this when the target is not mapped to 2 or 3 outputs\"\"\"\n",
    "    pass"
   ]
  },
  {
   "cell_type": "code",
   "execution_count": 4,
   "metadata": {
    "code_folding": [
     0
    ]
   },
   "outputs": [],
   "source": [
    "def create_pic_df(data, df_detailed, image_size = (128,128)):\n",
    "    \n",
    "    print('---Enter DataFrame Construction Function---')\n",
    "    \n",
    "    ## Data Prep\n",
    "    # Need to define df_detailed somewhere\n",
    "    data.drop_duplicates(inplace=True)\n",
    "    merged_df = df_detailed.merge(data, on='patientId')\n",
    "    \n",
    "    print('---Create Pixel Array Labels---')\n",
    "    \n",
    "    # Create the column labels for the pixel arrays\n",
    "    pixel_labels = []\n",
    "    for i in range(image_size[0] * image_size[1]):\n",
    "        pixel_labels.append(\"pixel\"+str(i))\n",
    "    \n",
    "    print('---Create Total Pixel Array---')\n",
    "    \n",
    "    # Create the total pixel array\n",
    "    huge_pixel_array = []\n",
    "    for o in tqdm_notebook(range(merged_df.shape[0])):\n",
    "        # Get the image data\n",
    "        patientId = merged_df.iloc[o]['patientId']\n",
    "        dcm_file = '../data/stage_1_train_images/%s.dcm' % patientId\n",
    "        dcm_data = pydicom.read_file(dcm_file)\n",
    "        im = dcm_data.pixel_array\n",
    "\n",
    "        # Convert the image into a 1d array of pixels\n",
    "        curr_pixel_array = []\n",
    "        for i in resize(im, image_size): \n",
    "            curr_pixel_array.extend(i)\n",
    "        huge_pixel_array.append(curr_pixel_array)\n",
    "\n",
    "    print('---Create Dataframe---')\n",
    "        \n",
    "    # Creating the DataFrame\n",
    "    temp = pd.DataFrame(data = huge_pixel_array, columns = pixel_labels)\n",
    "    temp['class'] = merged_df['class']\n",
    "    return temp"
   ]
  },
  {
   "cell_type": "code",
   "execution_count": 58,
   "metadata": {},
   "outputs": [],
   "source": [
    "def model(data, model_name = \"default_model_name\", image_size = (128,128), y_map = {\n",
    "    \"Lung Opacity\":1,\n",
    "    \"No Lung Opacity / Not Normal\":0,\n",
    "    \"Normal\":2\n",
    "}, EPOCHS = 20, train_size = 0.75, metrics = ['accuracy'], BATCH_SIZE = 10 ):\n",
    "    \"\"\"\n",
    "    Args:\n",
    "        data (Pandas DataFrame): cols=['class', all of the pixel data]\n",
    "        \n",
    "        model_name (str): The name with which to save the model\n",
    "        \n",
    "        image_size (touple: (int,int)): The width and height in pixels to scale the images. Max 1024x1024. This might be more finickey that I would've thought.\n",
    "        \n",
    "        y_map (dict): A dictionary mapping the target values to integers (0-?)\n",
    "        \n",
    "    Returns:\n",
    "        Keras Model fit on the data.\n",
    "        Saves the model to ../data/models/model_name datetime.h5\n",
    "    \"\"\"\n",
    "    print('---Enter Function---')\n",
    "    \n",
    "    seed(42)\n",
    "    set_random_seed(42)\n",
    "\n",
    "    # Create target\n",
    "    y = data['class']\n",
    "    y = y.map(lambda x: y_map[x])\n",
    "    \n",
    "    # Train Test Split\n",
    "    X_train, X_test, y_train, y_test = train_test_split(data.drop(columns='class'), y, \n",
    "                                                        stratify=y, random_state=42, train_size = train_size)\n",
    "    \n",
    "    # Transform target into arrays of integers\n",
    "    y_train_c = to_categorical(y_train)\n",
    "    y_test_c = to_categorical(y_test)\n",
    "    \n",
    "    # Reshape the X_train and X_test \n",
    "    X_train_re = X_train.values.reshape(X_train.shape[0], image_size[0], image_size[1], 1)\n",
    "    X_test_re = X_test.values.reshape(X_test.shape[0], image_size[0], image_size[1], 1)\n",
    "    \n",
    "    print('---Modeling---')\n",
    "    \n",
    "    ## Modeling\n",
    "    # Initialize Model\n",
    "    model_convolutional = Sequential()\n",
    "\n",
    "    # First Conv / Pool \n",
    "    model_convolutional.add(Conv2D(filters = 6,\n",
    "                                   kernel_size = 3,\n",
    "                                   activation = 'relu',\n",
    "                                   input_shape = (image_size[0], image_size[1], 1)\n",
    "                                  ))\n",
    "    model_convolutional.add(MaxPooling2D(pool_size=(2,2)))\n",
    "\n",
    "    # Second Conv/ Pool\n",
    "    model_convolutional.add(Conv2D(filters=16, kernel_size=3, \n",
    "                                   activation='relu'))\n",
    "    model_convolutional.add(MaxPooling2D(pool_size=(2,2)))\n",
    "\n",
    "    # Flatten\n",
    "    model_convolutional.add(Dropout(0.8))\n",
    "    model_convolutional.add(Flatten())\n",
    "\n",
    "    # Densely Connected Layers\n",
    "    model_convolutional.add(Dense(512, activation='relu'))\n",
    "    model_convolutional.add(Dropout(0.5))\n",
    "    model_convolutional.add(Dense(128, activation='relu'))\n",
    "    model_convolutional.add(Dropout(0.5))\n",
    "    \n",
    "    # Output Layer\n",
    "    if len(set(y_map.values())) == 3:\n",
    "        model_convolutional.add(Dense(3, activation='softmax'))\n",
    "    elif len(set(y_map.values())) == 2:\n",
    "        model_convolutional.add(Dense(2, activation='softmax'))\n",
    "    else:\n",
    "        raise PnemoniaTargetMapIsWeird(\"target is not mapped to 2 or 3 outputs\")\n",
    "\n",
    "\n",
    "    model_convolutional.compile(loss = 'categorical_crossentropy', \n",
    "                            optimizer = 'adam', \n",
    "                            metrics = metrics)\n",
    "    \n",
    "    # Train Model\n",
    "    trained_convolutional = model_convolutional.fit(X_train_re,\n",
    "                        y_train_c,\n",
    "                        batch_size = BATCH_SIZE,\n",
    "                        epochs = EPOCHS,\n",
    "                        verbose = 1,\n",
    "                        validation_data = (X_test_re, y_test_c)\n",
    "                       )\n",
    "\n",
    "\n",
    "    file_name = '../data/models/' + model_name + ' ' + str(datetime.datetime.now()) \n",
    "\n",
    "    # Save Model        \n",
    "    try:\n",
    "        model_file_name = file_name + '_model.h5'\n",
    "        model_convolutional.save(model_file_name)\n",
    "        print('Model saved as: ' + model_file_name)\n",
    "        \n",
    "    except Exception as e:\n",
    "        print('+++++Model did not save++++++')\n",
    "        print(e)\n",
    "        \n",
    "    # Save History\n",
    "    try:\n",
    "        history_file_name = file_name + '_history.pk'\n",
    "        pickle_file = open(history_file_name, 'wb')\n",
    "        pickle.dump(trained_convolutional, pickle_file) \n",
    "        pickle_file.close()\n",
    "        print('History saved as: ' + history_file_name)\n",
    "        \n",
    "    except Exception as e:\n",
    "        print('+++++History did not save++++++')\n",
    "        print(e)\n",
    "        \n",
    "        \n",
    "    return trained_convolutional, model_convolutional, model_name, model_file_name, history_file_name\n",
    "\n"
   ]
  },
  {
   "cell_type": "code",
   "execution_count": 48,
   "metadata": {
    "code_folding": []
   },
   "outputs": [],
   "source": [
    "# Function that displays pertinant information regarding the quality of the model\n",
    "\n",
    "def evaluate_model (model, model_name = 'default', size=6):\n",
    "    \n",
    "    \"\"\"\n",
    "    Args:\n",
    "        model: A trained model with \n",
    "        \n",
    "    Output:\n",
    "        Returns nothing. Prints out - plots comparing test set with training set on \n",
    "        each of the metrics (minimum: loss).\n",
    "    \n",
    "    \"\"\"\n",
    "    \n",
    "    # checking out the different classes in the testing case and predictions\n",
    "    \n",
    "    # confusion matrix?\n",
    "    \n",
    "    keys=[]\n",
    "    for i in model.history.keys():\n",
    "        if i[0:3] != 'val':\n",
    "            keys.append(i)\n",
    "    \n",
    "    fig, ax = plt.subplots(len(keys), 1, figsize = (size, size*len(keys))) \n",
    "    fig.suptitle('Model: ' + model_name, fontsize=16)\n",
    "    \n",
    "    index = 0\n",
    "    for i in keys:\n",
    "        # Plot of the Loss for the train and testingsets\n",
    "        ax[index].plot(model.history[i], label=i.capitalize())\n",
    "        ax[index].plot(model.history['val_'+i], label='Val '+i.capitalize())\n",
    "        ax[index].legend()\n",
    "        ax[index].set_title(i.capitalize())\n",
    "        index+=1\n"
   ]
  },
  {
   "cell_type": "code",
   "execution_count": null,
   "metadata": {},
   "outputs": [],
   "source": []
  },
  {
   "cell_type": "code",
   "execution_count": null,
   "metadata": {},
   "outputs": [],
   "source": []
  },
  {
   "cell_type": "markdown",
   "metadata": {},
   "source": [
    "## Initial Variables"
   ]
  },
  {
   "cell_type": "code",
   "execution_count": 8,
   "metadata": {
    "code_folding": []
   },
   "outputs": [],
   "source": [
    "# Lung Opacity == Pneumonia\n",
    "y_map_3 = { # Normal, Pneumonia, or not normal but not pneumonia\n",
    "    \"Lung Opacity\":1,\n",
    "    \"No Lung Opacity / Not Normal\":0,\n",
    "    \"Normal\":2\n",
    "}\n",
    "\n",
    "y_map_2 = { # Either Pneumonia or Not Pneumonia\n",
    "    \"Lung Opacity\":1,\n",
    "    \"No Lung Opacity / Not Normal\":0,\n",
    "    \"Normal\":0\n",
    "}\n",
    "\n",
    "adult_data = pd.read_csv('../data/adult_patient_data.csv')\n",
    "df_detailed = pd.read_csv('../data/stage_1_detailed_class_info.csv')\n"
   ]
  },
  {
   "cell_type": "code",
   "execution_count": 7,
   "metadata": {},
   "outputs": [],
   "source": [
    "models = {}"
   ]
  },
  {
   "cell_type": "markdown",
   "metadata": {
    "heading_collapsed": true
   },
   "source": [
    "## Some Initial Modeling"
   ]
  },
  {
   "cell_type": "code",
   "execution_count": 35,
   "metadata": {
    "hidden": true
   },
   "outputs": [],
   "source": [
    "# Current Parameters\n",
    "options = 3\n",
    "\n",
    "\n",
    "NUM_IMAGES = 6000 #pic_df.shape[0]\n",
    "EPOCHS = 20\n",
    "IMAGE_SIZE = (128,128)\n",
    "TRAIN_SIZE = 0.8\n",
    "METRICS = ['accuracy']\n",
    "\n",
    "if options == 2:\n",
    "    CURR_MAP = y_map_2\n",
    "    model_name = 'adult_data_2_options'\n",
    "elif options == 3:\n",
    "    CURR_MAP = y_map_3\n",
    "    model_name = 'adult_data_3_options'\n",
    "else:\n",
    "    raise PnemoniaTargetMapIsWeird('Set \"option\" to 2 or 3')\n"
   ]
  },
  {
   "cell_type": "code",
   "execution_count": 11,
   "metadata": {
    "code_folding": [],
    "hidden": true
   },
   "outputs": [
    {
     "name": "stdout",
     "output_type": "stream",
     "text": [
      "---Enter DataFrame Construction Function---\n",
      "---Create Pixel Array Labels---\n",
      "---Create Total Pixel Array---\n"
     ]
    },
    {
     "data": {
      "application/vnd.jupyter.widget-view+json": {
       "model_id": "",
       "version_major": 2,
       "version_minor": 0
      },
      "text/plain": [
       "HBox(children=(IntProgress(value=0, max=27537), HTML(value='')))"
      ]
     },
     "metadata": {},
     "output_type": "display_data"
    },
    {
     "name": "stderr",
     "output_type": "stream",
     "text": [
      "/home/ec2-user/anaconda3/envs/py36/lib/python3.6/site-packages/skimage/transform/_warps.py:105: UserWarning: The default mode, 'constant', will be changed to 'reflect' in skimage 0.15.\n",
      "  warn(\"The default mode, 'constant', will be changed to 'reflect' in \"\n",
      "/home/ec2-user/anaconda3/envs/py36/lib/python3.6/site-packages/skimage/transform/_warps.py:110: UserWarning: Anti-aliasing will be enabled by default in skimage 0.15 to avoid aliasing artifacts when down-sampling images.\n",
      "  warn(\"Anti-aliasing will be enabled by default in skimage 0.15 to \"\n"
     ]
    },
    {
     "name": "stdout",
     "output_type": "stream",
     "text": [
      "\n",
      "---Create Dataframe---\n",
      "CPU times: user 8min 33s, sys: 15 s, total: 8min 48s\n",
      "Wall time: 8min 50s\n"
     ]
    }
   ],
   "source": [
    "%%time\n",
    "\n",
    "pic_df = create_pic_df(adult_data, df_detailed=df_detailed, image_size=IMAGE_SIZE)"
   ]
  },
  {
   "cell_type": "code",
   "execution_count": 36,
   "metadata": {
    "hidden": true,
    "scrolled": true
   },
   "outputs": [
    {
     "name": "stdout",
     "output_type": "stream",
     "text": [
      "---Enter Function---\n"
     ]
    },
    {
     "name": "stderr",
     "output_type": "stream",
     "text": [
      "/home/ec2-user/anaconda3/envs/py36/lib/python3.6/site-packages/sklearn/model_selection/_split.py:2026: FutureWarning: From version 0.21, test_size will always complement train_size unless both are specified.\n",
      "  FutureWarning)\n"
     ]
    },
    {
     "name": "stdout",
     "output_type": "stream",
     "text": [
      "---Modeling---\n",
      "Train on 4800 samples, validate on 1200 samples\n",
      "Epoch 1/20\n",
      "4800/4800 [==============================] - 27s 6ms/step - loss: 0.9727 - acc: 0.5121 - val_loss: 0.8885 - val_acc: 0.5925\n",
      "Epoch 2/20\n",
      "4800/4800 [==============================] - 26s 5ms/step - loss: 0.8916 - acc: 0.5648 - val_loss: 0.8520 - val_acc: 0.6017\n",
      "Epoch 3/20\n",
      "4800/4800 [==============================] - 26s 5ms/step - loss: 0.8686 - acc: 0.5823 - val_loss: 0.8462 - val_acc: 0.5975\n",
      "Epoch 4/20\n",
      "4800/4800 [==============================] - 26s 5ms/step - loss: 0.8549 - acc: 0.5958 - val_loss: 0.8598 - val_acc: 0.6042\n",
      "Epoch 5/20\n",
      "4800/4800 [==============================] - 26s 5ms/step - loss: 0.8401 - acc: 0.6002 - val_loss: 0.8355 - val_acc: 0.6183\n",
      "Epoch 6/20\n",
      "4800/4800 [==============================] - 26s 5ms/step - loss: 0.8034 - acc: 0.6202 - val_loss: 0.8302 - val_acc: 0.6108\n",
      "Epoch 7/20\n",
      "4800/4800 [==============================] - 26s 5ms/step - loss: 0.8031 - acc: 0.6227 - val_loss: 0.8121 - val_acc: 0.6208\n",
      "Epoch 8/20\n",
      "4800/4800 [==============================] - 26s 5ms/step - loss: 0.7802 - acc: 0.6427 - val_loss: 0.7983 - val_acc: 0.6217\n",
      "Epoch 9/20\n",
      "4800/4800 [==============================] - 26s 5ms/step - loss: 0.7618 - acc: 0.6523 - val_loss: 0.8163 - val_acc: 0.6200\n",
      "Epoch 10/20\n",
      "4800/4800 [==============================] - 26s 5ms/step - loss: 0.7436 - acc: 0.6567 - val_loss: 0.8048 - val_acc: 0.6258\n",
      "Epoch 11/20\n",
      "4800/4800 [==============================] - 26s 5ms/step - loss: 0.7278 - acc: 0.6702 - val_loss: 0.8330 - val_acc: 0.6317\n",
      "Epoch 12/20\n",
      "4800/4800 [==============================] - 26s 5ms/step - loss: 0.7030 - acc: 0.6773 - val_loss: 0.8347 - val_acc: 0.6150\n",
      "Epoch 13/20\n",
      "4800/4800 [==============================] - 26s 5ms/step - loss: 0.6814 - acc: 0.6890 - val_loss: 0.8025 - val_acc: 0.6458\n",
      "Epoch 14/20\n",
      "4800/4800 [==============================] - 26s 5ms/step - loss: 0.6805 - acc: 0.6908 - val_loss: 0.7922 - val_acc: 0.6442\n",
      "Epoch 15/20\n",
      "4800/4800 [==============================] - 26s 5ms/step - loss: 0.6575 - acc: 0.7106 - val_loss: 0.7922 - val_acc: 0.6583\n",
      "Epoch 16/20\n",
      "4800/4800 [==============================] - 26s 5ms/step - loss: 0.6303 - acc: 0.7150 - val_loss: 0.8029 - val_acc: 0.6500\n",
      "Epoch 17/20\n",
      "4800/4800 [==============================] - 26s 5ms/step - loss: 0.6040 - acc: 0.7327 - val_loss: 0.8119 - val_acc: 0.6533\n",
      "Epoch 18/20\n",
      "4800/4800 [==============================] - 26s 5ms/step - loss: 0.5976 - acc: 0.7377 - val_loss: 0.7723 - val_acc: 0.6633\n",
      "Epoch 19/20\n",
      "4800/4800 [==============================] - 26s 5ms/step - loss: 0.5752 - acc: 0.7496 - val_loss: 0.7817 - val_acc: 0.6533\n",
      "Epoch 20/20\n",
      "4800/4800 [==============================] - 26s 5ms/step - loss: 0.5512 - acc: 0.7617 - val_loss: 0.8025 - val_acc: 0.6567\n",
      "Model saved as: ../data/models/adult_data_3_options 2018-10-16 23:03:21.173330.h5\n",
      "CPU times: user 36min 41s, sys: 11min 33s, total: 48min 15s\n",
      "Wall time: 8min 38s\n"
     ]
    }
   ],
   "source": [
    "%%time\n",
    "\n",
    "\n",
    "\n",
    "test_model_history, test_model_real, most_recent_model_name = model(pic_df.head(NUM_IMAGES), model_name = model_name, image_size=IMAGE_SIZE, y_map=CURR_MAP, EPOCHS=EPOCHS, train_size = TRAIN_SIZE, metrics = METRICS)\n",
    "\n"
   ]
  },
  {
   "cell_type": "code",
   "execution_count": 91,
   "metadata": {
    "code_folding": [],
    "hidden": true
   },
   "outputs": [],
   "source": [
    "models[most_recent_model_name] = {\n",
    "    'NUM_IMAGES':NUM_IMAGES,\n",
    "    'history':test_model_history,\n",
    "    'EPOCHS':EPOCHS,\n",
    "    'IMAGE_SIZE':IMAGE_SIZE,\n",
    "    'Y_MAP':CURR_MAP,\n",
    "    'TRAIN_SIZE':TRAIN_SIZE,\n",
    "    'accuracy_scores':{\n",
    "        'train':test_model_history.history['acc'][-1],\n",
    "        'test':test_model_history.history['val_acc'][-1]\n",
    "    }\n",
    "}\n",
    "\n",
    "# Save the list of models and parameters \n",
    "model_pickle_file_name = 'models.pk'\n",
    "file_object = open(model_pickle_file_name,'wb')\n",
    "pickle.dump(models, file_object)\n",
    "file_object.close()\n"
   ]
  },
  {
   "cell_type": "code",
   "execution_count": 73,
   "metadata": {
    "hidden": true,
    "scrolled": false
   },
   "outputs": [
    {
     "data": {
      "image/png": "[encoded data removed]",
      "text/plain": [
       "<Figure size 432x864 with 2 Axes>"
      ]
     },
     "metadata": {
      "image/png": {
       "height": 769,
       "width": 484
      },
      "needs_background": "light"
     },
     "output_type": "display_data"
    }
   ],
   "source": [
    "graph_size = 6\n",
    "evaluate_model(test_model_history, most_recent_model_name, size=graph_size)\n"
   ]
  },
  {
   "cell_type": "code",
   "execution_count": 78,
   "metadata": {
    "hidden": true
   },
   "outputs": [
    {
     "data": {
      "text/plain": [
       "{'name': 'sequential_2',\n",
       " 'layers': [{'class_name': 'Conv2D',\n",
       "   'config': {'name': 'conv2d_3',\n",
       "    'trainable': True,\n",
       "    'batch_input_shape': (None, 128, 128, 1),\n",
       "    'dtype': 'float32',\n",
       "    'filters': 6,\n",
       "    'kernel_size': (3, 3),\n",
       "    'strides': (1, 1),\n",
       "    'padding': 'valid',\n",
       "    'data_format': 'channels_last',\n",
       "    'dilation_rate': (1, 1),\n",
       "    'activation': 'relu',\n",
       "    'use_bias': True,\n",
       "    'kernel_initializer': {'class_name': 'VarianceScaling',\n",
       "     'config': {'scale': 1.0,\n",
       "      'mode': 'fan_avg',\n",
       "      'distribution': 'uniform',\n",
       "      'seed': None}},\n",
       "    'bias_initializer': {'class_name': 'Zeros', 'config': {}},\n",
       "    'kernel_regularizer': None,\n",
       "    'bias_regularizer': None,\n",
       "    'activity_regularizer': None,\n",
       "    'kernel_constraint': None,\n",
       "    'bias_constraint': None}},\n",
       "  {'class_name': 'MaxPooling2D',\n",
       "   'config': {'name': 'max_pooling2d_3',\n",
       "    'trainable': True,\n",
       "    'pool_size': (2, 2),\n",
       "    'padding': 'valid',\n",
       "    'strides': (2, 2),\n",
       "    'data_format': 'channels_last'}},\n",
       "  {'class_name': 'Conv2D',\n",
       "   'config': {'name': 'conv2d_4',\n",
       "    'trainable': True,\n",
       "    'filters': 16,\n",
       "    'kernel_size': (3, 3),\n",
       "    'strides': (1, 1),\n",
       "    'padding': 'valid',\n",
       "    'data_format': 'channels_last',\n",
       "    'dilation_rate': (1, 1),\n",
       "    'activation': 'relu',\n",
       "    'use_bias': True,\n",
       "    'kernel_initializer': {'class_name': 'VarianceScaling',\n",
       "     'config': {'scale': 1.0,\n",
       "      'mode': 'fan_avg',\n",
       "      'distribution': 'uniform',\n",
       "      'seed': None}},\n",
       "    'bias_initializer': {'class_name': 'Zeros', 'config': {}},\n",
       "    'kernel_regularizer': None,\n",
       "    'bias_regularizer': None,\n",
       "    'activity_regularizer': None,\n",
       "    'kernel_constraint': None,\n",
       "    'bias_constraint': None}},\n",
       "  {'class_name': 'MaxPooling2D',\n",
       "   'config': {'name': 'max_pooling2d_4',\n",
       "    'trainable': True,\n",
       "    'pool_size': (2, 2),\n",
       "    'padding': 'valid',\n",
       "    'strides': (2, 2),\n",
       "    'data_format': 'channels_last'}},\n",
       "  {'class_name': 'Dropout',\n",
       "   'config': {'name': 'dropout_4',\n",
       "    'trainable': True,\n",
       "    'rate': 0.8,\n",
       "    'noise_shape': None,\n",
       "    'seed': None}},\n",
       "  {'class_name': 'Flatten',\n",
       "   'config': {'name': 'flatten_2',\n",
       "    'trainable': True,\n",
       "    'data_format': 'channels_last'}},\n",
       "  {'class_name': 'Dense',\n",
       "   'config': {'name': 'dense_4',\n",
       "    'trainable': True,\n",
       "    'units': 512,\n",
       "    'activation': 'relu',\n",
       "    'use_bias': True,\n",
       "    'kernel_initializer': {'class_name': 'VarianceScaling',\n",
       "     'config': {'scale': 1.0,\n",
       "      'mode': 'fan_avg',\n",
       "      'distribution': 'uniform',\n",
       "      'seed': None}},\n",
       "    'bias_initializer': {'class_name': 'Zeros', 'config': {}},\n",
       "    'kernel_regularizer': None,\n",
       "    'bias_regularizer': None,\n",
       "    'activity_regularizer': None,\n",
       "    'kernel_constraint': None,\n",
       "    'bias_constraint': None}},\n",
       "  {'class_name': 'Dropout',\n",
       "   'config': {'name': 'dropout_5',\n",
       "    'trainable': True,\n",
       "    'rate': 0.5,\n",
       "    'noise_shape': None,\n",
       "    'seed': None}},\n",
       "  {'class_name': 'Dense',\n",
       "   'config': {'name': 'dense_5',\n",
       "    'trainable': True,\n",
       "    'units': 128,\n",
       "    'activation': 'relu',\n",
       "    'use_bias': True,\n",
       "    'kernel_initializer': {'class_name': 'VarianceScaling',\n",
       "     'config': {'scale': 1.0,\n",
       "      'mode': 'fan_avg',\n",
       "      'distribution': 'uniform',\n",
       "      'seed': None}},\n",
       "    'bias_initializer': {'class_name': 'Zeros', 'config': {}},\n",
       "    'kernel_regularizer': None,\n",
       "    'bias_regularizer': None,\n",
       "    'activity_regularizer': None,\n",
       "    'kernel_constraint': None,\n",
       "    'bias_constraint': None}},\n",
       "  {'class_name': 'Dropout',\n",
       "   'config': {'name': 'dropout_6',\n",
       "    'trainable': True,\n",
       "    'rate': 0.5,\n",
       "    'noise_shape': None,\n",
       "    'seed': None}},\n",
       "  {'class_name': 'Dense',\n",
       "   'config': {'name': 'dense_6',\n",
       "    'trainable': True,\n",
       "    'units': 3,\n",
       "    'activation': 'softmax',\n",
       "    'use_bias': True,\n",
       "    'kernel_initializer': {'class_name': 'VarianceScaling',\n",
       "     'config': {'scale': 1.0,\n",
       "      'mode': 'fan_avg',\n",
       "      'distribution': 'uniform',\n",
       "      'seed': None}},\n",
       "    'bias_initializer': {'class_name': 'Zeros', 'config': {}},\n",
       "    'kernel_regularizer': None,\n",
       "    'bias_regularizer': None,\n",
       "    'activity_regularizer': None,\n",
       "    'kernel_constraint': None,\n",
       "    'bias_constraint': None}}]}"
      ]
     },
     "execution_count": 78,
     "metadata": {},
     "output_type": "execute_result"
    }
   ],
   "source": [
    "# This shows the different levels in my NN\n",
    "test_model_history.model.get_config()"
   ]
  },
  {
   "cell_type": "code",
   "execution_count": 82,
   "metadata": {
    "hidden": true
   },
   "outputs": [
    {
     "data": {
      "text/plain": [
       "{'name': 'sequential_2',\n",
       " 'layers': [{'class_name': 'Conv2D',\n",
       "   'config': {'name': 'conv2d_3',\n",
       "    'trainable': True,\n",
       "    'batch_input_shape': (None, 128, 128, 1),\n",
       "    'dtype': 'float32',\n",
       "    'filters': 6,\n",
       "    'kernel_size': (3, 3),\n",
       "    'strides': (1, 1),\n",
       "    'padding': 'valid',\n",
       "    'data_format': 'channels_last',\n",
       "    'dilation_rate': (1, 1),\n",
       "    'activation': 'relu',\n",
       "    'use_bias': True,\n",
       "    'kernel_initializer': {'class_name': 'VarianceScaling',\n",
       "     'config': {'scale': 1.0,\n",
       "      'mode': 'fan_avg',\n",
       "      'distribution': 'uniform',\n",
       "      'seed': None}},\n",
       "    'bias_initializer': {'class_name': 'Zeros', 'config': {}},\n",
       "    'kernel_regularizer': None,\n",
       "    'bias_regularizer': None,\n",
       "    'activity_regularizer': None,\n",
       "    'kernel_constraint': None,\n",
       "    'bias_constraint': None}},\n",
       "  {'class_name': 'MaxPooling2D',\n",
       "   'config': {'name': 'max_pooling2d_3',\n",
       "    'trainable': True,\n",
       "    'pool_size': (2, 2),\n",
       "    'padding': 'valid',\n",
       "    'strides': (2, 2),\n",
       "    'data_format': 'channels_last'}},\n",
       "  {'class_name': 'Conv2D',\n",
       "   'config': {'name': 'conv2d_4',\n",
       "    'trainable': True,\n",
       "    'filters': 16,\n",
       "    'kernel_size': (3, 3),\n",
       "    'strides': (1, 1),\n",
       "    'padding': 'valid',\n",
       "    'data_format': 'channels_last',\n",
       "    'dilation_rate': (1, 1),\n",
       "    'activation': 'relu',\n",
       "    'use_bias': True,\n",
       "    'kernel_initializer': {'class_name': 'VarianceScaling',\n",
       "     'config': {'scale': 1.0,\n",
       "      'mode': 'fan_avg',\n",
       "      'distribution': 'uniform',\n",
       "      'seed': None}},\n",
       "    'bias_initializer': {'class_name': 'Zeros', 'config': {}},\n",
       "    'kernel_regularizer': None,\n",
       "    'bias_regularizer': None,\n",
       "    'activity_regularizer': None,\n",
       "    'kernel_constraint': None,\n",
       "    'bias_constraint': None}},\n",
       "  {'class_name': 'MaxPooling2D',\n",
       "   'config': {'name': 'max_pooling2d_4',\n",
       "    'trainable': True,\n",
       "    'pool_size': (2, 2),\n",
       "    'padding': 'valid',\n",
       "    'strides': (2, 2),\n",
       "    'data_format': 'channels_last'}},\n",
       "  {'class_name': 'Dropout',\n",
       "   'config': {'name': 'dropout_4',\n",
       "    'trainable': True,\n",
       "    'rate': 0.8,\n",
       "    'noise_shape': None,\n",
       "    'seed': None}},\n",
       "  {'class_name': 'Flatten',\n",
       "   'config': {'name': 'flatten_2',\n",
       "    'trainable': True,\n",
       "    'data_format': 'channels_last'}},\n",
       "  {'class_name': 'Dense',\n",
       "   'config': {'name': 'dense_4',\n",
       "    'trainable': True,\n",
       "    'units': 512,\n",
       "    'activation': 'relu',\n",
       "    'use_bias': True,\n",
       "    'kernel_initializer': {'class_name': 'VarianceScaling',\n",
       "     'config': {'scale': 1.0,\n",
       "      'mode': 'fan_avg',\n",
       "      'distribution': 'uniform',\n",
       "      'seed': None}},\n",
       "    'bias_initializer': {'class_name': 'Zeros', 'config': {}},\n",
       "    'kernel_regularizer': None,\n",
       "    'bias_regularizer': None,\n",
       "    'activity_regularizer': None,\n",
       "    'kernel_constraint': None,\n",
       "    'bias_constraint': None}},\n",
       "  {'class_name': 'Dropout',\n",
       "   'config': {'name': 'dropout_5',\n",
       "    'trainable': True,\n",
       "    'rate': 0.5,\n",
       "    'noise_shape': None,\n",
       "    'seed': None}},\n",
       "  {'class_name': 'Dense',\n",
       "   'config': {'name': 'dense_5',\n",
       "    'trainable': True,\n",
       "    'units': 128,\n",
       "    'activation': 'relu',\n",
       "    'use_bias': True,\n",
       "    'kernel_initializer': {'class_name': 'VarianceScaling',\n",
       "     'config': {'scale': 1.0,\n",
       "      'mode': 'fan_avg',\n",
       "      'distribution': 'uniform',\n",
       "      'seed': None}},\n",
       "    'bias_initializer': {'class_name': 'Zeros', 'config': {}},\n",
       "    'kernel_regularizer': None,\n",
       "    'bias_regularizer': None,\n",
       "    'activity_regularizer': None,\n",
       "    'kernel_constraint': None,\n",
       "    'bias_constraint': None}},\n",
       "  {'class_name': 'Dropout',\n",
       "   'config': {'name': 'dropout_6',\n",
       "    'trainable': True,\n",
       "    'rate': 0.5,\n",
       "    'noise_shape': None,\n",
       "    'seed': None}},\n",
       "  {'class_name': 'Dense',\n",
       "   'config': {'name': 'dense_6',\n",
       "    'trainable': True,\n",
       "    'units': 3,\n",
       "    'activation': 'softmax',\n",
       "    'use_bias': True,\n",
       "    'kernel_initializer': {'class_name': 'VarianceScaling',\n",
       "     'config': {'scale': 1.0,\n",
       "      'mode': 'fan_avg',\n",
       "      'distribution': 'uniform',\n",
       "      'seed': None}},\n",
       "    'bias_initializer': {'class_name': 'Zeros', 'config': {}},\n",
       "    'kernel_regularizer': None,\n",
       "    'bias_regularizer': None,\n",
       "    'activity_regularizer': None,\n",
       "    'kernel_constraint': None,\n",
       "    'bias_constraint': None}}]}"
      ]
     },
     "execution_count": 82,
     "metadata": {},
     "output_type": "execute_result"
    }
   ],
   "source": [
    "models[most_recent_model_name]['history'].model.predict(pic_df.drop(columns='class').iloc[1,:].values)"
   ]
  },
  {
   "cell_type": "code",
   "execution_count": null,
   "metadata": {
    "hidden": true
   },
   "outputs": [],
   "source": []
  },
  {
   "cell_type": "markdown",
   "metadata": {
    "heading_collapsed": true
   },
   "source": [
    "## Predicting\n",
    "Creating predictions and getting useful, interpretable results from the models."
   ]
  },
  {
   "cell_type": "code",
   "execution_count": 42,
   "metadata": {
    "hidden": true
   },
   "outputs": [
    {
     "name": "stdout",
     "output_type": "stream",
     "text": [
      "CPU times: user 4min 23s, sys: 13.4 s, total: 4min 36s\n",
      "Wall time: 51.5 s\n"
     ]
    }
   ],
   "source": [
    "%%time\n",
    "\n",
    "# Predicting on the images\n",
    "X = pic_df.drop(columns='class')\n",
    "pred_x = X.values.reshape(X.shape[0], IMAGE_SIZE[0], IMAGE_SIZE[1], 1)\n",
    "preds = test_model_real.predict(pred_x)"
   ]
  },
  {
   "cell_type": "code",
   "execution_count": 68,
   "metadata": {
    "hidden": true
   },
   "outputs": [],
   "source": [
    "# Converting the target values to the \n",
    "y_real = pic_df['class']\n",
    "y_real = y_real.map(lambda x: CURR_MAP[x])"
   ]
  },
  {
   "cell_type": "code",
   "execution_count": 69,
   "metadata": {
    "hidden": true
   },
   "outputs": [
    {
     "name": "stdout",
     "output_type": "stream",
     "text": [
      "[0, 0, 0, 2, 1, 1, 0, 0, 1, 1, 0, 2, 2, 2, 1, 1, 0, 1, 1, 2]\n"
     ]
    }
   ],
   "source": [
    "#preds = pd.DataFrame(data=preds, columns=[])\n",
    "new_preds = []\n",
    "for i in range(len(preds)):\n",
    "     new_preds.append(preds[i].argmax())\n",
    "print(new_preds[0:20])"
   ]
  },
  {
   "cell_type": "code",
   "execution_count": 71,
   "metadata": {
    "hidden": true
   },
   "outputs": [
    {
     "name": "stdout",
     "output_type": "stream",
     "text": [
      "(0, 0)\n",
      "(0, 0)\n",
      "(0, 0)\n",
      "(2, 2)\n",
      "(1, 1)\n",
      "(1, 1)\n",
      "(0, 0)\n",
      "(0, 0)\n",
      "(1, 1)\n",
      "(1, 1)\n",
      "(0, 0)\n",
      "(2, 2)\n",
      "(2, 2)\n",
      "(2, 2)\n",
      "(1, 1)\n",
      "(1, 1)\n",
      "(0, 0)\n",
      "(1, 1)\n",
      "(1, 1)\n",
      "(2, 2)\n",
      "(1, 1)\n"
     ]
    }
   ],
   "source": [
    "# Print out the actual values against their predicted values\n",
    "index = 0\n",
    "for i in zip(y_real, new_preds):\n",
    "    print(i)\n",
    "    index+=1\n",
    "    if index > 20:\n",
    "        break"
   ]
  },
  {
   "cell_type": "code",
   "execution_count": null,
   "metadata": {
    "hidden": true
   },
   "outputs": [],
   "source": []
  },
  {
   "cell_type": "code",
   "execution_count": null,
   "metadata": {
    "hidden": true
   },
   "outputs": [],
   "source": []
  },
  {
   "cell_type": "markdown",
   "metadata": {},
   "source": [
    "## What am I trying to do now?\n",
    "- start changing models around potentially using \n",
    "    - Stochastic gradient descent\n",
    "    - [R-CNN (or a different iteration)](https://heartbeat.fritz.ai/the-5-computer-vision-techniques-that-will-change-how-you-see-the-world-1ee19334354b)\n",
    "    - [SpatialDropout2D](https://keras.io/layers/core/#spatialdropout2d)\n"
   ]
  },
  {
   "cell_type": "code",
   "execution_count": null,
   "metadata": {},
   "outputs": [],
   "source": []
  },
  {
   "cell_type": "code",
   "execution_count": null,
   "metadata": {},
   "outputs": [],
   "source": []
  },
  {
   "cell_type": "code",
   "execution_count": null,
   "metadata": {},
   "outputs": [],
   "source": []
  },
  {
   "cell_type": "markdown",
   "metadata": {},
   "source": [
    "## Modeling over full adult set for 80 epochs"
   ]
  },
  {
   "cell_type": "code",
   "execution_count": 23,
   "metadata": {},
   "outputs": [],
   "source": [
    "# Current Parameters\n",
    "options = 2\n",
    "\n",
    "\n",
    "NUM_IMAGES = 6000#adult_data.shape[0]\n",
    "EPOCHS = 80\n",
    "IMAGE_SIZE = (64,64)\n",
    "TRAIN_SIZE = 0.8\n",
    "METRICS = ['accuracy']\n",
    "BATCH_SIZE = 10\n",
    "\n",
    "if options == 2:\n",
    "    CURR_MAP = y_map_2\n",
    "    model_name = 'adult_data_2_options'\n",
    "elif options == 3:\n",
    "    CURR_MAP = y_map_3\n",
    "    model_name = 'adult_data_3_options'\n",
    "else:\n",
    "    raise PnemoniaTargetMapIsWeird('Set \"option\" to 2 or 3')\n"
   ]
  },
  {
   "cell_type": "code",
   "execution_count": 10,
   "metadata": {
    "code_folding": []
   },
   "outputs": [
    {
     "name": "stdout",
     "output_type": "stream",
     "text": [
      "---Enter DataFrame Construction Function---\n",
      "---Create Pixel Array Labels---\n",
      "---Create Total Pixel Array---\n"
     ]
    },
    {
     "data": {
      "application/vnd.jupyter.widget-view+json": {
       "model_id": "db97fa9066d34a4da02d65c03c499d70",
       "version_major": 2,
       "version_minor": 0
      },
      "text/plain": [
       "HBox(children=(IntProgress(value=0, max=27537), HTML(value='')))"
      ]
     },
     "metadata": {},
     "output_type": "display_data"
    },
    {
     "name": "stderr",
     "output_type": "stream",
     "text": [
      "/home/ec2-user/anaconda3/envs/py36/lib/python3.6/site-packages/skimage/transform/_warps.py:105: UserWarning: The default mode, 'constant', will be changed to 'reflect' in skimage 0.15.\n",
      "  warn(\"The default mode, 'constant', will be changed to 'reflect' in \"\n",
      "/home/ec2-user/anaconda3/envs/py36/lib/python3.6/site-packages/skimage/transform/_warps.py:110: UserWarning: Anti-aliasing will be enabled by default in skimage 0.15 to avoid aliasing artifacts when down-sampling images.\n",
      "  warn(\"Anti-aliasing will be enabled by default in skimage 0.15 to \"\n"
     ]
    },
    {
     "name": "stdout",
     "output_type": "stream",
     "text": [
      "\n",
      "---Create Dataframe---\n",
      "CPU times: user 5min 56s, sys: 7.11 s, total: 6min 3s\n",
      "Wall time: 6min 43s\n"
     ]
    }
   ],
   "source": [
    "%%time\n",
    "\n",
    "pic_df = create_pic_df(adult_data, df_detailed=df_detailed, image_size=IMAGE_SIZE)"
   ]
  },
  {
   "cell_type": "code",
   "execution_count": null,
   "metadata": {},
   "outputs": [],
   "source": []
  },
  {
   "cell_type": "code",
   "execution_count": 24,
   "metadata": {
    "scrolled": true
   },
   "outputs": [
    {
     "name": "stdout",
     "output_type": "stream",
     "text": [
      "---Enter Function---\n",
      "---Modeling---\n"
     ]
    },
    {
     "name": "stderr",
     "output_type": "stream",
     "text": [
      "/home/ec2-user/anaconda3/envs/py36/lib/python3.6/site-packages/sklearn/model_selection/_split.py:2026: FutureWarning: From version 0.21, test_size will always complement train_size unless both are specified.\n",
      "  FutureWarning)\n"
     ]
    },
    {
     "name": "stdout",
     "output_type": "stream",
     "text": [
      "Train on 4800 samples, validate on 1200 samples\n",
      "Epoch 1/80\n",
      "4800/4800 [==============================] - 12s 3ms/step - loss: 0.5885 - acc: 0.6854 - val_loss: 0.4841 - val_acc: 0.7642\n",
      "Epoch 2/80\n",
      "4800/4800 [==============================] - 12s 2ms/step - loss: 0.5329 - acc: 0.7471 - val_loss: 0.4725 - val_acc: 0.7750\n",
      "Epoch 3/80\n",
      "4800/4800 [==============================] - 11s 2ms/step - loss: 0.5275 - acc: 0.7452 - val_loss: 0.4804 - val_acc: 0.7767\n",
      "Epoch 4/80\n",
      "4800/4800 [==============================] - 12s 3ms/step - loss: 0.5128 - acc: 0.7540 - val_loss: 0.4939 - val_acc: 0.7675\n",
      "Epoch 5/80\n",
      "4800/4800 [==============================] - 12s 3ms/step - loss: 0.5073 - acc: 0.7575 - val_loss: 0.4761 - val_acc: 0.7692\n",
      "Epoch 6/80\n",
      "4800/4800 [==============================] - 12s 3ms/step - loss: 0.4990 - acc: 0.7662 - val_loss: 0.4660 - val_acc: 0.7817\n",
      "Epoch 7/80\n",
      "4800/4800 [==============================] - 12s 2ms/step - loss: 0.4988 - acc: 0.7660 - val_loss: 0.4634 - val_acc: 0.7825\n",
      "Epoch 8/80\n",
      "4800/4800 [==============================] - 12s 2ms/step - loss: 0.4982 - acc: 0.7698 - val_loss: 0.4744 - val_acc: 0.7692\n",
      "Epoch 9/80\n",
      "4800/4800 [==============================] - 12s 2ms/step - loss: 0.4878 - acc: 0.7727 - val_loss: 0.4509 - val_acc: 0.7992\n",
      "Epoch 10/80\n",
      "4800/4800 [==============================] - 12s 2ms/step - loss: 0.4879 - acc: 0.7706 - val_loss: 0.4644 - val_acc: 0.7917\n",
      "Epoch 11/80\n",
      "4800/4800 [==============================] - 12s 2ms/step - loss: 0.4948 - acc: 0.7679 - val_loss: 0.4799 - val_acc: 0.7925\n",
      "Epoch 12/80\n",
      "4800/4800 [==============================] - 12s 2ms/step - loss: 0.4864 - acc: 0.7762 - val_loss: 0.4450 - val_acc: 0.8000\n",
      "Epoch 13/80\n",
      "4800/4800 [==============================] - 12s 3ms/step - loss: 0.4817 - acc: 0.7742 - val_loss: 0.4610 - val_acc: 0.7925\n",
      "Epoch 14/80\n",
      "4800/4800 [==============================] - 12s 2ms/step - loss: 0.4803 - acc: 0.7783 - val_loss: 0.4490 - val_acc: 0.8017\n",
      "Epoch 15/80\n",
      "4800/4800 [==============================] - 12s 3ms/step - loss: 0.4836 - acc: 0.7769 - val_loss: 0.4392 - val_acc: 0.8100\n",
      "Epoch 16/80\n",
      "4800/4800 [==============================] - 12s 2ms/step - loss: 0.4773 - acc: 0.7840 - val_loss: 0.4514 - val_acc: 0.7967\n",
      "Epoch 17/80\n",
      "4800/4800 [==============================] - 12s 2ms/step - loss: 0.4613 - acc: 0.7819 - val_loss: 0.4477 - val_acc: 0.8033\n",
      "Epoch 18/80\n",
      "4800/4800 [==============================] - 13s 3ms/step - loss: 0.4683 - acc: 0.7771 - val_loss: 0.4468 - val_acc: 0.8000\n",
      "Epoch 19/80\n",
      "4800/4800 [==============================] - 12s 2ms/step - loss: 0.4655 - acc: 0.7796 - val_loss: 0.4614 - val_acc: 0.8050\n",
      "Epoch 20/80\n",
      "4800/4800 [==============================] - 11s 2ms/step - loss: 0.4637 - acc: 0.7883 - val_loss: 0.4443 - val_acc: 0.8017\n",
      "Epoch 21/80\n",
      "4800/4800 [==============================] - 12s 3ms/step - loss: 0.4571 - acc: 0.7848 - val_loss: 0.4397 - val_acc: 0.8008\n",
      "Epoch 22/80\n",
      "4800/4800 [==============================] - 12s 3ms/step - loss: 0.4606 - acc: 0.7923 - val_loss: 0.4588 - val_acc: 0.7858\n",
      "Epoch 23/80\n",
      "4800/4800 [==============================] - 12s 2ms/step - loss: 0.4503 - acc: 0.7908 - val_loss: 0.4340 - val_acc: 0.8083\n",
      "Epoch 24/80\n",
      "4800/4800 [==============================] - 12s 3ms/step - loss: 0.4551 - acc: 0.7892 - val_loss: 0.4238 - val_acc: 0.8167\n",
      "Epoch 25/80\n",
      "4800/4800 [==============================] - 12s 3ms/step - loss: 0.4532 - acc: 0.7896 - val_loss: 0.4446 - val_acc: 0.8100\n",
      "Epoch 26/80\n",
      "4800/4800 [==============================] - 12s 3ms/step - loss: 0.4497 - acc: 0.7952 - val_loss: 0.4439 - val_acc: 0.8108\n",
      "Epoch 27/80\n",
      "4800/4800 [==============================] - 12s 2ms/step - loss: 0.4497 - acc: 0.7962 - val_loss: 0.4482 - val_acc: 0.8117\n",
      "Epoch 28/80\n",
      "4800/4800 [==============================] - 12s 3ms/step - loss: 0.4445 - acc: 0.8042 - val_loss: 0.4299 - val_acc: 0.8192\n",
      "Epoch 29/80\n",
      "4800/4800 [==============================] - 12s 2ms/step - loss: 0.4474 - acc: 0.7904 - val_loss: 0.4493 - val_acc: 0.8183\n",
      "Epoch 30/80\n",
      "4800/4800 [==============================] - 12s 2ms/step - loss: 0.4452 - acc: 0.7994 - val_loss: 0.4289 - val_acc: 0.8217\n",
      "Epoch 31/80\n",
      "4800/4800 [==============================] - 13s 3ms/step - loss: 0.4355 - acc: 0.8060 - val_loss: 0.4332 - val_acc: 0.8133\n",
      "Epoch 32/80\n",
      "4800/4800 [==============================] - 12s 2ms/step - loss: 0.4364 - acc: 0.7967 - val_loss: 0.4427 - val_acc: 0.8108\n",
      "Epoch 33/80\n",
      "4800/4800 [==============================] - 12s 2ms/step - loss: 0.4319 - acc: 0.8060 - val_loss: 0.4384 - val_acc: 0.8058\n",
      "Epoch 34/80\n",
      "4800/4800 [==============================] - 13s 3ms/step - loss: 0.4343 - acc: 0.8042 - val_loss: 0.4420 - val_acc: 0.8092\n",
      "Epoch 35/80\n",
      "4800/4800 [==============================] - 12s 3ms/step - loss: 0.4284 - acc: 0.8098 - val_loss: 0.4208 - val_acc: 0.8208\n",
      "Epoch 36/80\n",
      "4800/4800 [==============================] - 12s 3ms/step - loss: 0.4215 - acc: 0.8094 - val_loss: 0.4182 - val_acc: 0.8242\n",
      "Epoch 37/80\n",
      "4800/4800 [==============================] - 12s 3ms/step - loss: 0.4198 - acc: 0.8175 - val_loss: 0.4202 - val_acc: 0.8183\n",
      "Epoch 38/80\n",
      "4800/4800 [==============================] - 13s 3ms/step - loss: 0.4208 - acc: 0.8046 - val_loss: 0.4219 - val_acc: 0.8175\n",
      "Epoch 39/80\n",
      "4800/4800 [==============================] - 12s 3ms/step - loss: 0.4206 - acc: 0.8090 - val_loss: 0.4324 - val_acc: 0.7950\n",
      "Epoch 40/80\n",
      "4800/4800 [==============================] - 12s 3ms/step - loss: 0.4170 - acc: 0.8150 - val_loss: 0.4266 - val_acc: 0.8233\n",
      "Epoch 41/80\n",
      "4800/4800 [==============================] - 12s 3ms/step - loss: 0.4069 - acc: 0.8158 - val_loss: 0.4340 - val_acc: 0.8117\n",
      "Epoch 42/80\n",
      "4800/4800 [==============================] - 12s 3ms/step - loss: 0.4112 - acc: 0.8131 - val_loss: 0.4362 - val_acc: 0.8042\n",
      "Epoch 43/80\n",
      "4800/4800 [==============================] - 12s 3ms/step - loss: 0.4025 - acc: 0.8231 - val_loss: 0.4281 - val_acc: 0.8008\n",
      "Epoch 44/80\n",
      "4800/4800 [==============================] - 12s 3ms/step - loss: 0.3872 - acc: 0.8279 - val_loss: 0.4464 - val_acc: 0.7958\n",
      "Epoch 45/80\n",
      "4800/4800 [==============================] - 13s 3ms/step - loss: 0.4070 - acc: 0.8110 - val_loss: 0.4265 - val_acc: 0.8100\n",
      "Epoch 46/80\n",
      "4800/4800 [==============================] - 12s 3ms/step - loss: 0.4037 - acc: 0.8210 - val_loss: 0.4355 - val_acc: 0.8050\n",
      "Epoch 47/80\n",
      "4800/4800 [==============================] - 12s 3ms/step - loss: 0.3994 - acc: 0.8223 - val_loss: 0.4170 - val_acc: 0.8167\n",
      "Epoch 48/80\n",
      "4800/4800 [==============================] - 12s 3ms/step - loss: 0.3910 - acc: 0.8250 - val_loss: 0.4466 - val_acc: 0.8025\n",
      "Epoch 49/80\n",
      "4800/4800 [==============================] - 13s 3ms/step - loss: 0.3916 - acc: 0.8292 - val_loss: 0.4238 - val_acc: 0.8125\n",
      "Epoch 50/80\n",
      "4800/4800 [==============================] - 12s 3ms/step - loss: 0.3968 - acc: 0.8235 - val_loss: 0.4135 - val_acc: 0.8175\n",
      "Epoch 51/80\n",
      "4800/4800 [==============================] - 12s 3ms/step - loss: 0.3879 - acc: 0.8246 - val_loss: 0.4237 - val_acc: 0.8033\n",
      "Epoch 52/80\n",
      "4800/4800 [==============================] - 12s 3ms/step - loss: 0.3858 - acc: 0.8319 - val_loss: 0.4101 - val_acc: 0.8250\n",
      "Epoch 53/80\n",
      "4800/4800 [==============================] - 12s 2ms/step - loss: 0.3908 - acc: 0.8273 - val_loss: 0.4145 - val_acc: 0.8142\n",
      "Epoch 54/80\n",
      "4800/4800 [==============================] - 12s 2ms/step - loss: 0.3789 - acc: 0.8290 - val_loss: 0.4248 - val_acc: 0.8083\n",
      "Epoch 55/80\n",
      "4800/4800 [==============================] - 12s 2ms/step - loss: 0.3860 - acc: 0.8337 - val_loss: 0.4175 - val_acc: 0.8150\n",
      "Epoch 56/80\n",
      "4800/4800 [==============================] - 12s 3ms/step - loss: 0.3693 - acc: 0.8423 - val_loss: 0.4148 - val_acc: 0.8242\n",
      "Epoch 57/80\n",
      "4800/4800 [==============================] - 12s 3ms/step - loss: 0.3782 - acc: 0.8402 - val_loss: 0.4172 - val_acc: 0.8175\n",
      "Epoch 58/80\n",
      "4800/4800 [==============================] - 13s 3ms/step - loss: 0.3792 - acc: 0.8323 - val_loss: 0.4196 - val_acc: 0.8200\n",
      "Epoch 59/80\n",
      "4800/4800 [==============================] - 12s 2ms/step - loss: 0.3675 - acc: 0.8360 - val_loss: 0.4173 - val_acc: 0.8192\n",
      "Epoch 60/80\n",
      "4800/4800 [==============================] - 12s 3ms/step - loss: 0.3693 - acc: 0.8331 - val_loss: 0.4011 - val_acc: 0.8233\n"
     ]
    },
    {
     "name": "stdout",
     "output_type": "stream",
     "text": [
      "Epoch 61/80\n",
      "4800/4800 [==============================] - 12s 2ms/step - loss: 0.3609 - acc: 0.8387 - val_loss: 0.4005 - val_acc: 0.8358\n",
      "Epoch 62/80\n",
      "4800/4800 [==============================] - 12s 2ms/step - loss: 0.3625 - acc: 0.8444 - val_loss: 0.4215 - val_acc: 0.8192\n",
      "Epoch 63/80\n",
      "4800/4800 [==============================] - 13s 3ms/step - loss: 0.3615 - acc: 0.8423 - val_loss: 0.4681 - val_acc: 0.7883\n",
      "Epoch 64/80\n",
      "4800/4800 [==============================] - 12s 3ms/step - loss: 0.3549 - acc: 0.8462 - val_loss: 0.4345 - val_acc: 0.8142\n",
      "Epoch 65/80\n",
      "4800/4800 [==============================] - 12s 2ms/step - loss: 0.3562 - acc: 0.8446 - val_loss: 0.4120 - val_acc: 0.8292\n",
      "Epoch 66/80\n",
      "4800/4800 [==============================] - 12s 3ms/step - loss: 0.3474 - acc: 0.8544 - val_loss: 0.4462 - val_acc: 0.7933\n",
      "Epoch 67/80\n",
      "4800/4800 [==============================] - 12s 3ms/step - loss: 0.3570 - acc: 0.8462 - val_loss: 0.4284 - val_acc: 0.8100\n",
      "Epoch 68/80\n",
      "4800/4800 [==============================] - 12s 3ms/step - loss: 0.3556 - acc: 0.8498 - val_loss: 0.4143 - val_acc: 0.8200\n",
      "Epoch 69/80\n",
      "4800/4800 [==============================] - 12s 2ms/step - loss: 0.3472 - acc: 0.8519 - val_loss: 0.4013 - val_acc: 0.8325\n",
      "Epoch 70/80\n",
      "4800/4800 [==============================] - 13s 3ms/step - loss: 0.3580 - acc: 0.8410 - val_loss: 0.4038 - val_acc: 0.8317\n",
      "Epoch 71/80\n",
      "4800/4800 [==============================] - 12s 3ms/step - loss: 0.3465 - acc: 0.8506 - val_loss: 0.4317 - val_acc: 0.8158\n",
      "Epoch 72/80\n",
      "4800/4800 [==============================] - 12s 2ms/step - loss: 0.3346 - acc: 0.8481 - val_loss: 0.4019 - val_acc: 0.8342\n",
      "Epoch 73/80\n",
      "4800/4800 [==============================] - 12s 2ms/step - loss: 0.3379 - acc: 0.8602 - val_loss: 0.4236 - val_acc: 0.8258\n",
      "Epoch 74/80\n",
      "4800/4800 [==============================] - 13s 3ms/step - loss: 0.3357 - acc: 0.8625 - val_loss: 0.4004 - val_acc: 0.8342\n",
      "Epoch 75/80\n",
      "4800/4800 [==============================] - 12s 2ms/step - loss: 0.3419 - acc: 0.8608 - val_loss: 0.4078 - val_acc: 0.8317\n",
      "Epoch 76/80\n",
      "4800/4800 [==============================] - 12s 2ms/step - loss: 0.3214 - acc: 0.8581 - val_loss: 0.4304 - val_acc: 0.8183\n",
      "Epoch 77/80\n",
      "4800/4800 [==============================] - 12s 3ms/step - loss: 0.3485 - acc: 0.8527 - val_loss: 0.4270 - val_acc: 0.8217\n",
      "Epoch 78/80\n",
      "4800/4800 [==============================] - 12s 3ms/step - loss: 0.3356 - acc: 0.8569 - val_loss: 0.4110 - val_acc: 0.8300\n",
      "Epoch 79/80\n",
      "4800/4800 [==============================] - 12s 2ms/step - loss: 0.3286 - acc: 0.8642 - val_loss: 0.4226 - val_acc: 0.8267\n",
      "Epoch 80/80\n",
      "4800/4800 [==============================] - 12s 2ms/step - loss: 0.3399 - acc: 0.8565 - val_loss: 0.4070 - val_acc: 0.8350\n",
      "Model saved as: ../data/models/adult_data_2_options 2018-10-18 16:00:56.383718.h5\n",
      "CPU times: user 51min 39s, sys: 22min 38s, total: 1h 14min 18s\n",
      "Wall time: 16min 10s\n"
     ]
    }
   ],
   "source": [
    "%%time\n",
    "\n",
    "test_model_history, test_model_real, most_recent_model_name, model_file_path, history_file_path = model(pic_df.head(NUM_IMAGES), model_name = model_name, image_size=IMAGE_SIZE, y_map=CURR_MAP, EPOCHS=EPOCHS, train_size = TRAIN_SIZE, metrics = METRICS, BATCH_SIZE=BATCH_SIZE)\n",
    "\n"
   ]
  },
  {
   "cell_type": "code",
   "execution_count": 27,
   "metadata": {},
   "outputs": [
    {
     "data": {
      "text/plain": [
       "'../data/models/adult_data_2_options 2018-10-18 16:00:56.383718.h5'"
      ]
     },
     "execution_count": 27,
     "metadata": {},
     "output_type": "execute_result"
    }
   ],
   "source": [
    "most_recent_model_name"
   ]
  },
  {
   "cell_type": "code",
   "execution_count": null,
   "metadata": {},
   "outputs": [],
   "source": [
    "# New way to save the models after every new model creation\n",
    "\n",
    "# Save all of the stats about each model I've run\n",
    "\n",
    "# Loading in the list of models/parameters\n",
    "model_pickle_file_name = '../data/models/models_dict.pk'\n",
    "file_object = open(model_pickle_file_name,'rb')\n",
    "models_dict = pickle.load(file_object)\n",
    "file_object.close()\n",
    "\n",
    "\n",
    "# Add the most recent model to the list\n",
    "models_dict[most_recent_model_name] = {\n",
    "    'NUM_IMAGES':NUM_IMAGES,\n",
    "    'model_location':model_file_path,\n",
    "    'history_location':history_file_path,\n",
    "    'EPOCHS':EPOCHS,\n",
    "    'IMAGE_SIZE':IMAGE_SIZE,\n",
    "    'Y_MAP':CURR_MAP,\n",
    "    'TRAIN_SIZE':TRAIN_SIZE,\n",
    "    'accuracy_scores':{\n",
    "        'train':test_model_history.history['acc'][-1],\n",
    "        'test':test_model_history.history['val_acc'][-1]\n",
    "    }\n",
    "}\n",
    "\n",
    "\n",
    "# Save the list of models and parameters \n",
    "file_object = open(model_pickle_file_name,'wb')\n",
    "pickle.dump(models_dict, file_object)\n",
    "file_object.close()"
   ]
  },
  {
   "cell_type": "code",
   "execution_count": 26,
   "metadata": {
    "scrolled": false
   },
   "outputs": [
    {
     "data": {
      "image/png": "[encoded data removed]",
      "text/plain": [
       "<Figure size 432x864 with 2 Axes>"
      ]
     },
     "metadata": {
      "image/png": {
       "height": 769,
       "width": 484
      },
      "needs_background": "light"
     },
     "output_type": "display_data"
    }
   ],
   "source": [
    "graph_size = 6\n",
    "evaluate_model(test_model_history, most_recent_model_name, size=graph_size)\n"
   ]
  },
  {
   "cell_type": "markdown",
   "metadata": {},
   "source": [
    "## Changing the models dictionary file to have links to the files that contain the models as opposed to having all of the models contained in the one file."
   ]
  },
  {
   "cell_type": "code",
   "execution_count": 25,
   "metadata": {
    "code_folding": []
   },
   "outputs": [],
   "source": [
    "# Save all of the models I've run\n",
    "# I should definitely make the dictionary have a link to the model's file, not have the model itself stored but oh well that's for later\n",
    "\n",
    "# Loading in the list of models/parameters\n",
    "model_pickle_file_name = 'models.pk'\n",
    "file_object = open(model_pickle_file_name,'rb')\n",
    "\n",
    "models = pickle.load(file_object)\n",
    "file_object.close()\n",
    "\n",
    "# Add the most recent model to the list\n",
    "models[most_recent_model_name] = {\n",
    "    'NUM_IMAGES':NUM_IMAGES,\n",
    "    'history':test_model_history,\n",
    "    'EPOCHS':EPOCHS,\n",
    "    'IMAGE_SIZE':IMAGE_SIZE,\n",
    "    'Y_MAP':CURR_MAP,\n",
    "    'TRAIN_SIZE':TRAIN_SIZE,\n",
    "    'accuracy_scores':{\n",
    "        'train':test_model_history.history['acc'][-1],\n",
    "        'test':test_model_history.history['val_acc'][-1]\n",
    "    }\n",
    "}\n",
    "\n",
    "# Save the list of models and parameters \n",
    "model_pickle_file_name = 'models.pk'\n",
    "file_object = open(model_pickle_file_name,'wb')\n",
    "pickle.dump(models, file_object)\n",
    "file_object.close()"
   ]
  },
  {
   "cell_type": "code",
   "execution_count": 49,
   "metadata": {},
   "outputs": [
    {
     "data": {
      "text/plain": [
       "{'../data/models/adult_data_3_options 2018-10-16 23:03:21.173330': {'NUM_IMAGES': 6000,\n",
       "  'EPOCHS': 20,\n",
       "  'IMAGE_SIZE': (128, 128),\n",
       "  'Y_MAP': {'Lung Opacity': 1, 'No Lung Opacity / Not Normal': 0, 'Normal': 2},\n",
       "  'TRAIN_SIZE': 0.8,\n",
       "  'accuracy_scores': {'train': 0.7616666666666667, 'test': 0.6566666666666666},\n",
       "  'history_location': '../data/models/adult_data_3_options 2018-10-16 23:03:21.173330_history.pk',\n",
       "  'model_location': '../data/models/adult_data_3_options 2018-10-16 23:03:21.173330_model.h5'},\n",
       " '../data/models/adult_data_3_options 2018-10-17 03:15:52.526120': {'NUM_IMAGES': 27537,\n",
       "  'EPOCHS': 80,\n",
       "  'IMAGE_SIZE': (256, 256),\n",
       "  'Y_MAP': {'Lung Opacity': 1, 'No Lung Opacity / Not Normal': 0, 'Normal': 2},\n",
       "  'TRAIN_SIZE': 0.8,\n",
       "  'accuracy_scores': {'train': 0.828816559991811, 'test': 0.6857298474945533},\n",
       "  'history_location': '../data/models/adult_data_3_options 2018-10-17 03:15:52.526120_history.pk',\n",
       "  'model_location': '../data/models/adult_data_3_options 2018-10-17 03:15:52.526120_model.h5'},\n",
       " '../data/models/adult_data_3_options 2018-10-18 15:17:37.300741': {'NUM_IMAGES': 6000,\n",
       "  'EPOCHS': 80,\n",
       "  'IMAGE_SIZE': (64, 64),\n",
       "  'Y_MAP': {'Lung Opacity': 1, 'No Lung Opacity / Not Normal': 0, 'Normal': 2},\n",
       "  'TRAIN_SIZE': 0.8,\n",
       "  'accuracy_scores': {'train': 0.7422916668156783, 'test': 0.6508333370089531},\n",
       "  'history_location': '../data/models/adult_data_3_options 2018-10-18 15:17:37.300741_history.pk',\n",
       "  'model_location': '../data/models/adult_data_3_options 2018-10-18 15:17:37.300741_model.h5'},\n",
       " '../data/models/adult_data_2_options 2018-10-18 16:00:56.383718': {'NUM_IMAGES': 6000,\n",
       "  'EPOCHS': 80,\n",
       "  'IMAGE_SIZE': (64, 64),\n",
       "  'Y_MAP': {'Lung Opacity': 1, 'No Lung Opacity / Not Normal': 0, 'Normal': 0},\n",
       "  'TRAIN_SIZE': 0.8,\n",
       "  'accuracy_scores': {'train': 0.856458326925834, 'test': 0.8349999944368999},\n",
       "  'history_location': '../data/models/adult_data_2_options 2018-10-18 16:00:56.383718_history.pk',\n",
       "  'model_location': '../data/models/adult_data_2_options 2018-10-18 16:00:56.383718_model.h5'}}"
      ]
     },
     "execution_count": 49,
     "metadata": {},
     "output_type": "execute_result"
    }
   ],
   "source": [
    "models_dict"
   ]
  },
  {
   "cell_type": "code",
   "execution_count": 55,
   "metadata": {},
   "outputs": [
    {
     "data": {
      "text/plain": [
       "{'adult_data_3_options 2018-10-16 23:03:21.173330': {'NUM_IMAGES': 6000,\n",
       "  'EPOCHS': 20,\n",
       "  'IMAGE_SIZE': (128, 128),\n",
       "  'Y_MAP': {'Lung Opacity': 1, 'No Lung Opacity / Not Normal': 0, 'Normal': 2},\n",
       "  'TRAIN_SIZE': 0.8,\n",
       "  'accuracy_scores': {'train': 0.7616666666666667, 'test': 0.6566666666666666},\n",
       "  'history_location': '../data/models/adult_data_3_options 2018-10-16 23:03:21.173330_history.pk',\n",
       "  'model_location': '../data/models/adult_data_3_options 2018-10-16 23:03:21.173330_model.h5'},\n",
       " 'adult_data_3_options 2018-10-17 03:15:52.526120': {'NUM_IMAGES': 27537,\n",
       "  'EPOCHS': 80,\n",
       "  'IMAGE_SIZE': (256, 256),\n",
       "  'Y_MAP': {'Lung Opacity': 1, 'No Lung Opacity / Not Normal': 0, 'Normal': 2},\n",
       "  'TRAIN_SIZE': 0.8,\n",
       "  'accuracy_scores': {'train': 0.828816559991811, 'test': 0.6857298474945533},\n",
       "  'history_location': '../data/models/adult_data_3_options 2018-10-17 03:15:52.526120_history.pk',\n",
       "  'model_location': '../data/models/adult_data_3_options 2018-10-17 03:15:52.526120_model.h5'},\n",
       " 'adult_data_3_options 2018-10-18 15:17:37.300741': {'NUM_IMAGES': 6000,\n",
       "  'EPOCHS': 80,\n",
       "  'IMAGE_SIZE': (64, 64),\n",
       "  'Y_MAP': {'Lung Opacity': 1, 'No Lung Opacity / Not Normal': 0, 'Normal': 2},\n",
       "  'TRAIN_SIZE': 0.8,\n",
       "  'accuracy_scores': {'train': 0.7422916668156783, 'test': 0.6508333370089531},\n",
       "  'history_location': '../data/models/adult_data_3_options 2018-10-18 15:17:37.300741_history.pk',\n",
       "  'model_location': '../data/models/adult_data_3_options 2018-10-18 15:17:37.300741_model.h5'},\n",
       " 'adult_data_2_options 2018-10-18 16:00:56.383718': {'NUM_IMAGES': 6000,\n",
       "  'EPOCHS': 80,\n",
       "  'IMAGE_SIZE': (64, 64),\n",
       "  'Y_MAP': {'Lung Opacity': 1, 'No Lung Opacity / Not Normal': 0, 'Normal': 0},\n",
       "  'TRAIN_SIZE': 0.8,\n",
       "  'accuracy_scores': {'train': 0.856458326925834, 'test': 0.8349999944368999},\n",
       "  'history_location': '../data/models/adult_data_2_options 2018-10-18 16:00:56.383718_history.pk',\n",
       "  'model_location': '../data/models/adult_data_2_options 2018-10-18 16:00:56.383718_model.h5'}}"
      ]
     },
     "execution_count": 55,
     "metadata": {},
     "output_type": "execute_result"
    }
   ],
   "source": [
    "new_models_dict = {}\n",
    "for key, value in models_dict.items():\n",
    "    if key[:15] == '../data/models/':\n",
    "        new_models_dict[key[15:]] = value\n",
    "new_models_dict"
   ]
  },
  {
   "cell_type": "code",
   "execution_count": 56,
   "metadata": {},
   "outputs": [],
   "source": [
    "# Save the list of models and parameters \n",
    "model_pickle_file_name = 'models_dict.pk'\n",
    "file_object = open(model_pickle_file_name,'wb')\n",
    "pickle.dump(new_models_dict, file_object)\n",
    "file_object.close()"
   ]
  },
  {
   "cell_type": "code",
   "execution_count": 57,
   "metadata": {},
   "outputs": [],
   "source": [
    "models_dict = new_models_dict"
   ]
  },
  {
   "cell_type": "code",
   "execution_count": 53,
   "metadata": {
    "scrolled": true
   },
   "outputs": [
    {
     "data": {
      "text/plain": [
       "'adult_data_3_options 2018-10-16 23:03:21.173330'"
      ]
     },
     "execution_count": 53,
     "metadata": {},
     "output_type": "execute_result"
    }
   ],
   "source": [
    "list(models_dict.keys())[0][15:]"
   ]
  }
 ],
 "metadata": {
  "kernelspec": {
   "display_name": "Python 3",
   "language": "python",
   "name": "python3"
  },
  "language_info": {
   "codemirror_mode": {
    "name": "ipython",
    "version": 3
   },
   "file_extension": ".py",
   "mimetype": "text/x-python",
   "name": "python",
   "nbconvert_exporter": "python",
   "pygments_lexer": "ipython3",
   "version": "3.6.5"
  },
  "latex_envs": {
   "LaTeX_envs_menu_present": true,
   "autoclose": false,
   "autocomplete": true,
   "bibliofile": "biblio.bib",
   "cite_by": "apalike",
   "current_citInitial": 1,
   "eqLabelWithNumbers": true,
   "eqNumInitial": 1,
   "hotkeys": {
    "equation": "Ctrl-E",
    "itemize": "Ctrl-I"
   },
   "labels_anchors": false,
   "latex_user_defs": false,
   "report_style_numbering": false,
   "user_envs_cfg": false
  },
  "notify_time": "30",
  "varInspector": {
   "cols": {
    "lenName": 16,
    "lenType": 16,
    "lenVar": 40
   },
   "kernels_config": {
    "python": {
     "delete_cmd_postfix": "",
     "delete_cmd_prefix": "del ",
     "library": "var_list.py",
     "varRefreshCmd": "print(var_dic_list())"
    },
    "r": {
     "delete_cmd_postfix": ") ",
     "delete_cmd_prefix": "rm(",
     "library": "var_list.r",
     "varRefreshCmd": "cat(var_dic_list()) "
    }
   },
   "position": {
    "height": "474px",
    "left": "819px",
    "right": "20px",
    "top": "120px",
    "width": "359px"
   },
   "types_to_exclude": [
    "module",
    "function",
    "builtin_function_or_method",
    "instance",
    "_Feature"
   ],
   "window_display": false
  }
 },
 "nbformat": 4,
 "nbformat_minor": 2
}
