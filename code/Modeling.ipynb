{
 "cells": [
  {
   "cell_type": "markdown",
   "metadata": {},
   "source": [
    "Modeling and testing grounds"
   ]
  },
  {
   "cell_type": "code",
   "execution_count": 56,
   "metadata": {},
   "outputs": [],
   "source": [
    "import glob, pylab, pandas as pd\n",
    "import pydicom, numpy as np\n",
    "\n",
    "from sklearn.model_selection import train_test_split\n",
    "from sklearn.preprocessing import StandardScaler\n",
    "import matplotlib.pyplot as plt\n",
    "\n",
    "%matplotlib inline\n",
    "%config InlineBackend.figure_format = 'retina'\n",
    "\n",
    "from keras.models import Sequential\n",
    "from keras.layers import Dense, Dropout, Activation, Flatten, Conv2D, MaxPooling2D, SpatialDropout2D\n",
    "from keras.utils import to_categorical\n",
    "from keras.models import load_model\n",
    "\n",
    "from numpy.random import seed\n",
    "from tensorflow import set_random_seed\n",
    "\n",
    "from skimage.transform import resize\n",
    "\n",
    "import datetime\n",
    "from tqdm import tqdm_notebook\n",
    "import pickle"
   ]
  },
  {
   "cell_type": "code",
   "execution_count": 57,
   "metadata": {},
   "outputs": [],
   "source": [
    "# Initial setting of random seeds\n",
    "seed(42)\n",
    "set_random_seed(42)"
   ]
  },
  {
   "cell_type": "code",
   "execution_count": null,
   "metadata": {},
   "outputs": [],
   "source": []
  },
  {
   "cell_type": "markdown",
   "metadata": {},
   "source": [
    "## Modeling and Evaluation Functions\n",
    "\n",
    "Writing multiple functions to facilitate creating different datasets, modeling over different datasets and/or different hyperparameters, and evaluating the different models using graphs\n",
    "\n",
    "\n"
   ]
  },
  {
   "cell_type": "code",
   "execution_count": 4,
   "metadata": {
    "code_folding": [
     0
    ]
   },
   "outputs": [],
   "source": [
    "class PnemoniaTargetMapIsWeird(AssertionError):\n",
    "    \"\"\"Raise this when the target is not mapped to 2 or 3 outputs\"\"\"\n",
    "    pass"
   ]
  },
  {
   "cell_type": "code",
   "execution_count": 5,
   "metadata": {
    "code_folding": [
     0
    ]
   },
   "outputs": [],
   "source": [
    "def create_pic_df(data, df_detailed, image_size = (128,128)):\n",
    "    \n",
    "    print('---Enter DataFrame Construction Function---')\n",
    "    \n",
    "    ## Data Prep\n",
    "    # Need to define df_detailed somewhere\n",
    "    data.drop_duplicates(inplace=True)\n",
    "    merged_df = df_detailed.merge(data, on='patientId')\n",
    "    \n",
    "    print('---Create Pixel Array Labels---')\n",
    "    \n",
    "    # Create the column labels for the pixel arrays\n",
    "    pixel_labels = []\n",
    "    for i in range(image_size[0] * image_size[1]):\n",
    "        pixel_labels.append(\"pixel\"+str(i))\n",
    "    \n",
    "    print('---Create Total Pixel Array---')\n",
    "    \n",
    "    # Create the total pixel array\n",
    "    huge_pixel_array = []\n",
    "    for o in tqdm_notebook(range(merged_df.shape[0])):\n",
    "        # Get the image data\n",
    "        patientId = merged_df.iloc[o]['patientId']\n",
    "        dcm_file = '../data/stage_1_train_images/%s.dcm' % patientId\n",
    "        dcm_data = pydicom.read_file(dcm_file)\n",
    "        im = dcm_data.pixel_array\n",
    "\n",
    "        # Convert the image into a 1d array of pixels\n",
    "        curr_pixel_array = []\n",
    "        for i in resize(im, image_size): \n",
    "            curr_pixel_array.extend(i)\n",
    "        huge_pixel_array.append(curr_pixel_array)\n",
    "\n",
    "    print('---Create Dataframe---')\n",
    "        \n",
    "    # Creating the DataFrame\n",
    "    temp = pd.DataFrame(data = huge_pixel_array, columns = pixel_labels)\n",
    "    temp['class'] = merged_df['class']\n",
    "    return temp"
   ]
  },
  {
   "cell_type": "code",
   "execution_count": 50,
   "metadata": {},
   "outputs": [],
   "source": [
    "def model(data, model_name = \"default_model_name\", image_size = (128,128), y_map = {\n",
    "    \"Lung Opacity\":1,\n",
    "    \"No Lung Opacity / Not Normal\":0,\n",
    "    \"Normal\":2\n",
    "}, epochs = 20, train_size = 0.75, metrics = ['accuracy'], batch_size = 10, model_optimizer = 'adam', verbose = 1):\n",
    "    \"\"\"\n",
    "    Args:\n",
    "        data (Pandas DataFrame): cols=['class', all of the pixel data]\n",
    "        \n",
    "        model_name (str): The name with which to save the model\n",
    "        \n",
    "        image_size (touple: (int,int)): The width and height in pixels to scale the images. Max 1024x1024. This might be more finickey that I would've thought.\n",
    "        \n",
    "        y_map (dict): A dictionary mapping the target values to integers ([0,1] or [0,1,2])\n",
    "        \n",
    "        epochs (int): Number of epochs to train the model over\n",
    "        \n",
    "        train_size (float): Denotes the percentage of data to use for training as opposed to testing. Between 0. and 1.  \n",
    "        \n",
    "        metrics (list): list of strings metric names with which to measure the model's performance\n",
    "        \n",
    "        batch_size (int): Number of images to use\n",
    "        \n",
    "        model_optimizer (string or optimizer object): Determines which optimizer for the model to use.\n",
    "        \n",
    "        verbose (int): Verbose option for model training. (0, 1, 2)\n",
    "        \n",
    "        \n",
    "    Returns:\n",
    "        Keras Model fit on the data.\n",
    "        Saves the model to ../data/models/model_name datetime.h5\n",
    "    \"\"\"\n",
    "    print('---Enter Function---')\n",
    "    \n",
    "    # Setting the seeds every time I do another model so that I can make sure to have reproducible results\n",
    "    seed(42)\n",
    "    set_random_seed(42)\n",
    "\n",
    "    # Create target\n",
    "    y = data['class']\n",
    "    y = y.map(lambda x: y_map[x])\n",
    "    \n",
    "    # Train Test Split\n",
    "    X_train, X_test, y_train, y_test = train_test_split(data.drop(columns='class'), y, \n",
    "                                                        stratify=y, random_state=42, train_size = train_size)\n",
    "    \n",
    "    # Transform target into arrays of integers\n",
    "    y_train_c = to_categorical(y_train)\n",
    "    y_test_c = to_categorical(y_test)\n",
    "    \n",
    "    # Reshape the X_train and X_test \n",
    "    X_train_re = X_train.values.reshape(X_train.shape[0], image_size[0], image_size[1], 1)\n",
    "    X_test_re = X_test.values.reshape(X_test.shape[0], image_size[0], image_size[1], 1)\n",
    "    \n",
    "    print('---Modeling Initialization---')\n",
    "    \n",
    "    ## Modeling\n",
    "    # Initialize Model\n",
    "    model_convolutional = Sequential()\n",
    "\n",
    "    # First Conv / Pool \n",
    "    model_convolutional.add(Conv2D(filters = 6,\n",
    "                                   kernel_size = 3,\n",
    "                                   activation = 'relu',\n",
    "                                   input_shape = (image_size[0], image_size[1], 1)\n",
    "                                  ))\n",
    "    model_convolutional.add(MaxPooling2D(pool_size=(2,2)))\n",
    "    \n",
    "#    model_convolutional.add(SpatialDropout2D(0.5)) #not included\n",
    "\n",
    "    # Second Conv/ Pool\n",
    "    model_convolutional.add(Conv2D(filters=16, \n",
    "                                   kernel_size=3, \n",
    "                                   activation='relu'))\n",
    "    model_convolutional.add(MaxPooling2D(pool_size=(2,2)))\n",
    "\n",
    "    # Flatten\n",
    "    model_convolutional.add(Dropout(0.8)) #dropout\n",
    "    model_convolutional.add(Flatten())\n",
    "\n",
    "    # Densely Connected Layers\n",
    "    model_convolutional.add(Dense(300, activation='relu'))\n",
    "    model_convolutional.add(Dropout(0.5))\n",
    "    model_convolutional.add(Dense(100, activation='relu'))\n",
    "    model_convolutional.add(Dropout(0.5))\n",
    "    #model_convolutional.add(Dense( 40, activation='relu'))\n",
    "    \n",
    "    # Output Layer\n",
    "    if len(set(y_map.values())) == 3:\n",
    "        model_convolutional.add(Dense(3, activation='softmax'))\n",
    "    elif len(set(y_map.values())) == 2:\n",
    "        model_convolutional.add(Dense(2, activation='softmax'))\n",
    "    else:\n",
    "        raise PnemoniaTargetMapIsWeird(\"target is not mapped to 2 or 3 outputs\")\n",
    "\n",
    "\n",
    "    model_convolutional.compile(loss = 'categorical_crossentropy', \n",
    "                            optimizer = model_optimizer, #'sgd', #adam\n",
    "                            metrics = metrics)\n",
    "    \n",
    "    print('---Modeling Training---')\n",
    "    \n",
    "    # Train Model\n",
    "    trained_convolutional = model_convolutional.fit(X_train_re,\n",
    "                        y_train_c,\n",
    "                        batch_size = batch_size,\n",
    "                        epochs = epochs,\n",
    "                        verbose = verbose,\n",
    "                        validation_data = (X_test_re, y_test_c)\n",
    "                       )\n",
    "\n",
    "\n",
    "    file_name = '../data/models/' + model_name + ' ' + str(datetime.datetime.now()) \n",
    "\n",
    "    # Save Model        \n",
    "    try:\n",
    "        model_file_name = file_name + '_model.h5'\n",
    "        model_convolutional.save(model_file_name)\n",
    "        print('Model saved as: ' + model_file_name)\n",
    "        \n",
    "    except Exception as e:\n",
    "        print('+++++Model did not save++++++')\n",
    "        print(e)\n",
    "        \n",
    "    # Save History\n",
    "    try:\n",
    "        history_file_name = file_name + '_history.pk'\n",
    "        pickle_file = open(history_file_name, 'wb')\n",
    "        pickle.dump(trained_convolutional, pickle_file) \n",
    "        pickle_file.close()\n",
    "        print('History saved as: ' + history_file_name)\n",
    "        \n",
    "    except Exception as e:\n",
    "        print('+++++History did not save++++++')\n",
    "        print(e)\n",
    "        \n",
    "        \n",
    "    return trained_convolutional, model_convolutional, file_name[15:], model_file_name, history_file_name\n",
    "\n"
   ]
  },
  {
   "cell_type": "code",
   "execution_count": 8,
   "metadata": {
    "code_folding": [
     2
    ]
   },
   "outputs": [],
   "source": [
    "# Function that displays pertinant information regarding the quality of the model\n",
    "\n",
    "def evaluate_model (model, model_name = 'default', size=6):\n",
    "    \n",
    "    \"\"\"\n",
    "    Args:\n",
    "        model: A trained model with \n",
    "        \n",
    "    Output:\n",
    "        Returns nothing. Prints out - plots comparing test set with training set on \n",
    "        each of the metrics (minimum: loss).\n",
    "    \n",
    "    \"\"\"\n",
    "    \n",
    "    # checking out the different classes in the testing case and predictions\n",
    "    \n",
    "    # confusion matrix?\n",
    "    \n",
    "    keys=[]\n",
    "    for i in model.history.keys():\n",
    "        if i[0:3] != 'val':\n",
    "            keys.append(i)\n",
    "    \n",
    "    fig, ax = plt.subplots(len(keys), 1, figsize = (size, size*len(keys))) \n",
    "    fig.suptitle('Model: ' + model_name, fontsize=16)\n",
    "    \n",
    "    index = 0\n",
    "    for i in keys:\n",
    "        # Plot of the Loss for the train and testingsets\n",
    "        ax[index].plot(model.history[i], label=i.capitalize())\n",
    "        ax[index].plot(model.history['val_'+i], label='Val '+i.capitalize())\n",
    "        ax[index].legend()\n",
    "        ax[index].set_title(i.capitalize())\n",
    "        index+=1\n"
   ]
  },
  {
   "cell_type": "code",
   "execution_count": null,
   "metadata": {},
   "outputs": [],
   "source": []
  },
  {
   "cell_type": "code",
   "execution_count": null,
   "metadata": {},
   "outputs": [],
   "source": []
  },
  {
   "cell_type": "markdown",
   "metadata": {},
   "source": [
    "## Initial Variables"
   ]
  },
  {
   "cell_type": "code",
   "execution_count": 58,
   "metadata": {
    "code_folding": []
   },
   "outputs": [],
   "source": [
    "# Lung Opacity == Pneumonia\n",
    "y_map_3 = { # Normal, Pneumonia, or not normal but not pneumonia\n",
    "    \"Lung Opacity\":1,\n",
    "    \"No Lung Opacity / Not Normal\":0,\n",
    "    \"Normal\":2\n",
    "}\n",
    "\n",
    "y_map_2 = { # Either Pneumonia or Not Pneumonia\n",
    "    \"Lung Opacity\":1,\n",
    "    \"No Lung Opacity / Not Normal\":0,\n",
    "    \"Normal\":0\n",
    "}\n",
    "\n",
    "adult_data = pd.read_csv('../data/adult_patient_data.csv')\n",
    "df_detailed = pd.read_csv('../data/stage_1_detailed_class_info.csv')\n"
   ]
  },
  {
   "cell_type": "code",
   "execution_count": 10,
   "metadata": {},
   "outputs": [],
   "source": [
    "models = {}"
   ]
  },
  {
   "cell_type": "markdown",
   "metadata": {
    "heading_collapsed": true
   },
   "source": [
    "## Some Initial Modeling"
   ]
  },
  {
   "cell_type": "code",
   "execution_count": 9,
   "metadata": {
    "hidden": true
   },
   "outputs": [],
   "source": [
    "# Current Parameters\n",
    "options = 3\n",
    "\n",
    "\n",
    "NUM_IMAGES = 6000 #pic_df.shape[0]\n",
    "EPOCHS = 20\n",
    "IMAGE_SIZE = (128,128)\n",
    "TRAIN_SIZE = 0.8\n",
    "METRICS = ['accuracy']\n",
    "\n",
    "if options == 2:\n",
    "    CURR_MAP = y_map_2\n",
    "    model_name = 'adult_data_2_options'\n",
    "elif options == 3:\n",
    "    CURR_MAP = y_map_3\n",
    "    model_name = 'adult_data_3_options'\n",
    "else:\n",
    "    raise PnemoniaTargetMapIsWeird('Set \"option\" to 2 or 3')\n"
   ]
  },
  {
   "cell_type": "code",
   "execution_count": 10,
   "metadata": {
    "code_folding": [],
    "hidden": true
   },
   "outputs": [
    {
     "name": "stdout",
     "output_type": "stream",
     "text": [
      "---Enter DataFrame Construction Function---\n",
      "---Create Pixel Array Labels---\n",
      "---Create Total Pixel Array---\n"
     ]
    },
    {
     "data": {
      "application/vnd.jupyter.widget-view+json": {
       "model_id": "c879b88bd209480a907f40d4e5eeacca",
       "version_major": 2,
       "version_minor": 0
      },
      "text/plain": [
       "HBox(children=(IntProgress(value=0, max=27537), HTML(value='')))"
      ]
     },
     "metadata": {},
     "output_type": "display_data"
    },
    {
     "name": "stdout",
     "output_type": "stream",
     "text": [
      "\n"
     ]
    },
    {
     "ename": "FileNotFoundError",
     "evalue": "[Errno 2] No such file or directory: '../data/stage_1_train_images/0004cfab-14fd-4e49-80ba-63a80b6bddd6.dcm'",
     "output_type": "error",
     "traceback": [
      "\u001b[0;31m---------------------------------------------------------------------------\u001b[0m",
      "\u001b[0;31mFileNotFoundError\u001b[0m                         Traceback (most recent call last)",
      "\u001b[0;32m<timed exec>\u001b[0m in \u001b[0;36m<module>\u001b[0;34m()\u001b[0m\n",
      "\u001b[0;32m<ipython-input-4-95c5478142bd>\u001b[0m in \u001b[0;36mcreate_pic_df\u001b[0;34m(data, df_detailed, image_size)\u001b[0m\n\u001b[1;32m     23\u001b[0m         \u001b[0mpatientId\u001b[0m \u001b[0;34m=\u001b[0m \u001b[0mmerged_df\u001b[0m\u001b[0;34m.\u001b[0m\u001b[0miloc\u001b[0m\u001b[0;34m[\u001b[0m\u001b[0mo\u001b[0m\u001b[0;34m]\u001b[0m\u001b[0;34m[\u001b[0m\u001b[0;34m'patientId'\u001b[0m\u001b[0;34m]\u001b[0m\u001b[0;34m\u001b[0m\u001b[0m\n\u001b[1;32m     24\u001b[0m         \u001b[0mdcm_file\u001b[0m \u001b[0;34m=\u001b[0m \u001b[0;34m'../data/stage_1_train_images/%s.dcm'\u001b[0m \u001b[0;34m%\u001b[0m \u001b[0mpatientId\u001b[0m\u001b[0;34m\u001b[0m\u001b[0m\n\u001b[0;32m---> 25\u001b[0;31m         \u001b[0mdcm_data\u001b[0m \u001b[0;34m=\u001b[0m \u001b[0mpydicom\u001b[0m\u001b[0;34m.\u001b[0m\u001b[0mread_file\u001b[0m\u001b[0;34m(\u001b[0m\u001b[0mdcm_file\u001b[0m\u001b[0;34m)\u001b[0m\u001b[0;34m\u001b[0m\u001b[0m\n\u001b[0m\u001b[1;32m     26\u001b[0m         \u001b[0mim\u001b[0m \u001b[0;34m=\u001b[0m \u001b[0mdcm_data\u001b[0m\u001b[0;34m.\u001b[0m\u001b[0mpixel_array\u001b[0m\u001b[0;34m\u001b[0m\u001b[0m\n\u001b[1;32m     27\u001b[0m \u001b[0;34m\u001b[0m\u001b[0m\n",
      "\u001b[0;32m~/anaconda3/envs/py36/lib/python3.6/site-packages/pydicom/filereader.py\u001b[0m in \u001b[0;36mdcmread\u001b[0;34m(fp, defer_size, stop_before_pixels, force, specific_tags)\u001b[0m\n\u001b[1;32m    854\u001b[0m         \u001b[0;32mexcept\u001b[0m \u001b[0mException\u001b[0m\u001b[0;34m:\u001b[0m\u001b[0;34m\u001b[0m\u001b[0m\n\u001b[1;32m    855\u001b[0m             \u001b[0mlogger\u001b[0m\u001b[0;34m.\u001b[0m\u001b[0mdebug\u001b[0m\u001b[0;34m(\u001b[0m\u001b[0;34m\"Reading file '{0}'\"\u001b[0m\u001b[0;34m.\u001b[0m\u001b[0mformat\u001b[0m\u001b[0;34m(\u001b[0m\u001b[0mfp\u001b[0m\u001b[0;34m)\u001b[0m\u001b[0;34m)\u001b[0m\u001b[0;34m\u001b[0m\u001b[0m\n\u001b[0;32m--> 856\u001b[0;31m         \u001b[0mfp\u001b[0m \u001b[0;34m=\u001b[0m \u001b[0mopen\u001b[0m\u001b[0;34m(\u001b[0m\u001b[0mfp\u001b[0m\u001b[0;34m,\u001b[0m \u001b[0;34m'rb'\u001b[0m\u001b[0;34m)\u001b[0m\u001b[0;34m\u001b[0m\u001b[0m\n\u001b[0m\u001b[1;32m    857\u001b[0m \u001b[0;34m\u001b[0m\u001b[0m\n\u001b[1;32m    858\u001b[0m     \u001b[0;32mif\u001b[0m \u001b[0mconfig\u001b[0m\u001b[0;34m.\u001b[0m\u001b[0mdebugging\u001b[0m\u001b[0;34m:\u001b[0m\u001b[0;34m\u001b[0m\u001b[0m\n",
      "\u001b[0;31mFileNotFoundError\u001b[0m: [Errno 2] No such file or directory: '../data/stage_1_train_images/0004cfab-14fd-4e49-80ba-63a80b6bddd6.dcm'"
     ]
    }
   ],
   "source": [
    "%%time\n",
    "\n",
    "pic_df = create_pic_df(adult_data, df_detailed=df_detailed, image_size=IMAGE_SIZE)"
   ]
  },
  {
   "cell_type": "code",
   "execution_count": 36,
   "metadata": {
    "hidden": true,
    "scrolled": true
   },
   "outputs": [
    {
     "name": "stdout",
     "output_type": "stream",
     "text": [
      "---Enter Function---\n"
     ]
    },
    {
     "name": "stderr",
     "output_type": "stream",
     "text": [
      "/home/ec2-user/anaconda3/envs/py36/lib/python3.6/site-packages/sklearn/model_selection/_split.py:2026: FutureWarning: From version 0.21, test_size will always complement train_size unless both are specified.\n",
      "  FutureWarning)\n"
     ]
    },
    {
     "name": "stdout",
     "output_type": "stream",
     "text": [
      "---Modeling---\n",
      "Train on 4800 samples, validate on 1200 samples\n",
      "Epoch 1/20\n",
      "4800/4800 [==============================] - 27s 6ms/step - loss: 0.9727 - acc: 0.5121 - val_loss: 0.8885 - val_acc: 0.5925\n",
      "Epoch 2/20\n",
      "4800/4800 [==============================] - 26s 5ms/step - loss: 0.8916 - acc: 0.5648 - val_loss: 0.8520 - val_acc: 0.6017\n",
      "Epoch 3/20\n",
      "4800/4800 [==============================] - 26s 5ms/step - loss: 0.8686 - acc: 0.5823 - val_loss: 0.8462 - val_acc: 0.5975\n",
      "Epoch 4/20\n",
      "4800/4800 [==============================] - 26s 5ms/step - loss: 0.8549 - acc: 0.5958 - val_loss: 0.8598 - val_acc: 0.6042\n",
      "Epoch 5/20\n",
      "4800/4800 [==============================] - 26s 5ms/step - loss: 0.8401 - acc: 0.6002 - val_loss: 0.8355 - val_acc: 0.6183\n",
      "Epoch 6/20\n",
      "4800/4800 [==============================] - 26s 5ms/step - loss: 0.8034 - acc: 0.6202 - val_loss: 0.8302 - val_acc: 0.6108\n",
      "Epoch 7/20\n",
      "4800/4800 [==============================] - 26s 5ms/step - loss: 0.8031 - acc: 0.6227 - val_loss: 0.8121 - val_acc: 0.6208\n",
      "Epoch 8/20\n",
      "4800/4800 [==============================] - 26s 5ms/step - loss: 0.7802 - acc: 0.6427 - val_loss: 0.7983 - val_acc: 0.6217\n",
      "Epoch 9/20\n",
      "4800/4800 [==============================] - 26s 5ms/step - loss: 0.7618 - acc: 0.6523 - val_loss: 0.8163 - val_acc: 0.6200\n",
      "Epoch 10/20\n",
      "4800/4800 [==============================] - 26s 5ms/step - loss: 0.7436 - acc: 0.6567 - val_loss: 0.8048 - val_acc: 0.6258\n",
      "Epoch 11/20\n",
      "4800/4800 [==============================] - 26s 5ms/step - loss: 0.7278 - acc: 0.6702 - val_loss: 0.8330 - val_acc: 0.6317\n",
      "Epoch 12/20\n",
      "4800/4800 [==============================] - 26s 5ms/step - loss: 0.7030 - acc: 0.6773 - val_loss: 0.8347 - val_acc: 0.6150\n",
      "Epoch 13/20\n",
      "4800/4800 [==============================] - 26s 5ms/step - loss: 0.6814 - acc: 0.6890 - val_loss: 0.8025 - val_acc: 0.6458\n",
      "Epoch 14/20\n",
      "4800/4800 [==============================] - 26s 5ms/step - loss: 0.6805 - acc: 0.6908 - val_loss: 0.7922 - val_acc: 0.6442\n",
      "Epoch 15/20\n",
      "4800/4800 [==============================] - 26s 5ms/step - loss: 0.6575 - acc: 0.7106 - val_loss: 0.7922 - val_acc: 0.6583\n",
      "Epoch 16/20\n",
      "4800/4800 [==============================] - 26s 5ms/step - loss: 0.6303 - acc: 0.7150 - val_loss: 0.8029 - val_acc: 0.6500\n",
      "Epoch 17/20\n",
      "4800/4800 [==============================] - 26s 5ms/step - loss: 0.6040 - acc: 0.7327 - val_loss: 0.8119 - val_acc: 0.6533\n",
      "Epoch 18/20\n",
      "4800/4800 [==============================] - 26s 5ms/step - loss: 0.5976 - acc: 0.7377 - val_loss: 0.7723 - val_acc: 0.6633\n",
      "Epoch 19/20\n",
      "4800/4800 [==============================] - 26s 5ms/step - loss: 0.5752 - acc: 0.7496 - val_loss: 0.7817 - val_acc: 0.6533\n",
      "Epoch 20/20\n",
      "4800/4800 [==============================] - 26s 5ms/step - loss: 0.5512 - acc: 0.7617 - val_loss: 0.8025 - val_acc: 0.6567\n",
      "Model saved as: ../data/models/adult_data_3_options 2018-10-16 23:03:21.173330.h5\n",
      "CPU times: user 36min 41s, sys: 11min 33s, total: 48min 15s\n",
      "Wall time: 8min 38s\n"
     ]
    }
   ],
   "source": [
    "%%time\n",
    "\n",
    "\n",
    "\n",
    "test_model_history, test_model_real, most_recent_model_name = model(pic_df.head(NUM_IMAGES), model_name = model_name, image_size=IMAGE_SIZE, y_map=CURR_MAP, EPOCHS=EPOCHS, train_size = TRAIN_SIZE, metrics = METRICS)\n",
    "\n"
   ]
  },
  {
   "cell_type": "code",
   "execution_count": 91,
   "metadata": {
    "code_folding": [],
    "hidden": true
   },
   "outputs": [],
   "source": [
    "models[most_recent_model_name] = {\n",
    "    'NUM_IMAGES':NUM_IMAGES,\n",
    "    'history':test_model_history,\n",
    "    'EPOCHS':EPOCHS,\n",
    "    'IMAGE_SIZE':IMAGE_SIZE,\n",
    "    'Y_MAP':CURR_MAP,\n",
    "    'TRAIN_SIZE':TRAIN_SIZE,\n",
    "    'accuracy_scores':{\n",
    "        'train':test_model_history.history['acc'][-1],\n",
    "        'test':test_model_history.history['val_acc'][-1]\n",
    "    }\n",
    "}\n",
    "\n",
    "# Save the list of models and parameters \n",
    "model_pickle_file_name = 'models.pk'\n",
    "file_object = open(model_pickle_file_name,'wb')\n",
    "pickle.dump(models, file_object)\n",
    "file_object.close()\n"
   ]
  },
  {
   "cell_type": "code",
   "execution_count": 73,
   "metadata": {
    "hidden": true,
    "scrolled": false
   },
   "outputs": [
    {
     "data": {
      "image/png": "[encoded data removed]",
      "text/plain": [
       "<Figure size 432x864 with 2 Axes>"
      ]
     },
     "metadata": {
      "image/png": {
       "height": 769,
       "width": 484
      },
      "needs_background": "light"
     },
     "output_type": "display_data"
    }
   ],
   "source": [
    "graph_size = 6\n",
    "evaluate_model(test_model_history, most_recent_model_name, size=graph_size)\n"
   ]
  },
  {
   "cell_type": "code",
   "execution_count": 78,
   "metadata": {
    "hidden": true
   },
   "outputs": [
    {
     "data": {
      "text/plain": [
       "{'name': 'sequential_2',\n",
       " 'layers': [{'class_name': 'Conv2D',\n",
       "   'config': {'name': 'conv2d_3',\n",
       "    'trainable': True,\n",
       "    'batch_input_shape': (None, 128, 128, 1),\n",
       "    'dtype': 'float32',\n",
       "    'filters': 6,\n",
       "    'kernel_size': (3, 3),\n",
       "    'strides': (1, 1),\n",
       "    'padding': 'valid',\n",
       "    'data_format': 'channels_last',\n",
       "    'dilation_rate': (1, 1),\n",
       "    'activation': 'relu',\n",
       "    'use_bias': True,\n",
       "    'kernel_initializer': {'class_name': 'VarianceScaling',\n",
       "     'config': {'scale': 1.0,\n",
       "      'mode': 'fan_avg',\n",
       "      'distribution': 'uniform',\n",
       "      'seed': None}},\n",
       "    'bias_initializer': {'class_name': 'Zeros', 'config': {}},\n",
       "    'kernel_regularizer': None,\n",
       "    'bias_regularizer': None,\n",
       "    'activity_regularizer': None,\n",
       "    'kernel_constraint': None,\n",
       "    'bias_constraint': None}},\n",
       "  {'class_name': 'MaxPooling2D',\n",
       "   'config': {'name': 'max_pooling2d_3',\n",
       "    'trainable': True,\n",
       "    'pool_size': (2, 2),\n",
       "    'padding': 'valid',\n",
       "    'strides': (2, 2),\n",
       "    'data_format': 'channels_last'}},\n",
       "  {'class_name': 'Conv2D',\n",
       "   'config': {'name': 'conv2d_4',\n",
       "    'trainable': True,\n",
       "    'filters': 16,\n",
       "    'kernel_size': (3, 3),\n",
       "    'strides': (1, 1),\n",
       "    'padding': 'valid',\n",
       "    'data_format': 'channels_last',\n",
       "    'dilation_rate': (1, 1),\n",
       "    'activation': 'relu',\n",
       "    'use_bias': True,\n",
       "    'kernel_initializer': {'class_name': 'VarianceScaling',\n",
       "     'config': {'scale': 1.0,\n",
       "      'mode': 'fan_avg',\n",
       "      'distribution': 'uniform',\n",
       "      'seed': None}},\n",
       "    'bias_initializer': {'class_name': 'Zeros', 'config': {}},\n",
       "    'kernel_regularizer': None,\n",
       "    'bias_regularizer': None,\n",
       "    'activity_regularizer': None,\n",
       "    'kernel_constraint': None,\n",
       "    'bias_constraint': None}},\n",
       "  {'class_name': 'MaxPooling2D',\n",
       "   'config': {'name': 'max_pooling2d_4',\n",
       "    'trainable': True,\n",
       "    'pool_size': (2, 2),\n",
       "    'padding': 'valid',\n",
       "    'strides': (2, 2),\n",
       "    'data_format': 'channels_last'}},\n",
       "  {'class_name': 'Dropout',\n",
       "   'config': {'name': 'dropout_4',\n",
       "    'trainable': True,\n",
       "    'rate': 0.8,\n",
       "    'noise_shape': None,\n",
       "    'seed': None}},\n",
       "  {'class_name': 'Flatten',\n",
       "   'config': {'name': 'flatten_2',\n",
       "    'trainable': True,\n",
       "    'data_format': 'channels_last'}},\n",
       "  {'class_name': 'Dense',\n",
       "   'config': {'name': 'dense_4',\n",
       "    'trainable': True,\n",
       "    'units': 512,\n",
       "    'activation': 'relu',\n",
       "    'use_bias': True,\n",
       "    'kernel_initializer': {'class_name': 'VarianceScaling',\n",
       "     'config': {'scale': 1.0,\n",
       "      'mode': 'fan_avg',\n",
       "      'distribution': 'uniform',\n",
       "      'seed': None}},\n",
       "    'bias_initializer': {'class_name': 'Zeros', 'config': {}},\n",
       "    'kernel_regularizer': None,\n",
       "    'bias_regularizer': None,\n",
       "    'activity_regularizer': None,\n",
       "    'kernel_constraint': None,\n",
       "    'bias_constraint': None}},\n",
       "  {'class_name': 'Dropout',\n",
       "   'config': {'name': 'dropout_5',\n",
       "    'trainable': True,\n",
       "    'rate': 0.5,\n",
       "    'noise_shape': None,\n",
       "    'seed': None}},\n",
       "  {'class_name': 'Dense',\n",
       "   'config': {'name': 'dense_5',\n",
       "    'trainable': True,\n",
       "    'units': 128,\n",
       "    'activation': 'relu',\n",
       "    'use_bias': True,\n",
       "    'kernel_initializer': {'class_name': 'VarianceScaling',\n",
       "     'config': {'scale': 1.0,\n",
       "      'mode': 'fan_avg',\n",
       "      'distribution': 'uniform',\n",
       "      'seed': None}},\n",
       "    'bias_initializer': {'class_name': 'Zeros', 'config': {}},\n",
       "    'kernel_regularizer': None,\n",
       "    'bias_regularizer': None,\n",
       "    'activity_regularizer': None,\n",
       "    'kernel_constraint': None,\n",
       "    'bias_constraint': None}},\n",
       "  {'class_name': 'Dropout',\n",
       "   'config': {'name': 'dropout_6',\n",
       "    'trainable': True,\n",
       "    'rate': 0.5,\n",
       "    'noise_shape': None,\n",
       "    'seed': None}},\n",
       "  {'class_name': 'Dense',\n",
       "   'config': {'name': 'dense_6',\n",
       "    'trainable': True,\n",
       "    'units': 3,\n",
       "    'activation': 'softmax',\n",
       "    'use_bias': True,\n",
       "    'kernel_initializer': {'class_name': 'VarianceScaling',\n",
       "     'config': {'scale': 1.0,\n",
       "      'mode': 'fan_avg',\n",
       "      'distribution': 'uniform',\n",
       "      'seed': None}},\n",
       "    'bias_initializer': {'class_name': 'Zeros', 'config': {}},\n",
       "    'kernel_regularizer': None,\n",
       "    'bias_regularizer': None,\n",
       "    'activity_regularizer': None,\n",
       "    'kernel_constraint': None,\n",
       "    'bias_constraint': None}}]}"
      ]
     },
     "execution_count": 78,
     "metadata": {},
     "output_type": "execute_result"
    }
   ],
   "source": [
    "# This shows the different levels in my NN\n",
    "test_model_history.model.get_config()"
   ]
  },
  {
   "cell_type": "code",
   "execution_count": 82,
   "metadata": {
    "hidden": true
   },
   "outputs": [
    {
     "data": {
      "text/plain": [
       "{'name': 'sequential_2',\n",
       " 'layers': [{'class_name': 'Conv2D',\n",
       "   'config': {'name': 'conv2d_3',\n",
       "    'trainable': True,\n",
       "    'batch_input_shape': (None, 128, 128, 1),\n",
       "    'dtype': 'float32',\n",
       "    'filters': 6,\n",
       "    'kernel_size': (3, 3),\n",
       "    'strides': (1, 1),\n",
       "    'padding': 'valid',\n",
       "    'data_format': 'channels_last',\n",
       "    'dilation_rate': (1, 1),\n",
       "    'activation': 'relu',\n",
       "    'use_bias': True,\n",
       "    'kernel_initializer': {'class_name': 'VarianceScaling',\n",
       "     'config': {'scale': 1.0,\n",
       "      'mode': 'fan_avg',\n",
       "      'distribution': 'uniform',\n",
       "      'seed': None}},\n",
       "    'bias_initializer': {'class_name': 'Zeros', 'config': {}},\n",
       "    'kernel_regularizer': None,\n",
       "    'bias_regularizer': None,\n",
       "    'activity_regularizer': None,\n",
       "    'kernel_constraint': None,\n",
       "    'bias_constraint': None}},\n",
       "  {'class_name': 'MaxPooling2D',\n",
       "   'config': {'name': 'max_pooling2d_3',\n",
       "    'trainable': True,\n",
       "    'pool_size': (2, 2),\n",
       "    'padding': 'valid',\n",
       "    'strides': (2, 2),\n",
       "    'data_format': 'channels_last'}},\n",
       "  {'class_name': 'Conv2D',\n",
       "   'config': {'name': 'conv2d_4',\n",
       "    'trainable': True,\n",
       "    'filters': 16,\n",
       "    'kernel_size': (3, 3),\n",
       "    'strides': (1, 1),\n",
       "    'padding': 'valid',\n",
       "    'data_format': 'channels_last',\n",
       "    'dilation_rate': (1, 1),\n",
       "    'activation': 'relu',\n",
       "    'use_bias': True,\n",
       "    'kernel_initializer': {'class_name': 'VarianceScaling',\n",
       "     'config': {'scale': 1.0,\n",
       "      'mode': 'fan_avg',\n",
       "      'distribution': 'uniform',\n",
       "      'seed': None}},\n",
       "    'bias_initializer': {'class_name': 'Zeros', 'config': {}},\n",
       "    'kernel_regularizer': None,\n",
       "    'bias_regularizer': None,\n",
       "    'activity_regularizer': None,\n",
       "    'kernel_constraint': None,\n",
       "    'bias_constraint': None}},\n",
       "  {'class_name': 'MaxPooling2D',\n",
       "   'config': {'name': 'max_pooling2d_4',\n",
       "    'trainable': True,\n",
       "    'pool_size': (2, 2),\n",
       "    'padding': 'valid',\n",
       "    'strides': (2, 2),\n",
       "    'data_format': 'channels_last'}},\n",
       "  {'class_name': 'Dropout',\n",
       "   'config': {'name': 'dropout_4',\n",
       "    'trainable': True,\n",
       "    'rate': 0.8,\n",
       "    'noise_shape': None,\n",
       "    'seed': None}},\n",
       "  {'class_name': 'Flatten',\n",
       "   'config': {'name': 'flatten_2',\n",
       "    'trainable': True,\n",
       "    'data_format': 'channels_last'}},\n",
       "  {'class_name': 'Dense',\n",
       "   'config': {'name': 'dense_4',\n",
       "    'trainable': True,\n",
       "    'units': 512,\n",
       "    'activation': 'relu',\n",
       "    'use_bias': True,\n",
       "    'kernel_initializer': {'class_name': 'VarianceScaling',\n",
       "     'config': {'scale': 1.0,\n",
       "      'mode': 'fan_avg',\n",
       "      'distribution': 'uniform',\n",
       "      'seed': None}},\n",
       "    'bias_initializer': {'class_name': 'Zeros', 'config': {}},\n",
       "    'kernel_regularizer': None,\n",
       "    'bias_regularizer': None,\n",
       "    'activity_regularizer': None,\n",
       "    'kernel_constraint': None,\n",
       "    'bias_constraint': None}},\n",
       "  {'class_name': 'Dropout',\n",
       "   'config': {'name': 'dropout_5',\n",
       "    'trainable': True,\n",
       "    'rate': 0.5,\n",
       "    'noise_shape': None,\n",
       "    'seed': None}},\n",
       "  {'class_name': 'Dense',\n",
       "   'config': {'name': 'dense_5',\n",
       "    'trainable': True,\n",
       "    'units': 128,\n",
       "    'activation': 'relu',\n",
       "    'use_bias': True,\n",
       "    'kernel_initializer': {'class_name': 'VarianceScaling',\n",
       "     'config': {'scale': 1.0,\n",
       "      'mode': 'fan_avg',\n",
       "      'distribution': 'uniform',\n",
       "      'seed': None}},\n",
       "    'bias_initializer': {'class_name': 'Zeros', 'config': {}},\n",
       "    'kernel_regularizer': None,\n",
       "    'bias_regularizer': None,\n",
       "    'activity_regularizer': None,\n",
       "    'kernel_constraint': None,\n",
       "    'bias_constraint': None}},\n",
       "  {'class_name': 'Dropout',\n",
       "   'config': {'name': 'dropout_6',\n",
       "    'trainable': True,\n",
       "    'rate': 0.5,\n",
       "    'noise_shape': None,\n",
       "    'seed': None}},\n",
       "  {'class_name': 'Dense',\n",
       "   'config': {'name': 'dense_6',\n",
       "    'trainable': True,\n",
       "    'units': 3,\n",
       "    'activation': 'softmax',\n",
       "    'use_bias': True,\n",
       "    'kernel_initializer': {'class_name': 'VarianceScaling',\n",
       "     'config': {'scale': 1.0,\n",
       "      'mode': 'fan_avg',\n",
       "      'distribution': 'uniform',\n",
       "      'seed': None}},\n",
       "    'bias_initializer': {'class_name': 'Zeros', 'config': {}},\n",
       "    'kernel_regularizer': None,\n",
       "    'bias_regularizer': None,\n",
       "    'activity_regularizer': None,\n",
       "    'kernel_constraint': None,\n",
       "    'bias_constraint': None}}]}"
      ]
     },
     "execution_count": 82,
     "metadata": {},
     "output_type": "execute_result"
    }
   ],
   "source": [
    "models[most_recent_model_name]['history'].model.predict(pic_df.drop(columns='class').iloc[1,:].values)"
   ]
  },
  {
   "cell_type": "code",
   "execution_count": null,
   "metadata": {
    "hidden": true
   },
   "outputs": [],
   "source": []
  },
  {
   "cell_type": "markdown",
   "metadata": {
    "heading_collapsed": true
   },
   "source": [
    "## Predicting\n",
    "Creating predictions and getting useful, interpretable results from the models."
   ]
  },
  {
   "cell_type": "code",
   "execution_count": 42,
   "metadata": {
    "hidden": true
   },
   "outputs": [
    {
     "name": "stdout",
     "output_type": "stream",
     "text": [
      "CPU times: user 4min 23s, sys: 13.4 s, total: 4min 36s\n",
      "Wall time: 51.5 s\n"
     ]
    }
   ],
   "source": [
    "%%time\n",
    "\n",
    "# Predicting on the images\n",
    "X = pic_df.drop(columns='class')\n",
    "pred_x = X.values.reshape(X.shape[0], IMAGE_SIZE[0], IMAGE_SIZE[1], 1)\n",
    "preds = test_model_real.predict(pred_x)"
   ]
  },
  {
   "cell_type": "code",
   "execution_count": 68,
   "metadata": {
    "hidden": true
   },
   "outputs": [],
   "source": [
    "# Converting the target values to the \n",
    "y_real = pic_df['class']\n",
    "y_real = y_real.map(lambda x: CURR_MAP[x])"
   ]
  },
  {
   "cell_type": "code",
   "execution_count": 69,
   "metadata": {
    "hidden": true
   },
   "outputs": [
    {
     "name": "stdout",
     "output_type": "stream",
     "text": [
      "[0, 0, 0, 2, 1, 1, 0, 0, 1, 1, 0, 2, 2, 2, 1, 1, 0, 1, 1, 2]\n"
     ]
    }
   ],
   "source": [
    "#preds = pd.DataFrame(data=preds, columns=[])\n",
    "new_preds = []\n",
    "for i in range(len(preds)):\n",
    "     new_preds.append(preds[i].argmax())\n",
    "print(new_preds[0:20])"
   ]
  },
  {
   "cell_type": "code",
   "execution_count": 71,
   "metadata": {
    "hidden": true
   },
   "outputs": [
    {
     "name": "stdout",
     "output_type": "stream",
     "text": [
      "(0, 0)\n",
      "(0, 0)\n",
      "(0, 0)\n",
      "(2, 2)\n",
      "(1, 1)\n",
      "(1, 1)\n",
      "(0, 0)\n",
      "(0, 0)\n",
      "(1, 1)\n",
      "(1, 1)\n",
      "(0, 0)\n",
      "(2, 2)\n",
      "(2, 2)\n",
      "(2, 2)\n",
      "(1, 1)\n",
      "(1, 1)\n",
      "(0, 0)\n",
      "(1, 1)\n",
      "(1, 1)\n",
      "(2, 2)\n",
      "(1, 1)\n"
     ]
    }
   ],
   "source": [
    "# Print out the actual values against their predicted values\n",
    "index = 0\n",
    "for i in zip(y_real, new_preds):\n",
    "    print(i)\n",
    "    index+=1\n",
    "    if index > 20:\n",
    "        break"
   ]
  },
  {
   "cell_type": "code",
   "execution_count": null,
   "metadata": {
    "hidden": true
   },
   "outputs": [],
   "source": []
  },
  {
   "cell_type": "code",
   "execution_count": null,
   "metadata": {
    "hidden": true
   },
   "outputs": [],
   "source": []
  },
  {
   "cell_type": "code",
   "execution_count": null,
   "metadata": {
    "hidden": true
   },
   "outputs": [],
   "source": []
  },
  {
   "cell_type": "code",
   "execution_count": null,
   "metadata": {
    "hidden": true
   },
   "outputs": [],
   "source": []
  },
  {
   "cell_type": "code",
   "execution_count": null,
   "metadata": {
    "hidden": true
   },
   "outputs": [],
   "source": []
  },
  {
   "cell_type": "markdown",
   "metadata": {},
   "source": [
    "## Modeling over full adult set for 80 epochs"
   ]
  },
  {
   "cell_type": "code",
   "execution_count": 60,
   "metadata": {},
   "outputs": [],
   "source": [
    "# Current Parameters\n",
    "options = 2\n",
    "\n",
    "\n",
    "NUM_IMAGES = adult_data.shape[0]\n",
    "EPOCHS = 200\n",
    "IMAGE_SIZE = (128,128)\n",
    "TRAIN_SIZE = 0.8\n",
    "METRICS = ['accuracy', 'mae']\n",
    "BATCH_SIZE = 10\n",
    "MODEL_OPTIMIZER = 'adam' #'sgd' \n",
    "\n",
    "if options == 2:\n",
    "    CURR_MAP = y_map_2\n",
    "    model_name = 'adult_data_2_options'\n",
    "elif options == 3:\n",
    "    CURR_MAP = y_map_3\n",
    "    model_name = 'adult_data_3_options'\n",
    "else:\n",
    "    raise PnemoniaTargetMapIsWeird('Set \"option\" to 2 or 3')\n"
   ]
  },
  {
   "cell_type": "code",
   "execution_count": 13,
   "metadata": {
    "code_folding": []
   },
   "outputs": [
    {
     "name": "stdout",
     "output_type": "stream",
     "text": [
      "---Enter DataFrame Construction Function---\n",
      "---Create Pixel Array Labels---\n",
      "---Create Total Pixel Array---\n"
     ]
    },
    {
     "data": {
      "application/vnd.jupyter.widget-view+json": {
       "model_id": "3b58417027d447909228e390a4582c88",
       "version_major": 2,
       "version_minor": 0
      },
      "text/plain": [
       "HBox(children=(IntProgress(value=0, max=27537), HTML(value='')))"
      ]
     },
     "metadata": {},
     "output_type": "display_data"
    },
    {
     "name": "stderr",
     "output_type": "stream",
     "text": [
      "/home/ec2-user/anaconda3/envs/py36/lib/python3.6/site-packages/skimage/transform/_warps.py:105: UserWarning: The default mode, 'constant', will be changed to 'reflect' in skimage 0.15.\n",
      "  warn(\"The default mode, 'constant', will be changed to 'reflect' in \"\n",
      "/home/ec2-user/anaconda3/envs/py36/lib/python3.6/site-packages/skimage/transform/_warps.py:110: UserWarning: Anti-aliasing will be enabled by default in skimage 0.15 to avoid aliasing artifacts when down-sampling images.\n",
      "  warn(\"Anti-aliasing will be enabled by default in skimage 0.15 to \"\n"
     ]
    },
    {
     "name": "stdout",
     "output_type": "stream",
     "text": [
      "\n",
      "---Create Dataframe---\n",
      "CPU times: user 8min 35s, sys: 15.3 s, total: 8min 50s\n",
      "Wall time: 8min 57s\n"
     ]
    }
   ],
   "source": [
    "%%time\n",
    "\n",
    "pic_df = create_pic_df(adult_data, df_detailed=df_detailed, image_size=IMAGE_SIZE)"
   ]
  },
  {
   "cell_type": "code",
   "execution_count": 59,
   "metadata": {},
   "outputs": [
    {
     "data": {
      "text/plain": [
       "(27537, 4)"
      ]
     },
     "execution_count": 59,
     "metadata": {},
     "output_type": "execute_result"
    }
   ],
   "source": [
    "adult_data.shape"
   ]
  },
  {
   "cell_type": "code",
   "execution_count": 61,
   "metadata": {
    "scrolled": true
   },
   "outputs": [
    {
     "name": "stdout",
     "output_type": "stream",
     "text": [
      "---Enter Function---\n"
     ]
    },
    {
     "name": "stderr",
     "output_type": "stream",
     "text": [
      "/home/ec2-user/anaconda3/envs/py36/lib/python3.6/site-packages/sklearn/model_selection/_split.py:2026: FutureWarning: From version 0.21, test_size will always complement train_size unless both are specified.\n",
      "  FutureWarning)\n"
     ]
    },
    {
     "name": "stdout",
     "output_type": "stream",
     "text": [
      "---Modeling Initialization---\n",
      "---Modeling Training---\n",
      "Train on 22029 samples, validate on 5508 samples\n",
      "Epoch 1/200\n",
      "22029/22029 [==============================] - 163s 7ms/step - loss: 0.5186 - acc: 0.7517 - mean_absolute_error: 0.3411 - val_loss: 0.4789 - val_acc: 0.7772 - val_mean_absolute_error: 0.3394\n",
      "Epoch 2/200\n",
      "22029/22029 [==============================] - 161s 7ms/step - loss: 0.4877 - acc: 0.7705 - mean_absolute_error: 0.3185 - val_loss: 0.4656 - val_acc: 0.7798 - val_mean_absolute_error: 0.3040\n",
      "Epoch 3/200\n",
      "22029/22029 [==============================] - 161s 7ms/step - loss: 0.4784 - acc: 0.7732 - mean_absolute_error: 0.3112 - val_loss: 0.4696 - val_acc: 0.7789 - val_mean_absolute_error: 0.3082\n",
      "Epoch 4/200\n",
      "22029/22029 [==============================] - 161s 7ms/step - loss: 0.4775 - acc: 0.7765 - mean_absolute_error: 0.3099 - val_loss: 0.4611 - val_acc: 0.7814 - val_mean_absolute_error: 0.3188\n",
      "Epoch 5/200\n",
      "22029/22029 [==============================] - 162s 7ms/step - loss: 0.4707 - acc: 0.7788 - mean_absolute_error: 0.3051 - val_loss: 0.4602 - val_acc: 0.7829 - val_mean_absolute_error: 0.2977\n",
      "Epoch 6/200\n",
      "22029/22029 [==============================] - 162s 7ms/step - loss: 0.4735 - acc: 0.7766 - mean_absolute_error: 0.3071 - val_loss: 0.4594 - val_acc: 0.7827 - val_mean_absolute_error: 0.2760\n",
      "Epoch 7/200\n",
      "22029/22029 [==============================] - 160s 7ms/step - loss: 0.4675 - acc: 0.7808 - mean_absolute_error: 0.3016 - val_loss: 0.4529 - val_acc: 0.7854 - val_mean_absolute_error: 0.2882\n",
      "Epoch 8/200\n",
      "22029/22029 [==============================] - 162s 7ms/step - loss: 0.4693 - acc: 0.7817 - mean_absolute_error: 0.3036 - val_loss: 0.4695 - val_acc: 0.7852 - val_mean_absolute_error: 0.3280\n",
      "Epoch 9/200\n",
      "22029/22029 [==============================] - 162s 7ms/step - loss: 0.4656 - acc: 0.7839 - mean_absolute_error: 0.2999 - val_loss: 0.4642 - val_acc: 0.7740 - val_mean_absolute_error: 0.2938\n",
      "Epoch 10/200\n",
      "22029/22029 [==============================] - 161s 7ms/step - loss: 0.4655 - acc: 0.7848 - mean_absolute_error: 0.2999 - val_loss: 0.4570 - val_acc: 0.7876 - val_mean_absolute_error: 0.3139\n",
      "Epoch 11/200\n",
      "22029/22029 [==============================] - 162s 7ms/step - loss: 0.4566 - acc: 0.7861 - mean_absolute_error: 0.2944 - val_loss: 0.4522 - val_acc: 0.7912 - val_mean_absolute_error: 0.3040\n",
      "Epoch 12/200\n",
      "22029/22029 [==============================] - 161s 7ms/step - loss: 0.4591 - acc: 0.7861 - mean_absolute_error: 0.2957 - val_loss: 0.4534 - val_acc: 0.7874 - val_mean_absolute_error: 0.2992\n",
      "Epoch 13/200\n",
      "22029/22029 [==============================] - 161s 7ms/step - loss: 0.4568 - acc: 0.7910 - mean_absolute_error: 0.2938 - val_loss: 0.4543 - val_acc: 0.7849 - val_mean_absolute_error: 0.2946\n",
      "Epoch 14/200\n",
      "22029/22029 [==============================] - 160s 7ms/step - loss: 0.4548 - acc: 0.7914 - mean_absolute_error: 0.2925 - val_loss: 0.4671 - val_acc: 0.7754 - val_mean_absolute_error: 0.2806\n",
      "Epoch 15/200\n",
      "22029/22029 [==============================] - 161s 7ms/step - loss: 0.4575 - acc: 0.7898 - mean_absolute_error: 0.2945 - val_loss: 0.4494 - val_acc: 0.7872 - val_mean_absolute_error: 0.2974\n",
      "Epoch 16/200\n",
      "22029/22029 [==============================] - 161s 7ms/step - loss: 0.4556 - acc: 0.7915 - mean_absolute_error: 0.2924 - val_loss: 0.4501 - val_acc: 0.7869 - val_mean_absolute_error: 0.3054\n",
      "Epoch 17/200\n",
      "22029/22029 [==============================] - 161s 7ms/step - loss: 0.4515 - acc: 0.7935 - mean_absolute_error: 0.2896 - val_loss: 0.4521 - val_acc: 0.7892 - val_mean_absolute_error: 0.2777\n",
      "Epoch 18/200\n",
      "22029/22029 [==============================] - 162s 7ms/step - loss: 0.4504 - acc: 0.7937 - mean_absolute_error: 0.2890 - val_loss: 0.4559 - val_acc: 0.7959 - val_mean_absolute_error: 0.3197\n",
      "Epoch 19/200\n",
      "22029/22029 [==============================] - 164s 7ms/step - loss: 0.4509 - acc: 0.7957 - mean_absolute_error: 0.2885 - val_loss: 0.4586 - val_acc: 0.7887 - val_mean_absolute_error: 0.2676\n",
      "Epoch 20/200\n",
      "22029/22029 [==============================] - 161s 7ms/step - loss: 0.4493 - acc: 0.7959 - mean_absolute_error: 0.2877 - val_loss: 0.4454 - val_acc: 0.7954 - val_mean_absolute_error: 0.3042\n",
      "Epoch 21/200\n",
      "22029/22029 [==============================] - 162s 7ms/step - loss: 0.4479 - acc: 0.7954 - mean_absolute_error: 0.2869 - val_loss: 0.4513 - val_acc: 0.7850 - val_mean_absolute_error: 0.2806\n",
      "Epoch 22/200\n",
      "22029/22029 [==============================] - 161s 7ms/step - loss: 0.4468 - acc: 0.7987 - mean_absolute_error: 0.2849 - val_loss: 0.4446 - val_acc: 0.7925 - val_mean_absolute_error: 0.2841\n",
      "Epoch 23/200\n",
      "22029/22029 [==============================] - 160s 7ms/step - loss: 0.4496 - acc: 0.7948 - mean_absolute_error: 0.2871 - val_loss: 0.4554 - val_acc: 0.7890 - val_mean_absolute_error: 0.2755\n",
      "Epoch 24/200\n",
      "22029/22029 [==============================] - 162s 7ms/step - loss: 0.4422 - acc: 0.7995 - mean_absolute_error: 0.2824 - val_loss: 0.4519 - val_acc: 0.7887 - val_mean_absolute_error: 0.2784\n",
      "Epoch 25/200\n",
      "22029/22029 [==============================] - 161s 7ms/step - loss: 0.4460 - acc: 0.7982 - mean_absolute_error: 0.2842 - val_loss: 0.4447 - val_acc: 0.7928 - val_mean_absolute_error: 0.2936\n",
      "Epoch 26/200\n",
      "22029/22029 [==============================] - 161s 7ms/step - loss: 0.4432 - acc: 0.8014 - mean_absolute_error: 0.2824 - val_loss: 0.4497 - val_acc: 0.7919 - val_mean_absolute_error: 0.3008\n",
      "Epoch 27/200\n",
      "22029/22029 [==============================] - 162s 7ms/step - loss: 0.4437 - acc: 0.7989 - mean_absolute_error: 0.2830 - val_loss: 0.4439 - val_acc: 0.7910 - val_mean_absolute_error: 0.2839\n",
      "Epoch 28/200\n",
      "22029/22029 [==============================] - 162s 7ms/step - loss: 0.4411 - acc: 0.7987 - mean_absolute_error: 0.2819 - val_loss: 0.4571 - val_acc: 0.7865 - val_mean_absolute_error: 0.2774\n",
      "Epoch 29/200\n",
      "22029/22029 [==============================] - 162s 7ms/step - loss: 0.4453 - acc: 0.8001 - mean_absolute_error: 0.2839 - val_loss: 0.4443 - val_acc: 0.7959 - val_mean_absolute_error: 0.3026\n",
      "Epoch 30/200\n",
      "22029/22029 [==============================] - 162s 7ms/step - loss: 0.4439 - acc: 0.7980 - mean_absolute_error: 0.2832 - val_loss: 0.4430 - val_acc: 0.7963 - val_mean_absolute_error: 0.2859\n",
      "Epoch 31/200\n",
      "22029/22029 [==============================] - 162s 7ms/step - loss: 0.4424 - acc: 0.7998 - mean_absolute_error: 0.2819 - val_loss: 0.4435 - val_acc: 0.7938 - val_mean_absolute_error: 0.2980\n",
      "Epoch 32/200\n",
      "22029/22029 [==============================] - 160s 7ms/step - loss: 0.4428 - acc: 0.8019 - mean_absolute_error: 0.2816 - val_loss: 0.4651 - val_acc: 0.7934 - val_mean_absolute_error: 0.3309\n",
      "Epoch 33/200\n",
      "22029/22029 [==============================] - 161s 7ms/step - loss: 0.4409 - acc: 0.8003 - mean_absolute_error: 0.2803 - val_loss: 0.4493 - val_acc: 0.7925 - val_mean_absolute_error: 0.2966\n",
      "Epoch 34/200\n",
      "22029/22029 [==============================] - 162s 7ms/step - loss: 0.4405 - acc: 0.8030 - mean_absolute_error: 0.2799 - val_loss: 0.4505 - val_acc: 0.7832 - val_mean_absolute_error: 0.3008\n",
      "Epoch 35/200\n",
      "22029/22029 [==============================] - 162s 7ms/step - loss: 0.4382 - acc: 0.8019 - mean_absolute_error: 0.2783 - val_loss: 0.4520 - val_acc: 0.7936 - val_mean_absolute_error: 0.2672\n",
      "Epoch 36/200\n",
      "22029/22029 [==============================] - 163s 7ms/step - loss: 0.4417 - acc: 0.8009 - mean_absolute_error: 0.2806 - val_loss: 0.4420 - val_acc: 0.7963 - val_mean_absolute_error: 0.2950\n",
      "Epoch 37/200\n",
      "22029/22029 [==============================] - 160s 7ms/step - loss: 0.4405 - acc: 0.8009 - mean_absolute_error: 0.2795 - val_loss: 0.4502 - val_acc: 0.7910 - val_mean_absolute_error: 0.3092\n",
      "Epoch 38/200\n",
      "22029/22029 [==============================] - 160s 7ms/step - loss: 0.4358 - acc: 0.8053 - mean_absolute_error: 0.2764 - val_loss: 0.4492 - val_acc: 0.7928 - val_mean_absolute_error: 0.2787\n",
      "Epoch 39/200\n",
      "22029/22029 [==============================] - 161s 7ms/step - loss: 0.4398 - acc: 0.8021 - mean_absolute_error: 0.2782 - val_loss: 0.4416 - val_acc: 0.7974 - val_mean_absolute_error: 0.2833\n",
      "Epoch 40/200\n",
      "22029/22029 [==============================] - 161s 7ms/step - loss: 0.4343 - acc: 0.8038 - mean_absolute_error: 0.2764 - val_loss: 0.4417 - val_acc: 0.7972 - val_mean_absolute_error: 0.2833\n"
     ]
    },
    {
     "name": "stdout",
     "output_type": "stream",
     "text": [
      "Epoch 41/200\n",
      "22029/22029 [==============================] - 162s 7ms/step - loss: 0.4349 - acc: 0.8029 - mean_absolute_error: 0.2761 - val_loss: 0.4450 - val_acc: 0.7925 - val_mean_absolute_error: 0.2845\n",
      "Epoch 42/200\n",
      "22029/22029 [==============================] - 160s 7ms/step - loss: 0.4361 - acc: 0.8053 - mean_absolute_error: 0.2764 - val_loss: 0.4455 - val_acc: 0.7954 - val_mean_absolute_error: 0.3000\n",
      "Epoch 43/200\n",
      "22029/22029 [==============================] - 160s 7ms/step - loss: 0.4366 - acc: 0.8031 - mean_absolute_error: 0.2768 - val_loss: 0.4452 - val_acc: 0.7907 - val_mean_absolute_error: 0.2856\n",
      "Epoch 44/200\n",
      "22029/22029 [==============================] - 161s 7ms/step - loss: 0.4338 - acc: 0.8086 - mean_absolute_error: 0.2755 - val_loss: 0.4447 - val_acc: 0.7943 - val_mean_absolute_error: 0.2731\n",
      "Epoch 45/200\n",
      "22029/22029 [==============================] - 160s 7ms/step - loss: 0.4351 - acc: 0.8058 - mean_absolute_error: 0.2760 - val_loss: 0.4470 - val_acc: 0.7903 - val_mean_absolute_error: 0.3017\n",
      "Epoch 46/200\n",
      "22029/22029 [==============================] - 161s 7ms/step - loss: 0.4365 - acc: 0.8040 - mean_absolute_error: 0.2763 - val_loss: 0.4405 - val_acc: 0.7919 - val_mean_absolute_error: 0.2809\n",
      "Epoch 47/200\n",
      "22029/22029 [==============================] - 163s 7ms/step - loss: 0.4342 - acc: 0.8023 - mean_absolute_error: 0.2759 - val_loss: 0.4519 - val_acc: 0.7972 - val_mean_absolute_error: 0.2672\n",
      "Epoch 48/200\n",
      "22029/22029 [==============================] - 161s 7ms/step - loss: 0.4375 - acc: 0.8062 - mean_absolute_error: 0.2766 - val_loss: 0.4498 - val_acc: 0.7948 - val_mean_absolute_error: 0.3073\n",
      "Epoch 49/200\n",
      "22029/22029 [==============================] - 162s 7ms/step - loss: 0.4305 - acc: 0.8102 - mean_absolute_error: 0.2720 - val_loss: 0.4469 - val_acc: 0.7968 - val_mean_absolute_error: 0.3047\n",
      "Epoch 50/200\n",
      "22029/22029 [==============================] - 162s 7ms/step - loss: 0.4333 - acc: 0.8080 - mean_absolute_error: 0.2737 - val_loss: 0.4406 - val_acc: 0.7954 - val_mean_absolute_error: 0.2880\n",
      "Epoch 51/200\n",
      "22029/22029 [==============================] - 160s 7ms/step - loss: 0.4360 - acc: 0.8034 - mean_absolute_error: 0.2758 - val_loss: 0.4414 - val_acc: 0.7952 - val_mean_absolute_error: 0.2867\n",
      "Epoch 52/200\n",
      "22029/22029 [==============================] - 161s 7ms/step - loss: 0.4299 - acc: 0.8086 - mean_absolute_error: 0.2713 - val_loss: 0.4458 - val_acc: 0.7963 - val_mean_absolute_error: 0.2984\n",
      "Epoch 53/200\n",
      "22029/22029 [==============================] - 162s 7ms/step - loss: 0.4292 - acc: 0.8067 - mean_absolute_error: 0.2714 - val_loss: 0.4395 - val_acc: 0.7983 - val_mean_absolute_error: 0.2849\n",
      "Epoch 54/200\n",
      "22029/22029 [==============================] - 161s 7ms/step - loss: 0.4326 - acc: 0.8119 - mean_absolute_error: 0.2727 - val_loss: 0.4441 - val_acc: 0.7994 - val_mean_absolute_error: 0.2705\n",
      "Epoch 55/200\n",
      "22029/22029 [==============================] - 161s 7ms/step - loss: 0.4323 - acc: 0.8041 - mean_absolute_error: 0.2729 - val_loss: 0.4480 - val_acc: 0.7941 - val_mean_absolute_error: 0.3044\n",
      "Epoch 56/200\n",
      "22029/22029 [==============================] - 162s 7ms/step - loss: 0.4291 - acc: 0.8062 - mean_absolute_error: 0.2722 - val_loss: 0.4402 - val_acc: 0.7961 - val_mean_absolute_error: 0.2786\n",
      "Epoch 57/200\n",
      "22029/22029 [==============================] - 162s 7ms/step - loss: 0.4254 - acc: 0.8108 - mean_absolute_error: 0.2690 - val_loss: 0.4453 - val_acc: 0.7956 - val_mean_absolute_error: 0.3024\n",
      "Epoch 58/200\n",
      "22029/22029 [==============================] - 162s 7ms/step - loss: 0.4279 - acc: 0.8081 - mean_absolute_error: 0.2701 - val_loss: 0.4449 - val_acc: 0.7923 - val_mean_absolute_error: 0.3020\n",
      "Epoch 59/200\n",
      "22029/22029 [==============================] - 161s 7ms/step - loss: 0.4286 - acc: 0.8069 - mean_absolute_error: 0.2710 - val_loss: 0.4434 - val_acc: 0.7925 - val_mean_absolute_error: 0.2912\n",
      "Epoch 60/200\n",
      "22029/22029 [==============================] - 161s 7ms/step - loss: 0.4263 - acc: 0.8099 - mean_absolute_error: 0.2705 - val_loss: 0.4446 - val_acc: 0.7963 - val_mean_absolute_error: 0.2780\n",
      "Epoch 61/200\n",
      "22029/22029 [==============================] - 161s 7ms/step - loss: 0.4294 - acc: 0.8109 - mean_absolute_error: 0.2707 - val_loss: 0.4560 - val_acc: 0.7972 - val_mean_absolute_error: 0.2594\n",
      "Epoch 62/200\n",
      "22029/22029 [==============================] - 160s 7ms/step - loss: 0.4271 - acc: 0.8117 - mean_absolute_error: 0.2691 - val_loss: 0.4422 - val_acc: 0.7976 - val_mean_absolute_error: 0.2917\n",
      "Epoch 63/200\n",
      "22029/22029 [==============================] - 161s 7ms/step - loss: 0.4293 - acc: 0.8092 - mean_absolute_error: 0.2715 - val_loss: 0.4359 - val_acc: 0.7985 - val_mean_absolute_error: 0.2805\n",
      "Epoch 64/200\n",
      "22029/22029 [==============================] - 161s 7ms/step - loss: 0.4248 - acc: 0.8106 - mean_absolute_error: 0.2684 - val_loss: 0.4383 - val_acc: 0.7977 - val_mean_absolute_error: 0.2958\n",
      "Epoch 65/200\n",
      "22029/22029 [==============================] - 160s 7ms/step - loss: 0.4296 - acc: 0.8082 - mean_absolute_error: 0.2703 - val_loss: 0.4417 - val_acc: 0.7981 - val_mean_absolute_error: 0.3001\n",
      "Epoch 66/200\n",
      "22029/22029 [==============================] - 162s 7ms/step - loss: 0.4265 - acc: 0.8101 - mean_absolute_error: 0.2699 - val_loss: 0.4406 - val_acc: 0.7974 - val_mean_absolute_error: 0.2937\n",
      "Epoch 67/200\n",
      "22029/22029 [==============================] - 161s 7ms/step - loss: 0.4248 - acc: 0.8114 - mean_absolute_error: 0.2679 - val_loss: 0.4409 - val_acc: 0.7999 - val_mean_absolute_error: 0.2766\n",
      "Epoch 68/200\n",
      "22029/22029 [==============================] - 159s 7ms/step - loss: 0.4227 - acc: 0.8133 - mean_absolute_error: 0.2655 - val_loss: 0.4403 - val_acc: 0.7979 - val_mean_absolute_error: 0.2914\n",
      "Epoch 69/200\n",
      "22029/22029 [==============================] - 160s 7ms/step - loss: 0.4268 - acc: 0.8136 - mean_absolute_error: 0.2689 - val_loss: 0.4444 - val_acc: 0.7954 - val_mean_absolute_error: 0.2848\n",
      "Epoch 70/200\n",
      "22029/22029 [==============================] - 159s 7ms/step - loss: 0.4269 - acc: 0.8085 - mean_absolute_error: 0.2698 - val_loss: 0.4391 - val_acc: 0.7983 - val_mean_absolute_error: 0.2772\n",
      "Epoch 71/200\n",
      "22029/22029 [==============================] - 160s 7ms/step - loss: 0.4203 - acc: 0.8139 - mean_absolute_error: 0.2646 - val_loss: 0.4531 - val_acc: 0.7965 - val_mean_absolute_error: 0.2602\n",
      "Epoch 72/200\n",
      "22029/22029 [==============================] - 159s 7ms/step - loss: 0.4250 - acc: 0.8095 - mean_absolute_error: 0.2672 - val_loss: 0.4458 - val_acc: 0.7858 - val_mean_absolute_error: 0.3035\n",
      "Epoch 73/200\n",
      "22029/22029 [==============================] - 160s 7ms/step - loss: 0.4241 - acc: 0.8109 - mean_absolute_error: 0.2680 - val_loss: 0.4422 - val_acc: 0.7928 - val_mean_absolute_error: 0.2861\n",
      "Epoch 74/200\n",
      "22029/22029 [==============================] - 160s 7ms/step - loss: 0.4247 - acc: 0.8106 - mean_absolute_error: 0.2677 - val_loss: 0.4398 - val_acc: 0.7947 - val_mean_absolute_error: 0.2898\n",
      "Epoch 75/200\n",
      "22029/22029 [==============================] - 160s 7ms/step - loss: 0.4238 - acc: 0.8136 - mean_absolute_error: 0.2674 - val_loss: 0.4402 - val_acc: 0.8010 - val_mean_absolute_error: 0.2896\n",
      "Epoch 76/200\n",
      "22029/22029 [==============================] - 160s 7ms/step - loss: 0.4281 - acc: 0.8108 - mean_absolute_error: 0.2699 - val_loss: 0.4396 - val_acc: 0.7943 - val_mean_absolute_error: 0.2788\n",
      "Epoch 77/200\n",
      "22029/22029 [==============================] - 160s 7ms/step - loss: 0.4266 - acc: 0.8133 - mean_absolute_error: 0.2682 - val_loss: 0.4407 - val_acc: 0.7950 - val_mean_absolute_error: 0.2829\n",
      "Epoch 78/200\n",
      "22029/22029 [==============================] - 160s 7ms/step - loss: 0.4217 - acc: 0.8127 - mean_absolute_error: 0.2651 - val_loss: 0.4413 - val_acc: 0.8034 - val_mean_absolute_error: 0.2971\n",
      "Epoch 79/200\n",
      "22029/22029 [==============================] - 161s 7ms/step - loss: 0.4244 - acc: 0.8094 - mean_absolute_error: 0.2669 - val_loss: 0.4416 - val_acc: 0.7968 - val_mean_absolute_error: 0.2989\n",
      "Epoch 80/200\n",
      "22029/22029 [==============================] - 161s 7ms/step - loss: 0.4236 - acc: 0.8150 - mean_absolute_error: 0.2663 - val_loss: 0.4448 - val_acc: 0.8010 - val_mean_absolute_error: 0.2592\n",
      "Epoch 81/200\n"
     ]
    },
    {
     "name": "stdout",
     "output_type": "stream",
     "text": [
      "22029/22029 [==============================] - 162s 7ms/step - loss: 0.4232 - acc: 0.8120 - mean_absolute_error: 0.2662 - val_loss: 0.4412 - val_acc: 0.7950 - val_mean_absolute_error: 0.3026\n",
      "Epoch 82/200\n",
      "22029/22029 [==============================] - 162s 7ms/step - loss: 0.4266 - acc: 0.8127 - mean_absolute_error: 0.2686 - val_loss: 0.4407 - val_acc: 0.7981 - val_mean_absolute_error: 0.2985\n",
      "Epoch 83/200\n",
      "22029/22029 [==============================] - 161s 7ms/step - loss: 0.4212 - acc: 0.8135 - mean_absolute_error: 0.2650 - val_loss: 0.4431 - val_acc: 0.7958 - val_mean_absolute_error: 0.2794\n",
      "Epoch 84/200\n",
      "22029/22029 [==============================] - 162s 7ms/step - loss: 0.4282 - acc: 0.8132 - mean_absolute_error: 0.2682 - val_loss: 0.4414 - val_acc: 0.7994 - val_mean_absolute_error: 0.2958\n",
      "Epoch 85/200\n",
      "22029/22029 [==============================] - 161s 7ms/step - loss: 0.4239 - acc: 0.8135 - mean_absolute_error: 0.2666 - val_loss: 0.4364 - val_acc: 0.8001 - val_mean_absolute_error: 0.2816\n",
      "Epoch 86/200\n",
      "22029/22029 [==============================] - 162s 7ms/step - loss: 0.4189 - acc: 0.8165 - mean_absolute_error: 0.2631 - val_loss: 0.4433 - val_acc: 0.8016 - val_mean_absolute_error: 0.3059\n",
      "Epoch 87/200\n",
      "22029/22029 [==============================] - 161s 7ms/step - loss: 0.4177 - acc: 0.8174 - mean_absolute_error: 0.2618 - val_loss: 0.4354 - val_acc: 0.8016 - val_mean_absolute_error: 0.2729\n",
      "Epoch 88/200\n",
      "22029/22029 [==============================] - 161s 7ms/step - loss: 0.4203 - acc: 0.8170 - mean_absolute_error: 0.2638 - val_loss: 0.4430 - val_acc: 0.8025 - val_mean_absolute_error: 0.2704\n",
      "Epoch 89/200\n",
      "22029/22029 [==============================] - 161s 7ms/step - loss: 0.4202 - acc: 0.8157 - mean_absolute_error: 0.2638 - val_loss: 0.4345 - val_acc: 0.8005 - val_mean_absolute_error: 0.2752\n",
      "Epoch 91/200\n",
      "15240/22029 [===================>..........] - ETA: 46s - loss: 0.4207 - acc: 0.8151 - mean_absolute_error: 0.2630"
     ]
    },
    {
     "name": "stderr",
     "output_type": "stream",
     "text": [
      "IOPub message rate exceeded.\n",
      "The notebook server will temporarily stop sending output\n",
      "to the client in order to avoid crashing it.\n",
      "To change this limit, set the config variable\n",
      "`--NotebookApp.iopub_msg_rate_limit`.\n",
      "\n",
      "Current values:\n",
      "NotebookApp.iopub_msg_rate_limit=1000.0 (msgs/sec)\n",
      "NotebookApp.rate_limit_window=3.0 (secs)\n",
      "\n"
     ]
    },
    {
     "name": "stdout",
     "output_type": "stream",
     "text": [
      "22029/22029 [==============================] - 160s 7ms/step - loss: 0.4203 - acc: 0.8148 - mean_absolute_error: 0.2643 - val_loss: 0.4338 - val_acc: 0.7985 - val_mean_absolute_error: 0.2828\n",
      "Epoch 94/200\n",
      "13870/22029 [=================>............] - ETA: 55s - loss: 0.4197 - acc: 0.8148 - mean_absolute_error: 0.2637"
     ]
    },
    {
     "name": "stderr",
     "output_type": "stream",
     "text": [
      "IOPub message rate exceeded.\n",
      "The notebook server will temporarily stop sending output\n",
      "to the client in order to avoid crashing it.\n",
      "To change this limit, set the config variable\n",
      "`--NotebookApp.iopub_msg_rate_limit`.\n",
      "\n",
      "Current values:\n",
      "NotebookApp.iopub_msg_rate_limit=1000.0 (msgs/sec)\n",
      "NotebookApp.rate_limit_window=3.0 (secs)\n",
      "\n"
     ]
    },
    {
     "name": "stdout",
     "output_type": "stream",
     "text": [
      "22029/22029 [==============================] - 160s 7ms/step - loss: 0.4155 - acc: 0.8209 - mean_absolute_error: 0.2603 - val_loss: 0.4401 - val_acc: 0.7992 - val_mean_absolute_error: 0.2975\n",
      "Epoch 96/200\n",
      "22029/22029 [==============================] - 160s 7ms/step - loss: 0.4172 - acc: 0.8167 - mean_absolute_error: 0.2613 - val_loss: 0.4380 - val_acc: 0.8050 - val_mean_absolute_error: 0.2637\n",
      "Epoch 97/200\n",
      " 5400/22029 [======>.......................] - ETA: 1:52 - loss: 0.4183 - acc: 0.8176 - mean_absolute_error: 0.2620"
     ]
    },
    {
     "name": "stderr",
     "output_type": "stream",
     "text": [
      "IOPub message rate exceeded.\n",
      "The notebook server will temporarily stop sending output\n",
      "to the client in order to avoid crashing it.\n",
      "To change this limit, set the config variable\n",
      "`--NotebookApp.iopub_msg_rate_limit`.\n",
      "\n",
      "Current values:\n",
      "NotebookApp.iopub_msg_rate_limit=1000.0 (msgs/sec)\n",
      "NotebookApp.rate_limit_window=3.0 (secs)\n",
      "\n"
     ]
    },
    {
     "name": "stdout",
     "output_type": "stream",
     "text": [
      "22029/22029 [==============================] - 160s 7ms/step - loss: 0.4166 - acc: 0.8169 - mean_absolute_error: 0.2610 - val_loss: 0.4401 - val_acc: 0.7939 - val_mean_absolute_error: 0.2951\n",
      "Epoch 99/200\n",
      "22029/22029 [==============================] - 162s 7ms/step - loss: 0.4234 - acc: 0.8123 - mean_absolute_error: 0.2656 - val_loss: 0.4460 - val_acc: 0.8027 - val_mean_absolute_error: 0.2576\n",
      "Epoch 100/200\n",
      " 3640/22029 [===>..........................] - ETA: 2:07 - loss: 0.4127 - acc: 0.8234 - mean_absolute_error: 0.2570"
     ]
    },
    {
     "name": "stderr",
     "output_type": "stream",
     "text": [
      "IOPub message rate exceeded.\n",
      "The notebook server will temporarily stop sending output\n",
      "to the client in order to avoid crashing it.\n",
      "To change this limit, set the config variable\n",
      "`--NotebookApp.iopub_msg_rate_limit`.\n",
      "\n",
      "Current values:\n",
      "NotebookApp.iopub_msg_rate_limit=1000.0 (msgs/sec)\n",
      "NotebookApp.rate_limit_window=3.0 (secs)\n",
      "\n"
     ]
    },
    {
     "name": "stdout",
     "output_type": "stream",
     "text": [
      "22029/22029 [==============================] - 160s 7ms/step - loss: 0.4122 - acc: 0.8205 - mean_absolute_error: 0.2580 - val_loss: 0.4322 - val_acc: 0.8052 - val_mean_absolute_error: 0.2859\n",
      "Epoch 102/200\n",
      "22029/22029 [==============================] - 161s 7ms/step - loss: 0.4160 - acc: 0.8182 - mean_absolute_error: 0.2607 - val_loss: 0.4398 - val_acc: 0.7990 - val_mean_absolute_error: 0.2787\n",
      "Epoch 103/200\n",
      " 2670/22029 [==>...........................] - ETA: 2:10 - loss: 0.4176 - acc: 0.8217 - mean_absolute_error: 0.2636"
     ]
    },
    {
     "name": "stderr",
     "output_type": "stream",
     "text": [
      "IOPub message rate exceeded.\n",
      "The notebook server will temporarily stop sending output\n",
      "to the client in order to avoid crashing it.\n",
      "To change this limit, set the config variable\n",
      "`--NotebookApp.iopub_msg_rate_limit`.\n",
      "\n",
      "Current values:\n",
      "NotebookApp.iopub_msg_rate_limit=1000.0 (msgs/sec)\n",
      "NotebookApp.rate_limit_window=3.0 (secs)\n",
      "\n"
     ]
    },
    {
     "name": "stdout",
     "output_type": "stream",
     "text": [
      "22029/22029 [==============================] - 161s 7ms/step - loss: 0.4146 - acc: 0.8179 - mean_absolute_error: 0.2599 - val_loss: 0.4407 - val_acc: 0.7968 - val_mean_absolute_error: 0.2963\n",
      "Epoch 105/200\n",
      " 8340/22029 [==========>...................] - ETA: 1:32 - loss: 0.4141 - acc: 0.8212 - mean_absolute_error: 0.2577"
     ]
    },
    {
     "name": "stderr",
     "output_type": "stream",
     "text": [
      "IOPub message rate exceeded.\n",
      "The notebook server will temporarily stop sending output\n",
      "to the client in order to avoid crashing it.\n",
      "To change this limit, set the config variable\n",
      "`--NotebookApp.iopub_msg_rate_limit`.\n",
      "\n",
      "Current values:\n",
      "NotebookApp.iopub_msg_rate_limit=1000.0 (msgs/sec)\n",
      "NotebookApp.rate_limit_window=3.0 (secs)\n",
      "\n"
     ]
    },
    {
     "name": "stdout",
     "output_type": "stream",
     "text": [
      "22029/22029 [==============================] - 161s 7ms/step - loss: 0.4181 - acc: 0.8181 - mean_absolute_error: 0.2620 - val_loss: 0.4381 - val_acc: 0.8063 - val_mean_absolute_error: 0.2643\n",
      "Epoch 107/200\n",
      "12140/22029 [===============>..............] - ETA: 1:07 - loss: 0.4240 - acc: 0.8150 - mean_absolute_error: 0.2630"
     ]
    },
    {
     "name": "stderr",
     "output_type": "stream",
     "text": [
      "IOPub message rate exceeded.\n",
      "The notebook server will temporarily stop sending output\n",
      "to the client in order to avoid crashing it.\n",
      "To change this limit, set the config variable\n",
      "`--NotebookApp.iopub_msg_rate_limit`.\n",
      "\n",
      "Current values:\n",
      "NotebookApp.iopub_msg_rate_limit=1000.0 (msgs/sec)\n",
      "NotebookApp.rate_limit_window=3.0 (secs)\n",
      "\n"
     ]
    },
    {
     "name": "stdout",
     "output_type": "stream",
     "text": [
      "22029/22029 [==============================] - 162s 7ms/step - loss: 0.4183 - acc: 0.8174 - mean_absolute_error: 0.2617 - val_loss: 0.4361 - val_acc: 0.7981 - val_mean_absolute_error: 0.2720\n",
      "Epoch 109/200\n",
      "15400/22029 [===================>..........] - ETA: 45s - loss: 0.4169 - acc: 0.8155 - mean_absolute_error: 0.2611"
     ]
    },
    {
     "name": "stderr",
     "output_type": "stream",
     "text": [
      "IOPub message rate exceeded.\n",
      "The notebook server will temporarily stop sending output\n",
      "to the client in order to avoid crashing it.\n",
      "To change this limit, set the config variable\n",
      "`--NotebookApp.iopub_msg_rate_limit`.\n",
      "\n",
      "Current values:\n",
      "NotebookApp.iopub_msg_rate_limit=1000.0 (msgs/sec)\n",
      "NotebookApp.rate_limit_window=3.0 (secs)\n",
      "\n"
     ]
    },
    {
     "name": "stdout",
     "output_type": "stream",
     "text": [
      "22029/22029 [==============================] - 162s 7ms/step - loss: 0.4106 - acc: 0.8202 - mean_absolute_error: 0.2566 - val_loss: 0.4374 - val_acc: 0.8003 - val_mean_absolute_error: 0.2839\n",
      "Epoch 111/200\n",
      "19180/22029 [=========================>....] - ETA: 19s - loss: 0.4167 - acc: 0.8213 - mean_absolute_error: 0.2600"
     ]
    },
    {
     "name": "stderr",
     "output_type": "stream",
     "text": [
      "IOPub message rate exceeded.\n",
      "The notebook server will temporarily stop sending output\n",
      "to the client in order to avoid crashing it.\n",
      "To change this limit, set the config variable\n",
      "`--NotebookApp.iopub_msg_rate_limit`.\n",
      "\n",
      "Current values:\n",
      "NotebookApp.iopub_msg_rate_limit=1000.0 (msgs/sec)\n",
      "NotebookApp.rate_limit_window=3.0 (secs)\n",
      "\n"
     ]
    },
    {
     "name": "stdout",
     "output_type": "stream",
     "text": [
      "22029/22029 [==============================] - 162s 7ms/step - loss: 0.4147 - acc: 0.8183 - mean_absolute_error: 0.2601 - val_loss: 0.4515 - val_acc: 0.7874 - val_mean_absolute_error: 0.3106\n",
      "Epoch 113/200\n",
      "16810/22029 [=====================>........] - ETA: 35s - loss: 0.4116 - acc: 0.8205 - mean_absolute_error: 0.2572"
     ]
    },
    {
     "name": "stderr",
     "output_type": "stream",
     "text": [
      "IOPub message rate exceeded.\n",
      "The notebook server will temporarily stop sending output\n",
      "to the client in order to avoid crashing it.\n",
      "To change this limit, set the config variable\n",
      "`--NotebookApp.iopub_msg_rate_limit`.\n",
      "\n",
      "Current values:\n",
      "NotebookApp.iopub_msg_rate_limit=1000.0 (msgs/sec)\n",
      "NotebookApp.rate_limit_window=3.0 (secs)\n",
      "\n"
     ]
    },
    {
     "name": "stdout",
     "output_type": "stream",
     "text": [
      "22029/22029 [==============================] - 161s 7ms/step - loss: 0.4149 - acc: 0.8209 - mean_absolute_error: 0.2590 - val_loss: 0.4444 - val_acc: 0.7972 - val_mean_absolute_error: 0.3070\n",
      "Epoch 115/200\n",
      "20960/22029 [===========================>..] - ETA: 7s - loss: 0.4116 - acc: 0.8217 - mean_absolute_error: 0.2572"
     ]
    },
    {
     "name": "stderr",
     "output_type": "stream",
     "text": [
      "IOPub message rate exceeded.\n",
      "The notebook server will temporarily stop sending output\n",
      "to the client in order to avoid crashing it.\n",
      "To change this limit, set the config variable\n",
      "`--NotebookApp.iopub_msg_rate_limit`.\n",
      "\n",
      "Current values:\n",
      "NotebookApp.iopub_msg_rate_limit=1000.0 (msgs/sec)\n",
      "NotebookApp.rate_limit_window=3.0 (secs)\n",
      "\n"
     ]
    },
    {
     "name": "stdout",
     "output_type": "stream",
     "text": [
      "22029/22029 [==============================] - 161s 7ms/step - loss: 0.4105 - acc: 0.8223 - mean_absolute_error: 0.2554 - val_loss: 0.4438 - val_acc: 0.7934 - val_mean_absolute_error: 0.2889\n",
      "Epoch 117/200\n",
      "22029/22029 [==============================] - 161s 7ms/step - loss: 0.4087 - acc: 0.8205 - mean_absolute_error: 0.2556 - val_loss: 0.4398 - val_acc: 0.7977 - val_mean_absolute_error: 0.2935\n",
      "Epoch 118/200\n",
      " 1840/22029 [=>............................] - ETA: 2:17 - loss: 0.4086 - acc: 0.8147 - mean_absolute_error: 0.2573"
     ]
    },
    {
     "name": "stderr",
     "output_type": "stream",
     "text": [
      "IOPub message rate exceeded.\n",
      "The notebook server will temporarily stop sending output\n",
      "to the client in order to avoid crashing it.\n",
      "To change this limit, set the config variable\n",
      "`--NotebookApp.iopub_msg_rate_limit`.\n",
      "\n",
      "Current values:\n",
      "NotebookApp.iopub_msg_rate_limit=1000.0 (msgs/sec)\n",
      "NotebookApp.rate_limit_window=3.0 (secs)\n",
      "\n"
     ]
    },
    {
     "name": "stdout",
     "output_type": "stream",
     "text": [
      "22029/22029 [==============================] - 162s 7ms/step - loss: 0.4129 - acc: 0.8192 - mean_absolute_error: 0.2579 - val_loss: 0.4337 - val_acc: 0.8048 - val_mean_absolute_error: 0.2752\n",
      "Epoch 119/200\n",
      "22029/22029 [==============================] - 164s 7ms/step - loss: 0.4139 - acc: 0.8183 - mean_absolute_error: 0.2588 - val_loss: 0.4451 - val_acc: 0.7923 - val_mean_absolute_error: 0.2838\n",
      "Epoch 120/200\n",
      " 5840/22029 [======>.......................] - ETA: 1:51 - loss: 0.4084 - acc: 0.8212 - mean_absolute_error: 0.2545"
     ]
    },
    {
     "name": "stderr",
     "output_type": "stream",
     "text": [
      "IOPub message rate exceeded.\n",
      "The notebook server will temporarily stop sending output\n",
      "to the client in order to avoid crashing it.\n",
      "To change this limit, set the config variable\n",
      "`--NotebookApp.iopub_msg_rate_limit`.\n",
      "\n",
      "Current values:\n",
      "NotebookApp.iopub_msg_rate_limit=1000.0 (msgs/sec)\n",
      "NotebookApp.rate_limit_window=3.0 (secs)\n",
      "\n"
     ]
    },
    {
     "name": "stdout",
     "output_type": "stream",
     "text": [
      "22029/22029 [==============================] - 161s 7ms/step - loss: 0.4101 - acc: 0.8204 - mean_absolute_error: 0.2572 - val_loss: 0.4376 - val_acc: 0.8014 - val_mean_absolute_error: 0.2733\n",
      "Epoch 122/200\n",
      " 8480/22029 [==========>...................] - ETA: 1:33 - loss: 0.4156 - acc: 0.8172 - mean_absolute_error: 0.2606"
     ]
    },
    {
     "name": "stderr",
     "output_type": "stream",
     "text": [
      "IOPub message rate exceeded.\n",
      "The notebook server will temporarily stop sending output\n",
      "to the client in order to avoid crashing it.\n",
      "To change this limit, set the config variable\n",
      "`--NotebookApp.iopub_msg_rate_limit`.\n",
      "\n",
      "Current values:\n",
      "NotebookApp.iopub_msg_rate_limit=1000.0 (msgs/sec)\n",
      "NotebookApp.rate_limit_window=3.0 (secs)\n",
      "\n"
     ]
    },
    {
     "name": "stdout",
     "output_type": "stream",
     "text": [
      "22029/22029 [==============================] - 162s 7ms/step - loss: 0.4160 - acc: 0.8173 - mean_absolute_error: 0.2602 - val_loss: 0.4415 - val_acc: 0.8030 - val_mean_absolute_error: 0.3047\n",
      "Epoch 123/200\n",
      "22029/22029 [==============================] - 162s 7ms/step - loss: 0.4144 - acc: 0.8199 - mean_absolute_error: 0.2590 - val_loss: 0.4462 - val_acc: 0.7941 - val_mean_absolute_error: 0.3093\n",
      "Epoch 124/200\n",
      " 4230/22029 [====>.........................] - ETA: 2:01 - loss: 0.4174 - acc: 0.8151 - mean_absolute_error: 0.2634"
     ]
    },
    {
     "name": "stderr",
     "output_type": "stream",
     "text": [
      "IOPub message rate exceeded.\n",
      "The notebook server will temporarily stop sending output\n",
      "to the client in order to avoid crashing it.\n",
      "To change this limit, set the config variable\n",
      "`--NotebookApp.iopub_msg_rate_limit`.\n",
      "\n",
      "Current values:\n",
      "NotebookApp.iopub_msg_rate_limit=1000.0 (msgs/sec)\n",
      "NotebookApp.rate_limit_window=3.0 (secs)\n",
      "\n"
     ]
    },
    {
     "name": "stdout",
     "output_type": "stream",
     "text": [
      "22029/22029 [==============================] - 161s 7ms/step - loss: 0.4123 - acc: 0.8229 - mean_absolute_error: 0.2567 - val_loss: 0.4570 - val_acc: 0.7912 - val_mean_absolute_error: 0.3201\n",
      "Epoch 126/200\n",
      " 7870/22029 [=========>....................] - ETA: 1:35 - loss: 0.4170 - acc: 0.8154 - mean_absolute_error: 0.2608"
     ]
    },
    {
     "name": "stderr",
     "output_type": "stream",
     "text": [
      "IOPub message rate exceeded.\n",
      "The notebook server will temporarily stop sending output\n",
      "to the client in order to avoid crashing it.\n",
      "To change this limit, set the config variable\n",
      "`--NotebookApp.iopub_msg_rate_limit`.\n",
      "\n",
      "Current values:\n",
      "NotebookApp.iopub_msg_rate_limit=1000.0 (msgs/sec)\n",
      "NotebookApp.rate_limit_window=3.0 (secs)\n",
      "\n"
     ]
    },
    {
     "name": "stdout",
     "output_type": "stream",
     "text": [
      "22029/22029 [==============================] - 161s 7ms/step - loss: 0.4067 - acc: 0.8218 - mean_absolute_error: 0.2548 - val_loss: 0.4423 - val_acc: 0.7958 - val_mean_absolute_error: 0.3035\n",
      "Epoch 128/200\n",
      "10920/22029 [=============>................] - ETA: 1:15 - loss: 0.4045 - acc: 0.8231 - mean_absolute_error: 0.2520"
     ]
    },
    {
     "name": "stderr",
     "output_type": "stream",
     "text": [
      "IOPub message rate exceeded.\n",
      "The notebook server will temporarily stop sending output\n",
      "to the client in order to avoid crashing it.\n",
      "To change this limit, set the config variable\n",
      "`--NotebookApp.iopub_msg_rate_limit`.\n",
      "\n",
      "Current values:\n",
      "NotebookApp.iopub_msg_rate_limit=1000.0 (msgs/sec)\n",
      "NotebookApp.rate_limit_window=3.0 (secs)\n",
      "\n"
     ]
    },
    {
     "name": "stdout",
     "output_type": "stream",
     "text": [
      "22029/22029 [==============================] - 162s 7ms/step - loss: 0.4122 - acc: 0.8197 - mean_absolute_error: 0.2558 - val_loss: 0.4443 - val_acc: 0.7994 - val_mean_absolute_error: 0.2804\n",
      "Epoch 130/200\n",
      "14540/22029 [==================>...........] - ETA: 50s - loss: 0.4079 - acc: 0.8232 - mean_absolute_error: 0.2546"
     ]
    },
    {
     "name": "stderr",
     "output_type": "stream",
     "text": [
      "IOPub message rate exceeded.\n",
      "The notebook server will temporarily stop sending output\n",
      "to the client in order to avoid crashing it.\n",
      "To change this limit, set the config variable\n",
      "`--NotebookApp.iopub_msg_rate_limit`.\n",
      "\n",
      "Current values:\n",
      "NotebookApp.iopub_msg_rate_limit=1000.0 (msgs/sec)\n",
      "NotebookApp.rate_limit_window=3.0 (secs)\n",
      "\n"
     ]
    },
    {
     "name": "stdout",
     "output_type": "stream",
     "text": [
      "22029/22029 [==============================] - 161s 7ms/step - loss: 0.4106 - acc: 0.8224 - mean_absolute_error: 0.2567 - val_loss: 0.4388 - val_acc: 0.7963 - val_mean_absolute_error: 0.2857\n",
      "Epoch 132/200\n",
      "18740/22029 [========================>.....] - ETA: 22s - loss: 0.4145 - acc: 0.8193 - mean_absolute_error: 0.2590"
     ]
    },
    {
     "name": "stderr",
     "output_type": "stream",
     "text": [
      "IOPub message rate exceeded.\n",
      "The notebook server will temporarily stop sending output\n",
      "to the client in order to avoid crashing it.\n",
      "To change this limit, set the config variable\n",
      "`--NotebookApp.iopub_msg_rate_limit`.\n",
      "\n",
      "Current values:\n",
      "NotebookApp.iopub_msg_rate_limit=1000.0 (msgs/sec)\n",
      "NotebookApp.rate_limit_window=3.0 (secs)\n",
      "\n"
     ]
    },
    {
     "name": "stdout",
     "output_type": "stream",
     "text": [
      "22029/22029 [==============================] - 162s 7ms/step - loss: 0.4114 - acc: 0.8202 - mean_absolute_error: 0.2570 - val_loss: 0.4351 - val_acc: 0.8043 - val_mean_absolute_error: 0.2979\n",
      "Epoch 134/200\n",
      "21900/22029 [============================>.] - ETA: 0s - loss: 0.4107 - acc: 0.8227 - mean_absolute_error: 0.2560"
     ]
    },
    {
     "name": "stderr",
     "output_type": "stream",
     "text": [
      "IOPub message rate exceeded.\n",
      "The notebook server will temporarily stop sending output\n",
      "to the client in order to avoid crashing it.\n",
      "To change this limit, set the config variable\n",
      "`--NotebookApp.iopub_msg_rate_limit`.\n",
      "\n",
      "Current values:\n",
      "NotebookApp.iopub_msg_rate_limit=1000.0 (msgs/sec)\n",
      "NotebookApp.rate_limit_window=3.0 (secs)\n",
      "\n"
     ]
    },
    {
     "name": "stdout",
     "output_type": "stream",
     "text": [
      "22029/22029 [==============================] - 161s 7ms/step - loss: 0.4116 - acc: 0.8221 - mean_absolute_error: 0.2566 - val_loss: 0.4432 - val_acc: 0.8019 - val_mean_absolute_error: 0.3077\n",
      "Epoch 137/200\n",
      "11810/22029 [===============>..............] - ETA: 1:09 - loss: 0.4066 - acc: 0.8268 - mean_absolute_error: 0.2533"
     ]
    },
    {
     "name": "stderr",
     "output_type": "stream",
     "text": [
      "IOPub message rate exceeded.\n",
      "The notebook server will temporarily stop sending output\n",
      "to the client in order to avoid crashing it.\n",
      "To change this limit, set the config variable\n",
      "`--NotebookApp.iopub_msg_rate_limit`.\n",
      "\n",
      "Current values:\n",
      "NotebookApp.iopub_msg_rate_limit=1000.0 (msgs/sec)\n",
      "NotebookApp.rate_limit_window=3.0 (secs)\n",
      "\n"
     ]
    },
    {
     "name": "stdout",
     "output_type": "stream",
     "text": [
      "22029/22029 [==============================] - 161s 7ms/step - loss: 0.4117 - acc: 0.8200 - mean_absolute_error: 0.2570 - val_loss: 0.4472 - val_acc: 0.7896 - val_mean_absolute_error: 0.2983\n",
      "Epoch 139/200\n",
      "22029/22029 [==============================] - 162s 7ms/step - loss: 0.4142 - acc: 0.8218 - mean_absolute_error: 0.2574 - val_loss: 0.4323 - val_acc: 0.7992 - val_mean_absolute_error: 0.2768\n",
      "Epoch 140/200\n",
      " 3980/22029 [====>.........................] - ETA: 2:04 - loss: 0.3992 - acc: 0.8281 - mean_absolute_error: 0.2507"
     ]
    },
    {
     "name": "stderr",
     "output_type": "stream",
     "text": [
      "IOPub message rate exceeded.\n",
      "The notebook server will temporarily stop sending output\n",
      "to the client in order to avoid crashing it.\n",
      "To change this limit, set the config variable\n",
      "`--NotebookApp.iopub_msg_rate_limit`.\n",
      "\n",
      "Current values:\n",
      "NotebookApp.iopub_msg_rate_limit=1000.0 (msgs/sec)\n",
      "NotebookApp.rate_limit_window=3.0 (secs)\n",
      "\n"
     ]
    },
    {
     "name": "stdout",
     "output_type": "stream",
     "text": [
      "22029/22029 [==============================] - 162s 7ms/step - loss: 0.4104 - acc: 0.8213 - mean_absolute_error: 0.2569 - val_loss: 0.4359 - val_acc: 0.7999 - val_mean_absolute_error: 0.2805\n",
      "Epoch 141/200\n",
      "22029/22029 [==============================] - 161s 7ms/step - loss: 0.4074 - acc: 0.8237 - mean_absolute_error: 0.2542 - val_loss: 0.4286 - val_acc: 0.8065 - val_mean_absolute_error: 0.2694\n",
      "Epoch 142/200\n",
      " 6930/22029 [========>.....................] - ETA: 1:44 - loss: 0.4181 - acc: 0.8185 - mean_absolute_error: 0.2590"
     ]
    },
    {
     "name": "stderr",
     "output_type": "stream",
     "text": [
      "IOPub message rate exceeded.\n",
      "The notebook server will temporarily stop sending output\n",
      "to the client in order to avoid crashing it.\n",
      "To change this limit, set the config variable\n",
      "`--NotebookApp.iopub_msg_rate_limit`.\n",
      "\n",
      "Current values:\n",
      "NotebookApp.iopub_msg_rate_limit=1000.0 (msgs/sec)\n",
      "NotebookApp.rate_limit_window=3.0 (secs)\n",
      "\n"
     ]
    },
    {
     "name": "stdout",
     "output_type": "stream",
     "text": [
      "22029/22029 [==============================] - 162s 7ms/step - loss: 0.4103 - acc: 0.8226 - mean_absolute_error: 0.2549 - val_loss: 0.4446 - val_acc: 0.8008 - val_mean_absolute_error: 0.2845\n",
      "Epoch 144/200\n",
      "10370/22029 [=============>................] - ETA: 1:19 - loss: 0.4071 - acc: 0.8255 - mean_absolute_error: 0.2543"
     ]
    },
    {
     "name": "stderr",
     "output_type": "stream",
     "text": [
      "IOPub message rate exceeded.\n",
      "The notebook server will temporarily stop sending output\n",
      "to the client in order to avoid crashing it.\n",
      "To change this limit, set the config variable\n",
      "`--NotebookApp.iopub_msg_rate_limit`.\n",
      "\n",
      "Current values:\n",
      "NotebookApp.iopub_msg_rate_limit=1000.0 (msgs/sec)\n",
      "NotebookApp.rate_limit_window=3.0 (secs)\n",
      "\n"
     ]
    },
    {
     "name": "stdout",
     "output_type": "stream",
     "text": [
      "22029/22029 [==============================] - 161s 7ms/step - loss: 0.4036 - acc: 0.8245 - mean_absolute_error: 0.2509 - val_loss: 0.4329 - val_acc: 0.8027 - val_mean_absolute_error: 0.2762\n",
      "Epoch 146/200\n",
      "14410/22029 [==================>...........] - ETA: 51s - loss: 0.4060 - acc: 0.8259 - mean_absolute_error: 0.2524"
     ]
    },
    {
     "name": "stderr",
     "output_type": "stream",
     "text": [
      "IOPub message rate exceeded.\n",
      "The notebook server will temporarily stop sending output\n",
      "to the client in order to avoid crashing it.\n",
      "To change this limit, set the config variable\n",
      "`--NotebookApp.iopub_msg_rate_limit`.\n",
      "\n",
      "Current values:\n",
      "NotebookApp.iopub_msg_rate_limit=1000.0 (msgs/sec)\n",
      "NotebookApp.rate_limit_window=3.0 (secs)\n",
      "\n"
     ]
    },
    {
     "name": "stdout",
     "output_type": "stream",
     "text": [
      "22029/22029 [==============================] - 162s 7ms/step - loss: 0.4126 - acc: 0.8193 - mean_absolute_error: 0.2580 - val_loss: 0.4385 - val_acc: 0.8016 - val_mean_absolute_error: 0.2758\n",
      "Epoch 148/200\n",
      "18780/22029 [========================>.....] - ETA: 22s - loss: 0.4065 - acc: 0.8238 - mean_absolute_error: 0.2539"
     ]
    },
    {
     "name": "stderr",
     "output_type": "stream",
     "text": [
      "IOPub message rate exceeded.\n",
      "The notebook server will temporarily stop sending output\n",
      "to the client in order to avoid crashing it.\n",
      "To change this limit, set the config variable\n",
      "`--NotebookApp.iopub_msg_rate_limit`.\n",
      "\n",
      "Current values:\n",
      "NotebookApp.iopub_msg_rate_limit=1000.0 (msgs/sec)\n",
      "NotebookApp.rate_limit_window=3.0 (secs)\n",
      "\n"
     ]
    },
    {
     "name": "stdout",
     "output_type": "stream",
     "text": [
      "22029/22029 [==============================] - 162s 7ms/step - loss: 0.4038 - acc: 0.8271 - mean_absolute_error: 0.2515 - val_loss: 0.4297 - val_acc: 0.8037 - val_mean_absolute_error: 0.2754\n",
      "Epoch 150/200\n",
      "21670/22029 [============================>.] - ETA: 2s - loss: 0.4070 - acc: 0.8234 - mean_absolute_error: 0.2525"
     ]
    },
    {
     "name": "stderr",
     "output_type": "stream",
     "text": [
      "IOPub message rate exceeded.\n",
      "The notebook server will temporarily stop sending output\n",
      "to the client in order to avoid crashing it.\n",
      "To change this limit, set the config variable\n",
      "`--NotebookApp.iopub_msg_rate_limit`.\n",
      "\n",
      "Current values:\n",
      "NotebookApp.iopub_msg_rate_limit=1000.0 (msgs/sec)\n",
      "NotebookApp.rate_limit_window=3.0 (secs)\n",
      "\n"
     ]
    },
    {
     "name": "stdout",
     "output_type": "stream",
     "text": [
      "22029/22029 [==============================] - 162s 7ms/step - loss: 0.4054 - acc: 0.8247 - mean_absolute_error: 0.2532 - val_loss: 0.4361 - val_acc: 0.8036 - val_mean_absolute_error: 0.2914\n",
      "Epoch 152/200\n",
      "22029/22029 [==============================] - 163s 7ms/step - loss: 0.4065 - acc: 0.8245 - mean_absolute_error: 0.2527 - val_loss: 0.4396 - val_acc: 0.8030 - val_mean_absolute_error: 0.3032\n",
      "Epoch 153/200\n",
      " 3530/22029 [===>..........................] - ETA: 2:06 - loss: 0.4108 - acc: 0.8193 - mean_absolute_error: 0.2580"
     ]
    },
    {
     "name": "stderr",
     "output_type": "stream",
     "text": [
      "IOPub message rate exceeded.\n",
      "The notebook server will temporarily stop sending output\n",
      "to the client in order to avoid crashing it.\n",
      "To change this limit, set the config variable\n",
      "`--NotebookApp.iopub_msg_rate_limit`.\n",
      "\n",
      "Current values:\n",
      "NotebookApp.iopub_msg_rate_limit=1000.0 (msgs/sec)\n",
      "NotebookApp.rate_limit_window=3.0 (secs)\n",
      "\n"
     ]
    },
    {
     "name": "stdout",
     "output_type": "stream",
     "text": [
      "22029/22029 [==============================] - 163s 7ms/step - loss: 0.4024 - acc: 0.8261 - mean_absolute_error: 0.2517 - val_loss: 0.4342 - val_acc: 0.7954 - val_mean_absolute_error: 0.2854\n",
      "Epoch 154/200\n",
      "15810/22029 [====================>.........] - ETA: 42s - loss: 0.4088 - acc: 0.8216 - mean_absolute_error: 0.2534"
     ]
    },
    {
     "name": "stderr",
     "output_type": "stream",
     "text": [
      "IOPub message rate exceeded.\n",
      "The notebook server will temporarily stop sending output\n",
      "to the client in order to avoid crashing it.\n",
      "To change this limit, set the config variable\n",
      "`--NotebookApp.iopub_msg_rate_limit`.\n",
      "\n",
      "Current values:\n",
      "NotebookApp.iopub_msg_rate_limit=1000.0 (msgs/sec)\n",
      "NotebookApp.rate_limit_window=3.0 (secs)\n",
      "\n"
     ]
    },
    {
     "name": "stdout",
     "output_type": "stream",
     "text": [
      "22029/22029 [==============================] - 163s 7ms/step - loss: 0.4072 - acc: 0.8236 - mean_absolute_error: 0.2537 - val_loss: 0.4334 - val_acc: 0.8030 - val_mean_absolute_error: 0.2699\n",
      "Epoch 156/200\n",
      "19350/22029 [=========================>....] - ETA: 18s - loss: 0.4046 - acc: 0.8238 - mean_absolute_error: 0.2531"
     ]
    },
    {
     "name": "stderr",
     "output_type": "stream",
     "text": [
      "IOPub message rate exceeded.\n",
      "The notebook server will temporarily stop sending output\n",
      "to the client in order to avoid crashing it.\n",
      "To change this limit, set the config variable\n",
      "`--NotebookApp.iopub_msg_rate_limit`.\n",
      "\n",
      "Current values:\n",
      "NotebookApp.iopub_msg_rate_limit=1000.0 (msgs/sec)\n",
      "NotebookApp.rate_limit_window=3.0 (secs)\n",
      "\n"
     ]
    },
    {
     "name": "stdout",
     "output_type": "stream",
     "text": [
      "22029/22029 [==============================] - 161s 7ms/step - loss: 0.4075 - acc: 0.8245 - mean_absolute_error: 0.2537 - val_loss: 0.4326 - val_acc: 0.8012 - val_mean_absolute_error: 0.2820\n",
      "Epoch 158/200\n",
      "22029/22029 [==============================] - 162s 7ms/step - loss: 0.4105 - acc: 0.8230 - mean_absolute_error: 0.2562 - val_loss: 0.4432 - val_acc: 0.7941 - val_mean_absolute_error: 0.2906\n",
      "Epoch 159/200\n",
      " 1150/22029 [>.............................] - ETA: 2:27 - loss: 0.3875 - acc: 0.8452 - mean_absolute_error: 0.2432"
     ]
    },
    {
     "name": "stderr",
     "output_type": "stream",
     "text": [
      "IOPub message rate exceeded.\n",
      "The notebook server will temporarily stop sending output\n",
      "to the client in order to avoid crashing it.\n",
      "To change this limit, set the config variable\n",
      "`--NotebookApp.iopub_msg_rate_limit`.\n",
      "\n",
      "Current values:\n",
      "NotebookApp.iopub_msg_rate_limit=1000.0 (msgs/sec)\n",
      "NotebookApp.rate_limit_window=3.0 (secs)\n",
      "\n"
     ]
    },
    {
     "name": "stdout",
     "output_type": "stream",
     "text": [
      "22029/22029 [==============================] - 234s 11ms/step - loss: 0.4072 - acc: 0.8243 - mean_absolute_error: 0.2531 - val_loss: 0.4351 - val_acc: 0.8052 - val_mean_absolute_error: 0.2852\n",
      "Epoch 161/200\n",
      "21490/22029 [============================>.] - ETA: 4s - loss: 0.4034 - acc: 0.8249 - mean_absolute_error: 0.2498"
     ]
    },
    {
     "name": "stderr",
     "output_type": "stream",
     "text": [
      "IOPub message rate exceeded.\n",
      "The notebook server will temporarily stop sending output\n",
      "to the client in order to avoid crashing it.\n",
      "To change this limit, set the config variable\n",
      "`--NotebookApp.iopub_msg_rate_limit`.\n",
      "\n",
      "Current values:\n",
      "NotebookApp.iopub_msg_rate_limit=1000.0 (msgs/sec)\n",
      "NotebookApp.rate_limit_window=3.0 (secs)\n",
      "\n"
     ]
    },
    {
     "name": "stdout",
     "output_type": "stream",
     "text": [
      "22029/22029 [==============================] - 175s 8ms/step - loss: 0.4069 - acc: 0.8244 - mean_absolute_error: 0.2542 - val_loss: 0.4304 - val_acc: 0.8034 - val_mean_absolute_error: 0.2647\n",
      "Epoch 164/200\n",
      "21340/22029 [============================>.] - ETA: 5s - loss: 0.4101 - acc: 0.8207 - mean_absolute_error: 0.2554"
     ]
    },
    {
     "name": "stderr",
     "output_type": "stream",
     "text": [
      "IOPub message rate exceeded.\n",
      "The notebook server will temporarily stop sending output\n",
      "to the client in order to avoid crashing it.\n",
      "To change this limit, set the config variable\n",
      "`--NotebookApp.iopub_msg_rate_limit`.\n",
      "\n",
      "Current values:\n",
      "NotebookApp.iopub_msg_rate_limit=1000.0 (msgs/sec)\n",
      "NotebookApp.rate_limit_window=3.0 (secs)\n",
      "\n"
     ]
    },
    {
     "name": "stdout",
     "output_type": "stream",
     "text": [
      "22029/22029 [==============================] - 223s 10ms/step - loss: 0.4084 - acc: 0.8270 - mean_absolute_error: 0.2537 - val_loss: 0.4381 - val_acc: 0.7994 - val_mean_absolute_error: 0.2635\n",
      "Epoch 167/200\n",
      "20620/22029 [===========================>..] - ETA: 13s - loss: 0.4050 - acc: 0.8262 - mean_absolute_error: 0.2514"
     ]
    },
    {
     "name": "stderr",
     "output_type": "stream",
     "text": [
      "IOPub message rate exceeded.\n",
      "The notebook server will temporarily stop sending output\n",
      "to the client in order to avoid crashing it.\n",
      "To change this limit, set the config variable\n",
      "`--NotebookApp.iopub_msg_rate_limit`.\n",
      "\n",
      "Current values:\n",
      "NotebookApp.iopub_msg_rate_limit=1000.0 (msgs/sec)\n",
      "NotebookApp.rate_limit_window=3.0 (secs)\n",
      "\n"
     ]
    },
    {
     "name": "stdout",
     "output_type": "stream",
     "text": [
      "22029/22029 [==============================] - 226s 10ms/step - loss: 0.4046 - acc: 0.8259 - mean_absolute_error: 0.2521 - val_loss: 0.4623 - val_acc: 0.7692 - val_mean_absolute_error: 0.3074\n",
      "Epoch 170/200\n",
      "19110/22029 [=========================>....] - ETA: 27s - loss: 0.4053 - acc: 0.8306 - mean_absolute_error: 0.2503"
     ]
    },
    {
     "name": "stderr",
     "output_type": "stream",
     "text": [
      "IOPub message rate exceeded.\n",
      "The notebook server will temporarily stop sending output\n",
      "to the client in order to avoid crashing it.\n",
      "To change this limit, set the config variable\n",
      "`--NotebookApp.iopub_msg_rate_limit`.\n",
      "\n",
      "Current values:\n",
      "NotebookApp.iopub_msg_rate_limit=1000.0 (msgs/sec)\n",
      "NotebookApp.rate_limit_window=3.0 (secs)\n",
      "\n"
     ]
    },
    {
     "name": "stdout",
     "output_type": "stream",
     "text": [
      "22029/22029 [==============================] - 224s 10ms/step - loss: 0.4067 - acc: 0.8257 - mean_absolute_error: 0.2523 - val_loss: 0.4366 - val_acc: 0.8039 - val_mean_absolute_error: 0.2798\n",
      "Epoch 173/200\n",
      "17930/22029 [=======================>......] - ETA: 39s - loss: 0.4036 - acc: 0.8257 - mean_absolute_error: 0.2509"
     ]
    },
    {
     "name": "stderr",
     "output_type": "stream",
     "text": [
      "IOPub message rate exceeded.\n",
      "The notebook server will temporarily stop sending output\n",
      "to the client in order to avoid crashing it.\n",
      "To change this limit, set the config variable\n",
      "`--NotebookApp.iopub_msg_rate_limit`.\n",
      "\n",
      "Current values:\n",
      "NotebookApp.iopub_msg_rate_limit=1000.0 (msgs/sec)\n",
      "NotebookApp.rate_limit_window=3.0 (secs)\n",
      "\n"
     ]
    },
    {
     "name": "stdout",
     "output_type": "stream",
     "text": [
      "22029/22029 [==============================] - 233s 11ms/step - loss: 0.4075 - acc: 0.8244 - mean_absolute_error: 0.2537 - val_loss: 0.4314 - val_acc: 0.8037 - val_mean_absolute_error: 0.2899\n",
      "Epoch 176/200\n",
      "17030/22029 [======================>.......] - ETA: 48s - loss: 0.4055 - acc: 0.8255 - mean_absolute_error: 0.2529"
     ]
    },
    {
     "name": "stderr",
     "output_type": "stream",
     "text": [
      "IOPub message rate exceeded.\n",
      "The notebook server will temporarily stop sending output\n",
      "to the client in order to avoid crashing it.\n",
      "To change this limit, set the config variable\n",
      "`--NotebookApp.iopub_msg_rate_limit`.\n",
      "\n",
      "Current values:\n",
      "NotebookApp.iopub_msg_rate_limit=1000.0 (msgs/sec)\n",
      "NotebookApp.rate_limit_window=3.0 (secs)\n",
      "\n"
     ]
    },
    {
     "name": "stdout",
     "output_type": "stream",
     "text": [
      "22029/22029 [==============================] - 229s 10ms/step - loss: 0.4042 - acc: 0.8275 - mean_absolute_error: 0.2519 - val_loss: 0.4360 - val_acc: 0.7990 - val_mean_absolute_error: 0.2904\n",
      "Epoch 179/200\n",
      "14540/22029 [==================>...........] - ETA: 1:12 - loss: 0.4048 - acc: 0.8231 - mean_absolute_error: 0.2521"
     ]
    },
    {
     "name": "stderr",
     "output_type": "stream",
     "text": [
      "IOPub message rate exceeded.\n",
      "The notebook server will temporarily stop sending output\n",
      "to the client in order to avoid crashing it.\n",
      "To change this limit, set the config variable\n",
      "`--NotebookApp.iopub_msg_rate_limit`.\n",
      "\n",
      "Current values:\n",
      "NotebookApp.iopub_msg_rate_limit=1000.0 (msgs/sec)\n",
      "NotebookApp.rate_limit_window=3.0 (secs)\n",
      "\n"
     ]
    },
    {
     "name": "stdout",
     "output_type": "stream",
     "text": [
      "22029/22029 [==============================] - 231s 10ms/step - loss: 0.4060 - acc: 0.8244 - mean_absolute_error: 0.2530 - val_loss: 0.4356 - val_acc: 0.8012 - val_mean_absolute_error: 0.2571\n",
      "Epoch 181/200\n",
      "17820/22029 [=======================>......] - ETA: 40s - loss: 0.4010 - acc: 0.8281 - mean_absolute_error: 0.2475"
     ]
    },
    {
     "name": "stderr",
     "output_type": "stream",
     "text": [
      "IOPub message rate exceeded.\n",
      "The notebook server will temporarily stop sending output\n",
      "to the client in order to avoid crashing it.\n",
      "To change this limit, set the config variable\n",
      "`--NotebookApp.iopub_msg_rate_limit`.\n",
      "\n",
      "Current values:\n",
      "NotebookApp.iopub_msg_rate_limit=1000.0 (msgs/sec)\n",
      "NotebookApp.rate_limit_window=3.0 (secs)\n",
      "\n"
     ]
    },
    {
     "name": "stdout",
     "output_type": "stream",
     "text": [
      "22029/22029 [==============================] - 242s 11ms/step - loss: 0.4035 - acc: 0.8274 - mean_absolute_error: 0.2505 - val_loss: 0.4315 - val_acc: 0.8046 - val_mean_absolute_error: 0.2737\n",
      "Epoch 183/200\n",
      "22029/22029 [==============================] - 230s 10ms/step - loss: 0.4066 - acc: 0.8243 - mean_absolute_error: 0.2526 - val_loss: 0.4315 - val_acc: 0.8057 - val_mean_absolute_error: 0.2693\n",
      "Epoch 184/200\n",
      "22029/22029 [==============================] - 230s 10ms/step - loss: 0.3982 - acc: 0.8321 - mean_absolute_error: 0.2462 - val_loss: 0.4330 - val_acc: 0.8046 - val_mean_absolute_error: 0.2819\n",
      "Epoch 185/200\n",
      "22029/22029 [==============================] - 228s 10ms/step - loss: 0.3991 - acc: 0.8274 - mean_absolute_error: 0.2479 - val_loss: 0.4331 - val_acc: 0.8061 - val_mean_absolute_error: 0.2732\n",
      "Epoch 186/200\n",
      "22029/22029 [==============================] - 230s 10ms/step - loss: 0.3980 - acc: 0.8280 - mean_absolute_error: 0.2475 - val_loss: 0.4392 - val_acc: 0.7988 - val_mean_absolute_error: 0.2787\n",
      "Epoch 187/200\n",
      "22029/22029 [==============================] - 231s 10ms/step - loss: 0.4084 - acc: 0.8253 - mean_absolute_error: 0.2543 - val_loss: 0.4400 - val_acc: 0.8066 - val_mean_absolute_error: 0.2899\n",
      "Epoch 188/200\n",
      "22029/22029 [==============================] - 226s 10ms/step - loss: 0.4051 - acc: 0.8249 - mean_absolute_error: 0.2517 - val_loss: 0.4405 - val_acc: 0.7983 - val_mean_absolute_error: 0.2918\n",
      "Epoch 190/200\n",
      "11170/22029 [==============>...............] - ETA: 1:44 - loss: 0.4077 - acc: 0.8246 - mean_absolute_error: 0.2532"
     ]
    },
    {
     "name": "stderr",
     "output_type": "stream",
     "text": [
      "IOPub message rate exceeded.\n",
      "The notebook server will temporarily stop sending output\n",
      "to the client in order to avoid crashing it.\n",
      "To change this limit, set the config variable\n",
      "`--NotebookApp.iopub_msg_rate_limit`.\n",
      "\n",
      "Current values:\n",
      "NotebookApp.iopub_msg_rate_limit=1000.0 (msgs/sec)\n",
      "NotebookApp.rate_limit_window=3.0 (secs)\n",
      "\n"
     ]
    },
    {
     "name": "stdout",
     "output_type": "stream",
     "text": [
      "22029/22029 [==============================] - 227s 10ms/step - loss: 0.4050 - acc: 0.8247 - mean_absolute_error: 0.2505 - val_loss: 0.4352 - val_acc: 0.8032 - val_mean_absolute_error: 0.2711\n",
      "Epoch 192/200\n",
      "22029/22029 [==============================] - 229s 10ms/step - loss: 0.4005 - acc: 0.8291 - mean_absolute_error: 0.2483 - val_loss: 0.4403 - val_acc: 0.8008 - val_mean_absolute_error: 0.2599\n",
      "Epoch 193/200\n",
      "  740/22029 [>.............................] - ETA: 3:16 - loss: 0.4343 - acc: 0.8081 - mean_absolute_error: 0.2650"
     ]
    },
    {
     "name": "stderr",
     "output_type": "stream",
     "text": [
      "IOPub message rate exceeded.\n",
      "The notebook server will temporarily stop sending output\n",
      "to the client in order to avoid crashing it.\n",
      "To change this limit, set the config variable\n",
      "`--NotebookApp.iopub_msg_rate_limit`.\n",
      "\n",
      "Current values:\n",
      "NotebookApp.iopub_msg_rate_limit=1000.0 (msgs/sec)\n",
      "NotebookApp.rate_limit_window=3.0 (secs)\n",
      "\n"
     ]
    },
    {
     "name": "stdout",
     "output_type": "stream",
     "text": [
      "22029/22029 [==============================] - 227s 10ms/step - loss: 0.4054 - acc: 0.8236 - mean_absolute_error: 0.2513 - val_loss: 0.4420 - val_acc: 0.8001 - val_mean_absolute_error: 0.2965\n",
      "Epoch 195/200\n",
      "12300/22029 [===============>..............] - ETA: 1:33 - loss: 0.4061 - acc: 0.8257 - mean_absolute_error: 0.2519"
     ]
    },
    {
     "name": "stderr",
     "output_type": "stream",
     "text": [
      "IOPub message rate exceeded.\n",
      "The notebook server will temporarily stop sending output\n",
      "to the client in order to avoid crashing it.\n",
      "To change this limit, set the config variable\n",
      "`--NotebookApp.iopub_msg_rate_limit`.\n",
      "\n",
      "Current values:\n",
      "NotebookApp.iopub_msg_rate_limit=1000.0 (msgs/sec)\n",
      "NotebookApp.rate_limit_window=3.0 (secs)\n",
      "\n"
     ]
    },
    {
     "name": "stdout",
     "output_type": "stream",
     "text": [
      "22029/22029 [==============================] - 227s 10ms/step - loss: 0.4000 - acc: 0.8293 - mean_absolute_error: 0.2486 - val_loss: 0.4352 - val_acc: 0.8007 - val_mean_absolute_error: 0.2900\n",
      "Epoch 197/200\n",
      "22029/22029 [==============================] - 227s 10ms/step - loss: 0.4043 - acc: 0.8262 - mean_absolute_error: 0.2506 - val_loss: 0.4250 - val_acc: 0.8108 - val_mean_absolute_error: 0.2728\n",
      "Epoch 198/200\n",
      " 1700/22029 [=>............................] - ETA: 3:19 - loss: 0.4063 - acc: 0.8182 - mean_absolute_error: 0.2475"
     ]
    },
    {
     "name": "stderr",
     "output_type": "stream",
     "text": [
      "IOPub message rate exceeded.\n",
      "The notebook server will temporarily stop sending output\n",
      "to the client in order to avoid crashing it.\n",
      "To change this limit, set the config variable\n",
      "`--NotebookApp.iopub_msg_rate_limit`.\n",
      "\n",
      "Current values:\n",
      "NotebookApp.iopub_msg_rate_limit=1000.0 (msgs/sec)\n",
      "NotebookApp.rate_limit_window=3.0 (secs)\n",
      "\n"
     ]
    },
    {
     "name": "stdout",
     "output_type": "stream",
     "text": [
      "22029/22029 [==============================] - 225s 10ms/step - loss: 0.3991 - acc: 0.8292 - mean_absolute_error: 0.2483 - val_loss: 0.4534 - val_acc: 0.7803 - val_mean_absolute_error: 0.3062\n",
      "Epoch 200/200\n",
      "13020/22029 [================>.............] - ETA: 1:28 - loss: 0.4149 - acc: 0.8183 - mean_absolute_error: 0.2585"
     ]
    },
    {
     "name": "stderr",
     "output_type": "stream",
     "text": [
      "IOPub message rate exceeded.\n",
      "The notebook server will temporarily stop sending output\n",
      "to the client in order to avoid crashing it.\n",
      "To change this limit, set the config variable\n",
      "`--NotebookApp.iopub_msg_rate_limit`.\n",
      "\n",
      "Current values:\n",
      "NotebookApp.iopub_msg_rate_limit=1000.0 (msgs/sec)\n",
      "NotebookApp.rate_limit_window=3.0 (secs)\n",
      "\n"
     ]
    }
   ],
   "source": [
    "%%time\n",
    "\n",
    "test_model_history, test_model_real, most_recent_model_name, model_file_path, history_file_path = model(pic_df.head(NUM_IMAGES), model_name = model_name, image_size=IMAGE_SIZE, y_map=CURR_MAP, epochs=EPOCHS, train_size = TRAIN_SIZE, metrics = METRICS, batch_size=BATCH_SIZE, model_optimizer=MODEL_OPTIMIZER)\n",
    "\n"
   ]
  },
  {
   "cell_type": "code",
   "execution_count": 62,
   "metadata": {},
   "outputs": [
    {
     "data": {
      "text/plain": [
       "'adult_data_2_options 2018-10-21 05:02:16.882644'"
      ]
     },
     "execution_count": 62,
     "metadata": {},
     "output_type": "execute_result"
    }
   ],
   "source": [
    "most_recent_model_name"
   ]
  },
  {
   "cell_type": "code",
   "execution_count": 63,
   "metadata": {},
   "outputs": [],
   "source": [
    "# Save all of the stats about each model I've run along with where the model and history objects are saved.\n",
    "\n",
    "# Loading in the list of models/parameters\n",
    "model_pickle_file_name = '../data/models/models_dict.pk'\n",
    "file_object = open(model_pickle_file_name,'rb')\n",
    "models_dict = pickle.load(file_object)\n",
    "file_object.close()\n",
    "\n",
    "\n",
    "# Add the most recent model to the list\n",
    "models_dict[most_recent_model_name] = {\n",
    "    'NUM_IMAGES':NUM_IMAGES,\n",
    "    'model_location':model_file_path,\n",
    "    'history_location':history_file_path,\n",
    "    'EPOCHS':EPOCHS,\n",
    "    'IMAGE_SIZE':IMAGE_SIZE,\n",
    "    'Y_MAP':CURR_MAP,\n",
    "    'TRAIN_SIZE':TRAIN_SIZE,\n",
    "    'accuracy_scores':{\n",
    "        'train':test_model_history.history['acc'][-1],\n",
    "        'test':test_model_history.history['val_acc'][-1]\n",
    "    }\n",
    "}\n",
    "\n",
    "\n",
    "# Save the list of models and parameters \n",
    "file_object = open(model_pickle_file_name,'wb')\n",
    "pickle.dump(models_dict, file_object)\n",
    "file_object.close()"
   ]
  },
  {
   "cell_type": "code",
   "execution_count": 64,
   "metadata": {
    "scrolled": false
   },
   "outputs": [
    {
     "data": {
      "image/png": "[encoded data removed]",
      "text/plain": [
       "<Figure size 432x1296 with 3 Axes>"
      ]
     },
     "metadata": {
      "image/png": {
       "height": 1138,
       "width": 484
      },
      "needs_background": "light"
     },
     "output_type": "display_data"
    }
   ],
   "source": [
    "graph_size = 6\n",
    "evaluate_model(test_model_history, most_recent_model_name, size=graph_size)\n"
   ]
  },
  {
   "cell_type": "code",
   "execution_count": null,
   "metadata": {},
   "outputs": [],
   "source": []
  },
  {
   "cell_type": "code",
   "execution_count": 65,
   "metadata": {},
   "outputs": [
    {
     "name": "stdout",
     "output_type": "stream",
     "text": [
      "adult_data_3_options 2018-10-16 23:03:21.173330: train-0.761667   test-0.656667\n",
      "adult_data_3_options 2018-10-17 03:15:52.526120: train-0.828817   test-0.685730\n",
      "adult_data_3_options 2018-10-18 15:17:37.300741: train-0.742292   test-0.650833\n",
      "adult_data_2_options 2018-10-18 16:00:56.383718: train-0.856458   test-0.835000\n",
      "adult_data_2_options: train-0.995208   test-0.874167\n",
      "adult_data_3_options: train-0.643383   test-0.656167\n",
      "adult_data_3_options 2018-10-20 00:09:56.200392: train-0.889167   test-0.666667\n",
      "adult_data_3_options 2018-10-20 05:32:57.594632: train-0.891458   test-0.650833\n",
      "adult_data_2_options 2018-10-20 16:46:02.089673: train-0.898343   test-0.843117\n",
      "adult_data_2_options 2018-10-21 05:02:16.882644: train-0.822734   test-0.803558\n"
     ]
    }
   ],
   "source": [
    "for k, v in models_dict.items():\n",
    "    print(k+': ', end='')\n",
    "    print('train-%.06f' % v['accuracy_scores']['train'], end='   ')\n",
    "    print('test-%.06f' % v['accuracy_scores']['test'])"
   ]
  },
  {
   "cell_type": "code",
   "execution_count": 34,
   "metadata": {},
   "outputs": [],
   "source": [
    "\n",
    "\n",
    "model_pickle_file_name = models_dict['adult_data_2_options 2018-10-18 16:00:56.383718']['history_location']\n",
    "file_object = open(model_pickle_file_name,'rb')\n",
    "model_history = pickle.load(file_object)\n",
    "file_object.close()\n",
    "\n"
   ]
  },
  {
   "cell_type": "code",
   "execution_count": 37,
   "metadata": {},
   "outputs": [
    {
     "data": {
      "text/plain": [
       "{'name': 'sequential_2',\n",
       " 'layers': [{'class_name': 'Conv2D',\n",
       "   'config': {'name': 'conv2d_3',\n",
       "    'trainable': True,\n",
       "    'batch_input_shape': (None, 64, 64, 1),\n",
       "    'dtype': 'float32',\n",
       "    'filters': 6,\n",
       "    'kernel_size': (3, 3),\n",
       "    'strides': (1, 1),\n",
       "    'padding': 'valid',\n",
       "    'data_format': 'channels_last',\n",
       "    'dilation_rate': (1, 1),\n",
       "    'activation': 'relu',\n",
       "    'use_bias': True,\n",
       "    'kernel_initializer': {'class_name': 'VarianceScaling',\n",
       "     'config': {'scale': 1.0,\n",
       "      'mode': 'fan_avg',\n",
       "      'distribution': 'uniform',\n",
       "      'seed': None}},\n",
       "    'bias_initializer': {'class_name': 'Zeros', 'config': {}},\n",
       "    'kernel_regularizer': None,\n",
       "    'bias_regularizer': None,\n",
       "    'activity_regularizer': None,\n",
       "    'kernel_constraint': None,\n",
       "    'bias_constraint': None}},\n",
       "  {'class_name': 'MaxPooling2D',\n",
       "   'config': {'name': 'max_pooling2d_3',\n",
       "    'trainable': True,\n",
       "    'pool_size': (2, 2),\n",
       "    'padding': 'valid',\n",
       "    'strides': (2, 2),\n",
       "    'data_format': 'channels_last'}},\n",
       "  {'class_name': 'Conv2D',\n",
       "   'config': {'name': 'conv2d_4',\n",
       "    'trainable': True,\n",
       "    'filters': 16,\n",
       "    'kernel_size': (3, 3),\n",
       "    'strides': (1, 1),\n",
       "    'padding': 'valid',\n",
       "    'data_format': 'channels_last',\n",
       "    'dilation_rate': (1, 1),\n",
       "    'activation': 'relu',\n",
       "    'use_bias': True,\n",
       "    'kernel_initializer': {'class_name': 'VarianceScaling',\n",
       "     'config': {'scale': 1.0,\n",
       "      'mode': 'fan_avg',\n",
       "      'distribution': 'uniform',\n",
       "      'seed': None}},\n",
       "    'bias_initializer': {'class_name': 'Zeros', 'config': {}},\n",
       "    'kernel_regularizer': None,\n",
       "    'bias_regularizer': None,\n",
       "    'activity_regularizer': None,\n",
       "    'kernel_constraint': None,\n",
       "    'bias_constraint': None}},\n",
       "  {'class_name': 'MaxPooling2D',\n",
       "   'config': {'name': 'max_pooling2d_4',\n",
       "    'trainable': True,\n",
       "    'pool_size': (2, 2),\n",
       "    'padding': 'valid',\n",
       "    'strides': (2, 2),\n",
       "    'data_format': 'channels_last'}},\n",
       "  {'class_name': 'Dropout',\n",
       "   'config': {'name': 'dropout_4',\n",
       "    'trainable': True,\n",
       "    'rate': 0.8,\n",
       "    'noise_shape': None,\n",
       "    'seed': None}},\n",
       "  {'class_name': 'Flatten',\n",
       "   'config': {'name': 'flatten_2',\n",
       "    'trainable': True,\n",
       "    'data_format': 'channels_last'}},\n",
       "  {'class_name': 'Dense',\n",
       "   'config': {'name': 'dense_4',\n",
       "    'trainable': True,\n",
       "    'units': 512,\n",
       "    'activation': 'relu',\n",
       "    'use_bias': True,\n",
       "    'kernel_initializer': {'class_name': 'VarianceScaling',\n",
       "     'config': {'scale': 1.0,\n",
       "      'mode': 'fan_avg',\n",
       "      'distribution': 'uniform',\n",
       "      'seed': None}},\n",
       "    'bias_initializer': {'class_name': 'Zeros', 'config': {}},\n",
       "    'kernel_regularizer': None,\n",
       "    'bias_regularizer': None,\n",
       "    'activity_regularizer': None,\n",
       "    'kernel_constraint': None,\n",
       "    'bias_constraint': None}},\n",
       "  {'class_name': 'Dropout',\n",
       "   'config': {'name': 'dropout_5',\n",
       "    'trainable': True,\n",
       "    'rate': 0.5,\n",
       "    'noise_shape': None,\n",
       "    'seed': None}},\n",
       "  {'class_name': 'Dense',\n",
       "   'config': {'name': 'dense_5',\n",
       "    'trainable': True,\n",
       "    'units': 128,\n",
       "    'activation': 'relu',\n",
       "    'use_bias': True,\n",
       "    'kernel_initializer': {'class_name': 'VarianceScaling',\n",
       "     'config': {'scale': 1.0,\n",
       "      'mode': 'fan_avg',\n",
       "      'distribution': 'uniform',\n",
       "      'seed': None}},\n",
       "    'bias_initializer': {'class_name': 'Zeros', 'config': {}},\n",
       "    'kernel_regularizer': None,\n",
       "    'bias_regularizer': None,\n",
       "    'activity_regularizer': None,\n",
       "    'kernel_constraint': None,\n",
       "    'bias_constraint': None}},\n",
       "  {'class_name': 'Dropout',\n",
       "   'config': {'name': 'dropout_6',\n",
       "    'trainable': True,\n",
       "    'rate': 0.5,\n",
       "    'noise_shape': None,\n",
       "    'seed': None}},\n",
       "  {'class_name': 'Dense',\n",
       "   'config': {'name': 'dense_6',\n",
       "    'trainable': True,\n",
       "    'units': 2,\n",
       "    'activation': 'softmax',\n",
       "    'use_bias': True,\n",
       "    'kernel_initializer': {'class_name': 'VarianceScaling',\n",
       "     'config': {'scale': 1.0,\n",
       "      'mode': 'fan_avg',\n",
       "      'distribution': 'uniform',\n",
       "      'seed': None}},\n",
       "    'bias_initializer': {'class_name': 'Zeros', 'config': {}},\n",
       "    'kernel_regularizer': None,\n",
       "    'bias_regularizer': None,\n",
       "    'activity_regularizer': None,\n",
       "    'kernel_constraint': None,\n",
       "    'bias_constraint': None}}]}"
      ]
     },
     "execution_count": 37,
     "metadata": {},
     "output_type": "execute_result"
    }
   ],
   "source": [
    "model_history.model.get_config()"
   ]
  },
  {
   "cell_type": "code",
   "execution_count": null,
   "metadata": {},
   "outputs": [],
   "source": []
  },
  {
   "cell_type": "markdown",
   "metadata": {},
   "source": [
    "## What have I tried?"
   ]
  },
  {
   "cell_type": "markdown",
   "metadata": {},
   "source": [
    "- Stochastic Gradient Descent had little to no positive effect on my model\n",
    "- SpatialDropout2D had a negative effect on my model. I am not entirely sure what situations wuold be best for its use\n",
    "- Change number of nodes per layer, amount of dropout per layer, number of filters per layer, etc. \n",
    "    - looks like more dropout was better (>=0.5)\n",
    "    - no more than 2 fully connected layers necessary. Proved to have little increase (if any) in performance and added a lot of time to the training\n",
    "    - I'm not sure the effect the number of filters had"
   ]
  },
  {
   "cell_type": "markdown",
   "metadata": {},
   "source": [
    "## What am I trying to do now?"
   ]
  },
  {
   "cell_type": "markdown",
   "metadata": {},
   "source": [
    "- change model dict to incorporate all metrics tested against\n",
    "- implement a gridsearch / gridsearch-type structure \n",
    "- create new datasets with certain parameters\n",
    "    - balanced classes with respect to sex, position, age, target\n",
    "        - 2 versions, one with pneumonia/not_pneumonia balanced and one with normal/abnormal/pneumonia balanced\n",
    "    - a mini-training set of maybe 5k images and a full training set using all of our images \n",
    "        - 3 versions of our \"full data\" one: one with undersampling of normal/abnormal/not pneumonia, one with oversampling of pneumonia, and one with just the full data we have"
   ]
  },
  {
   "cell_type": "markdown",
   "metadata": {},
   "source": [
    "## Further down the line"
   ]
  },
  {
   "cell_type": "markdown",
   "metadata": {},
   "source": [
    "- Try to get bounding boxes - [R-CNN (or a different iteration)](https://heartbeat.fritz.ai/the-5-computer-vision-techniques-that-will-change-how-you-see-the-world-1ee19334354b)\n",
    "- "
   ]
  },
  {
   "cell_type": "code",
   "execution_count": null,
   "metadata": {},
   "outputs": [],
   "source": []
  },
  {
   "cell_type": "code",
   "execution_count": 70,
   "metadata": {},
   "outputs": [],
   "source": [
    "def continue_training(old_model, data, model_name = \"default_model_name\", image_size = (128,128), y_map = {\n",
    "    \"Lung Opacity\":1,\n",
    "    \"No Lung Opacity / Not Normal\":0,\n",
    "    \"Normal\":2\n",
    "}, epochs = 20, train_size = 0.75, metrics = ['accuracy'], batch_size = 10, model_optimizer = 'adam', verbose = 1):\n",
    "    \n",
    "    \n",
    "    seed(42)\n",
    "    set_random_seed(42)\n",
    "\n",
    "    # Create target\n",
    "    y = data['class']\n",
    "    y = y.map(lambda x: y_map[x])\n",
    "    \n",
    "    # Train Test Split\n",
    "    X_train, X_test, y_train, y_test = train_test_split(data.drop(columns='class'), y, \n",
    "                                                        stratify=y, random_state=42, train_size = train_size)\n",
    "    \n",
    "    # Transform target into arrays of integers\n",
    "    y_train_c = to_categorical(y_train)\n",
    "    y_test_c = to_categorical(y_test)\n",
    "    \n",
    "    # Reshape the X_train and X_test \n",
    "    X_train_re = X_train.values.reshape(X_train.shape[0], image_size[0], image_size[1], 1)\n",
    "    X_test_re = X_test.values.reshape(X_test.shape[0], image_size[0], image_size[1], 1)\n",
    "    \n",
    "\n",
    "    old_model.fit(X_train_re,\n",
    "                        y_train_c,\n",
    "                        batch_size = batch_size,\n",
    "                        epochs = epochs,\n",
    "                        verbose = verbose,\n",
    "                        validation_data = (X_test_re, y_test_c)\n",
    "                       )\n",
    "\n",
    "    file_name = '../data/models/' + model_name + ' ' + str(datetime.datetime.now()) \n",
    "\n",
    "    # Save Model        \n",
    "    try:\n",
    "        model_file_name = file_name + '_model.h5'\n",
    "        model_convolutional.save(model_file_name)\n",
    "        print('Model saved as: ' + model_file_name)\n",
    "        \n",
    "    except Exception as e:\n",
    "        print('+++++Model did not save++++++')\n",
    "        print(e)\n",
    "        \n",
    "    # Save History\n",
    "    try:\n",
    "        history_file_name = file_name + '_history.pk'\n",
    "        pickle_file = open(history_file_name, 'wb')\n",
    "        pickle.dump(trained_convolutional, pickle_file) \n",
    "        pickle_file.close()\n",
    "        print('History saved as: ' + history_file_name)\n",
    "        \n",
    "    except Exception as e:\n",
    "        print('+++++History did not save++++++')\n",
    "        print(e)\n",
    "        \n",
    "        \n",
    "    return trained_convolutional, model_convolutional, file_name[15:], model_file_name, history_file_name\n",
    "\n"
   ]
  },
  {
   "cell_type": "code",
   "execution_count": 71,
   "metadata": {
    "scrolled": false
   },
   "outputs": [
    {
     "name": "stderr",
     "output_type": "stream",
     "text": [
      "/home/ec2-user/anaconda3/envs/py36/lib/python3.6/site-packages/sklearn/model_selection/_split.py:2026: FutureWarning: From version 0.21, test_size will always complement train_size unless both are specified.\n",
      "  FutureWarning)\n"
     ]
    },
    {
     "name": "stdout",
     "output_type": "stream",
     "text": [
      "Train on 22029 samples, validate on 5508 samples\n",
      "Epoch 1/80\n",
      "22029/22029 [==============================] - 228s 10ms/step - loss: 0.4011 - acc: 0.8287 - mean_absolute_error: 0.2475 - val_loss: 0.4370 - val_acc: 0.8003 - val_mean_absolute_error: 0.2970\n",
      "Epoch 2/80\n",
      "22029/22029 [==============================] - 230s 10ms/step - loss: 0.4037 - acc: 0.8250 - mean_absolute_error: 0.2524 - val_loss: 0.4383 - val_acc: 0.7974 - val_mean_absolute_error: 0.2834\n",
      "Epoch 3/80\n",
      "22029/22029 [==============================] - 226s 10ms/step - loss: 0.4060 - acc: 0.8238 - mean_absolute_error: 0.2524 - val_loss: 0.4334 - val_acc: 0.7968 - val_mean_absolute_error: 0.2882\n",
      "Epoch 4/80\n",
      "22029/22029 [==============================] - 226s 10ms/step - loss: 0.4041 - acc: 0.8248 - mean_absolute_error: 0.2507 - val_loss: 0.4298 - val_acc: 0.8112 - val_mean_absolute_error: 0.2868\n",
      "Epoch 5/80\n",
      "22029/22029 [==============================] - 230s 10ms/step - loss: 0.3972 - acc: 0.8308 - mean_absolute_error: 0.2466 - val_loss: 0.4417 - val_acc: 0.8003 - val_mean_absolute_error: 0.2883\n",
      "Epoch 6/80\n",
      "22029/22029 [==============================] - 229s 10ms/step - loss: 0.4039 - acc: 0.8265 - mean_absolute_error: 0.2495 - val_loss: 0.4352 - val_acc: 0.7963 - val_mean_absolute_error: 0.2750\n",
      "Epoch 7/80\n",
      "22029/22029 [==============================] - 227s 10ms/step - loss: 0.4003 - acc: 0.8278 - mean_absolute_error: 0.2488 - val_loss: 0.4283 - val_acc: 0.8092 - val_mean_absolute_error: 0.2828\n",
      "Epoch 8/80\n",
      "22029/22029 [==============================] - 226s 10ms/step - loss: 0.4129 - acc: 0.8218 - mean_absolute_error: 0.2545 - val_loss: 0.4404 - val_acc: 0.8021 - val_mean_absolute_error: 0.2611\n",
      "Epoch 9/80\n",
      "22029/22029 [==============================] - 224s 10ms/step - loss: 0.3994 - acc: 0.8270 - mean_absolute_error: 0.2486 - val_loss: 0.4336 - val_acc: 0.8039 - val_mean_absolute_error: 0.2745\n",
      "Epoch 10/80\n",
      "22029/22029 [==============================] - 229s 10ms/step - loss: 0.4069 - acc: 0.8244 - mean_absolute_error: 0.2531 - val_loss: 0.4319 - val_acc: 0.8095 - val_mean_absolute_error: 0.2896\n",
      "Epoch 11/80\n",
      "22029/22029 [==============================] - 225s 10ms/step - loss: 0.3976 - acc: 0.8272 - mean_absolute_error: 0.2465 - val_loss: 0.4363 - val_acc: 0.8052 - val_mean_absolute_error: 0.2685\n",
      "Epoch 12/80\n",
      "22029/22029 [==============================] - 228s 10ms/step - loss: 0.4020 - acc: 0.8260 - mean_absolute_error: 0.2506 - val_loss: 0.4640 - val_acc: 0.8032 - val_mean_absolute_error: 0.2432\n",
      "Epoch 13/80\n",
      "22029/22029 [==============================] - 228s 10ms/step - loss: 0.4091 - acc: 0.8239 - mean_absolute_error: 0.2518 - val_loss: 0.4367 - val_acc: 0.8048 - val_mean_absolute_error: 0.2847\n",
      "Epoch 14/80\n",
      "22029/22029 [==============================] - 229s 10ms/step - loss: 0.4017 - acc: 0.8281 - mean_absolute_error: 0.2495 - val_loss: 0.4410 - val_acc: 0.8057 - val_mean_absolute_error: 0.2574\n",
      "Epoch 15/80\n",
      "22029/22029 [==============================] - 229s 10ms/step - loss: 0.4047 - acc: 0.8245 - mean_absolute_error: 0.2518 - val_loss: 0.4323 - val_acc: 0.8028 - val_mean_absolute_error: 0.2687\n",
      "Epoch 16/80\n",
      "22029/22029 [==============================] - 228s 10ms/step - loss: 0.3970 - acc: 0.8307 - mean_absolute_error: 0.2464 - val_loss: 0.4291 - val_acc: 0.8083 - val_mean_absolute_error: 0.2579\n",
      "Epoch 17/80\n",
      "22029/22029 [==============================] - 228s 10ms/step - loss: 0.3989 - acc: 0.8284 - mean_absolute_error: 0.2463 - val_loss: 0.4334 - val_acc: 0.8032 - val_mean_absolute_error: 0.2873\n",
      "Epoch 18/80\n",
      "22029/22029 [==============================] - 231s 10ms/step - loss: 0.4007 - acc: 0.8237 - mean_absolute_error: 0.2485 - val_loss: 0.4354 - val_acc: 0.7977 - val_mean_absolute_error: 0.2893\n",
      "Epoch 19/80\n",
      " 1650/22029 [=>............................] - ETA: 3:25 - loss: 0.3900 - acc: 0.8291 - mean_absolute_error: 0.2392"
     ]
    },
    {
     "name": "stderr",
     "output_type": "stream",
     "text": [
      "IOPub message rate exceeded.\n",
      "The notebook server will temporarily stop sending output\n",
      "to the client in order to avoid crashing it.\n",
      "To change this limit, set the config variable\n",
      "`--NotebookApp.iopub_msg_rate_limit`.\n",
      "\n",
      "Current values:\n",
      "NotebookApp.iopub_msg_rate_limit=1000.0 (msgs/sec)\n",
      "NotebookApp.rate_limit_window=3.0 (secs)\n",
      "\n"
     ]
    },
    {
     "name": "stdout",
     "output_type": "stream",
     "text": [
      "22029/22029 [==============================] - 232s 11ms/step - loss: 0.4002 - acc: 0.8275 - mean_absolute_error: 0.2482 - val_loss: 0.4314 - val_acc: 0.8052 - val_mean_absolute_error: 0.2886\n",
      "Epoch 21/80\n",
      " 8900/22029 [===========>..................] - ETA: 2:07 - loss: 0.3971 - acc: 0.8274 - mean_absolute_error: 0.2484"
     ]
    },
    {
     "name": "stderr",
     "output_type": "stream",
     "text": [
      "IOPub message rate exceeded.\n",
      "The notebook server will temporarily stop sending output\n",
      "to the client in order to avoid crashing it.\n",
      "To change this limit, set the config variable\n",
      "`--NotebookApp.iopub_msg_rate_limit`.\n",
      "\n",
      "Current values:\n",
      "NotebookApp.iopub_msg_rate_limit=1000.0 (msgs/sec)\n",
      "NotebookApp.rate_limit_window=3.0 (secs)\n",
      "\n"
     ]
    },
    {
     "name": "stdout",
     "output_type": "stream",
     "text": [
      "22029/22029 [==============================] - 226s 10ms/step - loss: 0.3984 - acc: 0.8304 - mean_absolute_error: 0.2472 - val_loss: 0.4374 - val_acc: 0.7999 - val_mean_absolute_error: 0.2762\n",
      "Epoch 23/80\n",
      "20440/22029 [==========================>...] - ETA: 15s - loss: 0.4032 - acc: 0.8271 - mean_absolute_error: 0.2499"
     ]
    },
    {
     "name": "stderr",
     "output_type": "stream",
     "text": [
      "IOPub message rate exceeded.\n",
      "The notebook server will temporarily stop sending output\n",
      "to the client in order to avoid crashing it.\n",
      "To change this limit, set the config variable\n",
      "`--NotebookApp.iopub_msg_rate_limit`.\n",
      "\n",
      "Current values:\n",
      "NotebookApp.iopub_msg_rate_limit=1000.0 (msgs/sec)\n",
      "NotebookApp.rate_limit_window=3.0 (secs)\n",
      "\n"
     ]
    },
    {
     "name": "stdout",
     "output_type": "stream",
     "text": [
      "22029/22029 [==============================] - 232s 11ms/step - loss: 0.4017 - acc: 0.8290 - mean_absolute_error: 0.2488 - val_loss: 0.4458 - val_acc: 0.7907 - val_mean_absolute_error: 0.2723\n",
      "Epoch 25/80\n",
      "22029/22029 [==============================] - 230s 10ms/step - loss: 0.4037 - acc: 0.8267 - mean_absolute_error: 0.2491 - val_loss: 0.4347 - val_acc: 0.8046 - val_mean_absolute_error: 0.2818\n",
      "Epoch 26/80\n",
      " 5590/22029 [======>.......................] - ETA: 2:38 - loss: 0.3955 - acc: 0.8309 - mean_absolute_error: 0.2450"
     ]
    },
    {
     "name": "stderr",
     "output_type": "stream",
     "text": [
      "IOPub message rate exceeded.\n",
      "The notebook server will temporarily stop sending output\n",
      "to the client in order to avoid crashing it.\n",
      "To change this limit, set the config variable\n",
      "`--NotebookApp.iopub_msg_rate_limit`.\n",
      "\n",
      "Current values:\n",
      "NotebookApp.iopub_msg_rate_limit=1000.0 (msgs/sec)\n",
      "NotebookApp.rate_limit_window=3.0 (secs)\n",
      "\n"
     ]
    },
    {
     "name": "stdout",
     "output_type": "stream",
     "text": [
      "22029/22029 [==============================] - 231s 10ms/step - loss: 0.3993 - acc: 0.8277 - mean_absolute_error: 0.2481 - val_loss: 0.4450 - val_acc: 0.8028 - val_mean_absolute_error: 0.2663\n",
      "Epoch 28/80\n",
      "16950/22029 [======================>.......] - ETA: 48s - loss: 0.4004 - acc: 0.8277 - mean_absolute_error: 0.2487"
     ]
    },
    {
     "name": "stderr",
     "output_type": "stream",
     "text": [
      "IOPub message rate exceeded.\n",
      "The notebook server will temporarily stop sending output\n",
      "to the client in order to avoid crashing it.\n",
      "To change this limit, set the config variable\n",
      "`--NotebookApp.iopub_msg_rate_limit`.\n",
      "\n",
      "Current values:\n",
      "NotebookApp.iopub_msg_rate_limit=1000.0 (msgs/sec)\n",
      "NotebookApp.rate_limit_window=3.0 (secs)\n",
      "\n"
     ]
    },
    {
     "name": "stdout",
     "output_type": "stream",
     "text": [
      "22029/22029 [==============================] - 225s 10ms/step - loss: 0.4010 - acc: 0.8279 - mean_absolute_error: 0.2491 - val_loss: 0.4542 - val_acc: 0.7939 - val_mean_absolute_error: 0.2619\n",
      "Epoch 30/80\n",
      "22029/22029 [==============================] - 226s 10ms/step - loss: 0.4013 - acc: 0.8273 - mean_absolute_error: 0.2492 - val_loss: 0.4394 - val_acc: 0.7976 - val_mean_absolute_error: 0.2909\n",
      "Epoch 31/80\n",
      " 6310/22029 [=======>......................] - ETA: 2:32 - loss: 0.3988 - acc: 0.8258 - mean_absolute_error: 0.2468"
     ]
    },
    {
     "name": "stderr",
     "output_type": "stream",
     "text": [
      "IOPub message rate exceeded.\n",
      "The notebook server will temporarily stop sending output\n",
      "to the client in order to avoid crashing it.\n",
      "To change this limit, set the config variable\n",
      "`--NotebookApp.iopub_msg_rate_limit`.\n",
      "\n",
      "Current values:\n",
      "NotebookApp.iopub_msg_rate_limit=1000.0 (msgs/sec)\n",
      "NotebookApp.rate_limit_window=3.0 (secs)\n",
      "\n"
     ]
    },
    {
     "name": "stdout",
     "output_type": "stream",
     "text": [
      "22029/22029 [==============================] - 229s 10ms/step - loss: 0.3957 - acc: 0.8307 - mean_absolute_error: 0.2462 - val_loss: 0.4290 - val_acc: 0.8083 - val_mean_absolute_error: 0.2778\n",
      "Epoch 33/80\n",
      "13470/22029 [=================>............] - ETA: 1:22 - loss: 0.4057 - acc: 0.8272 - mean_absolute_error: 0.2516"
     ]
    },
    {
     "name": "stderr",
     "output_type": "stream",
     "text": [
      "IOPub message rate exceeded.\n",
      "The notebook server will temporarily stop sending output\n",
      "to the client in order to avoid crashing it.\n",
      "To change this limit, set the config variable\n",
      "`--NotebookApp.iopub_msg_rate_limit`.\n",
      "\n",
      "Current values:\n",
      "NotebookApp.iopub_msg_rate_limit=1000.0 (msgs/sec)\n",
      "NotebookApp.rate_limit_window=3.0 (secs)\n",
      "\n"
     ]
    },
    {
     "name": "stdout",
     "output_type": "stream",
     "text": [
      "22029/22029 [==============================] - 230s 10ms/step - loss: 0.4038 - acc: 0.8262 - mean_absolute_error: 0.2504 - val_loss: 0.4276 - val_acc: 0.8092 - val_mean_absolute_error: 0.2758\n",
      "Epoch 35/80\n",
      "22029/22029 [==============================] - 228s 10ms/step - loss: 0.4012 - acc: 0.8292 - mean_absolute_error: 0.2490 - val_loss: 0.4265 - val_acc: 0.8094 - val_mean_absolute_error: 0.2686\n",
      "Epoch 36/80\n",
      " 2950/22029 [===>..........................] - ETA: 3:04 - loss: 0.3715 - acc: 0.8458 - mean_absolute_error: 0.2283"
     ]
    },
    {
     "name": "stderr",
     "output_type": "stream",
     "text": [
      "IOPub message rate exceeded.\n",
      "The notebook server will temporarily stop sending output\n",
      "to the client in order to avoid crashing it.\n",
      "To change this limit, set the config variable\n",
      "`--NotebookApp.iopub_msg_rate_limit`.\n",
      "\n",
      "Current values:\n",
      "NotebookApp.iopub_msg_rate_limit=1000.0 (msgs/sec)\n",
      "NotebookApp.rate_limit_window=3.0 (secs)\n",
      "\n"
     ]
    },
    {
     "name": "stdout",
     "output_type": "stream",
     "text": [
      "22029/22029 [==============================] - 230s 10ms/step - loss: 0.3969 - acc: 0.8278 - mean_absolute_error: 0.2471 - val_loss: 0.4344 - val_acc: 0.8059 - val_mean_absolute_error: 0.2875\n",
      "Epoch 38/80\n",
      "14440/22029 [==================>...........] - ETA: 1:13 - loss: 0.3968 - acc: 0.8321 - mean_absolute_error: 0.2465"
     ]
    },
    {
     "name": "stderr",
     "output_type": "stream",
     "text": [
      "IOPub message rate exceeded.\n",
      "The notebook server will temporarily stop sending output\n",
      "to the client in order to avoid crashing it.\n",
      "To change this limit, set the config variable\n",
      "`--NotebookApp.iopub_msg_rate_limit`.\n",
      "\n",
      "Current values:\n",
      "NotebookApp.iopub_msg_rate_limit=1000.0 (msgs/sec)\n",
      "NotebookApp.rate_limit_window=3.0 (secs)\n",
      "\n"
     ]
    },
    {
     "name": "stdout",
     "output_type": "stream",
     "text": [
      "22029/22029 [==============================] - 227s 10ms/step - loss: 0.4014 - acc: 0.8274 - mean_absolute_error: 0.2487 - val_loss: 0.4291 - val_acc: 0.8023 - val_mean_absolute_error: 0.2787\n",
      "Epoch 40/80\n",
      "22029/22029 [==============================] - 227s 10ms/step - loss: 0.3973 - acc: 0.8295 - mean_absolute_error: 0.2448 - val_loss: 0.4389 - val_acc: 0.7999 - val_mean_absolute_error: 0.2975\n",
      "Epoch 41/80\n",
      " 3960/22029 [====>.........................] - ETA: 2:56 - loss: 0.3836 - acc: 0.8447 - mean_absolute_error: 0.2405"
     ]
    },
    {
     "name": "stderr",
     "output_type": "stream",
     "text": [
      "IOPub message rate exceeded.\n",
      "The notebook server will temporarily stop sending output\n",
      "to the client in order to avoid crashing it.\n",
      "To change this limit, set the config variable\n",
      "`--NotebookApp.iopub_msg_rate_limit`.\n",
      "\n",
      "Current values:\n",
      "NotebookApp.iopub_msg_rate_limit=1000.0 (msgs/sec)\n",
      "NotebookApp.rate_limit_window=3.0 (secs)\n",
      "\n"
     ]
    },
    {
     "name": "stdout",
     "output_type": "stream",
     "text": [
      "22029/22029 [==============================] - 227s 10ms/step - loss: 0.3993 - acc: 0.8271 - mean_absolute_error: 0.2473 - val_loss: 0.4621 - val_acc: 0.7745 - val_mean_absolute_error: 0.3145\n",
      "Epoch 43/80\n",
      "15550/22029 [====================>.........] - ETA: 1:02 - loss: 0.4029 - acc: 0.8320 - mean_absolute_error: 0.2493"
     ]
    },
    {
     "name": "stderr",
     "output_type": "stream",
     "text": [
      "IOPub message rate exceeded.\n",
      "The notebook server will temporarily stop sending output\n",
      "to the client in order to avoid crashing it.\n",
      "To change this limit, set the config variable\n",
      "`--NotebookApp.iopub_msg_rate_limit`.\n",
      "\n",
      "Current values:\n",
      "NotebookApp.iopub_msg_rate_limit=1000.0 (msgs/sec)\n",
      "NotebookApp.rate_limit_window=3.0 (secs)\n",
      "\n"
     ]
    },
    {
     "name": "stdout",
     "output_type": "stream",
     "text": [
      "22029/22029 [==============================] - 227s 10ms/step - loss: 0.3972 - acc: 0.8309 - mean_absolute_error: 0.2455 - val_loss: 0.4332 - val_acc: 0.8039 - val_mean_absolute_error: 0.2830\n",
      "Epoch 45/80\n",
      "22029/22029 [==============================] - 226s 10ms/step - loss: 0.3996 - acc: 0.8290 - mean_absolute_error: 0.2484 - val_loss: 0.4355 - val_acc: 0.8005 - val_mean_absolute_error: 0.2613\n",
      "Epoch 46/80\n",
      " 5110/22029 [=====>........................] - ETA: 2:41 - loss: 0.4067 - acc: 0.8205 - mean_absolute_error: 0.2526"
     ]
    },
    {
     "name": "stderr",
     "output_type": "stream",
     "text": [
      "IOPub message rate exceeded.\n",
      "The notebook server will temporarily stop sending output\n",
      "to the client in order to avoid crashing it.\n",
      "To change this limit, set the config variable\n",
      "`--NotebookApp.iopub_msg_rate_limit`.\n",
      "\n",
      "Current values:\n",
      "NotebookApp.iopub_msg_rate_limit=1000.0 (msgs/sec)\n",
      "NotebookApp.rate_limit_window=3.0 (secs)\n",
      "\n"
     ]
    },
    {
     "name": "stdout",
     "output_type": "stream",
     "text": [
      "22029/22029 [==============================] - 225s 10ms/step - loss: 0.3992 - acc: 0.8317 - mean_absolute_error: 0.2473 - val_loss: 0.4359 - val_acc: 0.7996 - val_mean_absolute_error: 0.2895\n",
      "Epoch 48/80\n",
      "16330/22029 [=====================>........] - ETA: 55s - loss: 0.3980 - acc: 0.8281 - mean_absolute_error: 0.2475"
     ]
    },
    {
     "name": "stderr",
     "output_type": "stream",
     "text": [
      "IOPub message rate exceeded.\n",
      "The notebook server will temporarily stop sending output\n",
      "to the client in order to avoid crashing it.\n",
      "To change this limit, set the config variable\n",
      "`--NotebookApp.iopub_msg_rate_limit`.\n",
      "\n",
      "Current values:\n",
      "NotebookApp.iopub_msg_rate_limit=1000.0 (msgs/sec)\n",
      "NotebookApp.rate_limit_window=3.0 (secs)\n",
      "\n"
     ]
    },
    {
     "name": "stdout",
     "output_type": "stream",
     "text": [
      "22029/22029 [==============================] - 225s 10ms/step - loss: 0.3994 - acc: 0.8275 - mean_absolute_error: 0.2483 - val_loss: 0.4301 - val_acc: 0.8048 - val_mean_absolute_error: 0.2762\n",
      "Epoch 50/80\n",
      "22029/22029 [==============================] - 226s 10ms/step - loss: 0.3993 - acc: 0.8300 - mean_absolute_error: 0.2468 - val_loss: 0.4362 - val_acc: 0.8017 - val_mean_absolute_error: 0.2851\n",
      "Epoch 51/80\n",
      " 5830/22029 [======>.......................] - ETA: 2:37 - loss: 0.4049 - acc: 0.8269 - mean_absolute_error: 0.2523"
     ]
    },
    {
     "name": "stderr",
     "output_type": "stream",
     "text": [
      "IOPub message rate exceeded.\n",
      "The notebook server will temporarily stop sending output\n",
      "to the client in order to avoid crashing it.\n",
      "To change this limit, set the config variable\n",
      "`--NotebookApp.iopub_msg_rate_limit`.\n",
      "\n",
      "Current values:\n",
      "NotebookApp.iopub_msg_rate_limit=1000.0 (msgs/sec)\n",
      "NotebookApp.rate_limit_window=3.0 (secs)\n",
      "\n"
     ]
    },
    {
     "name": "stdout",
     "output_type": "stream",
     "text": [
      "22029/22029 [==============================] - 227s 10ms/step - loss: 0.4022 - acc: 0.8300 - mean_absolute_error: 0.2479 - val_loss: 0.4345 - val_acc: 0.8025 - val_mean_absolute_error: 0.2902\n",
      "Epoch 53/80\n",
      "11750/22029 [===============>..............] - ETA: 1:38 - loss: 0.3987 - acc: 0.8289 - mean_absolute_error: 0.2488"
     ]
    },
    {
     "name": "stderr",
     "output_type": "stream",
     "text": [
      "IOPub message rate exceeded.\n",
      "The notebook server will temporarily stop sending output\n",
      "to the client in order to avoid crashing it.\n",
      "To change this limit, set the config variable\n",
      "`--NotebookApp.iopub_msg_rate_limit`.\n",
      "\n",
      "Current values:\n",
      "NotebookApp.iopub_msg_rate_limit=1000.0 (msgs/sec)\n",
      "NotebookApp.rate_limit_window=3.0 (secs)\n",
      "\n"
     ]
    },
    {
     "name": "stdout",
     "output_type": "stream",
     "text": [
      "22029/22029 [==============================] - 230s 10ms/step - loss: 0.3978 - acc: 0.8292 - mean_absolute_error: 0.2464 - val_loss: 0.4321 - val_acc: 0.8041 - val_mean_absolute_error: 0.2778\n",
      "Epoch 55/80\n",
      "22029/22029 [==============================] - 230s 10ms/step - loss: 0.3987 - acc: 0.8292 - mean_absolute_error: 0.2473 - val_loss: 0.4485 - val_acc: 0.8007 - val_mean_absolute_error: 0.2550\n",
      "Epoch 56/80\n",
      "  690/22029 [..............................] - ETA: 3:28 - loss: 0.4377 - acc: 0.8101 - mean_absolute_error: 0.2627"
     ]
    },
    {
     "name": "stderr",
     "output_type": "stream",
     "text": [
      "IOPub message rate exceeded.\n",
      "The notebook server will temporarily stop sending output\n",
      "to the client in order to avoid crashing it.\n",
      "To change this limit, set the config variable\n",
      "`--NotebookApp.iopub_msg_rate_limit`.\n",
      "\n",
      "Current values:\n",
      "NotebookApp.iopub_msg_rate_limit=1000.0 (msgs/sec)\n",
      "NotebookApp.rate_limit_window=3.0 (secs)\n",
      "\n"
     ]
    },
    {
     "name": "stdout",
     "output_type": "stream",
     "text": [
      "22029/22029 [==============================] - 224s 10ms/step - loss: 0.3983 - acc: 0.8294 - mean_absolute_error: 0.2464 - val_loss: 0.4325 - val_acc: 0.8076 - val_mean_absolute_error: 0.2925\n",
      "Epoch 58/80\n",
      "11950/22029 [===============>..............] - ETA: 1:35 - loss: 0.4042 - acc: 0.8258 - mean_absolute_error: 0.2507"
     ]
    },
    {
     "name": "stderr",
     "output_type": "stream",
     "text": [
      "IOPub message rate exceeded.\n",
      "The notebook server will temporarily stop sending output\n",
      "to the client in order to avoid crashing it.\n",
      "To change this limit, set the config variable\n",
      "`--NotebookApp.iopub_msg_rate_limit`.\n",
      "\n",
      "Current values:\n",
      "NotebookApp.iopub_msg_rate_limit=1000.0 (msgs/sec)\n",
      "NotebookApp.rate_limit_window=3.0 (secs)\n",
      "\n"
     ]
    },
    {
     "name": "stdout",
     "output_type": "stream",
     "text": [
      "22029/22029 [==============================] - 229s 10ms/step - loss: 0.4053 - acc: 0.8259 - mean_absolute_error: 0.2522 - val_loss: 0.4454 - val_acc: 0.7996 - val_mean_absolute_error: 0.3081\n",
      "Epoch 60/80\n",
      "22029/22029 [==============================] - 228s 10ms/step - loss: 0.4065 - acc: 0.8244 - mean_absolute_error: 0.2514 - val_loss: 0.4365 - val_acc: 0.8066 - val_mean_absolute_error: 0.2900\n",
      "Epoch 61/80\n",
      " 1220/22029 [>.............................] - ETA: 3:18 - loss: 0.3861 - acc: 0.8344 - mean_absolute_error: 0.2418"
     ]
    },
    {
     "name": "stderr",
     "output_type": "stream",
     "text": [
      "IOPub message rate exceeded.\n",
      "The notebook server will temporarily stop sending output\n",
      "to the client in order to avoid crashing it.\n",
      "To change this limit, set the config variable\n",
      "`--NotebookApp.iopub_msg_rate_limit`.\n",
      "\n",
      "Current values:\n",
      "NotebookApp.iopub_msg_rate_limit=1000.0 (msgs/sec)\n",
      "NotebookApp.rate_limit_window=3.0 (secs)\n",
      "\n"
     ]
    },
    {
     "name": "stdout",
     "output_type": "stream",
     "text": [
      "22029/22029 [==============================] - 228s 10ms/step - loss: 0.4056 - acc: 0.8239 - mean_absolute_error: 0.2526 - val_loss: 0.4411 - val_acc: 0.8023 - val_mean_absolute_error: 0.3015\n",
      "Epoch 63/80\n",
      "12780/22029 [================>.............] - ETA: 1:29 - loss: 0.3984 - acc: 0.8279 - mean_absolute_error: 0.2473"
     ]
    },
    {
     "name": "stderr",
     "output_type": "stream",
     "text": [
      "IOPub message rate exceeded.\n",
      "The notebook server will temporarily stop sending output\n",
      "to the client in order to avoid crashing it.\n",
      "To change this limit, set the config variable\n",
      "`--NotebookApp.iopub_msg_rate_limit`.\n",
      "\n",
      "Current values:\n",
      "NotebookApp.iopub_msg_rate_limit=1000.0 (msgs/sec)\n",
      "NotebookApp.rate_limit_window=3.0 (secs)\n",
      "\n"
     ]
    },
    {
     "name": "stdout",
     "output_type": "stream",
     "text": [
      "22029/22029 [==============================] - 225s 10ms/step - loss: 0.3986 - acc: 0.8319 - mean_absolute_error: 0.2458 - val_loss: 0.4357 - val_acc: 0.8036 - val_mean_absolute_error: 0.2927\n",
      "Epoch 65/80\n",
      "18300/22029 [=======================>......] - ETA: 35s - loss: 0.3917 - acc: 0.8330 - mean_absolute_error: 0.2422"
     ]
    },
    {
     "name": "stderr",
     "output_type": "stream",
     "text": [
      "IOPub message rate exceeded.\n",
      "The notebook server will temporarily stop sending output\n",
      "to the client in order to avoid crashing it.\n",
      "To change this limit, set the config variable\n",
      "`--NotebookApp.iopub_msg_rate_limit`.\n",
      "\n",
      "Current values:\n",
      "NotebookApp.iopub_msg_rate_limit=1000.0 (msgs/sec)\n",
      "NotebookApp.rate_limit_window=3.0 (secs)\n",
      "\n"
     ]
    },
    {
     "name": "stdout",
     "output_type": "stream",
     "text": [
      "22029/22029 [==============================] - 226s 10ms/step - loss: 0.3977 - acc: 0.8301 - mean_absolute_error: 0.2460 - val_loss: 0.4352 - val_acc: 0.8030 - val_mean_absolute_error: 0.2800\n",
      "Epoch 67/80\n",
      "22029/22029 [==============================] - 225s 10ms/step - loss: 0.3965 - acc: 0.8309 - mean_absolute_error: 0.2460 - val_loss: 0.4425 - val_acc: 0.8001 - val_mean_absolute_error: 0.2942\n",
      "Epoch 68/80\n",
      " 7540/22029 [=========>....................] - ETA: 2:17 - loss: 0.3938 - acc: 0.8353 - mean_absolute_error: 0.2429"
     ]
    },
    {
     "name": "stderr",
     "output_type": "stream",
     "text": [
      "IOPub message rate exceeded.\n",
      "The notebook server will temporarily stop sending output\n",
      "to the client in order to avoid crashing it.\n",
      "To change this limit, set the config variable\n",
      "`--NotebookApp.iopub_msg_rate_limit`.\n",
      "\n",
      "Current values:\n",
      "NotebookApp.iopub_msg_rate_limit=1000.0 (msgs/sec)\n",
      "NotebookApp.rate_limit_window=3.0 (secs)\n",
      "\n"
     ]
    },
    {
     "name": "stdout",
     "output_type": "stream",
     "text": [
      "22029/22029 [==============================] - 225s 10ms/step - loss: 0.3991 - acc: 0.8269 - mean_absolute_error: 0.2477 - val_loss: 0.4491 - val_acc: 0.7981 - val_mean_absolute_error: 0.2734\n",
      "Epoch 70/80\n",
      "18790/22029 [========================>.....] - ETA: 31s - loss: 0.4034 - acc: 0.8243 - mean_absolute_error: 0.2511"
     ]
    },
    {
     "name": "stderr",
     "output_type": "stream",
     "text": [
      "IOPub message rate exceeded.\n",
      "The notebook server will temporarily stop sending output\n",
      "to the client in order to avoid crashing it.\n",
      "To change this limit, set the config variable\n",
      "`--NotebookApp.iopub_msg_rate_limit`.\n",
      "\n",
      "Current values:\n",
      "NotebookApp.iopub_msg_rate_limit=1000.0 (msgs/sec)\n",
      "NotebookApp.rate_limit_window=3.0 (secs)\n",
      "\n"
     ]
    },
    {
     "name": "stdout",
     "output_type": "stream",
     "text": [
      "22029/22029 [==============================] - 228s 10ms/step - loss: 0.3962 - acc: 0.8302 - mean_absolute_error: 0.2443 - val_loss: 0.4522 - val_acc: 0.7994 - val_mean_absolute_error: 0.2787\n",
      "Epoch 73/80\n",
      " 8090/22029 [==========>...................] - ETA: 2:14 - loss: 0.3954 - acc: 0.8334 - mean_absolute_error: 0.2442"
     ]
    },
    {
     "name": "stderr",
     "output_type": "stream",
     "text": [
      "IOPub message rate exceeded.\n",
      "The notebook server will temporarily stop sending output\n",
      "to the client in order to avoid crashing it.\n",
      "To change this limit, set the config variable\n",
      "`--NotebookApp.iopub_msg_rate_limit`.\n",
      "\n",
      "Current values:\n",
      "NotebookApp.iopub_msg_rate_limit=1000.0 (msgs/sec)\n",
      "NotebookApp.rate_limit_window=3.0 (secs)\n",
      "\n"
     ]
    },
    {
     "name": "stdout",
     "output_type": "stream",
     "text": [
      "22029/22029 [==============================] - 226s 10ms/step - loss: 0.4017 - acc: 0.8265 - mean_absolute_error: 0.2490 - val_loss: 0.4386 - val_acc: 0.8017 - val_mean_absolute_error: 0.2754\n",
      "Epoch 75/80\n",
      "19520/22029 [=========================>....] - ETA: 24s - loss: 0.4041 - acc: 0.8251 - mean_absolute_error: 0.2516"
     ]
    },
    {
     "name": "stderr",
     "output_type": "stream",
     "text": [
      "IOPub message rate exceeded.\n",
      "The notebook server will temporarily stop sending output\n",
      "to the client in order to avoid crashing it.\n",
      "To change this limit, set the config variable\n",
      "`--NotebookApp.iopub_msg_rate_limit`.\n",
      "\n",
      "Current values:\n",
      "NotebookApp.iopub_msg_rate_limit=1000.0 (msgs/sec)\n",
      "NotebookApp.rate_limit_window=3.0 (secs)\n",
      "\n"
     ]
    },
    {
     "name": "stdout",
     "output_type": "stream",
     "text": [
      "22029/22029 [==============================] - 229s 10ms/step - loss: 0.4008 - acc: 0.8290 - mean_absolute_error: 0.2472 - val_loss: 0.4531 - val_acc: 0.7974 - val_mean_absolute_error: 0.2635\n",
      "Epoch 78/80\n",
      " 9220/22029 [===========>..................] - ETA: 2:04 - loss: 0.3973 - acc: 0.8315 - mean_absolute_error: 0.2460"
     ]
    },
    {
     "name": "stderr",
     "output_type": "stream",
     "text": [
      "IOPub message rate exceeded.\n",
      "The notebook server will temporarily stop sending output\n",
      "to the client in order to avoid crashing it.\n",
      "To change this limit, set the config variable\n",
      "`--NotebookApp.iopub_msg_rate_limit`.\n",
      "\n",
      "Current values:\n",
      "NotebookApp.iopub_msg_rate_limit=1000.0 (msgs/sec)\n",
      "NotebookApp.rate_limit_window=3.0 (secs)\n",
      "\n"
     ]
    },
    {
     "name": "stdout",
     "output_type": "stream",
     "text": [
      "22029/22029 [==============================] - 229s 10ms/step - loss: 0.4019 - acc: 0.8266 - mean_absolute_error: 0.2490 - val_loss: 0.4340 - val_acc: 0.8043 - val_mean_absolute_error: 0.2734\n",
      "Epoch 80/80\n",
      "20850/22029 [===========================>..] - ETA: 11s - loss: 0.3936 - acc: 0.8321 - mean_absolute_error: 0.2439"
     ]
    },
    {
     "name": "stderr",
     "output_type": "stream",
     "text": [
      "IOPub message rate exceeded.\n",
      "The notebook server will temporarily stop sending output\n",
      "to the client in order to avoid crashing it.\n",
      "To change this limit, set the config variable\n",
      "`--NotebookApp.iopub_msg_rate_limit`.\n",
      "\n",
      "Current values:\n",
      "NotebookApp.iopub_msg_rate_limit=1000.0 (msgs/sec)\n",
      "NotebookApp.rate_limit_window=3.0 (secs)\n",
      "\n"
     ]
    }
   ],
   "source": [
    "%%time\n",
    "\n",
    "test_model_history, test_model_real, most_recent_model_name, model_file_path, history_file_path = continue_training(test_model_real, pic_df.head(NUM_IMAGES), model_name = model_name, image_size=IMAGE_SIZE, y_map=CURR_MAP, epochs=80, train_size = TRAIN_SIZE, metrics = METRICS, batch_size=BATCH_SIZE, model_optimizer=MODEL_OPTIMIZER)\n",
    "\n"
   ]
  },
  {
   "cell_type": "code",
   "execution_count": null,
   "metadata": {},
   "outputs": [],
   "source": []
  }
 ],
 "metadata": {
  "kernelspec": {
   "display_name": "Python 3",
   "language": "python",
   "name": "python3"
  },
  "language_info": {
   "codemirror_mode": {
    "name": "ipython",
    "version": 3
   },
   "file_extension": ".py",
   "mimetype": "text/x-python",
   "name": "python",
   "nbconvert_exporter": "python",
   "pygments_lexer": "ipython3",
   "version": "3.6.6"
  },
  "latex_envs": {
   "LaTeX_envs_menu_present": true,
   "autoclose": false,
   "autocomplete": true,
   "bibliofile": "biblio.bib",
   "cite_by": "apalike",
   "current_citInitial": 1,
   "eqLabelWithNumbers": true,
   "eqNumInitial": 1,
   "hotkeys": {
    "equation": "Ctrl-E",
    "itemize": "Ctrl-I"
   },
   "labels_anchors": false,
   "latex_user_defs": false,
   "report_style_numbering": false,
   "user_envs_cfg": false
  },
  "notify_time": "30",
  "varInspector": {
   "cols": {
    "lenName": 16,
    "lenType": 16,
    "lenVar": 40
   },
   "kernels_config": {
    "python": {
     "delete_cmd_postfix": "",
     "delete_cmd_prefix": "del ",
     "library": "var_list.py",
     "varRefreshCmd": "print(var_dic_list())"
    },
    "r": {
     "delete_cmd_postfix": ") ",
     "delete_cmd_prefix": "rm(",
     "library": "var_list.r",
     "varRefreshCmd": "cat(var_dic_list()) "
    }
   },
   "position": {
    "height": "474px",
    "left": "819px",
    "right": "20px",
    "top": "120px",
    "width": "359px"
   },
   "types_to_exclude": [
    "module",
    "function",
    "builtin_function_or_method",
    "instance",
    "_Feature"
   ],
   "window_display": false
  }
 },
 "nbformat": 4,
 "nbformat_minor": 2
}
