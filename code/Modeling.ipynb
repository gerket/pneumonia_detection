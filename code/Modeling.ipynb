{
 "cells": [
  {
   "cell_type": "markdown",
   "metadata": {},
   "source": [
    "Modeling and testing grounds"
   ]
  },
  {
   "cell_type": "code",
   "execution_count": 28,
   "metadata": {},
   "outputs": [],
   "source": [
    "import glob, pylab, pandas as pd\n",
    "import pydicom, numpy as np\n",
    "\n",
    "from sklearn.model_selection import train_test_split\n",
    "from sklearn.preprocessing import StandardScaler\n",
    "import matplotlib.pyplot as plt\n",
    "\n",
    "%matplotlib inline\n",
    "%config InlineBackend.figure_format = 'retina'\n",
    "\n",
    "from keras.models import Sequential\n",
    "from keras.layers import Dense, Dropout, Activation, Flatten, Conv2D, MaxPooling2D, SpatialDropout2D\n",
    "from keras.utils import to_categorical\n",
    "from keras.models import load_model\n",
    "\n",
    "from numpy.random import seed\n",
    "from tensorflow import set_random_seed\n",
    "\n",
    "from skimage.transform import resize\n",
    "\n",
    "import datetime\n",
    "from tqdm import tqdm_notebook\n",
    "import pickle\n",
    "import sys"
   ]
  },
  {
   "cell_type": "code",
   "execution_count": 2,
   "metadata": {},
   "outputs": [],
   "source": [
    "# Initial setting of random seeds\n",
    "seed(42)\n",
    "set_random_seed(42)"
   ]
  },
  {
   "cell_type": "code",
   "execution_count": 3,
   "metadata": {},
   "outputs": [
    {
     "data": {
      "text/plain": [
       "['/job:localhost/replica:0/task:0/device:GPU:0']"
      ]
     },
     "execution_count": 3,
     "metadata": {},
     "output_type": "execute_result"
    }
   ],
   "source": [
    "# Checking to make sure that I am using 1+ GPU\n",
    "from keras import backend as K\n",
    "K.tensorflow_backend._get_available_gpus()\n"
   ]
  },
  {
   "cell_type": "markdown",
   "metadata": {},
   "source": [
    "## Modeling and Evaluation Functions\n",
    "\n",
    "Writing multiple functions to facilitate creating different datasets, modeling over different datasets and/or different hyperparameters, and evaluating the different models using graphs\n",
    "\n",
    "\n"
   ]
  },
  {
   "cell_type": "code",
   "execution_count": 4,
   "metadata": {
    "code_folding": [
     0
    ]
   },
   "outputs": [],
   "source": [
    "class PnemoniaTargetMapIsWeird(AssertionError):\n",
    "    \"\"\"Raise this when the target is not mapped to 2 or 3 outputs\"\"\"\n",
    "    pass"
   ]
  },
  {
   "cell_type": "code",
   "execution_count": 5,
   "metadata": {
    "code_folding": [
     0
    ]
   },
   "outputs": [],
   "source": [
    "def create_pic_df(data, df_detailed, image_size = (128,128)):\n",
    "    \n",
    "    print('---Enter DataFrame Construction Function---')\n",
    "    \n",
    "    ## Data Prep\n",
    "    # Need to define df_detailed somewhere\n",
    "    data.drop_duplicates(inplace=True)\n",
    "    merged_df = df_detailed.merge(data, on='patientId')\n",
    "    \n",
    "    print('---Create Pixel Array Labels---')\n",
    "    \n",
    "    # Create the column labels for the pixel arrays\n",
    "    pixel_labels = []\n",
    "    for i in range(image_size[0] * image_size[1]):\n",
    "        pixel_labels.append(\"pixel\"+str(i))\n",
    "    \n",
    "    print('---Create Total Pixel Array---')\n",
    "    \n",
    "    # Create the total pixel array\n",
    "    huge_pixel_array = []\n",
    "    for o in tqdm_notebook(range(merged_df.shape[0])):\n",
    "        # Get the image data\n",
    "        patientId = merged_df.iloc[o]['patientId']\n",
    "        dcm_file = '../data/stage_1_train_images/%s.dcm' % patientId\n",
    "        dcm_data = pydicom.read_file(dcm_file)\n",
    "        im = dcm_data.pixel_array\n",
    "\n",
    "        # Convert the image into a 1d array of pixels\n",
    "        curr_pixel_array = []\n",
    "        for i in resize(im, image_size): \n",
    "            curr_pixel_array.extend(i)\n",
    "        huge_pixel_array.append(curr_pixel_array)\n",
    "\n",
    "    print('---Create Dataframe---')\n",
    "        \n",
    "    # Creating the DataFrame\n",
    "    temp = pd.DataFrame(data = huge_pixel_array, columns = pixel_labels)\n",
    "    temp['class'] = merged_df['class']\n",
    "    return temp"
   ]
  },
  {
   "cell_type": "code",
   "execution_count": 40,
   "metadata": {},
   "outputs": [],
   "source": [
    "def model(data, model_name = \"default_model_name\", image_size = (128,128), y_map = {\n",
    "    \"Lung Opacity\":1,\n",
    "    \"No Lung Opacity / Not Normal\":0,\n",
    "    \"Normal\":2\n",
    "}, epochs = 20, train_size = 0.75, metrics = ['accuracy'], batch_size = 10, model_optimizer = 'adam', verbose = 1):\n",
    "    \"\"\"\n",
    "    Args:\n",
    "        data (Pandas DataFrame): cols=['class', all of the pixel data]\n",
    "        \n",
    "        model_name (str): The name with which to save the model\n",
    "        \n",
    "        image_size (touple: (int,int)): The width and height in pixels to scale the images. Max 1024x1024. This might be more finickey that I would've thought.\n",
    "        \n",
    "        y_map (dict): A dictionary mapping the target values to integers ([0,1] or [0,1,2])\n",
    "        \n",
    "        epochs (int): Number of epochs to train the model over\n",
    "        \n",
    "        train_size (float): Denotes the percentage of data to use for training as opposed to testing. Between 0. and 1.  \n",
    "        \n",
    "        metrics (list): list of strings metric names with which to measure the model's performance\n",
    "        \n",
    "        batch_size (int): Number of images to use\n",
    "        \n",
    "        model_optimizer (string or optimizer object): Determines which optimizer for the model to use.\n",
    "        \n",
    "        verbose (int): Verbose option for model training. (0, 1, 2)\n",
    "        \n",
    "        \n",
    "    Returns:\n",
    "        Keras Model fit on the data.\n",
    "        Saves the model to ../data/models/model_name datetime.h5\n",
    "    \"\"\"\n",
    "    print('---Enter Function---')\n",
    "    \n",
    "    # Setting the seeds every time I do another model so that I can make sure to have reproducible results\n",
    "    seed(42)\n",
    "    set_random_seed(42)\n",
    "\n",
    "    # Create target\n",
    "    y = data['class']\n",
    "    y = y.map(lambda x: y_map[x])\n",
    "    \n",
    "    # Train Test Split\n",
    "    X_train, X_test, y_train, y_test = train_test_split(data.drop(columns='class'), y, \n",
    "                                                        stratify=y, random_state=42, train_size = train_size)\n",
    "    \n",
    "    # Transform target into arrays of integers\n",
    "    y_train_c = to_categorical(y_train)\n",
    "    y_test_c = to_categorical(y_test)\n",
    "    \n",
    "    # Reshape the X_train and X_test \n",
    "    X_train_re = X_train.values.reshape(X_train.shape[0], image_size[0], image_size[1], 1)\n",
    "    X_test_re = X_test.values.reshape(X_test.shape[0], image_size[0], image_size[1], 1)\n",
    "    \n",
    "    print('---Modeling Initialization---')\n",
    "    \n",
    "    ## Modeling\n",
    "    # Initialize Model\n",
    "    model_convolutional = Sequential()\n",
    "\n",
    "    # First Conv / Pool \n",
    "    model_convolutional.add(Conv2D(filters = 8,\n",
    "                                   kernel_size = 3,\n",
    "                                   activation = 'relu',\n",
    "                                   input_shape = (image_size[0], image_size[1], 1)\n",
    "                                  ))\n",
    "    model_convolutional.add(MaxPooling2D(pool_size=(2,2)))\n",
    "    \n",
    "#    model_convolutional.add(SpatialDropout2D(0.5)) #not included\n",
    "\n",
    "    # Second Conv/ Pool\n",
    "    model_convolutional.add(Conv2D(filters=18, \n",
    "                                   kernel_size=3, \n",
    "                                   activation='relu'))\n",
    "    model_convolutional.add(MaxPooling2D(pool_size=(2,2)))\n",
    "\n",
    "    # Flatten\n",
    "    model_convolutional.add(Dropout(0.7)) #dropout\n",
    "    model_convolutional.add(Flatten())\n",
    "\n",
    "    # Densely Connected Layers\n",
    "    model_convolutional.add(Dense(600, activation='relu'))\n",
    "    model_convolutional.add(Dropout(0.4))\n",
    "    model_convolutional.add(Dense(150, activation='relu'))\n",
    "    model_convolutional.add(Dropout(0.4))\n",
    "    #model_convolutional.add(Dense( 40, activation='relu'))\n",
    "    \n",
    "    # Output Layer\n",
    "    if len(set(y_map.values())) == 3:\n",
    "        model_convolutional.add(Dense(3, activation='softmax'))\n",
    "    elif len(set(y_map.values())) == 2:\n",
    "        model_convolutional.add(Dense(2, activation='softmax'))\n",
    "    else:\n",
    "        raise PnemoniaTargetMapIsWeird(\"target is not mapped to 2 or 3 outputs\")\n",
    "\n",
    "\n",
    "    model_convolutional.compile(loss = 'categorical_crossentropy', \n",
    "                            optimizer = model_optimizer, #'sgd', #adam\n",
    "                            metrics = metrics)\n",
    "    \n",
    "    print('---Modeling Training---')\n",
    "    \n",
    "    # Train Model\n",
    "    trained_convolutional = model_convolutional.fit(X_train_re,\n",
    "                        y_train_c,\n",
    "                        batch_size = batch_size,\n",
    "                        epochs = epochs,\n",
    "                        verbose = verbose,\n",
    "                        validation_data = (X_test_re, y_test_c)\n",
    "                       )\n",
    "\n",
    "\n",
    "    file_name = '../data/models/' + model_name + ' ' + str(datetime.datetime.now()) \n",
    "\n",
    "    # History encompasses the model so this is redundant\n",
    "#     # Save Model        \n",
    "#     try:\n",
    "    model_file_name = file_name + '_model.h5'\n",
    "#         model_convolutional.save(model_file_name)\n",
    "#         print('Model saved as: ' + model_file_name)\n",
    "        \n",
    "#     except Exception as e:\n",
    "#         print('+++++Model did not save++++++')\n",
    "#         print(e)\n",
    "        \n",
    "    # Save History\n",
    "    try:\n",
    "        history_file_name = file_name + '_history.pk'\n",
    "        pickle_file = open(history_file_name, 'wb')\n",
    "        pickle.dump(trained_convolutional, pickle_file) \n",
    "        pickle_file.close()\n",
    "        print('History saved as: ' + history_file_name)\n",
    "        \n",
    "    except Exception as e:\n",
    "        print('+++++History did not save++++++')\n",
    "        print(e)\n",
    "        \n",
    "        \n",
    "    return trained_convolutional, model_convolutional, file_name[15:], model_file_name, history_file_name\n",
    "\n"
   ]
  },
  {
   "cell_type": "code",
   "execution_count": 7,
   "metadata": {
    "code_folding": [
     2
    ]
   },
   "outputs": [],
   "source": [
    "# Function that displays pertinant information regarding the quality of the model\n",
    "\n",
    "def evaluate_model (model, model_name = 'default', size=6):\n",
    "    \n",
    "    \"\"\"\n",
    "    Args:\n",
    "        model: A trained model with \n",
    "        \n",
    "    Output:\n",
    "        Returns nothing. Prints out - plots comparing test set with training set on \n",
    "        each of the metrics (minimum: loss).\n",
    "    \n",
    "    \"\"\"\n",
    "    \n",
    "    # checking out the different classes in the testing case and predictions\n",
    "    \n",
    "    # confusion matrix?\n",
    "    \n",
    "    keys=[]\n",
    "    for i in model.history.keys():\n",
    "        if i[0:3] != 'val':\n",
    "            keys.append(i)\n",
    "    \n",
    "    fig, ax = plt.subplots(len(keys), 1, figsize = (size, size*len(keys))) \n",
    "    fig.suptitle('Model: ' + model_name, fontsize=16)\n",
    "    \n",
    "    index = 0\n",
    "    for i in keys:\n",
    "        # Plot of the Loss for the train and testingsets\n",
    "        ax[index].plot(model.history[i], label=i.capitalize())\n",
    "        ax[index].plot(model.history['val_'+i], label='Val '+i.capitalize())\n",
    "        ax[index].legend()\n",
    "        ax[index].set_title(i.capitalize())\n",
    "        index+=1\n"
   ]
  },
  {
   "cell_type": "code",
   "execution_count": 70,
   "metadata": {},
   "outputs": [],
   "source": [
    "def continue_training(old_model, data, model_name = \"default_model_name\", image_size = (128,128), y_map = {\n",
    "    \"Lung Opacity\":1,\n",
    "    \"No Lung Opacity / Not Normal\":0,\n",
    "    \"Normal\":2\n",
    "}, epochs = 20, train_size = 0.75, metrics = ['accuracy'], batch_size = 10, model_optimizer = 'adam', verbose = 1):\n",
    "    \n",
    "    \"\"\"\n",
    "    Continue training a previously trained model.\n",
    "    \"\"\"\n",
    "    \n",
    "    seed(42)\n",
    "    set_random_seed(42)\n",
    "\n",
    "    # Create target\n",
    "    y = data['class']\n",
    "    y = y.map(lambda x: y_map[x])\n",
    "    \n",
    "    # Train Test Split\n",
    "    X_train, X_test, y_train, y_test = train_test_split(data.drop(columns='class'), y, \n",
    "                                                        stratify=y, random_state=42, train_size = train_size)\n",
    "    \n",
    "    # Transform target into arrays of integers\n",
    "    y_train_c = to_categorical(y_train)\n",
    "    y_test_c = to_categorical(y_test)\n",
    "    \n",
    "    # Reshape the X_train and X_test \n",
    "    X_train_re = X_train.values.reshape(X_train.shape[0], image_size[0], image_size[1], 1)\n",
    "    X_test_re = X_test.values.reshape(X_test.shape[0], image_size[0], image_size[1], 1)\n",
    "    \n",
    "\n",
    "    old_model.fit(X_train_re,\n",
    "                        y_train_c,\n",
    "                        batch_size = batch_size,\n",
    "                        epochs = epochs,\n",
    "                        verbose = verbose,\n",
    "                        validation_data = (X_test_re, y_test_c)\n",
    "                       )\n",
    "\n",
    "    file_name = '../data/models/' + model_name + ' ' + str(datetime.datetime.now()) \n",
    "\n",
    "    # Save Model        \n",
    "    try:\n",
    "        model_file_name = file_name + '_model.h5'\n",
    "        model_convolutional.save(model_file_name)\n",
    "        print('Model saved as: ' + model_file_name)\n",
    "        \n",
    "    except Exception as e:\n",
    "        print('+++++Model did not save++++++')\n",
    "        print(e)\n",
    "        \n",
    "    # Save History\n",
    "    try:\n",
    "        history_file_name = file_name + '_history.pk'\n",
    "        pickle_file = open(history_file_name, 'wb')\n",
    "        pickle.dump(trained_convolutional, pickle_file) \n",
    "        pickle_file.close()\n",
    "        print('History saved as: ' + history_file_name)\n",
    "        \n",
    "    except Exception as e:\n",
    "        print('+++++History did not save++++++')\n",
    "        print(e)\n",
    "        \n",
    "        \n",
    "    return trained_convolutional, model_convolutional, file_name[15:], model_file_name, history_file_name\n",
    "\n"
   ]
  },
  {
   "cell_type": "code",
   "execution_count": null,
   "metadata": {},
   "outputs": [],
   "source": []
  },
  {
   "cell_type": "code",
   "execution_count": null,
   "metadata": {},
   "outputs": [],
   "source": []
  },
  {
   "cell_type": "markdown",
   "metadata": {},
   "source": [
    "## Initial Variables"
   ]
  },
  {
   "cell_type": "code",
   "execution_count": 22,
   "metadata": {
    "code_folding": []
   },
   "outputs": [],
   "source": [
    "# Lung Opacity == Pneumonia\n",
    "y_map_3 = { # Normal, Pneumonia, or not normal but not pneumonia\n",
    "    \"Lung Opacity\":1,\n",
    "    \"No Lung Opacity / Not Normal\":0,\n",
    "    \"Normal\":2\n",
    "}\n",
    "\n",
    "y_map_2 = { # Either Pneumonia or Not Pneumonia\n",
    "    \"Lung Opacity\":1,\n",
    "    \"No Lung Opacity / Not Normal\":0,\n",
    "    \"Normal\":0\n",
    "}\n",
    "\n",
    "adult_data = pd.read_csv('../data/adult_patient_data.csv')\n",
    "df_detailed = pd.read_csv('../data/stage_1_detailed_class_info.csv')\n"
   ]
  },
  {
   "cell_type": "code",
   "execution_count": 9,
   "metadata": {},
   "outputs": [],
   "source": [
    "models = {}"
   ]
  },
  {
   "cell_type": "markdown",
   "metadata": {
    "heading_collapsed": true
   },
   "source": [
    "## Some Initial Modeling"
   ]
  },
  {
   "cell_type": "code",
   "execution_count": 9,
   "metadata": {
    "hidden": true
   },
   "outputs": [],
   "source": [
    "# Current Parameters\n",
    "options = 3\n",
    "\n",
    "\n",
    "NUM_IMAGES = 6000 #pic_df.shape[0]\n",
    "EPOCHS = 20\n",
    "IMAGE_SIZE = (128,128)\n",
    "TRAIN_SIZE = 0.8\n",
    "METRICS = ['accuracy']\n",
    "\n",
    "if options == 2:\n",
    "    CURR_MAP = y_map_2\n",
    "    model_name = 'adult_data_2_options'\n",
    "elif options == 3:\n",
    "    CURR_MAP = y_map_3\n",
    "    model_name = 'adult_data_3_options'\n",
    "else:\n",
    "    raise PnemoniaTargetMapIsWeird('Set \"option\" to 2 or 3')\n"
   ]
  },
  {
   "cell_type": "code",
   "execution_count": 10,
   "metadata": {
    "code_folding": [],
    "hidden": true
   },
   "outputs": [
    {
     "name": "stdout",
     "output_type": "stream",
     "text": [
      "---Enter DataFrame Construction Function---\n",
      "---Create Pixel Array Labels---\n",
      "---Create Total Pixel Array---\n"
     ]
    },
    {
     "data": {
      "application/vnd.jupyter.widget-view+json": {
       "model_id": "c879b88bd209480a907f40d4e5eeacca",
       "version_major": 2,
       "version_minor": 0
      },
      "text/plain": [
       "HBox(children=(IntProgress(value=0, max=27537), HTML(value='')))"
      ]
     },
     "metadata": {},
     "output_type": "display_data"
    },
    {
     "name": "stdout",
     "output_type": "stream",
     "text": [
      "\n"
     ]
    },
    {
     "ename": "FileNotFoundError",
     "evalue": "[Errno 2] No such file or directory: '../data/stage_1_train_images/0004cfab-14fd-4e49-80ba-63a80b6bddd6.dcm'",
     "output_type": "error",
     "traceback": [
      "\u001b[0;31m---------------------------------------------------------------------------\u001b[0m",
      "\u001b[0;31mFileNotFoundError\u001b[0m                         Traceback (most recent call last)",
      "\u001b[0;32m<timed exec>\u001b[0m in \u001b[0;36m<module>\u001b[0;34m()\u001b[0m\n",
      "\u001b[0;32m<ipython-input-4-95c5478142bd>\u001b[0m in \u001b[0;36mcreate_pic_df\u001b[0;34m(data, df_detailed, image_size)\u001b[0m\n\u001b[1;32m     23\u001b[0m         \u001b[0mpatientId\u001b[0m \u001b[0;34m=\u001b[0m \u001b[0mmerged_df\u001b[0m\u001b[0;34m.\u001b[0m\u001b[0miloc\u001b[0m\u001b[0;34m[\u001b[0m\u001b[0mo\u001b[0m\u001b[0;34m]\u001b[0m\u001b[0;34m[\u001b[0m\u001b[0;34m'patientId'\u001b[0m\u001b[0;34m]\u001b[0m\u001b[0;34m\u001b[0m\u001b[0m\n\u001b[1;32m     24\u001b[0m         \u001b[0mdcm_file\u001b[0m \u001b[0;34m=\u001b[0m \u001b[0;34m'../data/stage_1_train_images/%s.dcm'\u001b[0m \u001b[0;34m%\u001b[0m \u001b[0mpatientId\u001b[0m\u001b[0;34m\u001b[0m\u001b[0m\n\u001b[0;32m---> 25\u001b[0;31m         \u001b[0mdcm_data\u001b[0m \u001b[0;34m=\u001b[0m \u001b[0mpydicom\u001b[0m\u001b[0;34m.\u001b[0m\u001b[0mread_file\u001b[0m\u001b[0;34m(\u001b[0m\u001b[0mdcm_file\u001b[0m\u001b[0;34m)\u001b[0m\u001b[0;34m\u001b[0m\u001b[0m\n\u001b[0m\u001b[1;32m     26\u001b[0m         \u001b[0mim\u001b[0m \u001b[0;34m=\u001b[0m \u001b[0mdcm_data\u001b[0m\u001b[0;34m.\u001b[0m\u001b[0mpixel_array\u001b[0m\u001b[0;34m\u001b[0m\u001b[0m\n\u001b[1;32m     27\u001b[0m \u001b[0;34m\u001b[0m\u001b[0m\n",
      "\u001b[0;32m~/anaconda3/envs/py36/lib/python3.6/site-packages/pydicom/filereader.py\u001b[0m in \u001b[0;36mdcmread\u001b[0;34m(fp, defer_size, stop_before_pixels, force, specific_tags)\u001b[0m\n\u001b[1;32m    854\u001b[0m         \u001b[0;32mexcept\u001b[0m \u001b[0mException\u001b[0m\u001b[0;34m:\u001b[0m\u001b[0;34m\u001b[0m\u001b[0m\n\u001b[1;32m    855\u001b[0m             \u001b[0mlogger\u001b[0m\u001b[0;34m.\u001b[0m\u001b[0mdebug\u001b[0m\u001b[0;34m(\u001b[0m\u001b[0;34m\"Reading file '{0}'\"\u001b[0m\u001b[0;34m.\u001b[0m\u001b[0mformat\u001b[0m\u001b[0;34m(\u001b[0m\u001b[0mfp\u001b[0m\u001b[0;34m)\u001b[0m\u001b[0;34m)\u001b[0m\u001b[0;34m\u001b[0m\u001b[0m\n\u001b[0;32m--> 856\u001b[0;31m         \u001b[0mfp\u001b[0m \u001b[0;34m=\u001b[0m \u001b[0mopen\u001b[0m\u001b[0;34m(\u001b[0m\u001b[0mfp\u001b[0m\u001b[0;34m,\u001b[0m \u001b[0;34m'rb'\u001b[0m\u001b[0;34m)\u001b[0m\u001b[0;34m\u001b[0m\u001b[0m\n\u001b[0m\u001b[1;32m    857\u001b[0m \u001b[0;34m\u001b[0m\u001b[0m\n\u001b[1;32m    858\u001b[0m     \u001b[0;32mif\u001b[0m \u001b[0mconfig\u001b[0m\u001b[0;34m.\u001b[0m\u001b[0mdebugging\u001b[0m\u001b[0;34m:\u001b[0m\u001b[0;34m\u001b[0m\u001b[0m\n",
      "\u001b[0;31mFileNotFoundError\u001b[0m: [Errno 2] No such file or directory: '../data/stage_1_train_images/0004cfab-14fd-4e49-80ba-63a80b6bddd6.dcm'"
     ]
    }
   ],
   "source": [
    "%%time\n",
    "\n",
    "pic_df = create_pic_df(adult_data, df_detailed=df_detailed, image_size=IMAGE_SIZE)"
   ]
  },
  {
   "cell_type": "code",
   "execution_count": 36,
   "metadata": {
    "hidden": true,
    "scrolled": true
   },
   "outputs": [
    {
     "name": "stdout",
     "output_type": "stream",
     "text": [
      "---Enter Function---\n"
     ]
    },
    {
     "name": "stderr",
     "output_type": "stream",
     "text": [
      "/home/ec2-user/anaconda3/envs/py36/lib/python3.6/site-packages/sklearn/model_selection/_split.py:2026: FutureWarning: From version 0.21, test_size will always complement train_size unless both are specified.\n",
      "  FutureWarning)\n"
     ]
    },
    {
     "name": "stdout",
     "output_type": "stream",
     "text": [
      "---Modeling---\n",
      "Train on 4800 samples, validate on 1200 samples\n",
      "Epoch 1/20\n",
      "4800/4800 [==============================] - 27s 6ms/step - loss: 0.9727 - acc: 0.5121 - val_loss: 0.8885 - val_acc: 0.5925\n",
      "Epoch 2/20\n",
      "4800/4800 [==============================] - 26s 5ms/step - loss: 0.8916 - acc: 0.5648 - val_loss: 0.8520 - val_acc: 0.6017\n",
      "Epoch 3/20\n",
      "4800/4800 [==============================] - 26s 5ms/step - loss: 0.8686 - acc: 0.5823 - val_loss: 0.8462 - val_acc: 0.5975\n",
      "Epoch 4/20\n",
      "4800/4800 [==============================] - 26s 5ms/step - loss: 0.8549 - acc: 0.5958 - val_loss: 0.8598 - val_acc: 0.6042\n",
      "Epoch 5/20\n",
      "4800/4800 [==============================] - 26s 5ms/step - loss: 0.8401 - acc: 0.6002 - val_loss: 0.8355 - val_acc: 0.6183\n",
      "Epoch 6/20\n",
      "4800/4800 [==============================] - 26s 5ms/step - loss: 0.8034 - acc: 0.6202 - val_loss: 0.8302 - val_acc: 0.6108\n",
      "Epoch 7/20\n",
      "4800/4800 [==============================] - 26s 5ms/step - loss: 0.8031 - acc: 0.6227 - val_loss: 0.8121 - val_acc: 0.6208\n",
      "Epoch 8/20\n",
      "4800/4800 [==============================] - 26s 5ms/step - loss: 0.7802 - acc: 0.6427 - val_loss: 0.7983 - val_acc: 0.6217\n",
      "Epoch 9/20\n",
      "4800/4800 [==============================] - 26s 5ms/step - loss: 0.7618 - acc: 0.6523 - val_loss: 0.8163 - val_acc: 0.6200\n",
      "Epoch 10/20\n",
      "4800/4800 [==============================] - 26s 5ms/step - loss: 0.7436 - acc: 0.6567 - val_loss: 0.8048 - val_acc: 0.6258\n",
      "Epoch 11/20\n",
      "4800/4800 [==============================] - 26s 5ms/step - loss: 0.7278 - acc: 0.6702 - val_loss: 0.8330 - val_acc: 0.6317\n",
      "Epoch 12/20\n",
      "4800/4800 [==============================] - 26s 5ms/step - loss: 0.7030 - acc: 0.6773 - val_loss: 0.8347 - val_acc: 0.6150\n",
      "Epoch 13/20\n",
      "4800/4800 [==============================] - 26s 5ms/step - loss: 0.6814 - acc: 0.6890 - val_loss: 0.8025 - val_acc: 0.6458\n",
      "Epoch 14/20\n",
      "4800/4800 [==============================] - 26s 5ms/step - loss: 0.6805 - acc: 0.6908 - val_loss: 0.7922 - val_acc: 0.6442\n",
      "Epoch 15/20\n",
      "4800/4800 [==============================] - 26s 5ms/step - loss: 0.6575 - acc: 0.7106 - val_loss: 0.7922 - val_acc: 0.6583\n",
      "Epoch 16/20\n",
      "4800/4800 [==============================] - 26s 5ms/step - loss: 0.6303 - acc: 0.7150 - val_loss: 0.8029 - val_acc: 0.6500\n",
      "Epoch 17/20\n",
      "4800/4800 [==============================] - 26s 5ms/step - loss: 0.6040 - acc: 0.7327 - val_loss: 0.8119 - val_acc: 0.6533\n",
      "Epoch 18/20\n",
      "4800/4800 [==============================] - 26s 5ms/step - loss: 0.5976 - acc: 0.7377 - val_loss: 0.7723 - val_acc: 0.6633\n",
      "Epoch 19/20\n",
      "4800/4800 [==============================] - 26s 5ms/step - loss: 0.5752 - acc: 0.7496 - val_loss: 0.7817 - val_acc: 0.6533\n",
      "Epoch 20/20\n",
      "4800/4800 [==============================] - 26s 5ms/step - loss: 0.5512 - acc: 0.7617 - val_loss: 0.8025 - val_acc: 0.6567\n",
      "Model saved as: ../data/models/adult_data_3_options 2018-10-16 23:03:21.173330.h5\n",
      "CPU times: user 36min 41s, sys: 11min 33s, total: 48min 15s\n",
      "Wall time: 8min 38s\n"
     ]
    }
   ],
   "source": [
    "%%time\n",
    "\n",
    "\n",
    "\n",
    "test_model_history, test_model_real, most_recent_model_name = model(pic_df.head(NUM_IMAGES), model_name = model_name, image_size=IMAGE_SIZE, y_map=CURR_MAP, EPOCHS=EPOCHS, train_size = TRAIN_SIZE, metrics = METRICS)\n",
    "\n"
   ]
  },
  {
   "cell_type": "code",
   "execution_count": 91,
   "metadata": {
    "code_folding": [],
    "hidden": true
   },
   "outputs": [],
   "source": [
    "models[most_recent_model_name] = {\n",
    "    'NUM_IMAGES':NUM_IMAGES,\n",
    "    'history':test_model_history,\n",
    "    'EPOCHS':EPOCHS,\n",
    "    'IMAGE_SIZE':IMAGE_SIZE,\n",
    "    'Y_MAP':CURR_MAP,\n",
    "    'TRAIN_SIZE':TRAIN_SIZE,\n",
    "    'accuracy_scores':{\n",
    "        'train':test_model_history.history['acc'][-1],\n",
    "        'test':test_model_history.history['val_acc'][-1]\n",
    "    }\n",
    "}\n",
    "\n",
    "# Save the list of models and parameters \n",
    "model_pickle_file_name = 'models.pk'\n",
    "file_object = open(model_pickle_file_name,'wb')\n",
    "pickle.dump(models, file_object)\n",
    "file_object.close()\n"
   ]
  },
  {
   "cell_type": "code",
   "execution_count": 73,
   "metadata": {
    "hidden": true,
    "scrolled": false
   },
   "outputs": [
    {
     "data": {
      "image/png": "[encoded data removed]",
      "text/plain": [
       "<Figure size 432x864 with 2 Axes>"
      ]
     },
     "metadata": {
      "image/png": {
       "height": 769,
       "width": 484
      },
      "needs_background": "light"
     },
     "output_type": "display_data"
    }
   ],
   "source": [
    "graph_size = 6\n",
    "evaluate_model(test_model_history, most_recent_model_name, size=graph_size)\n"
   ]
  },
  {
   "cell_type": "code",
   "execution_count": 78,
   "metadata": {
    "hidden": true
   },
   "outputs": [
    {
     "data": {
      "text/plain": [
       "{'name': 'sequential_2',\n",
       " 'layers': [{'class_name': 'Conv2D',\n",
       "   'config': {'name': 'conv2d_3',\n",
       "    'trainable': True,\n",
       "    'batch_input_shape': (None, 128, 128, 1),\n",
       "    'dtype': 'float32',\n",
       "    'filters': 6,\n",
       "    'kernel_size': (3, 3),\n",
       "    'strides': (1, 1),\n",
       "    'padding': 'valid',\n",
       "    'data_format': 'channels_last',\n",
       "    'dilation_rate': (1, 1),\n",
       "    'activation': 'relu',\n",
       "    'use_bias': True,\n",
       "    'kernel_initializer': {'class_name': 'VarianceScaling',\n",
       "     'config': {'scale': 1.0,\n",
       "      'mode': 'fan_avg',\n",
       "      'distribution': 'uniform',\n",
       "      'seed': None}},\n",
       "    'bias_initializer': {'class_name': 'Zeros', 'config': {}},\n",
       "    'kernel_regularizer': None,\n",
       "    'bias_regularizer': None,\n",
       "    'activity_regularizer': None,\n",
       "    'kernel_constraint': None,\n",
       "    'bias_constraint': None}},\n",
       "  {'class_name': 'MaxPooling2D',\n",
       "   'config': {'name': 'max_pooling2d_3',\n",
       "    'trainable': True,\n",
       "    'pool_size': (2, 2),\n",
       "    'padding': 'valid',\n",
       "    'strides': (2, 2),\n",
       "    'data_format': 'channels_last'}},\n",
       "  {'class_name': 'Conv2D',\n",
       "   'config': {'name': 'conv2d_4',\n",
       "    'trainable': True,\n",
       "    'filters': 16,\n",
       "    'kernel_size': (3, 3),\n",
       "    'strides': (1, 1),\n",
       "    'padding': 'valid',\n",
       "    'data_format': 'channels_last',\n",
       "    'dilation_rate': (1, 1),\n",
       "    'activation': 'relu',\n",
       "    'use_bias': True,\n",
       "    'kernel_initializer': {'class_name': 'VarianceScaling',\n",
       "     'config': {'scale': 1.0,\n",
       "      'mode': 'fan_avg',\n",
       "      'distribution': 'uniform',\n",
       "      'seed': None}},\n",
       "    'bias_initializer': {'class_name': 'Zeros', 'config': {}},\n",
       "    'kernel_regularizer': None,\n",
       "    'bias_regularizer': None,\n",
       "    'activity_regularizer': None,\n",
       "    'kernel_constraint': None,\n",
       "    'bias_constraint': None}},\n",
       "  {'class_name': 'MaxPooling2D',\n",
       "   'config': {'name': 'max_pooling2d_4',\n",
       "    'trainable': True,\n",
       "    'pool_size': (2, 2),\n",
       "    'padding': 'valid',\n",
       "    'strides': (2, 2),\n",
       "    'data_format': 'channels_last'}},\n",
       "  {'class_name': 'Dropout',\n",
       "   'config': {'name': 'dropout_4',\n",
       "    'trainable': True,\n",
       "    'rate': 0.8,\n",
       "    'noise_shape': None,\n",
       "    'seed': None}},\n",
       "  {'class_name': 'Flatten',\n",
       "   'config': {'name': 'flatten_2',\n",
       "    'trainable': True,\n",
       "    'data_format': 'channels_last'}},\n",
       "  {'class_name': 'Dense',\n",
       "   'config': {'name': 'dense_4',\n",
       "    'trainable': True,\n",
       "    'units': 512,\n",
       "    'activation': 'relu',\n",
       "    'use_bias': True,\n",
       "    'kernel_initializer': {'class_name': 'VarianceScaling',\n",
       "     'config': {'scale': 1.0,\n",
       "      'mode': 'fan_avg',\n",
       "      'distribution': 'uniform',\n",
       "      'seed': None}},\n",
       "    'bias_initializer': {'class_name': 'Zeros', 'config': {}},\n",
       "    'kernel_regularizer': None,\n",
       "    'bias_regularizer': None,\n",
       "    'activity_regularizer': None,\n",
       "    'kernel_constraint': None,\n",
       "    'bias_constraint': None}},\n",
       "  {'class_name': 'Dropout',\n",
       "   'config': {'name': 'dropout_5',\n",
       "    'trainable': True,\n",
       "    'rate': 0.5,\n",
       "    'noise_shape': None,\n",
       "    'seed': None}},\n",
       "  {'class_name': 'Dense',\n",
       "   'config': {'name': 'dense_5',\n",
       "    'trainable': True,\n",
       "    'units': 128,\n",
       "    'activation': 'relu',\n",
       "    'use_bias': True,\n",
       "    'kernel_initializer': {'class_name': 'VarianceScaling',\n",
       "     'config': {'scale': 1.0,\n",
       "      'mode': 'fan_avg',\n",
       "      'distribution': 'uniform',\n",
       "      'seed': None}},\n",
       "    'bias_initializer': {'class_name': 'Zeros', 'config': {}},\n",
       "    'kernel_regularizer': None,\n",
       "    'bias_regularizer': None,\n",
       "    'activity_regularizer': None,\n",
       "    'kernel_constraint': None,\n",
       "    'bias_constraint': None}},\n",
       "  {'class_name': 'Dropout',\n",
       "   'config': {'name': 'dropout_6',\n",
       "    'trainable': True,\n",
       "    'rate': 0.5,\n",
       "    'noise_shape': None,\n",
       "    'seed': None}},\n",
       "  {'class_name': 'Dense',\n",
       "   'config': {'name': 'dense_6',\n",
       "    'trainable': True,\n",
       "    'units': 3,\n",
       "    'activation': 'softmax',\n",
       "    'use_bias': True,\n",
       "    'kernel_initializer': {'class_name': 'VarianceScaling',\n",
       "     'config': {'scale': 1.0,\n",
       "      'mode': 'fan_avg',\n",
       "      'distribution': 'uniform',\n",
       "      'seed': None}},\n",
       "    'bias_initializer': {'class_name': 'Zeros', 'config': {}},\n",
       "    'kernel_regularizer': None,\n",
       "    'bias_regularizer': None,\n",
       "    'activity_regularizer': None,\n",
       "    'kernel_constraint': None,\n",
       "    'bias_constraint': None}}]}"
      ]
     },
     "execution_count": 78,
     "metadata": {},
     "output_type": "execute_result"
    }
   ],
   "source": [
    "# This shows the different levels in my NN\n",
    "test_model_history.model.get_config()"
   ]
  },
  {
   "cell_type": "code",
   "execution_count": 82,
   "metadata": {
    "hidden": true
   },
   "outputs": [
    {
     "data": {
      "text/plain": [
       "{'name': 'sequential_2',\n",
       " 'layers': [{'class_name': 'Conv2D',\n",
       "   'config': {'name': 'conv2d_3',\n",
       "    'trainable': True,\n",
       "    'batch_input_shape': (None, 128, 128, 1),\n",
       "    'dtype': 'float32',\n",
       "    'filters': 6,\n",
       "    'kernel_size': (3, 3),\n",
       "    'strides': (1, 1),\n",
       "    'padding': 'valid',\n",
       "    'data_format': 'channels_last',\n",
       "    'dilation_rate': (1, 1),\n",
       "    'activation': 'relu',\n",
       "    'use_bias': True,\n",
       "    'kernel_initializer': {'class_name': 'VarianceScaling',\n",
       "     'config': {'scale': 1.0,\n",
       "      'mode': 'fan_avg',\n",
       "      'distribution': 'uniform',\n",
       "      'seed': None}},\n",
       "    'bias_initializer': {'class_name': 'Zeros', 'config': {}},\n",
       "    'kernel_regularizer': None,\n",
       "    'bias_regularizer': None,\n",
       "    'activity_regularizer': None,\n",
       "    'kernel_constraint': None,\n",
       "    'bias_constraint': None}},\n",
       "  {'class_name': 'MaxPooling2D',\n",
       "   'config': {'name': 'max_pooling2d_3',\n",
       "    'trainable': True,\n",
       "    'pool_size': (2, 2),\n",
       "    'padding': 'valid',\n",
       "    'strides': (2, 2),\n",
       "    'data_format': 'channels_last'}},\n",
       "  {'class_name': 'Conv2D',\n",
       "   'config': {'name': 'conv2d_4',\n",
       "    'trainable': True,\n",
       "    'filters': 16,\n",
       "    'kernel_size': (3, 3),\n",
       "    'strides': (1, 1),\n",
       "    'padding': 'valid',\n",
       "    'data_format': 'channels_last',\n",
       "    'dilation_rate': (1, 1),\n",
       "    'activation': 'relu',\n",
       "    'use_bias': True,\n",
       "    'kernel_initializer': {'class_name': 'VarianceScaling',\n",
       "     'config': {'scale': 1.0,\n",
       "      'mode': 'fan_avg',\n",
       "      'distribution': 'uniform',\n",
       "      'seed': None}},\n",
       "    'bias_initializer': {'class_name': 'Zeros', 'config': {}},\n",
       "    'kernel_regularizer': None,\n",
       "    'bias_regularizer': None,\n",
       "    'activity_regularizer': None,\n",
       "    'kernel_constraint': None,\n",
       "    'bias_constraint': None}},\n",
       "  {'class_name': 'MaxPooling2D',\n",
       "   'config': {'name': 'max_pooling2d_4',\n",
       "    'trainable': True,\n",
       "    'pool_size': (2, 2),\n",
       "    'padding': 'valid',\n",
       "    'strides': (2, 2),\n",
       "    'data_format': 'channels_last'}},\n",
       "  {'class_name': 'Dropout',\n",
       "   'config': {'name': 'dropout_4',\n",
       "    'trainable': True,\n",
       "    'rate': 0.8,\n",
       "    'noise_shape': None,\n",
       "    'seed': None}},\n",
       "  {'class_name': 'Flatten',\n",
       "   'config': {'name': 'flatten_2',\n",
       "    'trainable': True,\n",
       "    'data_format': 'channels_last'}},\n",
       "  {'class_name': 'Dense',\n",
       "   'config': {'name': 'dense_4',\n",
       "    'trainable': True,\n",
       "    'units': 512,\n",
       "    'activation': 'relu',\n",
       "    'use_bias': True,\n",
       "    'kernel_initializer': {'class_name': 'VarianceScaling',\n",
       "     'config': {'scale': 1.0,\n",
       "      'mode': 'fan_avg',\n",
       "      'distribution': 'uniform',\n",
       "      'seed': None}},\n",
       "    'bias_initializer': {'class_name': 'Zeros', 'config': {}},\n",
       "    'kernel_regularizer': None,\n",
       "    'bias_regularizer': None,\n",
       "    'activity_regularizer': None,\n",
       "    'kernel_constraint': None,\n",
       "    'bias_constraint': None}},\n",
       "  {'class_name': 'Dropout',\n",
       "   'config': {'name': 'dropout_5',\n",
       "    'trainable': True,\n",
       "    'rate': 0.5,\n",
       "    'noise_shape': None,\n",
       "    'seed': None}},\n",
       "  {'class_name': 'Dense',\n",
       "   'config': {'name': 'dense_5',\n",
       "    'trainable': True,\n",
       "    'units': 128,\n",
       "    'activation': 'relu',\n",
       "    'use_bias': True,\n",
       "    'kernel_initializer': {'class_name': 'VarianceScaling',\n",
       "     'config': {'scale': 1.0,\n",
       "      'mode': 'fan_avg',\n",
       "      'distribution': 'uniform',\n",
       "      'seed': None}},\n",
       "    'bias_initializer': {'class_name': 'Zeros', 'config': {}},\n",
       "    'kernel_regularizer': None,\n",
       "    'bias_regularizer': None,\n",
       "    'activity_regularizer': None,\n",
       "    'kernel_constraint': None,\n",
       "    'bias_constraint': None}},\n",
       "  {'class_name': 'Dropout',\n",
       "   'config': {'name': 'dropout_6',\n",
       "    'trainable': True,\n",
       "    'rate': 0.5,\n",
       "    'noise_shape': None,\n",
       "    'seed': None}},\n",
       "  {'class_name': 'Dense',\n",
       "   'config': {'name': 'dense_6',\n",
       "    'trainable': True,\n",
       "    'units': 3,\n",
       "    'activation': 'softmax',\n",
       "    'use_bias': True,\n",
       "    'kernel_initializer': {'class_name': 'VarianceScaling',\n",
       "     'config': {'scale': 1.0,\n",
       "      'mode': 'fan_avg',\n",
       "      'distribution': 'uniform',\n",
       "      'seed': None}},\n",
       "    'bias_initializer': {'class_name': 'Zeros', 'config': {}},\n",
       "    'kernel_regularizer': None,\n",
       "    'bias_regularizer': None,\n",
       "    'activity_regularizer': None,\n",
       "    'kernel_constraint': None,\n",
       "    'bias_constraint': None}}]}"
      ]
     },
     "execution_count": 82,
     "metadata": {},
     "output_type": "execute_result"
    }
   ],
   "source": [
    "models[most_recent_model_name]['history'].model.predict(pic_df.drop(columns='class').iloc[1,:].values)"
   ]
  },
  {
   "cell_type": "code",
   "execution_count": null,
   "metadata": {
    "hidden": true
   },
   "outputs": [],
   "source": []
  },
  {
   "cell_type": "code",
   "execution_count": null,
   "metadata": {
    "hidden": true
   },
   "outputs": [],
   "source": []
  },
  {
   "cell_type": "code",
   "execution_count": null,
   "metadata": {
    "hidden": true
   },
   "outputs": [],
   "source": []
  },
  {
   "cell_type": "code",
   "execution_count": null,
   "metadata": {
    "hidden": true
   },
   "outputs": [],
   "source": []
  },
  {
   "cell_type": "code",
   "execution_count": null,
   "metadata": {
    "hidden": true
   },
   "outputs": [],
   "source": []
  },
  {
   "cell_type": "code",
   "execution_count": null,
   "metadata": {
    "hidden": true
   },
   "outputs": [],
   "source": []
  },
  {
   "cell_type": "markdown",
   "metadata": {},
   "source": [
    "## Modeling over full adult set for 80 epochs"
   ]
  },
  {
   "cell_type": "code",
   "execution_count": 37,
   "metadata": {},
   "outputs": [],
   "source": [
    "# Current Parameters\n",
    "options = 2\n",
    "\n",
    "\n",
    "NUM_IMAGES = adult_data.shape[0]\n",
    "EPOCHS = 20\n",
    "IMAGE_SIZE = (192,192)\n",
    "TRAIN_SIZE = 0.8\n",
    "METRICS = ['accuracy', 'mae']\n",
    "BATCH_SIZE = 10\n",
    "MODEL_OPTIMIZER = 'adam' #'sgd' \n",
    "\n",
    "if options == 2:\n",
    "    CURR_MAP = y_map_2\n",
    "    model_name = 'adult_data_2_options'\n",
    "elif options == 3:\n",
    "    CURR_MAP = y_map_3\n",
    "    model_name = 'adult_data_3_options'\n",
    "else:\n",
    "    raise PnemoniaTargetMapIsWeird('Set \"option\" to 2 or 3')\n"
   ]
  },
  {
   "cell_type": "code",
   "execution_count": 11,
   "metadata": {},
   "outputs": [
    {
     "name": "stdout",
     "output_type": "stream",
     "text": [
      "---Enter DataFrame Construction Function---\n",
      "---Create Pixel Array Labels---\n",
      "---Create Total Pixel Array---\n"
     ]
    },
    {
     "data": {
      "application/vnd.jupyter.widget-view+json": {
       "model_id": "9ea96d6ce933483a90d35f8a5423c499",
       "version_major": 2,
       "version_minor": 0
      },
      "text/plain": [
       "HBox(children=(IntProgress(value=0, max=27537), HTML(value='')))"
      ]
     },
     "metadata": {},
     "output_type": "display_data"
    },
    {
     "name": "stderr",
     "output_type": "stream",
     "text": [
      "/home/ec2-user/anaconda3/envs/tensorflow_p36/lib/python3.6/site-packages/skimage/transform/_warps.py:84: UserWarning: The default mode, 'constant', will be changed to 'reflect' in skimage 0.15.\n",
      "  warn(\"The default mode, 'constant', will be changed to 'reflect' in \"\n"
     ]
    },
    {
     "name": "stdout",
     "output_type": "stream",
     "text": [
      "\n",
      "---Create Dataframe---\n"
     ]
    },
    {
     "ename": "OverflowError",
     "evalue": "cannot serialize a bytes object larger than 4 GiB",
     "output_type": "error",
     "traceback": [
      "\u001b[0;31m---------------------------------------------------------------------------\u001b[0m",
      "\u001b[0;31mFileNotFoundError\u001b[0m                         Traceback (most recent call last)",
      "\u001b[0;32m<timed exec>\u001b[0m in \u001b[0;36m<module>\u001b[0;34m()\u001b[0m\n",
      "\u001b[0;31mFileNotFoundError\u001b[0m: [Errno 2] No such file or directory: '../data/image_dfs/pic_df-size:(192, 192)-num_images:27537.pk'",
      "\nDuring handling of the above exception, another exception occurred:\n",
      "\u001b[0;31mOverflowError\u001b[0m                             Traceback (most recent call last)",
      "\u001b[0;32m<timed exec>\u001b[0m in \u001b[0;36m<module>\u001b[0;34m()\u001b[0m\n",
      "\u001b[0;31mOverflowError\u001b[0m: cannot serialize a bytes object larger than 4 GiB"
     ]
    }
   ],
   "source": [
    "%%time\n",
    "\n",
    "# Load pic df if it exists, otherwise create it and save it to disk\n",
    "# This isn't exactly the most hard drive storage friendly but I'm not worried about running out of harddrive space at the moment\n",
    "\n",
    "SAVE = True #True or False\n",
    "\n",
    "pic_df_file_name = '../data/image_dfs/pic_df-size:' + str(IMAGE_SIZE) + '-num_images:'+str(NUM_IMAGES)+'.pk'\n",
    "\n",
    "try:\n",
    "    old_pic_df = pic_df\n",
    "    # Try to load the file if it exists\n",
    "    file_object = open(pic_df_file_name,'rb')\n",
    "    pic_df = pickle.load(file_object)\n",
    "    file_object.close()\n",
    "    \n",
    "except:\n",
    "    # This df doesn't exist already so create and save it\n",
    "    pic_df = create_pic_df(adult_data, df_detailed=df_detailed, image_size=IMAGE_SIZE)\n",
    "    \n",
    "#     if(SAVE and sys.getsizeof(pic_df)<= 3900000000):\n",
    "#         file_object = open(pic_df_file_name,'wb')\n",
    "#         pickle.dump(pic_df, file_object)\n",
    "#         file_object.close()"
   ]
  },
  {
   "cell_type": "code",
   "execution_count": 23,
   "metadata": {},
   "outputs": [
    {
     "data": {
      "text/plain": [
       "((27537, 4), (27537, 36865))"
      ]
     },
     "execution_count": 23,
     "metadata": {},
     "output_type": "execute_result"
    }
   ],
   "source": [
    "adult_data.shape, pic_df.shape"
   ]
  },
  {
   "cell_type": "code",
   "execution_count": 39,
   "metadata": {
    "scrolled": true
   },
   "outputs": [
    {
     "name": "stdout",
     "output_type": "stream",
     "text": [
      "---Enter Function---\n"
     ]
    },
    {
     "name": "stderr",
     "output_type": "stream",
     "text": [
      "/home/ec2-user/anaconda3/envs/tensorflow_p36/lib/python3.6/site-packages/sklearn/model_selection/_split.py:2026: FutureWarning: From version 0.21, test_size will always complement train_size unless both are specified.\n",
      "  FutureWarning)\n"
     ]
    },
    {
     "name": "stdout",
     "output_type": "stream",
     "text": [
      "---Modeling Initialization---\n",
      "---Modeling Training---\n",
      "Train on 22029 samples, validate on 5508 samples\n",
      "Epoch 1/20\n",
      "22029/22029 [==============================] - 55s 2ms/step - loss: 0.5109 - acc: 0.7529 - mean_absolute_error: 0.3321 - val_loss: 0.4835 - val_acc: 0.7712 - val_mean_absolute_error: 0.3387\n",
      "Epoch 2/20\n",
      "22029/22029 [==============================] - 53s 2ms/step - loss: 0.4781 - acc: 0.7737 - mean_absolute_error: 0.3113 - val_loss: 0.4641 - val_acc: 0.7780 - val_mean_absolute_error: 0.3024\n",
      "Epoch 3/20\n",
      "22029/22029 [==============================] - 53s 2ms/step - loss: 0.4680 - acc: 0.7807 - mean_absolute_error: 0.3044 - val_loss: 0.4711 - val_acc: 0.7743 - val_mean_absolute_error: 0.3131\n",
      "Epoch 4/20\n",
      "22029/22029 [==============================] - 53s 2ms/step - loss: 0.4596 - acc: 0.7866 - mean_absolute_error: 0.2968 - val_loss: 0.4581 - val_acc: 0.7841 - val_mean_absolute_error: 0.3103\n",
      "Epoch 5/20\n",
      "22029/22029 [==============================] - 53s 2ms/step - loss: 0.4443 - acc: 0.7947 - mean_absolute_error: 0.2859 - val_loss: 0.4572 - val_acc: 0.7876 - val_mean_absolute_error: 0.2925\n",
      "Epoch 6/20\n",
      "22029/22029 [==============================] - 53s 2ms/step - loss: 0.4348 - acc: 0.7996 - mean_absolute_error: 0.2782 - val_loss: 0.4474 - val_acc: 0.7856 - val_mean_absolute_error: 0.2810\n",
      "Epoch 7/20\n",
      "22029/22029 [==============================] - 53s 2ms/step - loss: 0.4150 - acc: 0.8131 - mean_absolute_error: 0.2641 - val_loss: 0.4467 - val_acc: 0.7919 - val_mean_absolute_error: 0.2728\n",
      "Epoch 8/20\n",
      "22029/22029 [==============================] - 53s 2ms/step - loss: 0.4044 - acc: 0.8190 - mean_absolute_error: 0.2567 - val_loss: 0.4387 - val_acc: 0.8017 - val_mean_absolute_error: 0.2871\n",
      "Epoch 9/20\n",
      "22029/22029 [==============================] - 53s 2ms/step - loss: 0.3860 - acc: 0.8314 - mean_absolute_error: 0.2430 - val_loss: 0.4471 - val_acc: 0.8007 - val_mean_absolute_error: 0.2571\n",
      "Epoch 10/20\n",
      "22029/22029 [==============================] - 53s 2ms/step - loss: 0.3669 - acc: 0.8395 - mean_absolute_error: 0.2294 - val_loss: 0.4400 - val_acc: 0.8088 - val_mean_absolute_error: 0.2672\n",
      "Epoch 11/20\n",
      "22029/22029 [==============================] - 53s 2ms/step - loss: 0.3473 - acc: 0.8537 - mean_absolute_error: 0.2159 - val_loss: 0.4588 - val_acc: 0.8130 - val_mean_absolute_error: 0.2391\n",
      "Epoch 12/20\n",
      "22029/22029 [==============================] - 53s 2ms/step - loss: 0.3330 - acc: 0.8587 - mean_absolute_error: 0.2045 - val_loss: 0.4392 - val_acc: 0.8137 - val_mean_absolute_error: 0.2444\n",
      "Epoch 13/20\n",
      "22029/22029 [==============================] - 53s 2ms/step - loss: 0.3159 - acc: 0.8673 - mean_absolute_error: 0.1937 - val_loss: 0.4278 - val_acc: 0.8204 - val_mean_absolute_error: 0.2368\n",
      "Epoch 14/20\n",
      "22029/22029 [==============================] - 53s 2ms/step - loss: 0.3058 - acc: 0.8717 - mean_absolute_error: 0.1865 - val_loss: 0.4274 - val_acc: 0.8228 - val_mean_absolute_error: 0.2358\n",
      "Epoch 15/20\n",
      "22029/22029 [==============================] - 53s 2ms/step - loss: 0.2832 - acc: 0.8864 - mean_absolute_error: 0.1707 - val_loss: 0.4557 - val_acc: 0.8235 - val_mean_absolute_error: 0.2195\n",
      "Epoch 16/20\n",
      "22029/22029 [==============================] - 53s 2ms/step - loss: 0.2714 - acc: 0.8902 - mean_absolute_error: 0.1621 - val_loss: 0.4491 - val_acc: 0.8203 - val_mean_absolute_error: 0.2322\n",
      "Epoch 17/20\n",
      "22029/22029 [==============================] - 53s 2ms/step - loss: 0.2612 - acc: 0.8950 - mean_absolute_error: 0.1553 - val_loss: 0.4440 - val_acc: 0.8326 - val_mean_absolute_error: 0.2172\n",
      "Epoch 18/20\n",
      "22029/22029 [==============================] - 53s 2ms/step - loss: 0.2481 - acc: 0.9018 - mean_absolute_error: 0.1467 - val_loss: 0.4307 - val_acc: 0.8288 - val_mean_absolute_error: 0.2195\n",
      "Epoch 19/20\n",
      "22029/22029 [==============================] - 53s 2ms/step - loss: 0.2445 - acc: 0.9024 - mean_absolute_error: 0.1447 - val_loss: 0.4562 - val_acc: 0.8402 - val_mean_absolute_error: 0.2037\n",
      "Epoch 20/20\n",
      "22029/22029 [==============================] - 53s 2ms/step - loss: 0.2342 - acc: 0.9088 - mean_absolute_error: 0.1370 - val_loss: 0.4348 - val_acc: 0.8366 - val_mean_absolute_error: 0.2086\n",
      "+++++History did not save++++++\n",
      "[Errno 28] No space left on device\n"
     ]
    },
    {
     "ename": "NameError",
     "evalue": "name 'model_file_name' is not defined",
     "output_type": "error",
     "traceback": [
      "\u001b[0;31m---------------------------------------------------------------------------\u001b[0m",
      "\u001b[0;31mNameError\u001b[0m                                 Traceback (most recent call last)",
      "\u001b[0;32m<timed exec>\u001b[0m in \u001b[0;36m<module>\u001b[0;34m()\u001b[0m\n",
      "\u001b[0;32m<ipython-input-38-a1788d5d1ede>\u001b[0m in \u001b[0;36mmodel\u001b[0;34m(data, model_name, image_size, y_map, epochs, train_size, metrics, batch_size, model_optimizer, verbose)\u001b[0m\n\u001b[1;32m    137\u001b[0m \u001b[0;34m\u001b[0m\u001b[0m\n\u001b[1;32m    138\u001b[0m \u001b[0;34m\u001b[0m\u001b[0m\n\u001b[0;32m--> 139\u001b[0;31m     \u001b[0;32mreturn\u001b[0m \u001b[0mtrained_convolutional\u001b[0m\u001b[0;34m,\u001b[0m \u001b[0mmodel_convolutional\u001b[0m\u001b[0;34m,\u001b[0m \u001b[0mfile_name\u001b[0m\u001b[0;34m[\u001b[0m\u001b[0;36m15\u001b[0m\u001b[0;34m:\u001b[0m\u001b[0;34m]\u001b[0m\u001b[0;34m,\u001b[0m \u001b[0mmodel_file_name\u001b[0m\u001b[0;34m,\u001b[0m \u001b[0mhistory_file_name\u001b[0m\u001b[0;34m\u001b[0m\u001b[0m\n\u001b[0m",
      "\u001b[0;31mNameError\u001b[0m: name 'model_file_name' is not defined"
     ]
    }
   ],
   "source": [
    "%%time\n",
    "\n",
    "test_model_history, test_model_real, most_recent_model_name, model_file_path, history_file_path = model(pic_df.head(NUM_IMAGES), model_name = model_name, image_size=IMAGE_SIZE, y_map=CURR_MAP, epochs=EPOCHS, train_size = TRAIN_SIZE, metrics = METRICS, batch_size=BATCH_SIZE, model_optimizer=MODEL_OPTIMIZER)\n",
    "\n"
   ]
  },
  {
   "cell_type": "code",
   "execution_count": 36,
   "metadata": {},
   "outputs": [
    {
     "data": {
      "text/plain": [
       "56"
      ]
     },
     "execution_count": 36,
     "metadata": {},
     "output_type": "execute_result"
    }
   ],
   "source": [
    "sys.getsizeof(test_model_real)"
   ]
  },
  {
   "cell_type": "code",
   "execution_count": 42,
   "metadata": {
    "scrolled": true
   },
   "outputs": [
    {
     "data": {
      "text/plain": [
       "'adult_data_2_options 2018-10-22 06:32:21.768909'"
      ]
     },
     "execution_count": 42,
     "metadata": {},
     "output_type": "execute_result"
    }
   ],
   "source": [
    "most_recent_model_name"
   ]
  },
  {
   "cell_type": "code",
   "execution_count": 34,
   "metadata": {},
   "outputs": [],
   "source": [
    "# Save all of the stats about each model I've run along with where the model and history objects are saved.\n",
    "\n",
    "# Loading in the list of models/parameters\n",
    "model_pickle_file_name = '../data/models/models_dict.pk'\n",
    "file_object = open(model_pickle_file_name,'rb')\n",
    "models_dict = pickle.load(file_object)\n",
    "file_object.close()\n",
    "\n",
    "\n",
    "# Add the most recent model to the list\n",
    "models_dict[most_recent_model_name] = {\n",
    "    'NUM_IMAGES':NUM_IMAGES,\n",
    "    'model_location':model_file_path,\n",
    "    'history_location':history_file_path,\n",
    "    'EPOCHS':EPOCHS,\n",
    "    'IMAGE_SIZE':IMAGE_SIZE,\n",
    "    'Y_MAP':CURR_MAP,\n",
    "    'TRAIN_SIZE':TRAIN_SIZE,\n",
    "    'accuracy_scores':{}\n",
    "}\n",
    "\n",
    "for k, v in test_model_history.history.items():\n",
    "    models_dict[most_recent_model_name]['accuracy_scores'][k] = v[-1]\n",
    "    \n",
    "#     'train':test_model_history.history['acc'][-1],\n",
    "#         'test':test_model_history.history['val_acc'][-1]\n",
    "\n",
    "\n",
    "# Save the list of models and parameters \n",
    "file_object = open(model_pickle_file_name,'wb')\n",
    "pickle.dump(models_dict, file_object)\n",
    "file_object.close()"
   ]
  },
  {
   "cell_type": "code",
   "execution_count": 43,
   "metadata": {
    "scrolled": false
   },
   "outputs": [
    {
     "data": {
      "image/png": "[encoded data removed]",
      "text/plain": [
       "<Figure size 432x1296 with 3 Axes>"
      ]
     },
     "metadata": {
      "image/png": {
       "height": 1138,
       "width": 484
      }
     },
     "output_type": "display_data"
    }
   ],
   "source": [
    "graph_size = 6\n",
    "evaluate_model(test_model_history, most_recent_model_name, size=graph_size)\n"
   ]
  },
  {
   "cell_type": "code",
   "execution_count": null,
   "metadata": {},
   "outputs": [],
   "source": []
  },
  {
   "cell_type": "code",
   "execution_count": null,
   "metadata": {},
   "outputs": [],
   "source": []
  },
  {
   "cell_type": "markdown",
   "metadata": {},
   "source": [
    "## Predicting\n",
    "Creating predictions and getting useful, interpretable results from the models."
   ]
  },
  {
   "cell_type": "code",
   "execution_count": 44,
   "metadata": {},
   "outputs": [
    {
     "name": "stdout",
     "output_type": "stream",
     "text": [
      "CPU times: user 26.3 s, sys: 5.13 s, total: 31.5 s\n",
      "Wall time: 31.3 s\n"
     ]
    }
   ],
   "source": [
    "%%time\n",
    "\n",
    "# Predicting on the images\n",
    "X = pic_df.drop(columns='class')\n",
    "pred_x = X.values.reshape(X.shape[0], IMAGE_SIZE[0], IMAGE_SIZE[1], 1)\n",
    "preds = test_model_real.predict(pred_x)"
   ]
  },
  {
   "cell_type": "code",
   "execution_count": 45,
   "metadata": {},
   "outputs": [],
   "source": [
    "# Converting the target values to the \n",
    "y_real = pic_df['class']\n",
    "y_real = y_real.map(lambda x: CURR_MAP[x])"
   ]
  },
  {
   "cell_type": "code",
   "execution_count": 94,
   "metadata": {},
   "outputs": [
    {
     "name": "stdout",
     "output_type": "stream",
     "text": [
      "[0, 1, 0, 0, 1, 1, 0, 0, 1, 1, 1, 0, 0, 0, 1, 1, 0, 1, 1, 0]\n"
     ]
    }
   ],
   "source": [
    "#preds = pd.DataFrame(data=preds, columns=[])\n",
    "new_preds = []\n",
    "for i in range(len(preds)):\n",
    "    if preds[i][1] >= 0.20:\n",
    "        prediction = 1\n",
    "    else:\n",
    "        prediction = 0\n",
    "    new_preds.append(prediction)\n",
    "print(new_preds[0:20])"
   ]
  },
  {
   "cell_type": "code",
   "execution_count": 56,
   "metadata": {},
   "outputs": [
    {
     "name": "stdout",
     "output_type": "stream",
     "text": [
      "(0, 0)\n",
      "(0, 1)\n",
      "(0, 0)\n",
      "(0, 0)\n",
      "(1, 1)\n",
      "(1, 1)\n",
      "(0, 0)\n",
      "(0, 0)\n",
      "(1, 1)\n",
      "(1, 1)\n",
      "(0, 1)\n",
      "(0, 0)\n",
      "(0, 0)\n",
      "(0, 0)\n",
      "(1, 1)\n",
      "(1, 1)\n",
      "(0, 0)\n",
      "(1, 1)\n",
      "(1, 1)\n",
      "(0, 0)\n",
      "(1, 0)\n"
     ]
    }
   ],
   "source": [
    "# Print out the actual values against their predicted values\n",
    "index = 0\n",
    "for i in zip(y_real, new_preds):\n",
    "    print(i)\n",
    "    index+=1\n",
    "    if index > 20:\n",
    "        break"
   ]
  },
  {
   "cell_type": "code",
   "execution_count": 72,
   "metadata": {},
   "outputs": [],
   "source": [
    "from sklearn.metrics import confusion_matrix, roc_auc_score, roc_curve, auc"
   ]
  },
  {
   "cell_type": "code",
   "execution_count": 95,
   "metadata": {},
   "outputs": [],
   "source": [
    "tn, fp, fn, tp = confusion_matrix(y_real, new_preds).ravel()"
   ]
  },
  {
   "cell_type": "code",
   "execution_count": 96,
   "metadata": {},
   "outputs": [
    {
     "data": {
      "text/plain": [
       "0.8482643445067398"
      ]
     },
     "execution_count": 96,
     "metadata": {},
     "output_type": "execute_result"
    }
   ],
   "source": [
    "tp / (tp + fn)"
   ]
  },
  {
   "cell_type": "code",
   "execution_count": 97,
   "metadata": {},
   "outputs": [
    {
     "data": {
      "text/plain": [
       "0.35339876788138247"
      ]
     },
     "execution_count": 97,
     "metadata": {},
     "output_type": "execute_result"
    }
   ],
   "source": [
    "fp / (fp + tn)"
   ]
  },
  {
   "cell_type": "code",
   "execution_count": 68,
   "metadata": {},
   "outputs": [
    {
     "data": {
      "text/plain": [
       "[0.19180405,\n",
       " 0.37225372,\n",
       " 0.10146497,\n",
       " 0.004142847,\n",
       " 0.7604076,\n",
       " 0.7604076,\n",
       " 0.16854957,\n",
       " 0.019121548,\n",
       " 0.32948464,\n",
       " 0.32948464,\n",
       " 0.3011893,\n",
       " 0.10397919,\n",
       " 0.14832963,\n",
       " 0.08661577,\n",
       " 0.43490642,\n",
       " 0.43490642,\n",
       " 0.109124914,\n",
       " 0.488514,\n",
       " 0.488514,\n",
       " 0.06939349,\n",
       " 0.122974694,\n",
       " 0.011701454,\n",
       " 0.64692616,\n",
       " 0.64692616,\n",
       " 0.31003225,\n",
       " 0.52385366,\n",
       " 0.52385366,\n",
       " 0.15175872,\n",
       " 0.021957904,\n",
       " 0.1095747,\n",
       " 0.7865973,\n",
       " 0.7865973,\n",
       " 0.00061226013,\n",
       " 0.0030211087,\n",
       " 0.9049588,\n",
       " 0.9049588,\n",
       " 0.1141108,\n",
       " 0.05469821,\n",
       " 0.14466505,\n",
       " 0.9217875,\n",
       " 0.9217875,\n",
       " 0.38096228,\n",
       " 0.38096228,\n",
       " 0.20278375,\n",
       " 0.3246717,\n",
       " 0.079533614,\n",
       " 0.21481928,\n",
       " 0.87602746,\n",
       " 0.87602746,\n",
       " 0.00044269508,\n",
       " 0.08347933,\n",
       " 0.006015436,\n",
       " 0.45085773,\n",
       " 0.24742858,\n",
       " 0.24742858,\n",
       " 0.005261965,\n",
       " 0.19459695,\n",
       " 0.16967171,\n",
       " 0.18985419,\n",
       " 0.8155692,\n",
       " 0.8155692,\n",
       " 0.13333434,\n",
       " 0.14691672,\n",
       " 0.265195,\n",
       " 0.03305647,\n",
       " 0.23846704,\n",
       " 0.109576836,\n",
       " 0.18691255,\n",
       " 0.21760039,\n",
       " 0.050553095,\n",
       " 0.05905972,\n",
       " 0.49391478,\n",
       " 0.49391478,\n",
       " 0.15365314,\n",
       " 0.18687703,\n",
       " 0.20981318,\n",
       " 0.63673764,\n",
       " 0.63673764,\n",
       " 0.4685859,\n",
       " 0.4685859,\n",
       " 0.50140697,\n",
       " 0.50140697,\n",
       " 0.021845754,\n",
       " 0.021845754,\n",
       " 0.012242025,\n",
       " 0.24726035,\n",
       " 0.05655643,\n",
       " 0.48956797,\n",
       " 0.0030415172,\n",
       " 0.19311078,\n",
       " 0.007335396,\n",
       " 0.40247792,\n",
       " 0.40247792,\n",
       " 0.017639,\n",
       " 0.212691,\n",
       " 0.6948771,\n",
       " 0.6948771,\n",
       " 0.3043664,\n",
       " 0.7483173,\n",
       " 0.43727925,\n",
       " 0.43727925,\n",
       " 0.14638403,\n",
       " 0.013094187,\n",
       " 0.8981627,\n",
       " 0.8981627,\n",
       " 0.20536338,\n",
       " 0.20536338,\n",
       " 0.008236152,\n",
       " 0.16356488,\n",
       " 0.001682237,\n",
       " 0.07402983,\n",
       " 0.07402983,\n",
       " 0.07402983,\n",
       " 0.25408372,\n",
       " 0.7376962,\n",
       " 0.7376962,\n",
       " 0.00030310403,\n",
       " 0.1981874,\n",
       " 0.65976566,\n",
       " 0.65976566,\n",
       " 0.3378352,\n",
       " 0.8102971,\n",
       " 0.1692137,\n",
       " 0.8135259,\n",
       " 0.8135259,\n",
       " 0.7628,\n",
       " 0.7628,\n",
       " 0.1968508,\n",
       " 0.12674652,\n",
       " 0.018323397,\n",
       " 0.04498393,\n",
       " 0.07096878,\n",
       " 0.21387245,\n",
       " 0.21387245,\n",
       " 0.21387245,\n",
       " 0.0026778143,\n",
       " 0.53146535,\n",
       " 0.08103943,\n",
       " 0.09258164,\n",
       " 0.23776563,\n",
       " 0.08512526,\n",
       " 0.2829007,\n",
       " 0.2829007,\n",
       " 0.75161093,\n",
       " 0.13844521,\n",
       " 0.046393763,\n",
       " 0.1479546,\n",
       " 0.0023672453,\n",
       " 0.28622323,\n",
       " 0.25813246,\n",
       " 0.15330687,\n",
       " 0.09437381,\n",
       " 0.0044006286,\n",
       " 0.0002483108,\n",
       " 0.19282031,\n",
       " 0.34261325,\n",
       " 0.14580986,\n",
       " 0.34207308,\n",
       " 0.15242577,\n",
       " 0.49868825,\n",
       " 0.28751767,\n",
       " 0.1825666,\n",
       " 0.006872589,\n",
       " 0.108249374,\n",
       " 0.108249374,\n",
       " 0.52158695,\n",
       " 0.52158695,\n",
       " 0.34650984,\n",
       " 0.34650984,\n",
       " 0.262037,\n",
       " 0.18352179,\n",
       " 0.0003910303,\n",
       " 0.11212497,\n",
       " 0.48249248,\n",
       " 0.16541734,\n",
       " 0.15780821,\n",
       " 0.78151166,\n",
       " 0.78151166,\n",
       " 0.031172518,\n",
       " 0.9500667,\n",
       " 0.9500667,\n",
       " 0.48057175,\n",
       " 0.16108845,\n",
       " 0.22093354,\n",
       " 0.26426902,\n",
       " 0.15239495,\n",
       " 0.9112074,\n",
       " 0.9112074,\n",
       " 0.021431379,\n",
       " 0.09725606,\n",
       " 0.31086093,\n",
       " 0.05765638,\n",
       " 0.57401246,\n",
       " 0.038992003,\n",
       " 0.57660466,\n",
       " 0.7104973,\n",
       " 0.7104973,\n",
       " 0.032227352,\n",
       " 0.9038466,\n",
       " 0.9038466,\n",
       " 0.1619149,\n",
       " 0.24600166,\n",
       " 0.2557896,\n",
       " 0.22705829,\n",
       " 0.31088766,\n",
       " 0.8499674,\n",
       " 0.8499674,\n",
       " 0.6655872,\n",
       " 0.0843609,\n",
       " 0.010428544,\n",
       " 0.035087664,\n",
       " 0.24907213,\n",
       " 0.24907213,\n",
       " 0.8337037,\n",
       " 0.8337037,\n",
       " 0.40068832,\n",
       " 0.29472086,\n",
       " 0.053411163,\n",
       " 0.14568408,\n",
       " 0.36620575,\n",
       " 0.36620575,\n",
       " 0.27871367,\n",
       " 0.018780613,\n",
       " 0.1799118,\n",
       " 0.0380686,\n",
       " 0.8812914,\n",
       " 0.8812914,\n",
       " 0.008597519,\n",
       " 0.018904634,\n",
       " 0.25243592,\n",
       " 0.25243592,\n",
       " 0.13723445,\n",
       " 0.28080398,\n",
       " 0.28080398,\n",
       " 0.12371781,\n",
       " 0.22367495,\n",
       " 0.030984992,\n",
       " 0.096594855,\n",
       " 0.77229196,\n",
       " 0.77229196,\n",
       " 0.4177166,\n",
       " 0.09335987,\n",
       " 0.13602361,\n",
       " 0.1397492,\n",
       " 0.1397492,\n",
       " 0.14499499,\n",
       " 0.4817096,\n",
       " 0.4817096,\n",
       " 0.18322492,\n",
       " 0.059100978,\n",
       " 0.17856114,\n",
       " 0.15664925,\n",
       " 0.0840445,\n",
       " 0.9191348,\n",
       " 0.9191348,\n",
       " 0.04990957,\n",
       " 0.001682256,\n",
       " 0.025595069,\n",
       " 0.023163754,\n",
       " 0.2364047,\n",
       " 0.036990546,\n",
       " 0.19062886,\n",
       " 0.044379815,\n",
       " 0.5075698,\n",
       " 0.5075698,\n",
       " 0.6805853,\n",
       " 0.47192365,\n",
       " 0.47192365,\n",
       " 0.00036440068,\n",
       " 0.95589894,\n",
       " 0.95589894,\n",
       " 0.30441263,\n",
       " 0.0531411,\n",
       " 0.42587143,\n",
       " 0.17974052,\n",
       " 0.17894311,\n",
       " 0.6525058,\n",
       " 0.17710862,\n",
       " 0.8550125,\n",
       " 0.0010862108,\n",
       " 0.87376475,\n",
       " 0.87376475,\n",
       " 0.042503037,\n",
       " 0.0059722424,\n",
       " 0.3396455,\n",
       " 0.3396455,\n",
       " 0.38497376,\n",
       " 0.15628135,\n",
       " 0.16950087,\n",
       " 0.64129174,\n",
       " 0.00853538,\n",
       " 0.3400383,\n",
       " 0.64204246,\n",
       " 0.03309558,\n",
       " 0.8890416,\n",
       " 0.8890416,\n",
       " 0.48383656,\n",
       " 0.0014720038,\n",
       " 0.2697128,\n",
       " 0.2697128,\n",
       " 0.16667221,\n",
       " 0.46999294,\n",
       " 0.95075667,\n",
       " 0.95075667,\n",
       " 0.7487843,\n",
       " 0.7487843,\n",
       " 0.439732,\n",
       " 0.439732,\n",
       " 0.14250655,\n",
       " 0.5786183,\n",
       " 0.105249174,\n",
       " 0.066868186,\n",
       " 0.029852245,\n",
       " 0.25367823,\n",
       " 0.3520211,\n",
       " 0.027325725,\n",
       " 0.17547369,\n",
       " 0.17547369,\n",
       " 0.6675665,\n",
       " 0.016518902,\n",
       " 0.6481635,\n",
       " 0.6481635,\n",
       " 0.067062505,\n",
       " 0.001393625,\n",
       " 0.61519456,\n",
       " 0.61519456,\n",
       " 0.25533125,\n",
       " 0.21225263,\n",
       " 0.61230177,\n",
       " 0.24266557,\n",
       " 0.24266557,\n",
       " 0.007403091,\n",
       " 0.2096556,\n",
       " 0.2096556,\n",
       " 0.7839807,\n",
       " 0.7839807,\n",
       " 0.001806441,\n",
       " 0.86218596,\n",
       " 0.86218596,\n",
       " 0.029586306,\n",
       " 0.017948123,\n",
       " 0.46982175,\n",
       " 0.37351337,\n",
       " 0.16703734,\n",
       " 0.049767446,\n",
       " 0.16397968,\n",
       " 0.25187314,\n",
       " 0.20258738,\n",
       " 0.23092835,\n",
       " 0.14670916,\n",
       " 0.0023790945,\n",
       " 0.8241692,\n",
       " 0.8241692,\n",
       " 0.77275515,\n",
       " 0.77275515,\n",
       " 0.33112055,\n",
       " 0.66920596,\n",
       " 0.010482284,\n",
       " 0.5222445,\n",
       " 0.5222445,\n",
       " 0.13768384,\n",
       " 0.6263447,\n",
       " 0.55098206,\n",
       " 0.032884054,\n",
       " 0.047942962,\n",
       " 0.074620806,\n",
       " 0.3441488,\n",
       " 0.3441488,\n",
       " 0.013761827,\n",
       " 0.26651162,\n",
       " 0.3804755,\n",
       " 0.3804755,\n",
       " 0.1420004,\n",
       " 0.46504813,\n",
       " 0.062231235,\n",
       " 0.19149873,\n",
       " 0.19149873,\n",
       " 0.7754157,\n",
       " 0.7754157,\n",
       " 0.0032313277,\n",
       " 0.15081733,\n",
       " 0.20009464,\n",
       " 0.005899265,\n",
       " 0.18655367,\n",
       " 0.0068313945,\n",
       " 0.097009584,\n",
       " 0.013941294,\n",
       " 0.1501517,\n",
       " 0.024617674,\n",
       " 0.0104466835,\n",
       " 0.14358033,\n",
       " 0.36584088,\n",
       " 0.10695034,\n",
       " 0.72695684,\n",
       " 0.72695684,\n",
       " 0.25253534,\n",
       " 0.051102735,\n",
       " 0.263868,\n",
       " 0.0007421898,\n",
       " 0.8866559,\n",
       " 0.8866559,\n",
       " 0.3898821,\n",
       " 0.007649468,\n",
       " 0.24837609,\n",
       " 0.5131262,\n",
       " 0.5131262,\n",
       " 0.027502405,\n",
       " 0.00072967785,\n",
       " 0.33606997,\n",
       " 0.073625125,\n",
       " 0.0028675129,\n",
       " 0.005564107,\n",
       " 0.49470806,\n",
       " 0.49470806,\n",
       " 0.24415421,\n",
       " 0.006101479,\n",
       " 0.2546006,\n",
       " 0.028732615,\n",
       " 0.5900805,\n",
       " 0.1969931,\n",
       " 0.017640645,\n",
       " 0.31416658,\n",
       " 0.03344794,\n",
       " 0.5035667,\n",
       " 0.5035667,\n",
       " 0.79604864,\n",
       " 0.11614724,\n",
       " 0.54019237,\n",
       " 0.00023867365,\n",
       " 0.45345187,\n",
       " 0.22788082,\n",
       " 0.14016062,\n",
       " 0.5058803,\n",
       " 0.5058803,\n",
       " 0.5152211,\n",
       " 7.578376e-05,\n",
       " 0.3554973,\n",
       " 0.6052213,\n",
       " 0.2083825,\n",
       " 0.75583655,\n",
       " 0.4443911,\n",
       " 0.89168227,\n",
       " 0.89168227,\n",
       " 0.44114542,\n",
       " 0.12231566,\n",
       " 0.10502236,\n",
       " 0.100884244,\n",
       " 0.09360995,\n",
       " 0.13444614,\n",
       " 0.69300526,\n",
       " 0.00040472142,\n",
       " 0.10964459,\n",
       " 0.48699605,\n",
       " 0.83760023,\n",
       " 0.022940433,\n",
       " 0.45994243,\n",
       " 0.045678895,\n",
       " 0.05751293,\n",
       " 0.44847578,\n",
       " 0.44847578,\n",
       " 0.16059385,\n",
       " 0.13249815,\n",
       " 0.7381746,\n",
       " 0.7381746,\n",
       " 0.21786228,\n",
       " 0.014519443,\n",
       " 0.058655214,\n",
       " 0.30280143,\n",
       " 0.30280143,\n",
       " 0.59021944,\n",
       " 0.17629242,\n",
       " 0.2678207,\n",
       " 0.35312322,\n",
       " 0.0009196593,\n",
       " 0.017386463,\n",
       " 0.38140854,\n",
       " 0.019621182,\n",
       " 0.90974987,\n",
       " 0.90974987,\n",
       " 0.7183982,\n",
       " 0.7183982,\n",
       " 0.1481871,\n",
       " 0.14815623,\n",
       " 0.17677306,\n",
       " 0.09278825,\n",
       " 0.34743464,\n",
       " 0.34743464,\n",
       " 0.5861827,\n",
       " 0.04675549,\n",
       " 0.08346404,\n",
       " 0.7242431,\n",
       " 0.7242431,\n",
       " 0.283521,\n",
       " 0.01955408,\n",
       " 0.55031234,\n",
       " 0.55031234,\n",
       " 0.4960199,\n",
       " 0.7515496,\n",
       " 0.7515496,\n",
       " 0.39955,\n",
       " 0.41214532,\n",
       " 0.41214532,\n",
       " 0.13311,\n",
       " 0.13311,\n",
       " 0.13311,\n",
       " 0.4322384,\n",
       " 0.00068435323,\n",
       " 0.55045265,\n",
       " 0.55045265,\n",
       " 0.03372899,\n",
       " 0.4935108,\n",
       " 0.1033585,\n",
       " 0.038316727,\n",
       " 0.038316727,\n",
       " 0.13916764,\n",
       " 0.17180184,\n",
       " 0.069753066,\n",
       " 0.0043287612,\n",
       " 0.88936925,\n",
       " 0.010151223,\n",
       " 0.0037804386,\n",
       " 0.18515001,\n",
       " 0.17011273,\n",
       " 0.29844692,\n",
       " 0.15759464,\n",
       " 0.84686315,\n",
       " 0.0739546,\n",
       " 0.8174193,\n",
       " 0.8174193,\n",
       " 0.066453636,\n",
       " 0.11384447,\n",
       " 0.010996573,\n",
       " 0.08334313,\n",
       " 0.12587152,\n",
       " 0.016566526,\n",
       " 0.20398356,\n",
       " 0.00726998,\n",
       " 0.19344723,\n",
       " 0.46402475,\n",
       " 0.46402475,\n",
       " 0.29482293,\n",
       " 0.0003536696,\n",
       " 0.9272626,\n",
       " 0.6425929,\n",
       " 0.6425929,\n",
       " 0.5024599,\n",
       " 0.32447198,\n",
       " 0.00020975123,\n",
       " 0.65058887,\n",
       " 0.65058887,\n",
       " 0.1807104,\n",
       " 0.29555914,\n",
       " 0.22629689,\n",
       " 0.18844284,\n",
       " 0.3334374,\n",
       " 0.48563606,\n",
       " 0.48563606,\n",
       " 0.5238159,\n",
       " 0.5238159,\n",
       " 0.24690035,\n",
       " 0.058660697,\n",
       " 0.28361565,\n",
       " 9.378049e-06,\n",
       " 0.08502922,\n",
       " 0.18875417,\n",
       " 0.16860305,\n",
       " 0.16860305,\n",
       " 0.21643922,\n",
       " 0.65809846,\n",
       " 0.1382255,\n",
       " 0.5561057,\n",
       " 0.5561057,\n",
       " 0.66699696,\n",
       " 0.66699696,\n",
       " 0.3708741,\n",
       " 0.09612955,\n",
       " 0.026061926,\n",
       " 0.08235438,\n",
       " 0.6985671,\n",
       " 0.06223379,\n",
       " 0.7531805,\n",
       " 0.7531805,\n",
       " 0.15934828,\n",
       " 0.5969864,\n",
       " 0.23658219,\n",
       " 0.006501488,\n",
       " 0.7706471,\n",
       " 0.7706471,\n",
       " 0.10294792,\n",
       " 0.37612632,\n",
       " 0.62965584,\n",
       " 0.15144512,\n",
       " 0.15144512,\n",
       " 0.03143162,\n",
       " 0.27302712,\n",
       " 0.27302712,\n",
       " 0.090041175,\n",
       " 0.090041175,\n",
       " 0.53355163,\n",
       " 0.08686524,\n",
       " 0.14821553,\n",
       " 0.06812929,\n",
       " 0.09388614,\n",
       " 0.18524303,\n",
       " 0.002378981,\n",
       " 0.6735089,\n",
       " 0.7017649,\n",
       " 0.7017649,\n",
       " 0.11232488,\n",
       " 0.20500192,\n",
       " 0.43791437,\n",
       " 0.027614212,\n",
       " 0.16286331,\n",
       " 0.0443982,\n",
       " 0.035809577,\n",
       " 0.5118868,\n",
       " 0.004569871,\n",
       " 0.23937623,\n",
       " 0.23937623,\n",
       " 0.107107826,\n",
       " 0.40327898,\n",
       " 0.07501231,\n",
       " 5.170793e-08,\n",
       " 0.23892134,\n",
       " 0.23892134,\n",
       " 0.16190091,\n",
       " 0.10085972,\n",
       " 0.5911813,\n",
       " 0.505956,\n",
       " 0.2429819,\n",
       " 0.19204088,\n",
       " 0.015787056,\n",
       " 0.4046982,\n",
       " 0.28390855,\n",
       " 0.46841356,\n",
       " 0.49491596,\n",
       " 0.75066113,\n",
       " 0.75066113,\n",
       " 0.12898336,\n",
       " 0.35505247,\n",
       " 0.16657205,\n",
       " 0.03146235,\n",
       " 0.00010631282,\n",
       " 0.21018173,\n",
       " 0.0013388736,\n",
       " 0.2874657,\n",
       " 0.64875007,\n",
       " 0.64875007,\n",
       " 0.0027195672,\n",
       " 0.5632574,\n",
       " 0.99497354,\n",
       " 0.99497354,\n",
       " 0.00041615535,\n",
       " 0.096867405,\n",
       " 0.17987485,\n",
       " 0.9199946,\n",
       " 0.9199946,\n",
       " 0.9199946,\n",
       " 0.4345424,\n",
       " 0.14072874,\n",
       " 0.0009510683,\n",
       " 0.731999,\n",
       " 0.731999,\n",
       " 0.08957358,\n",
       " 0.27508456,\n",
       " 0.27508456,\n",
       " 0.123400904,\n",
       " 0.4771981,\n",
       " 0.51177484,\n",
       " 0.51177484,\n",
       " 0.84784234,\n",
       " 0.84784234,\n",
       " 0.11326709,\n",
       " 0.042644486,\n",
       " 0.05678994,\n",
       " 0.09383723,\n",
       " 0.52642107,\n",
       " 0.52642107,\n",
       " 0.19289884,\n",
       " 0.049944878,\n",
       " 0.19180073,\n",
       " 0.07182078,\n",
       " 0.35828817,\n",
       " 0.35828817,\n",
       " 0.43001172,\n",
       " 0.009893429,\n",
       " 0.74863434,\n",
       " 0.63705313,\n",
       " 0.22409882,\n",
       " 0.098405205,\n",
       " 0.29943708,\n",
       " 0.30255982,\n",
       " 0.30255982,\n",
       " 0.15585065,\n",
       " 0.23073412,\n",
       " 0.23387678,\n",
       " 0.07029956,\n",
       " 0.24097927,\n",
       " 0.01995057,\n",
       " 0.014262761,\n",
       " 0.6999464,\n",
       " 0.03770075,\n",
       " 0.016947739,\n",
       " 0.2613334,\n",
       " 0.04165684,\n",
       " 0.039171994,\n",
       " 0.18805028,\n",
       " 0.10832555,\n",
       " 0.10832555,\n",
       " 0.51311225,\n",
       " 0.43828243,\n",
       " 0.2273631,\n",
       " 0.3273457,\n",
       " 0.94137776,\n",
       " 0.94137776,\n",
       " 0.31277943,\n",
       " 0.0098704845,\n",
       " 0.00092055264,\n",
       " 0.03105472,\n",
       " 0.23040576,\n",
       " 0.32066414,\n",
       " 0.06247464,\n",
       " 0.00914265,\n",
       " 0.17695071,\n",
       " 0.3863077,\n",
       " 0.00011440698,\n",
       " 0.0028178575,\n",
       " 0.8706544,\n",
       " 0.8706544,\n",
       " 0.3682559,\n",
       " 0.0134789115,\n",
       " 0.0062837265,\n",
       " 0.13369179,\n",
       " 0.008676273,\n",
       " 0.2004572,\n",
       " 0.052874714,\n",
       " 0.42551756,\n",
       " 0.33406904,\n",
       " 0.13811176,\n",
       " 0.85578775,\n",
       " 0.85578775,\n",
       " 0.18216296,\n",
       " 0.73039436,\n",
       " 0.73039436,\n",
       " 0.1430589,\n",
       " 0.55397755,\n",
       " 0.03188364,\n",
       " 0.22005565,\n",
       " 0.7813989,\n",
       " 0.7638455,\n",
       " 0.12195693,\n",
       " 0.16192055,\n",
       " 0.27857253,\n",
       " 0.27857253,\n",
       " 0.004729789,\n",
       " 0.31753713,\n",
       " 0.08874607,\n",
       " 0.59372973,\n",
       " 0.16905259,\n",
       " 0.56788516,\n",
       " 0.56788516,\n",
       " 0.0851645,\n",
       " 0.0682703,\n",
       " 0.51769865,\n",
       " 0.84507006,\n",
       " 0.84507006,\n",
       " 0.24765657,\n",
       " 0.24765657,\n",
       " 0.81261253,\n",
       " 0.81261253,\n",
       " 0.0002147679,\n",
       " 0.021217978,\n",
       " 0.51221037,\n",
       " 0.67099535,\n",
       " 0.028524471,\n",
       " 0.028524471,\n",
       " 0.028524471,\n",
       " 0.028524471,\n",
       " 0.20664512,\n",
       " 0.20664512,\n",
       " 0.26569653,\n",
       " 0.2956337,\n",
       " 0.19929852,\n",
       " 0.13685429,\n",
       " 0.31698328,\n",
       " 0.31698328,\n",
       " 0.41542944,\n",
       " 0.5318966,\n",
       " 0.2253829,\n",
       " 0.46658108,\n",
       " 0.34558195,\n",
       " 0.0154058505,\n",
       " 0.8041986,\n",
       " 0.8041986,\n",
       " 0.036138773,\n",
       " 0.0030351228,\n",
       " 0.6102801,\n",
       " 0.068661064,\n",
       " 0.6167262,\n",
       " 0.6167262,\n",
       " 0.21022575,\n",
       " 0.21022575,\n",
       " 0.008158281,\n",
       " 0.0035346819,\n",
       " 0.032470573,\n",
       " 0.25955796,\n",
       " 0.6513958,\n",
       " 0.6513958,\n",
       " 0.5580724,\n",
       " 0.55380857,\n",
       " 0.55380857,\n",
       " 0.55380857,\n",
       " 0.06965898,\n",
       " 0.0026514349,\n",
       " 0.51990205,\n",
       " 0.51990205,\n",
       " 0.19863321,\n",
       " 0.08469133,\n",
       " 0.14920476,\n",
       " 0.046586446,\n",
       " 0.0003778576,\n",
       " 0.061980363,\n",
       " 0.023267763,\n",
       " 0.1537223,\n",
       " 0.06311251,\n",
       " 0.048473936,\n",
       " 0.16253172,\n",
       " 0.015069314,\n",
       " 0.15578456,\n",
       " 0.60646194,\n",
       " 0.81832826,\n",
       " 0.81832826,\n",
       " 0.81832826,\n",
       " 0.2152023,\n",
       " 0.007952803,\n",
       " 0.2921471,\n",
       " 0.013595694,\n",
       " 0.19975941,\n",
       " 0.50639546,\n",
       " 0.0013675296,\n",
       " 1.2409875e-05,\n",
       " 0.09032624,\n",
       " 0.29125714,\n",
       " 0.11325108,\n",
       " 0.009548688,\n",
       " 0.6025684,\n",
       " 0.00019286641,\n",
       " 0.33699194,\n",
       " 0.21571073,\n",
       " 0.10365351,\n",
       " 0.01998744,\n",
       " 0.22538516,\n",
       " 0.16496788,\n",
       " 0.11848101,\n",
       " 0.03636973,\n",
       " 0.39858457,\n",
       " 0.27140185,\n",
       " 0.03751875,\n",
       " 0.100917876,\n",
       " 0.004165534,\n",
       " 0.12518805,\n",
       " 0.23238489,\n",
       " 0.0702764,\n",
       " 0.001861613,\n",
       " 0.26007405,\n",
       " 0.115016446,\n",
       " 0.73588973,\n",
       " 0.0003161664,\n",
       " 0.40260568,\n",
       " 0.015935631,\n",
       " 0.78862697,\n",
       " 0.78862697,\n",
       " 0.3248344,\n",
       " 0.063291125,\n",
       " 0.028175175,\n",
       " 0.12257376,\n",
       " 0.2427992,\n",
       " 0.0036592481,\n",
       " 0.13566963,\n",
       " 0.034106895,\n",
       " 0.47208834,\n",
       " 0.17089023,\n",
       " 0.005656233,\n",
       " 0.0041604396,\n",
       " 0.038129445,\n",
       " 0.021454541,\n",
       " 0.80011714,\n",
       " 0.80011714,\n",
       " 0.18122531,\n",
       " 6.895809e-05,\n",
       " 0.2224199,\n",
       " 0.10790487,\n",
       " 0.51212704,\n",
       " 0.51212704,\n",
       " 0.08360672,\n",
       " 0.049607698,\n",
       " 0.2953461,\n",
       " 0.1808722,\n",
       " 0.6151994,\n",
       " 0.090573125,\n",
       " 0.12167422,\n",
       " 0.139909,\n",
       " 0.8372026,\n",
       " 0.05832924,\n",
       " 0.007979924,\n",
       " 0.3669668,\n",
       " 0.3669668,\n",
       " 0.19087406,\n",
       " 0.11591361,\n",
       " 0.00013390728,\n",
       " 0.793874,\n",
       " 0.22660755,\n",
       " 0.01100953,\n",
       " 0.1015638,\n",
       " 0.13154988,\n",
       " 0.13154988,\n",
       " 0.6519522,\n",
       " 0.6519522,\n",
       " 0.23303473,\n",
       " 0.00024308308,\n",
       " 0.68817836,\n",
       " 0.1818681,\n",
       " 0.46389657,\n",
       " 0.086739466,\n",
       " 0.0023958827,\n",
       " 0.36777973,\n",
       " 0.023749698,\n",
       " 0.4215789,\n",
       " 0.23956396,\n",
       " 0.14152972,\n",
       " 0.1911278,\n",
       " 0.49682596,\n",
       " 0.7205136,\n",
       " 0.7205136,\n",
       " 0.7205136,\n",
       " 0.8819081,\n",
       " 0.8819081,\n",
       " 0.0006906441,\n",
       " 0.00022895177,\n",
       " 0.022335617,\n",
       " 0.042217992,\n",
       " 0.044864565,\n",
       " 0.10754192,\n",
       " 0.0013766045,\n",
       " 0.08279913,\n",
       " 0.7425176,\n",
       " 0.7425176,\n",
       " 0.24603897,\n",
       " 0.24603897,\n",
       " 0.25707987,\n",
       " 0.034087785,\n",
       " 0.14629297,\n",
       " 0.0011093577,\n",
       " 0.5732705,\n",
       " 0.5732705,\n",
       " 0.3673105,\n",
       " 0.18295443,\n",
       " 0.10758691,\n",
       " 0.7435009,\n",
       " 0.004133185,\n",
       " 0.16954967,\n",
       " 0.33557123,\n",
       " 0.20572062,\n",
       " 0.30829248,\n",
       " 0.015291844,\n",
       " 0.83656085,\n",
       " 0.83656085,\n",
       " 0.4610601,\n",
       " 0.013564376,\n",
       " 0.25264055,\n",
       " 0.43839583,\n",
       " 0.43839583,\n",
       " 0.0008565043,\n",
       " 0.08862997,\n",
       " 0.08862997,\n",
       " 0.13630499,\n",
       " 0.1266233,\n",
       " 0.21393558,\n",
       " 0.0931056,\n",
       " 0.0011690045,\n",
       " 0.5577502,\n",
       " 0.5577502,\n",
       " 0.05064031,\n",
       " 0.12820119,\n",
       " 0.1091941,\n",
       " 0.0017178768,\n",
       " 0.5523363,\n",
       " 0.00038274808,\n",
       " 0.28954333,\n",
       " 0.17664264,\n",
       " 0.11700244,\n",
       " 0.10703208,\n",
       " 0.12825212,\n",
       " 0.13767675,\n",
       " 0.19464807,\n",
       " 0.62446415,\n",
       " 0.20768885,\n",
       " 0.7650153,\n",
       " 0.7650153,\n",
       " 0.3542383,\n",
       " ...]"
      ]
     },
     "execution_count": 68,
     "metadata": {},
     "output_type": "execute_result"
    }
   ],
   "source": [
    "[i[1] for i in preds]"
   ]
  },
  {
   "cell_type": "code",
   "execution_count": 69,
   "metadata": {},
   "outputs": [
    {
     "data": {
      "text/plain": [
       "0.8366763088546506"
      ]
     },
     "execution_count": 69,
     "metadata": {},
     "output_type": "execute_result"
    }
   ],
   "source": [
    "roc_auc_score(y_real, [i[1] for i in preds])"
   ]
  },
  {
   "cell_type": "code",
   "execution_count": 74,
   "metadata": {},
   "outputs": [
    {
     "data": {
      "image/png": "[encoded data removed]",
      "text/plain": [
       "<Figure size 432x288 with 1 Axes>"
      ]
     },
     "metadata": {
      "image/png": {
       "height": 277,
       "width": 393
      }
     },
     "output_type": "display_data"
    }
   ],
   "source": [
    "fpr, tpr, threshold = roc_curve(y_real, [i[1] for i in preds])\n",
    "roc_auc = auc(fpr, tpr)\n",
    "\n",
    "\n",
    "plt.title('Receiver Operating Characteristic')\n",
    "plt.plot(fpr, tpr, 'b', label = 'AUC = %0.2f' % roc_auc)\n",
    "plt.legend(loc = 'lower right')\n",
    "plt.plot([0, 1], [0, 1],'r--')\n",
    "plt.xlim([0, 1])\n",
    "plt.ylim([0, 1])\n",
    "plt.ylabel('True Positive Rate')\n",
    "plt.xlabel('False Positive Rate')\n",
    "plt.show()"
   ]
  },
  {
   "cell_type": "code",
   "execution_count": null,
   "metadata": {},
   "outputs": [],
   "source": []
  },
  {
   "cell_type": "code",
   "execution_count": null,
   "metadata": {},
   "outputs": [],
   "source": []
  },
  {
   "cell_type": "markdown",
   "metadata": {},
   "source": [
    "## Model Comparisons"
   ]
  },
  {
   "cell_type": "code",
   "execution_count": 65,
   "metadata": {},
   "outputs": [
    {
     "name": "stdout",
     "output_type": "stream",
     "text": [
      "adult_data_3_options 2018-10-16 23:03:21.173330: train-0.761667   test-0.656667\n",
      "adult_data_3_options 2018-10-17 03:15:52.526120: train-0.828817   test-0.685730\n",
      "adult_data_3_options 2018-10-18 15:17:37.300741: train-0.742292   test-0.650833\n",
      "adult_data_2_options 2018-10-18 16:00:56.383718: train-0.856458   test-0.835000\n",
      "adult_data_2_options: train-0.995208   test-0.874167\n",
      "adult_data_3_options: train-0.643383   test-0.656167\n",
      "adult_data_3_options 2018-10-20 00:09:56.200392: train-0.889167   test-0.666667\n",
      "adult_data_3_options 2018-10-20 05:32:57.594632: train-0.891458   test-0.650833\n",
      "adult_data_2_options 2018-10-20 16:46:02.089673: train-0.898343   test-0.843117\n",
      "adult_data_2_options 2018-10-21 05:02:16.882644: train-0.822734   test-0.803558\n"
     ]
    }
   ],
   "source": [
    "for k, v in models_dict.items():\n",
    "    print(k+': ')\n",
    "    \n",
    "    for k2, v2 in v['accuracy_scores'].items():\n",
    "        print(k2 + ': %.06f' % v2 )\n",
    "#     print('   train: acc-%.06f' % v['accuracy_scores']['train'], end = '')\n",
    "#     if(v[''])\n",
    "#     print('   test: acc-%.06f' % v['accuracy_scores']['test'])"
   ]
  },
  {
   "cell_type": "code",
   "execution_count": 34,
   "metadata": {},
   "outputs": [],
   "source": [
    "\n",
    "\n",
    "model_pickle_file_name = models_dict['adult_data_2_options 2018-10-18 16:00:56.383718']['history_location']\n",
    "file_object = open(model_pickle_file_name,'rb')\n",
    "model_history = pickle.load(file_object)\n",
    "file_object.close()\n",
    "\n"
   ]
  },
  {
   "cell_type": "code",
   "execution_count": 37,
   "metadata": {},
   "outputs": [
    {
     "data": {
      "text/plain": [
       "{'name': 'sequential_2',\n",
       " 'layers': [{'class_name': 'Conv2D',\n",
       "   'config': {'name': 'conv2d_3',\n",
       "    'trainable': True,\n",
       "    'batch_input_shape': (None, 64, 64, 1),\n",
       "    'dtype': 'float32',\n",
       "    'filters': 6,\n",
       "    'kernel_size': (3, 3),\n",
       "    'strides': (1, 1),\n",
       "    'padding': 'valid',\n",
       "    'data_format': 'channels_last',\n",
       "    'dilation_rate': (1, 1),\n",
       "    'activation': 'relu',\n",
       "    'use_bias': True,\n",
       "    'kernel_initializer': {'class_name': 'VarianceScaling',\n",
       "     'config': {'scale': 1.0,\n",
       "      'mode': 'fan_avg',\n",
       "      'distribution': 'uniform',\n",
       "      'seed': None}},\n",
       "    'bias_initializer': {'class_name': 'Zeros', 'config': {}},\n",
       "    'kernel_regularizer': None,\n",
       "    'bias_regularizer': None,\n",
       "    'activity_regularizer': None,\n",
       "    'kernel_constraint': None,\n",
       "    'bias_constraint': None}},\n",
       "  {'class_name': 'MaxPooling2D',\n",
       "   'config': {'name': 'max_pooling2d_3',\n",
       "    'trainable': True,\n",
       "    'pool_size': (2, 2),\n",
       "    'padding': 'valid',\n",
       "    'strides': (2, 2),\n",
       "    'data_format': 'channels_last'}},\n",
       "  {'class_name': 'Conv2D',\n",
       "   'config': {'name': 'conv2d_4',\n",
       "    'trainable': True,\n",
       "    'filters': 16,\n",
       "    'kernel_size': (3, 3),\n",
       "    'strides': (1, 1),\n",
       "    'padding': 'valid',\n",
       "    'data_format': 'channels_last',\n",
       "    'dilation_rate': (1, 1),\n",
       "    'activation': 'relu',\n",
       "    'use_bias': True,\n",
       "    'kernel_initializer': {'class_name': 'VarianceScaling',\n",
       "     'config': {'scale': 1.0,\n",
       "      'mode': 'fan_avg',\n",
       "      'distribution': 'uniform',\n",
       "      'seed': None}},\n",
       "    'bias_initializer': {'class_name': 'Zeros', 'config': {}},\n",
       "    'kernel_regularizer': None,\n",
       "    'bias_regularizer': None,\n",
       "    'activity_regularizer': None,\n",
       "    'kernel_constraint': None,\n",
       "    'bias_constraint': None}},\n",
       "  {'class_name': 'MaxPooling2D',\n",
       "   'config': {'name': 'max_pooling2d_4',\n",
       "    'trainable': True,\n",
       "    'pool_size': (2, 2),\n",
       "    'padding': 'valid',\n",
       "    'strides': (2, 2),\n",
       "    'data_format': 'channels_last'}},\n",
       "  {'class_name': 'Dropout',\n",
       "   'config': {'name': 'dropout_4',\n",
       "    'trainable': True,\n",
       "    'rate': 0.8,\n",
       "    'noise_shape': None,\n",
       "    'seed': None}},\n",
       "  {'class_name': 'Flatten',\n",
       "   'config': {'name': 'flatten_2',\n",
       "    'trainable': True,\n",
       "    'data_format': 'channels_last'}},\n",
       "  {'class_name': 'Dense',\n",
       "   'config': {'name': 'dense_4',\n",
       "    'trainable': True,\n",
       "    'units': 512,\n",
       "    'activation': 'relu',\n",
       "    'use_bias': True,\n",
       "    'kernel_initializer': {'class_name': 'VarianceScaling',\n",
       "     'config': {'scale': 1.0,\n",
       "      'mode': 'fan_avg',\n",
       "      'distribution': 'uniform',\n",
       "      'seed': None}},\n",
       "    'bias_initializer': {'class_name': 'Zeros', 'config': {}},\n",
       "    'kernel_regularizer': None,\n",
       "    'bias_regularizer': None,\n",
       "    'activity_regularizer': None,\n",
       "    'kernel_constraint': None,\n",
       "    'bias_constraint': None}},\n",
       "  {'class_name': 'Dropout',\n",
       "   'config': {'name': 'dropout_5',\n",
       "    'trainable': True,\n",
       "    'rate': 0.5,\n",
       "    'noise_shape': None,\n",
       "    'seed': None}},\n",
       "  {'class_name': 'Dense',\n",
       "   'config': {'name': 'dense_5',\n",
       "    'trainable': True,\n",
       "    'units': 128,\n",
       "    'activation': 'relu',\n",
       "    'use_bias': True,\n",
       "    'kernel_initializer': {'class_name': 'VarianceScaling',\n",
       "     'config': {'scale': 1.0,\n",
       "      'mode': 'fan_avg',\n",
       "      'distribution': 'uniform',\n",
       "      'seed': None}},\n",
       "    'bias_initializer': {'class_name': 'Zeros', 'config': {}},\n",
       "    'kernel_regularizer': None,\n",
       "    'bias_regularizer': None,\n",
       "    'activity_regularizer': None,\n",
       "    'kernel_constraint': None,\n",
       "    'bias_constraint': None}},\n",
       "  {'class_name': 'Dropout',\n",
       "   'config': {'name': 'dropout_6',\n",
       "    'trainable': True,\n",
       "    'rate': 0.5,\n",
       "    'noise_shape': None,\n",
       "    'seed': None}},\n",
       "  {'class_name': 'Dense',\n",
       "   'config': {'name': 'dense_6',\n",
       "    'trainable': True,\n",
       "    'units': 2,\n",
       "    'activation': 'softmax',\n",
       "    'use_bias': True,\n",
       "    'kernel_initializer': {'class_name': 'VarianceScaling',\n",
       "     'config': {'scale': 1.0,\n",
       "      'mode': 'fan_avg',\n",
       "      'distribution': 'uniform',\n",
       "      'seed': None}},\n",
       "    'bias_initializer': {'class_name': 'Zeros', 'config': {}},\n",
       "    'kernel_regularizer': None,\n",
       "    'bias_regularizer': None,\n",
       "    'activity_regularizer': None,\n",
       "    'kernel_constraint': None,\n",
       "    'bias_constraint': None}}]}"
      ]
     },
     "execution_count": 37,
     "metadata": {},
     "output_type": "execute_result"
    }
   ],
   "source": [
    "model_history.model.get_config()"
   ]
  },
  {
   "cell_type": "code",
   "execution_count": null,
   "metadata": {},
   "outputs": [],
   "source": []
  },
  {
   "cell_type": "markdown",
   "metadata": {},
   "source": [
    "## What have I tried?"
   ]
  },
  {
   "cell_type": "markdown",
   "metadata": {},
   "source": [
    "- Stochastic Gradient Descent had little to no positive effect on my model\n",
    "- SpatialDropout2D had a negative effect on my model. I am not entirely sure what situations wuold be best for its use\n",
    "- Change number of nodes per layer, amount of dropout per layer, number of filters per layer, etc. \n",
    "    - looks like more dropout was better (>=0.5)\n",
    "    - no more than 2 fully connected layers necessary. Proved to have little increase (if any) in performance and added a lot of time to the training\n",
    "    - I'm not sure the effect the number of filters had"
   ]
  },
  {
   "cell_type": "markdown",
   "metadata": {},
   "source": [
    "## What am I trying to do now?"
   ]
  },
  {
   "cell_type": "markdown",
   "metadata": {},
   "source": [
    "- change model dict to incorporate all metrics tested against\n",
    "- implement a gridsearch / gridsearch-type structure \n",
    "- create new datasets with certain parameters\n",
    "    - balanced classes with respect to sex, position, age, target\n",
    "        - 2 versions, one with pneumonia/not_pneumonia balanced and one with normal/abnormal/pneumonia balanced\n",
    "    - a mini-training set of maybe 5k images and a full training set using all of our images \n",
    "        - 3 versions of our \"full data\" one: one with undersampling of normal/abnormal/not pneumonia, one with oversampling of pneumonia, and one with just the full data we have"
   ]
  },
  {
   "cell_type": "markdown",
   "metadata": {},
   "source": [
    "## Further down the line"
   ]
  },
  {
   "cell_type": "markdown",
   "metadata": {},
   "source": [
    "- Try to get bounding boxes - [R-CNN (or a different iteration)](https://heartbeat.fritz.ai/the-5-computer-vision-techniques-that-will-change-how-you-see-the-world-1ee19334354b)\n",
    "- "
   ]
  },
  {
   "cell_type": "markdown",
   "metadata": {},
   "source": [
    "## Continuing to Train Models"
   ]
  },
  {
   "cell_type": "code",
   "execution_count": 71,
   "metadata": {
    "scrolled": true
   },
   "outputs": [
    {
     "name": "stderr",
     "output_type": "stream",
     "text": [
      "/home/ec2-user/anaconda3/envs/py36/lib/python3.6/site-packages/sklearn/model_selection/_split.py:2026: FutureWarning: From version 0.21, test_size will always complement train_size unless both are specified.\n",
      "  FutureWarning)\n"
     ]
    },
    {
     "name": "stdout",
     "output_type": "stream",
     "text": [
      "Train on 22029 samples, validate on 5508 samples\n",
      "Epoch 1/80\n",
      "22029/22029 [==============================] - 228s 10ms/step - loss: 0.4011 - acc: 0.8287 - mean_absolute_error: 0.2475 - val_loss: 0.4370 - val_acc: 0.8003 - val_mean_absolute_error: 0.2970\n",
      "Epoch 2/80\n",
      "22029/22029 [==============================] - 230s 10ms/step - loss: 0.4037 - acc: 0.8250 - mean_absolute_error: 0.2524 - val_loss: 0.4383 - val_acc: 0.7974 - val_mean_absolute_error: 0.2834\n",
      "Epoch 3/80\n",
      "22029/22029 [==============================] - 226s 10ms/step - loss: 0.4060 - acc: 0.8238 - mean_absolute_error: 0.2524 - val_loss: 0.4334 - val_acc: 0.7968 - val_mean_absolute_error: 0.2882\n",
      "Epoch 4/80\n",
      "22029/22029 [==============================] - 226s 10ms/step - loss: 0.4041 - acc: 0.8248 - mean_absolute_error: 0.2507 - val_loss: 0.4298 - val_acc: 0.8112 - val_mean_absolute_error: 0.2868\n",
      "Epoch 5/80\n",
      "22029/22029 [==============================] - 230s 10ms/step - loss: 0.3972 - acc: 0.8308 - mean_absolute_error: 0.2466 - val_loss: 0.4417 - val_acc: 0.8003 - val_mean_absolute_error: 0.2883\n",
      "Epoch 6/80\n",
      "22029/22029 [==============================] - 229s 10ms/step - loss: 0.4039 - acc: 0.8265 - mean_absolute_error: 0.2495 - val_loss: 0.4352 - val_acc: 0.7963 - val_mean_absolute_error: 0.2750\n",
      "Epoch 7/80\n",
      "22029/22029 [==============================] - 227s 10ms/step - loss: 0.4003 - acc: 0.8278 - mean_absolute_error: 0.2488 - val_loss: 0.4283 - val_acc: 0.8092 - val_mean_absolute_error: 0.2828\n",
      "Epoch 8/80\n",
      "22029/22029 [==============================] - 226s 10ms/step - loss: 0.4129 - acc: 0.8218 - mean_absolute_error: 0.2545 - val_loss: 0.4404 - val_acc: 0.8021 - val_mean_absolute_error: 0.2611\n",
      "Epoch 9/80\n",
      "22029/22029 [==============================] - 224s 10ms/step - loss: 0.3994 - acc: 0.8270 - mean_absolute_error: 0.2486 - val_loss: 0.4336 - val_acc: 0.8039 - val_mean_absolute_error: 0.2745\n",
      "Epoch 10/80\n",
      "22029/22029 [==============================] - 229s 10ms/step - loss: 0.4069 - acc: 0.8244 - mean_absolute_error: 0.2531 - val_loss: 0.4319 - val_acc: 0.8095 - val_mean_absolute_error: 0.2896\n",
      "Epoch 11/80\n",
      "22029/22029 [==============================] - 225s 10ms/step - loss: 0.3976 - acc: 0.8272 - mean_absolute_error: 0.2465 - val_loss: 0.4363 - val_acc: 0.8052 - val_mean_absolute_error: 0.2685\n",
      "Epoch 12/80\n",
      "22029/22029 [==============================] - 228s 10ms/step - loss: 0.4020 - acc: 0.8260 - mean_absolute_error: 0.2506 - val_loss: 0.4640 - val_acc: 0.8032 - val_mean_absolute_error: 0.2432\n",
      "Epoch 13/80\n",
      "22029/22029 [==============================] - 228s 10ms/step - loss: 0.4091 - acc: 0.8239 - mean_absolute_error: 0.2518 - val_loss: 0.4367 - val_acc: 0.8048 - val_mean_absolute_error: 0.2847\n",
      "Epoch 14/80\n",
      "22029/22029 [==============================] - 229s 10ms/step - loss: 0.4017 - acc: 0.8281 - mean_absolute_error: 0.2495 - val_loss: 0.4410 - val_acc: 0.8057 - val_mean_absolute_error: 0.2574\n",
      "Epoch 15/80\n",
      "22029/22029 [==============================] - 229s 10ms/step - loss: 0.4047 - acc: 0.8245 - mean_absolute_error: 0.2518 - val_loss: 0.4323 - val_acc: 0.8028 - val_mean_absolute_error: 0.2687\n",
      "Epoch 16/80\n",
      "22029/22029 [==============================] - 228s 10ms/step - loss: 0.3970 - acc: 0.8307 - mean_absolute_error: 0.2464 - val_loss: 0.4291 - val_acc: 0.8083 - val_mean_absolute_error: 0.2579\n",
      "Epoch 17/80\n",
      "22029/22029 [==============================] - 228s 10ms/step - loss: 0.3989 - acc: 0.8284 - mean_absolute_error: 0.2463 - val_loss: 0.4334 - val_acc: 0.8032 - val_mean_absolute_error: 0.2873\n",
      "Epoch 18/80\n",
      "22029/22029 [==============================] - 231s 10ms/step - loss: 0.4007 - acc: 0.8237 - mean_absolute_error: 0.2485 - val_loss: 0.4354 - val_acc: 0.7977 - val_mean_absolute_error: 0.2893\n",
      "Epoch 19/80\n",
      " 1650/22029 [=>............................] - ETA: 3:25 - loss: 0.3900 - acc: 0.8291 - mean_absolute_error: 0.2392"
     ]
    },
    {
     "name": "stderr",
     "output_type": "stream",
     "text": [
      "IOPub message rate exceeded.\n",
      "The notebook server will temporarily stop sending output\n",
      "to the client in order to avoid crashing it.\n",
      "To change this limit, set the config variable\n",
      "`--NotebookApp.iopub_msg_rate_limit`.\n",
      "\n",
      "Current values:\n",
      "NotebookApp.iopub_msg_rate_limit=1000.0 (msgs/sec)\n",
      "NotebookApp.rate_limit_window=3.0 (secs)\n",
      "\n"
     ]
    },
    {
     "name": "stdout",
     "output_type": "stream",
     "text": [
      "22029/22029 [==============================] - 232s 11ms/step - loss: 0.4002 - acc: 0.8275 - mean_absolute_error: 0.2482 - val_loss: 0.4314 - val_acc: 0.8052 - val_mean_absolute_error: 0.2886\n",
      "Epoch 21/80\n",
      " 8900/22029 [===========>..................] - ETA: 2:07 - loss: 0.3971 - acc: 0.8274 - mean_absolute_error: 0.2484"
     ]
    },
    {
     "name": "stderr",
     "output_type": "stream",
     "text": [
      "IOPub message rate exceeded.\n",
      "The notebook server will temporarily stop sending output\n",
      "to the client in order to avoid crashing it.\n",
      "To change this limit, set the config variable\n",
      "`--NotebookApp.iopub_msg_rate_limit`.\n",
      "\n",
      "Current values:\n",
      "NotebookApp.iopub_msg_rate_limit=1000.0 (msgs/sec)\n",
      "NotebookApp.rate_limit_window=3.0 (secs)\n",
      "\n"
     ]
    },
    {
     "name": "stdout",
     "output_type": "stream",
     "text": [
      "22029/22029 [==============================] - 226s 10ms/step - loss: 0.3984 - acc: 0.8304 - mean_absolute_error: 0.2472 - val_loss: 0.4374 - val_acc: 0.7999 - val_mean_absolute_error: 0.2762\n",
      "Epoch 23/80\n",
      "20440/22029 [==========================>...] - ETA: 15s - loss: 0.4032 - acc: 0.8271 - mean_absolute_error: 0.2499"
     ]
    },
    {
     "name": "stderr",
     "output_type": "stream",
     "text": [
      "IOPub message rate exceeded.\n",
      "The notebook server will temporarily stop sending output\n",
      "to the client in order to avoid crashing it.\n",
      "To change this limit, set the config variable\n",
      "`--NotebookApp.iopub_msg_rate_limit`.\n",
      "\n",
      "Current values:\n",
      "NotebookApp.iopub_msg_rate_limit=1000.0 (msgs/sec)\n",
      "NotebookApp.rate_limit_window=3.0 (secs)\n",
      "\n"
     ]
    },
    {
     "name": "stdout",
     "output_type": "stream",
     "text": [
      "22029/22029 [==============================] - 232s 11ms/step - loss: 0.4017 - acc: 0.8290 - mean_absolute_error: 0.2488 - val_loss: 0.4458 - val_acc: 0.7907 - val_mean_absolute_error: 0.2723\n",
      "Epoch 25/80\n",
      "22029/22029 [==============================] - 230s 10ms/step - loss: 0.4037 - acc: 0.8267 - mean_absolute_error: 0.2491 - val_loss: 0.4347 - val_acc: 0.8046 - val_mean_absolute_error: 0.2818\n",
      "Epoch 26/80\n",
      " 5590/22029 [======>.......................] - ETA: 2:38 - loss: 0.3955 - acc: 0.8309 - mean_absolute_error: 0.2450"
     ]
    },
    {
     "name": "stderr",
     "output_type": "stream",
     "text": [
      "IOPub message rate exceeded.\n",
      "The notebook server will temporarily stop sending output\n",
      "to the client in order to avoid crashing it.\n",
      "To change this limit, set the config variable\n",
      "`--NotebookApp.iopub_msg_rate_limit`.\n",
      "\n",
      "Current values:\n",
      "NotebookApp.iopub_msg_rate_limit=1000.0 (msgs/sec)\n",
      "NotebookApp.rate_limit_window=3.0 (secs)\n",
      "\n"
     ]
    },
    {
     "name": "stdout",
     "output_type": "stream",
     "text": [
      "22029/22029 [==============================] - 231s 10ms/step - loss: 0.3993 - acc: 0.8277 - mean_absolute_error: 0.2481 - val_loss: 0.4450 - val_acc: 0.8028 - val_mean_absolute_error: 0.2663\n",
      "Epoch 28/80\n",
      "16950/22029 [======================>.......] - ETA: 48s - loss: 0.4004 - acc: 0.8277 - mean_absolute_error: 0.2487"
     ]
    },
    {
     "name": "stderr",
     "output_type": "stream",
     "text": [
      "IOPub message rate exceeded.\n",
      "The notebook server will temporarily stop sending output\n",
      "to the client in order to avoid crashing it.\n",
      "To change this limit, set the config variable\n",
      "`--NotebookApp.iopub_msg_rate_limit`.\n",
      "\n",
      "Current values:\n",
      "NotebookApp.iopub_msg_rate_limit=1000.0 (msgs/sec)\n",
      "NotebookApp.rate_limit_window=3.0 (secs)\n",
      "\n"
     ]
    },
    {
     "name": "stdout",
     "output_type": "stream",
     "text": [
      "22029/22029 [==============================] - 225s 10ms/step - loss: 0.4010 - acc: 0.8279 - mean_absolute_error: 0.2491 - val_loss: 0.4542 - val_acc: 0.7939 - val_mean_absolute_error: 0.2619\n",
      "Epoch 30/80\n",
      "22029/22029 [==============================] - 226s 10ms/step - loss: 0.4013 - acc: 0.8273 - mean_absolute_error: 0.2492 - val_loss: 0.4394 - val_acc: 0.7976 - val_mean_absolute_error: 0.2909\n",
      "Epoch 31/80\n",
      " 6310/22029 [=======>......................] - ETA: 2:32 - loss: 0.3988 - acc: 0.8258 - mean_absolute_error: 0.2468"
     ]
    },
    {
     "name": "stderr",
     "output_type": "stream",
     "text": [
      "IOPub message rate exceeded.\n",
      "The notebook server will temporarily stop sending output\n",
      "to the client in order to avoid crashing it.\n",
      "To change this limit, set the config variable\n",
      "`--NotebookApp.iopub_msg_rate_limit`.\n",
      "\n",
      "Current values:\n",
      "NotebookApp.iopub_msg_rate_limit=1000.0 (msgs/sec)\n",
      "NotebookApp.rate_limit_window=3.0 (secs)\n",
      "\n"
     ]
    },
    {
     "name": "stdout",
     "output_type": "stream",
     "text": [
      "22029/22029 [==============================] - 229s 10ms/step - loss: 0.3957 - acc: 0.8307 - mean_absolute_error: 0.2462 - val_loss: 0.4290 - val_acc: 0.8083 - val_mean_absolute_error: 0.2778\n",
      "Epoch 33/80\n",
      "13470/22029 [=================>............] - ETA: 1:22 - loss: 0.4057 - acc: 0.8272 - mean_absolute_error: 0.2516"
     ]
    },
    {
     "name": "stderr",
     "output_type": "stream",
     "text": [
      "IOPub message rate exceeded.\n",
      "The notebook server will temporarily stop sending output\n",
      "to the client in order to avoid crashing it.\n",
      "To change this limit, set the config variable\n",
      "`--NotebookApp.iopub_msg_rate_limit`.\n",
      "\n",
      "Current values:\n",
      "NotebookApp.iopub_msg_rate_limit=1000.0 (msgs/sec)\n",
      "NotebookApp.rate_limit_window=3.0 (secs)\n",
      "\n"
     ]
    },
    {
     "name": "stdout",
     "output_type": "stream",
     "text": [
      "22029/22029 [==============================] - 230s 10ms/step - loss: 0.4038 - acc: 0.8262 - mean_absolute_error: 0.2504 - val_loss: 0.4276 - val_acc: 0.8092 - val_mean_absolute_error: 0.2758\n",
      "Epoch 35/80\n",
      "22029/22029 [==============================] - 228s 10ms/step - loss: 0.4012 - acc: 0.8292 - mean_absolute_error: 0.2490 - val_loss: 0.4265 - val_acc: 0.8094 - val_mean_absolute_error: 0.2686\n",
      "Epoch 36/80\n",
      " 2950/22029 [===>..........................] - ETA: 3:04 - loss: 0.3715 - acc: 0.8458 - mean_absolute_error: 0.2283"
     ]
    },
    {
     "name": "stderr",
     "output_type": "stream",
     "text": [
      "IOPub message rate exceeded.\n",
      "The notebook server will temporarily stop sending output\n",
      "to the client in order to avoid crashing it.\n",
      "To change this limit, set the config variable\n",
      "`--NotebookApp.iopub_msg_rate_limit`.\n",
      "\n",
      "Current values:\n",
      "NotebookApp.iopub_msg_rate_limit=1000.0 (msgs/sec)\n",
      "NotebookApp.rate_limit_window=3.0 (secs)\n",
      "\n"
     ]
    },
    {
     "name": "stdout",
     "output_type": "stream",
     "text": [
      "22029/22029 [==============================] - 230s 10ms/step - loss: 0.3969 - acc: 0.8278 - mean_absolute_error: 0.2471 - val_loss: 0.4344 - val_acc: 0.8059 - val_mean_absolute_error: 0.2875\n",
      "Epoch 38/80\n",
      "14440/22029 [==================>...........] - ETA: 1:13 - loss: 0.3968 - acc: 0.8321 - mean_absolute_error: 0.2465"
     ]
    },
    {
     "name": "stderr",
     "output_type": "stream",
     "text": [
      "IOPub message rate exceeded.\n",
      "The notebook server will temporarily stop sending output\n",
      "to the client in order to avoid crashing it.\n",
      "To change this limit, set the config variable\n",
      "`--NotebookApp.iopub_msg_rate_limit`.\n",
      "\n",
      "Current values:\n",
      "NotebookApp.iopub_msg_rate_limit=1000.0 (msgs/sec)\n",
      "NotebookApp.rate_limit_window=3.0 (secs)\n",
      "\n"
     ]
    },
    {
     "name": "stdout",
     "output_type": "stream",
     "text": [
      "22029/22029 [==============================] - 227s 10ms/step - loss: 0.4014 - acc: 0.8274 - mean_absolute_error: 0.2487 - val_loss: 0.4291 - val_acc: 0.8023 - val_mean_absolute_error: 0.2787\n",
      "Epoch 40/80\n",
      "22029/22029 [==============================] - 227s 10ms/step - loss: 0.3973 - acc: 0.8295 - mean_absolute_error: 0.2448 - val_loss: 0.4389 - val_acc: 0.7999 - val_mean_absolute_error: 0.2975\n",
      "Epoch 41/80\n",
      " 3960/22029 [====>.........................] - ETA: 2:56 - loss: 0.3836 - acc: 0.8447 - mean_absolute_error: 0.2405"
     ]
    },
    {
     "name": "stderr",
     "output_type": "stream",
     "text": [
      "IOPub message rate exceeded.\n",
      "The notebook server will temporarily stop sending output\n",
      "to the client in order to avoid crashing it.\n",
      "To change this limit, set the config variable\n",
      "`--NotebookApp.iopub_msg_rate_limit`.\n",
      "\n",
      "Current values:\n",
      "NotebookApp.iopub_msg_rate_limit=1000.0 (msgs/sec)\n",
      "NotebookApp.rate_limit_window=3.0 (secs)\n",
      "\n"
     ]
    },
    {
     "name": "stdout",
     "output_type": "stream",
     "text": [
      "22029/22029 [==============================] - 227s 10ms/step - loss: 0.3993 - acc: 0.8271 - mean_absolute_error: 0.2473 - val_loss: 0.4621 - val_acc: 0.7745 - val_mean_absolute_error: 0.3145\n",
      "Epoch 43/80\n",
      "15550/22029 [====================>.........] - ETA: 1:02 - loss: 0.4029 - acc: 0.8320 - mean_absolute_error: 0.2493"
     ]
    },
    {
     "name": "stderr",
     "output_type": "stream",
     "text": [
      "IOPub message rate exceeded.\n",
      "The notebook server will temporarily stop sending output\n",
      "to the client in order to avoid crashing it.\n",
      "To change this limit, set the config variable\n",
      "`--NotebookApp.iopub_msg_rate_limit`.\n",
      "\n",
      "Current values:\n",
      "NotebookApp.iopub_msg_rate_limit=1000.0 (msgs/sec)\n",
      "NotebookApp.rate_limit_window=3.0 (secs)\n",
      "\n"
     ]
    },
    {
     "name": "stdout",
     "output_type": "stream",
     "text": [
      "22029/22029 [==============================] - 227s 10ms/step - loss: 0.3972 - acc: 0.8309 - mean_absolute_error: 0.2455 - val_loss: 0.4332 - val_acc: 0.8039 - val_mean_absolute_error: 0.2830\n",
      "Epoch 45/80\n",
      "22029/22029 [==============================] - 226s 10ms/step - loss: 0.3996 - acc: 0.8290 - mean_absolute_error: 0.2484 - val_loss: 0.4355 - val_acc: 0.8005 - val_mean_absolute_error: 0.2613\n",
      "Epoch 46/80\n",
      " 5110/22029 [=====>........................] - ETA: 2:41 - loss: 0.4067 - acc: 0.8205 - mean_absolute_error: 0.2526"
     ]
    },
    {
     "name": "stderr",
     "output_type": "stream",
     "text": [
      "IOPub message rate exceeded.\n",
      "The notebook server will temporarily stop sending output\n",
      "to the client in order to avoid crashing it.\n",
      "To change this limit, set the config variable\n",
      "`--NotebookApp.iopub_msg_rate_limit`.\n",
      "\n",
      "Current values:\n",
      "NotebookApp.iopub_msg_rate_limit=1000.0 (msgs/sec)\n",
      "NotebookApp.rate_limit_window=3.0 (secs)\n",
      "\n"
     ]
    },
    {
     "name": "stdout",
     "output_type": "stream",
     "text": [
      "22029/22029 [==============================] - 225s 10ms/step - loss: 0.3992 - acc: 0.8317 - mean_absolute_error: 0.2473 - val_loss: 0.4359 - val_acc: 0.7996 - val_mean_absolute_error: 0.2895\n",
      "Epoch 48/80\n",
      "16330/22029 [=====================>........] - ETA: 55s - loss: 0.3980 - acc: 0.8281 - mean_absolute_error: 0.2475"
     ]
    },
    {
     "name": "stderr",
     "output_type": "stream",
     "text": [
      "IOPub message rate exceeded.\n",
      "The notebook server will temporarily stop sending output\n",
      "to the client in order to avoid crashing it.\n",
      "To change this limit, set the config variable\n",
      "`--NotebookApp.iopub_msg_rate_limit`.\n",
      "\n",
      "Current values:\n",
      "NotebookApp.iopub_msg_rate_limit=1000.0 (msgs/sec)\n",
      "NotebookApp.rate_limit_window=3.0 (secs)\n",
      "\n"
     ]
    },
    {
     "name": "stdout",
     "output_type": "stream",
     "text": [
      "22029/22029 [==============================] - 225s 10ms/step - loss: 0.3994 - acc: 0.8275 - mean_absolute_error: 0.2483 - val_loss: 0.4301 - val_acc: 0.8048 - val_mean_absolute_error: 0.2762\n",
      "Epoch 50/80\n",
      "22029/22029 [==============================] - 226s 10ms/step - loss: 0.3993 - acc: 0.8300 - mean_absolute_error: 0.2468 - val_loss: 0.4362 - val_acc: 0.8017 - val_mean_absolute_error: 0.2851\n",
      "Epoch 51/80\n",
      " 5830/22029 [======>.......................] - ETA: 2:37 - loss: 0.4049 - acc: 0.8269 - mean_absolute_error: 0.2523"
     ]
    },
    {
     "name": "stderr",
     "output_type": "stream",
     "text": [
      "IOPub message rate exceeded.\n",
      "The notebook server will temporarily stop sending output\n",
      "to the client in order to avoid crashing it.\n",
      "To change this limit, set the config variable\n",
      "`--NotebookApp.iopub_msg_rate_limit`.\n",
      "\n",
      "Current values:\n",
      "NotebookApp.iopub_msg_rate_limit=1000.0 (msgs/sec)\n",
      "NotebookApp.rate_limit_window=3.0 (secs)\n",
      "\n"
     ]
    },
    {
     "name": "stdout",
     "output_type": "stream",
     "text": [
      "22029/22029 [==============================] - 227s 10ms/step - loss: 0.4022 - acc: 0.8300 - mean_absolute_error: 0.2479 - val_loss: 0.4345 - val_acc: 0.8025 - val_mean_absolute_error: 0.2902\n",
      "Epoch 53/80\n",
      "11750/22029 [===============>..............] - ETA: 1:38 - loss: 0.3987 - acc: 0.8289 - mean_absolute_error: 0.2488"
     ]
    },
    {
     "name": "stderr",
     "output_type": "stream",
     "text": [
      "IOPub message rate exceeded.\n",
      "The notebook server will temporarily stop sending output\n",
      "to the client in order to avoid crashing it.\n",
      "To change this limit, set the config variable\n",
      "`--NotebookApp.iopub_msg_rate_limit`.\n",
      "\n",
      "Current values:\n",
      "NotebookApp.iopub_msg_rate_limit=1000.0 (msgs/sec)\n",
      "NotebookApp.rate_limit_window=3.0 (secs)\n",
      "\n"
     ]
    },
    {
     "name": "stdout",
     "output_type": "stream",
     "text": [
      "22029/22029 [==============================] - 230s 10ms/step - loss: 0.3978 - acc: 0.8292 - mean_absolute_error: 0.2464 - val_loss: 0.4321 - val_acc: 0.8041 - val_mean_absolute_error: 0.2778\n",
      "Epoch 55/80\n",
      "22029/22029 [==============================] - 230s 10ms/step - loss: 0.3987 - acc: 0.8292 - mean_absolute_error: 0.2473 - val_loss: 0.4485 - val_acc: 0.8007 - val_mean_absolute_error: 0.2550\n",
      "Epoch 56/80\n",
      "  690/22029 [..............................] - ETA: 3:28 - loss: 0.4377 - acc: 0.8101 - mean_absolute_error: 0.2627"
     ]
    },
    {
     "name": "stderr",
     "output_type": "stream",
     "text": [
      "IOPub message rate exceeded.\n",
      "The notebook server will temporarily stop sending output\n",
      "to the client in order to avoid crashing it.\n",
      "To change this limit, set the config variable\n",
      "`--NotebookApp.iopub_msg_rate_limit`.\n",
      "\n",
      "Current values:\n",
      "NotebookApp.iopub_msg_rate_limit=1000.0 (msgs/sec)\n",
      "NotebookApp.rate_limit_window=3.0 (secs)\n",
      "\n"
     ]
    },
    {
     "name": "stdout",
     "output_type": "stream",
     "text": [
      "22029/22029 [==============================] - 224s 10ms/step - loss: 0.3983 - acc: 0.8294 - mean_absolute_error: 0.2464 - val_loss: 0.4325 - val_acc: 0.8076 - val_mean_absolute_error: 0.2925\n",
      "Epoch 58/80\n",
      "11950/22029 [===============>..............] - ETA: 1:35 - loss: 0.4042 - acc: 0.8258 - mean_absolute_error: 0.2507"
     ]
    },
    {
     "name": "stderr",
     "output_type": "stream",
     "text": [
      "IOPub message rate exceeded.\n",
      "The notebook server will temporarily stop sending output\n",
      "to the client in order to avoid crashing it.\n",
      "To change this limit, set the config variable\n",
      "`--NotebookApp.iopub_msg_rate_limit`.\n",
      "\n",
      "Current values:\n",
      "NotebookApp.iopub_msg_rate_limit=1000.0 (msgs/sec)\n",
      "NotebookApp.rate_limit_window=3.0 (secs)\n",
      "\n"
     ]
    },
    {
     "name": "stdout",
     "output_type": "stream",
     "text": [
      "22029/22029 [==============================] - 229s 10ms/step - loss: 0.4053 - acc: 0.8259 - mean_absolute_error: 0.2522 - val_loss: 0.4454 - val_acc: 0.7996 - val_mean_absolute_error: 0.3081\n",
      "Epoch 60/80\n",
      "22029/22029 [==============================] - 228s 10ms/step - loss: 0.4065 - acc: 0.8244 - mean_absolute_error: 0.2514 - val_loss: 0.4365 - val_acc: 0.8066 - val_mean_absolute_error: 0.2900\n",
      "Epoch 61/80\n",
      " 1220/22029 [>.............................] - ETA: 3:18 - loss: 0.3861 - acc: 0.8344 - mean_absolute_error: 0.2418"
     ]
    },
    {
     "name": "stderr",
     "output_type": "stream",
     "text": [
      "IOPub message rate exceeded.\n",
      "The notebook server will temporarily stop sending output\n",
      "to the client in order to avoid crashing it.\n",
      "To change this limit, set the config variable\n",
      "`--NotebookApp.iopub_msg_rate_limit`.\n",
      "\n",
      "Current values:\n",
      "NotebookApp.iopub_msg_rate_limit=1000.0 (msgs/sec)\n",
      "NotebookApp.rate_limit_window=3.0 (secs)\n",
      "\n"
     ]
    },
    {
     "name": "stdout",
     "output_type": "stream",
     "text": [
      "22029/22029 [==============================] - 228s 10ms/step - loss: 0.4056 - acc: 0.8239 - mean_absolute_error: 0.2526 - val_loss: 0.4411 - val_acc: 0.8023 - val_mean_absolute_error: 0.3015\n",
      "Epoch 63/80\n",
      "12780/22029 [================>.............] - ETA: 1:29 - loss: 0.3984 - acc: 0.8279 - mean_absolute_error: 0.2473"
     ]
    },
    {
     "name": "stderr",
     "output_type": "stream",
     "text": [
      "IOPub message rate exceeded.\n",
      "The notebook server will temporarily stop sending output\n",
      "to the client in order to avoid crashing it.\n",
      "To change this limit, set the config variable\n",
      "`--NotebookApp.iopub_msg_rate_limit`.\n",
      "\n",
      "Current values:\n",
      "NotebookApp.iopub_msg_rate_limit=1000.0 (msgs/sec)\n",
      "NotebookApp.rate_limit_window=3.0 (secs)\n",
      "\n"
     ]
    },
    {
     "name": "stdout",
     "output_type": "stream",
     "text": [
      "22029/22029 [==============================] - 225s 10ms/step - loss: 0.3986 - acc: 0.8319 - mean_absolute_error: 0.2458 - val_loss: 0.4357 - val_acc: 0.8036 - val_mean_absolute_error: 0.2927\n",
      "Epoch 65/80\n",
      "18300/22029 [=======================>......] - ETA: 35s - loss: 0.3917 - acc: 0.8330 - mean_absolute_error: 0.2422"
     ]
    },
    {
     "name": "stderr",
     "output_type": "stream",
     "text": [
      "IOPub message rate exceeded.\n",
      "The notebook server will temporarily stop sending output\n",
      "to the client in order to avoid crashing it.\n",
      "To change this limit, set the config variable\n",
      "`--NotebookApp.iopub_msg_rate_limit`.\n",
      "\n",
      "Current values:\n",
      "NotebookApp.iopub_msg_rate_limit=1000.0 (msgs/sec)\n",
      "NotebookApp.rate_limit_window=3.0 (secs)\n",
      "\n"
     ]
    },
    {
     "name": "stdout",
     "output_type": "stream",
     "text": [
      "22029/22029 [==============================] - 226s 10ms/step - loss: 0.3977 - acc: 0.8301 - mean_absolute_error: 0.2460 - val_loss: 0.4352 - val_acc: 0.8030 - val_mean_absolute_error: 0.2800\n",
      "Epoch 67/80\n",
      "22029/22029 [==============================] - 225s 10ms/step - loss: 0.3965 - acc: 0.8309 - mean_absolute_error: 0.2460 - val_loss: 0.4425 - val_acc: 0.8001 - val_mean_absolute_error: 0.2942\n",
      "Epoch 68/80\n",
      " 7540/22029 [=========>....................] - ETA: 2:17 - loss: 0.3938 - acc: 0.8353 - mean_absolute_error: 0.2429"
     ]
    },
    {
     "name": "stderr",
     "output_type": "stream",
     "text": [
      "IOPub message rate exceeded.\n",
      "The notebook server will temporarily stop sending output\n",
      "to the client in order to avoid crashing it.\n",
      "To change this limit, set the config variable\n",
      "`--NotebookApp.iopub_msg_rate_limit`.\n",
      "\n",
      "Current values:\n",
      "NotebookApp.iopub_msg_rate_limit=1000.0 (msgs/sec)\n",
      "NotebookApp.rate_limit_window=3.0 (secs)\n",
      "\n"
     ]
    },
    {
     "name": "stdout",
     "output_type": "stream",
     "text": [
      "22029/22029 [==============================] - 225s 10ms/step - loss: 0.3991 - acc: 0.8269 - mean_absolute_error: 0.2477 - val_loss: 0.4491 - val_acc: 0.7981 - val_mean_absolute_error: 0.2734\n",
      "Epoch 70/80\n",
      "18790/22029 [========================>.....] - ETA: 31s - loss: 0.4034 - acc: 0.8243 - mean_absolute_error: 0.2511"
     ]
    },
    {
     "name": "stderr",
     "output_type": "stream",
     "text": [
      "IOPub message rate exceeded.\n",
      "The notebook server will temporarily stop sending output\n",
      "to the client in order to avoid crashing it.\n",
      "To change this limit, set the config variable\n",
      "`--NotebookApp.iopub_msg_rate_limit`.\n",
      "\n",
      "Current values:\n",
      "NotebookApp.iopub_msg_rate_limit=1000.0 (msgs/sec)\n",
      "NotebookApp.rate_limit_window=3.0 (secs)\n",
      "\n"
     ]
    },
    {
     "name": "stdout",
     "output_type": "stream",
     "text": [
      "22029/22029 [==============================] - 228s 10ms/step - loss: 0.3962 - acc: 0.8302 - mean_absolute_error: 0.2443 - val_loss: 0.4522 - val_acc: 0.7994 - val_mean_absolute_error: 0.2787\n",
      "Epoch 73/80\n",
      " 8090/22029 [==========>...................] - ETA: 2:14 - loss: 0.3954 - acc: 0.8334 - mean_absolute_error: 0.2442"
     ]
    },
    {
     "name": "stderr",
     "output_type": "stream",
     "text": [
      "IOPub message rate exceeded.\n",
      "The notebook server will temporarily stop sending output\n",
      "to the client in order to avoid crashing it.\n",
      "To change this limit, set the config variable\n",
      "`--NotebookApp.iopub_msg_rate_limit`.\n",
      "\n",
      "Current values:\n",
      "NotebookApp.iopub_msg_rate_limit=1000.0 (msgs/sec)\n",
      "NotebookApp.rate_limit_window=3.0 (secs)\n",
      "\n"
     ]
    },
    {
     "name": "stdout",
     "output_type": "stream",
     "text": [
      "22029/22029 [==============================] - 226s 10ms/step - loss: 0.4017 - acc: 0.8265 - mean_absolute_error: 0.2490 - val_loss: 0.4386 - val_acc: 0.8017 - val_mean_absolute_error: 0.2754\n",
      "Epoch 75/80\n",
      "19520/22029 [=========================>....] - ETA: 24s - loss: 0.4041 - acc: 0.8251 - mean_absolute_error: 0.2516"
     ]
    },
    {
     "name": "stderr",
     "output_type": "stream",
     "text": [
      "IOPub message rate exceeded.\n",
      "The notebook server will temporarily stop sending output\n",
      "to the client in order to avoid crashing it.\n",
      "To change this limit, set the config variable\n",
      "`--NotebookApp.iopub_msg_rate_limit`.\n",
      "\n",
      "Current values:\n",
      "NotebookApp.iopub_msg_rate_limit=1000.0 (msgs/sec)\n",
      "NotebookApp.rate_limit_window=3.0 (secs)\n",
      "\n"
     ]
    },
    {
     "name": "stdout",
     "output_type": "stream",
     "text": [
      "22029/22029 [==============================] - 229s 10ms/step - loss: 0.4008 - acc: 0.8290 - mean_absolute_error: 0.2472 - val_loss: 0.4531 - val_acc: 0.7974 - val_mean_absolute_error: 0.2635\n",
      "Epoch 78/80\n",
      " 9220/22029 [===========>..................] - ETA: 2:04 - loss: 0.3973 - acc: 0.8315 - mean_absolute_error: 0.2460"
     ]
    },
    {
     "name": "stderr",
     "output_type": "stream",
     "text": [
      "IOPub message rate exceeded.\n",
      "The notebook server will temporarily stop sending output\n",
      "to the client in order to avoid crashing it.\n",
      "To change this limit, set the config variable\n",
      "`--NotebookApp.iopub_msg_rate_limit`.\n",
      "\n",
      "Current values:\n",
      "NotebookApp.iopub_msg_rate_limit=1000.0 (msgs/sec)\n",
      "NotebookApp.rate_limit_window=3.0 (secs)\n",
      "\n"
     ]
    },
    {
     "name": "stdout",
     "output_type": "stream",
     "text": [
      "22029/22029 [==============================] - 229s 10ms/step - loss: 0.4019 - acc: 0.8266 - mean_absolute_error: 0.2490 - val_loss: 0.4340 - val_acc: 0.8043 - val_mean_absolute_error: 0.2734\n",
      "Epoch 80/80\n",
      "20850/22029 [===========================>..] - ETA: 11s - loss: 0.3936 - acc: 0.8321 - mean_absolute_error: 0.2439"
     ]
    },
    {
     "name": "stderr",
     "output_type": "stream",
     "text": [
      "IOPub message rate exceeded.\n",
      "The notebook server will temporarily stop sending output\n",
      "to the client in order to avoid crashing it.\n",
      "To change this limit, set the config variable\n",
      "`--NotebookApp.iopub_msg_rate_limit`.\n",
      "\n",
      "Current values:\n",
      "NotebookApp.iopub_msg_rate_limit=1000.0 (msgs/sec)\n",
      "NotebookApp.rate_limit_window=3.0 (secs)\n",
      "\n"
     ]
    }
   ],
   "source": [
    "%%time\n",
    "\n",
    "test_model_history, test_model_real, most_recent_model_name, model_file_path, history_file_path = continue_training(test_model_real, pic_df.head(NUM_IMAGES), model_name = model_name, image_size=IMAGE_SIZE, y_map=CURR_MAP, epochs=80, train_size = TRAIN_SIZE, metrics = METRICS, batch_size=BATCH_SIZE, model_optimizer=MODEL_OPTIMIZER)\n",
    "\n"
   ]
  },
  {
   "cell_type": "code",
   "execution_count": null,
   "metadata": {},
   "outputs": [],
   "source": []
  },
  {
   "cell_type": "code",
   "execution_count": 102,
   "metadata": {},
   "outputs": [],
   "source": [
    "patientId = adult_data['patientId'].iloc[2]"
   ]
  },
  {
   "cell_type": "code",
   "execution_count": 106,
   "metadata": {},
   "outputs": [
    {
     "name": "stderr",
     "output_type": "stream",
     "text": [
      "/home/ec2-user/anaconda3/envs/tensorflow_p36/lib/python3.6/site-packages/skimage/transform/_warps.py:84: UserWarning: The default mode, 'constant', will be changed to 'reflect' in skimage 0.15.\n",
      "  warn(\"The default mode, 'constant', will be changed to 'reflect' in \"\n"
     ]
    },
    {
     "data": {
      "text/plain": [
       "(-0.5, 191.5, 191.5, -0.5)"
      ]
     },
     "execution_count": 106,
     "metadata": {},
     "output_type": "execute_result"
    },
    {
     "data": {
      "image/png": "[encoded data removed]",
      "text/plain": [
       "<Figure size 432x288 with 1 Axes>"
      ]
     },
     "metadata": {
      "image/png": {
       "height": 251,
       "width": 259
      }
     },
     "output_type": "display_data"
    }
   ],
   "source": [
    "dcm_file = '../data/stage_1_train_images/%s.dcm' % patientId\n",
    "dcm_data = pydicom.read_file(dcm_file)\n",
    "im = resize(dcm_data.pixel_array, (192, 192))\n",
    "\n",
    "pylab.imshow(im, cmap=pylab.cm.gist_gray)\n",
    "pylab.axis('off')"
   ]
  },
  {
   "cell_type": "code",
   "execution_count": null,
   "metadata": {},
   "outputs": [],
   "source": []
  }
 ],
 "metadata": {
  "kernelspec": {
   "display_name": "Python 3",
   "language": "python",
   "name": "python3"
  },
  "language_info": {
   "codemirror_mode": {
    "name": "ipython",
    "version": 3
   },
   "file_extension": ".py",
   "mimetype": "text/x-python",
   "name": "python",
   "nbconvert_exporter": "python",
   "pygments_lexer": "ipython3",
   "version": "3.6.5"
  },
  "latex_envs": {
   "LaTeX_envs_menu_present": true,
   "autoclose": false,
   "autocomplete": true,
   "bibliofile": "biblio.bib",
   "cite_by": "apalike",
   "current_citInitial": 1,
   "eqLabelWithNumbers": true,
   "eqNumInitial": 1,
   "hotkeys": {
    "equation": "Ctrl-E",
    "itemize": "Ctrl-I"
   },
   "labels_anchors": false,
   "latex_user_defs": false,
   "report_style_numbering": false,
   "user_envs_cfg": false
  },
  "notify_time": "30",
  "varInspector": {
   "cols": {
    "lenName": 16,
    "lenType": 16,
    "lenVar": 40
   },
   "kernels_config": {
    "python": {
     "delete_cmd_postfix": "",
     "delete_cmd_prefix": "del ",
     "library": "var_list.py",
     "varRefreshCmd": "print(var_dic_list())"
    },
    "r": {
     "delete_cmd_postfix": ") ",
     "delete_cmd_prefix": "rm(",
     "library": "var_list.r",
     "varRefreshCmd": "cat(var_dic_list()) "
    }
   },
   "position": {
    "height": "474px",
    "left": "819px",
    "right": "20px",
    "top": "120px",
    "width": "359px"
   },
   "types_to_exclude": [
    "module",
    "function",
    "builtin_function_or_method",
    "instance",
    "_Feature"
   ],
   "window_display": false
  }
 },
 "nbformat": 4,
 "nbformat_minor": 2
}
